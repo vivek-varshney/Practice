{
  "nbformat": 4,
  "nbformat_minor": 0,
  "metadata": {
    "colab": {
      "name": "List_questions.ipynb",
      "provenance": [],
      "collapsed_sections": [],
      "authorship_tag": "ABX9TyO6LIB+21AK2DJbjM+UUltD",
      "include_colab_link": true
    },
    "kernelspec": {
      "name": "python3",
      "display_name": "Python 3"
    }
  },
  "cells": [
    {
      "cell_type": "markdown",
      "metadata": {
        "id": "view-in-github",
        "colab_type": "text"
      },
      "source": [
        "<a href=\"https://colab.research.google.com/github/vivek-varshney/Practice/blob/main/List_questions.ipynb\" target=\"_parent\"><img src=\"https://colab.research.google.com/assets/colab-badge.svg\" alt=\"Open In Colab\"/></a>"
      ]
    },
    {
      "cell_type": "code",
      "metadata": {
        "id": "mBdg2PjjSNkL"
      },
      "source": [
        "list1 = [\"a\",\"b\",\"c\",\"d\",\"e\"]\n",
        "list2 = [\"1\",\"2\",\"3\",\"4\",\"5\"]\n"
      ],
      "execution_count": null,
      "outputs": []
    },
    {
      "cell_type": "code",
      "metadata": {
        "id": "rwEoDa2xS5PW",
        "outputId": "e07455bb-764b-4798-dab2-67f292dfb8be",
        "colab": {
          "base_uri": "https://localhost:8080/",
          "height": 34
        }
      },
      "source": [
        "list1 = [\"a\",\"b\",\"c\",\"d\",\"e\"]\n",
        "list2 = [\"1\",\"2\",\"3\",\"4\",\"5\"]\n",
        "a = list1.pop()\n",
        "b = list1.pop()\n",
        "list2.append(a)\n",
        "list2.append(b)\n",
        "\n",
        "print(list1,list2)"
      ],
      "execution_count": null,
      "outputs": [
        {
          "output_type": "stream",
          "text": [
            "['a', 'b', 'c'] ['1', '2', '3', '4', '5', 'e', 'd']\n"
          ],
          "name": "stdout"
        }
      ]
    },
    {
      "cell_type": "code",
      "metadata": {
        "id": "OaoZRyTaTupY",
        "outputId": "cb976b5a-700e-47c0-c4f7-9952817a2022",
        "colab": {
          "base_uri": "https://localhost:8080/",
          "height": 34
        }
      },
      "source": [
        "list1 = [\"a\",\"b\",\"c\",\"d\",\"e\"]\n",
        "list2 = [\"1\",\"2\",\"3\",\"4\",\"5\"]\n",
        "list1.extend(list2)\n",
        "print(list1)"
      ],
      "execution_count": null,
      "outputs": [
        {
          "output_type": "stream",
          "text": [
            "['a', 'b', 'c', 'd', 'e', '1', '2', '3', '4', '5']\n"
          ],
          "name": "stdout"
        }
      ]
    },
    {
      "cell_type": "code",
      "metadata": {
        "id": "al2NsYjsT3Gq",
        "outputId": "4750c979-6ed9-4f73-efdd-12f4e286b6fb",
        "colab": {
          "base_uri": "https://localhost:8080/",
          "height": 34
        }
      },
      "source": [
        "list1 = [\"a\",\"b\",\"c\",\"d\",\"e\"]\n",
        "list2 = [\"1\",\"2\",\"3\",\"4\",\"5\"]\n",
        "del list2[2]\n",
        "print(list2)"
      ],
      "execution_count": null,
      "outputs": [
        {
          "output_type": "stream",
          "text": [
            "['1', '2', '4', '5']\n"
          ],
          "name": "stdout"
        }
      ]
    },
    {
      "cell_type": "code",
      "metadata": {
        "id": "5yNBaqrMUf66",
        "outputId": "8ce8406c-e829-4b54-f9f1-84c718f88ba3",
        "colab": {
          "base_uri": "https://localhost:8080/",
          "height": 34
        }
      },
      "source": [
        "list1 = [\"a\",\"b\",\"c\",\"d\",\"e\"]\n",
        "list2 = [\"1\",\"2\",\"3\",\"4\",\"5\"]\n",
        "print(len(list2))"
      ],
      "execution_count": null,
      "outputs": [
        {
          "output_type": "stream",
          "text": [
            "5\n"
          ],
          "name": "stdout"
        }
      ]
    },
    {
      "cell_type": "code",
      "metadata": {
        "id": "UgnzdfknUgX2",
        "outputId": "2902c4aa-da9c-4d50-d659-c73b9e4d9380",
        "colab": {
          "base_uri": "https://localhost:8080/",
          "height": 34
        }
      },
      "source": [
        "list1 = [\"a\",\"b\",\"c\",\"d\",\"e\"]\n",
        "list2 = [\"1\",\"2\",\"3\",\"4\",\"5\"]\n",
        "if len(list2) > 7:\n",
        "  print(\"Length greater then 7.\")\n",
        "else:\n",
        "  print(\"Length smaller then 7\")"
      ],
      "execution_count": null,
      "outputs": [
        {
          "output_type": "stream",
          "text": [
            "Length smaller then 7\n"
          ],
          "name": "stdout"
        }
      ]
    },
    {
      "cell_type": "code",
      "metadata": {
        "id": "dTJUrKBYU3tB",
        "outputId": "65925380-ce7c-44fb-fc33-418794dbb531",
        "colab": {
          "base_uri": "https://localhost:8080/",
          "height": 119
        }
      },
      "source": [
        "print(\"Twinkle, twinkle, little star,\\n\\t How I wonder what you are! \\n\\t\\tUp above the world so high,\\n\\t\\tLike a diamond in the sky.\\nTwinkle, twinkle, little star,\\n\\tHow I wonder what you are!\")"
      ],
      "execution_count": null,
      "outputs": [
        {
          "output_type": "stream",
          "text": [
            "Twinkle, twinkle, little star,\n",
            "\t How I wonder what you are! \n",
            "\t\tUp above the world so high,\n",
            "\t\tLike a diamond in the sky.\n",
            "Twinkle, twinkle, little star,\n",
            "\tHow I wonder what you are!\n"
          ],
          "name": "stdout"
        }
      ]
    },
    {
      "cell_type": "code",
      "metadata": {
        "id": "uXNAcmrVcjsp",
        "outputId": "1c0147d8-6288-4b68-ae92-7d863d06700c",
        "colab": {
          "base_uri": "https://localhost:8080/",
          "height": 34
        }
      },
      "source": [
        "key1 = {\n",
        "    \"os\": \"windows\",\n",
        "    \"version\":\"7\"\n",
        "    }\n",
        "key2 = {\n",
        "    \"mobile os\":\"andriod\",\n",
        "    \"version\" : \"10\"\n",
        "    }\n",
        "mainkey = {\n",
        "    \"keya\": key1,\n",
        "    \"keyb\": key2\n",
        "\n",
        "    }\n",
        "print(mainkey)"
      ],
      "execution_count": null,
      "outputs": [
        {
          "output_type": "stream",
          "text": [
            "{'keya': {'os': 'windows', 'version': '7'}, 'keyb': {'mobile os': 'andriod', 'version': '10'}}\n"
          ],
          "name": "stdout"
        }
      ]
    },
    {
      "cell_type": "code",
      "metadata": {
        "id": "MTxDPG28u2cj",
        "outputId": "5b0e8e8b-227e-4862-ef67-e14d12bec84c",
        "colab": {
          "base_uri": "https://localhost:8080/",
          "height": 51
        }
      },
      "source": [
        "i=1\n",
        "while i<5:\n",
        "  print(\"vivek\")\n",
        "  if i==2:\n",
        "    break\n",
        "  i+=1\n",
        "else:\n",
        "  print(\"out of while\")"
      ],
      "execution_count": null,
      "outputs": [
        {
          "output_type": "stream",
          "text": [
            "vivek\n",
            "vivek\n"
          ],
          "name": "stdout"
        }
      ]
    },
    {
      "cell_type": "code",
      "metadata": {
        "id": "FlOM_8tjuoKA",
        "outputId": "fa49128b-5072-441c-a736-7beb58fb599e",
        "colab": {
          "base_uri": "https://localhost:8080/",
          "height": 85
        }
      },
      "source": [
        "for i in range(5,1,-1):\n",
        "  for j in range(1,i+1):\n",
        "    print(\"*\", end='')\n",
        "  print(\" \")"
      ],
      "execution_count": null,
      "outputs": [
        {
          "output_type": "stream",
          "text": [
            "***** \n",
            "**** \n",
            "*** \n",
            "** \n"
          ],
          "name": "stdout"
        }
      ]
    },
    {
      "cell_type": "code",
      "metadata": {
        "id": "A4QJVH2D768b",
        "outputId": "6c999a12-3867-4f53-f342-00b58a749eae",
        "colab": {
          "base_uri": "https://localhost:8080/",
          "height": 34
        }
      },
      "source": [
        "l = [2,4,5,6]\n",
        "y = 0\n",
        "for x in l:\n",
        "  y += x\n",
        "print(y)\n"
      ],
      "execution_count": null,
      "outputs": [
        {
          "output_type": "stream",
          "text": [
            "17\n"
          ],
          "name": "stdout"
        }
      ]
    },
    {
      "cell_type": "code",
      "metadata": {
        "id": "AbsL7Bwa77kq",
        "outputId": "202bc3ab-adab-4d29-f89d-410c9ff400ea",
        "colab": {
          "base_uri": "https://localhost:8080/",
          "height": 204
        }
      },
      "source": [
        "i = 0\n",
        "while i<11:\n",
        "  print(i)\n",
        "  i+=1"
      ],
      "execution_count": null,
      "outputs": [
        {
          "output_type": "stream",
          "text": [
            "0\n",
            "1\n",
            "2\n",
            "3\n",
            "4\n",
            "5\n",
            "6\n",
            "7\n",
            "8\n",
            "9\n",
            "10\n"
          ],
          "name": "stdout"
        }
      ]
    },
    {
      "cell_type": "code",
      "metadata": {
        "id": "NWXJ0XfaNYuY",
        "outputId": "06e48056-da69-4ab7-832b-ec01dd179388",
        "colab": {
          "base_uri": "https://localhost:8080/",
          "height": 51
        }
      },
      "source": [
        "x = int(input(\"enter the total sum number: \"))\n",
        "sum = 0\n",
        "# for y in range(1,x):\n",
        "while i<x:\n",
        "  sum+=x\n",
        "  i+=1\n",
        "print(sum)"
      ],
      "execution_count": null,
      "outputs": [
        {
          "output_type": "stream",
          "text": [
            "enter the total sum number: 5\n",
            "0\n"
          ],
          "name": "stdout"
        }
      ]
    },
    {
      "cell_type": "code",
      "metadata": {
        "id": "_2ijd9FVOP00"
      },
      "source": [
        ""
      ],
      "execution_count": null,
      "outputs": []
    }
  ]
}
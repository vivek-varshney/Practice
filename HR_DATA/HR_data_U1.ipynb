{
  "nbformat": 4,
  "nbformat_minor": 0,
  "metadata": {
    "colab": {
      "name": "HR_data_U1.ipynb",
      "provenance": [],
      "collapsed_sections": [],
      "authorship_tag": "ABX9TyMFkbfaIqv22uMeKVI5q15N",
      "include_colab_link": true
    },
    "kernelspec": {
      "display_name": "Python 3",
      "name": "python3"
    }
  },
  "cells": [
    {
      "cell_type": "markdown",
      "metadata": {
        "id": "view-in-github",
        "colab_type": "text"
      },
      "source": [
        "<a href=\"https://colab.research.google.com/github/vivek-varshney/Practice/blob/main/HR_DATA/HR_data_U1.ipynb\" target=\"_parent\"><img src=\"https://colab.research.google.com/assets/colab-badge.svg\" alt=\"Open In Colab\"/></a>"
      ]
    },
    {
      "cell_type": "code",
      "metadata": {
        "id": "TJzFWNtxa9g0"
      },
      "source": [
        "import pandas as pd\n",
        "import numpy as np\n",
        "import matplotlib.pyplot as plt"
      ],
      "execution_count": null,
      "outputs": []
    },
    {
      "cell_type": "code",
      "metadata": {
        "colab": {
          "base_uri": "https://localhost:8080/"
        },
        "id": "ka5B0IyGgUQ_",
        "outputId": "a105b4df-8e04-4789-8a30-ebb6b4805e9b"
      },
      "source": [
        "!wget https://raw.githubusercontent.com/gauravpks/ml-repo/master/HRDS/unit1.csv"
      ],
      "execution_count": null,
      "outputs": [
        {
          "output_type": "stream",
          "text": [
            "--2020-12-02 14:51:53--  https://raw.githubusercontent.com/gauravpks/ml-repo/master/HRDS/unit1.csv\n",
            "Resolving raw.githubusercontent.com (raw.githubusercontent.com)... 151.101.0.133, 151.101.64.133, 151.101.128.133, ...\n",
            "Connecting to raw.githubusercontent.com (raw.githubusercontent.com)|151.101.0.133|:443... connected.\n",
            "HTTP request sent, awaiting response... 200 OK\n",
            "Length: 633626 (619K) [text/plain]\n",
            "Saving to: ‘unit1.csv’\n",
            "\n",
            "unit1.csv           100%[===================>] 618.78K  --.-KB/s    in 0.03s   \n",
            "\n",
            "2020-12-02 14:51:54 (18.6 MB/s) - ‘unit1.csv’ saved [633626/633626]\n",
            "\n"
          ],
          "name": "stdout"
        }
      ]
    },
    {
      "cell_type": "code",
      "metadata": {
        "colab": {
          "base_uri": "https://localhost:8080/",
          "height": 810
        },
        "id": "VPo-e15qgqtY",
        "outputId": "559ec381-8b22-45fe-d9cf-dfe4bca360ee"
      },
      "source": [
        "u1 = pd.read_csv('unit1.csv')\n",
        "u1"
      ],
      "execution_count": null,
      "outputs": [
        {
          "output_type": "execute_result",
          "data": {
            "text/html": [
              "<div>\n",
              "<style scoped>\n",
              "    .dataframe tbody tr th:only-of-type {\n",
              "        vertical-align: middle;\n",
              "    }\n",
              "\n",
              "    .dataframe tbody tr th {\n",
              "        vertical-align: top;\n",
              "    }\n",
              "\n",
              "    .dataframe thead th {\n",
              "        text-align: right;\n",
              "    }\n",
              "</style>\n",
              "<table border=\"1\" class=\"dataframe\">\n",
              "  <thead>\n",
              "    <tr style=\"text-align: right;\">\n",
              "      <th></th>\n",
              "      <th>Employee ID</th>\n",
              "      <th>Data Effective Date</th>\n",
              "      <th>Employee\\nStatus\\n</th>\n",
              "      <th>Career Level \\n(1=lowest, 6=highest)\\n</th>\n",
              "      <th>Hired Date</th>\n",
              "      <th>Hired in FY\\n(Yes/No)</th>\n",
              "      <th>Termination Date</th>\n",
              "      <th>Terminated\\nin FY\\n(Yes/No)</th>\n",
              "      <th>Termination Type\\n(Voluntary or Involuntary Exit)</th>\n",
              "      <th>Job Start Date</th>\n",
              "      <th>Promoted\\nin FY\\n(Yes/No)</th>\n",
              "      <th>Birth Date</th>\n",
              "      <th>Age\\n(Years)</th>\n",
              "      <th>Tenure\\n(Years)</th>\n",
              "      <th>Time in\\nJob (Years)</th>\n",
              "      <th>Rating</th>\n",
              "      <th>Education\\n(Highest\\nDegree)</th>\n",
              "    </tr>\n",
              "  </thead>\n",
              "  <tbody>\n",
              "    <tr>\n",
              "      <th>0</th>\n",
              "      <td>A0001</td>\n",
              "      <td>31-12-2016</td>\n",
              "      <td>Active</td>\n",
              "      <td>1</td>\n",
              "      <td>12-09-2016</td>\n",
              "      <td>Yes</td>\n",
              "      <td>NaN</td>\n",
              "      <td>No</td>\n",
              "      <td>NaN</td>\n",
              "      <td>12-09-2016</td>\n",
              "      <td>NaN</td>\n",
              "      <td>21-09-1992</td>\n",
              "      <td>NaN</td>\n",
              "      <td>NaN</td>\n",
              "      <td>NaN</td>\n",
              "      <td>At Target</td>\n",
              "      <td>BA/BS</td>\n",
              "    </tr>\n",
              "    <tr>\n",
              "      <th>1</th>\n",
              "      <td>A0002</td>\n",
              "      <td>31-12-2016</td>\n",
              "      <td>Active</td>\n",
              "      <td>1</td>\n",
              "      <td>19-04-2016</td>\n",
              "      <td>Yes</td>\n",
              "      <td>NaN</td>\n",
              "      <td>No</td>\n",
              "      <td>NaN</td>\n",
              "      <td>19-04-2016</td>\n",
              "      <td>NaN</td>\n",
              "      <td>16-11-1993</td>\n",
              "      <td>NaN</td>\n",
              "      <td>NaN</td>\n",
              "      <td>NaN</td>\n",
              "      <td>At Target</td>\n",
              "      <td>BA/BS</td>\n",
              "    </tr>\n",
              "    <tr>\n",
              "      <th>2</th>\n",
              "      <td>A0003</td>\n",
              "      <td>31-12-2016</td>\n",
              "      <td>Active</td>\n",
              "      <td>1</td>\n",
              "      <td>14-03-2016</td>\n",
              "      <td>Yes</td>\n",
              "      <td>NaN</td>\n",
              "      <td>No</td>\n",
              "      <td>NaN</td>\n",
              "      <td>14-03-2016</td>\n",
              "      <td>NaN</td>\n",
              "      <td>26-11-1993</td>\n",
              "      <td>NaN</td>\n",
              "      <td>NaN</td>\n",
              "      <td>NaN</td>\n",
              "      <td>At Target</td>\n",
              "      <td>MA/MS</td>\n",
              "    </tr>\n",
              "    <tr>\n",
              "      <th>3</th>\n",
              "      <td>A0004</td>\n",
              "      <td>31-12-2016</td>\n",
              "      <td>Active</td>\n",
              "      <td>1</td>\n",
              "      <td>12-09-2016</td>\n",
              "      <td>Yes</td>\n",
              "      <td>NaN</td>\n",
              "      <td>No</td>\n",
              "      <td>NaN</td>\n",
              "      <td>12-09-2016</td>\n",
              "      <td>NaN</td>\n",
              "      <td>28-03-1993</td>\n",
              "      <td>NaN</td>\n",
              "      <td>NaN</td>\n",
              "      <td>NaN</td>\n",
              "      <td>At Target</td>\n",
              "      <td>BA/BS</td>\n",
              "    </tr>\n",
              "    <tr>\n",
              "      <th>4</th>\n",
              "      <td>A0005</td>\n",
              "      <td>31-12-2016</td>\n",
              "      <td>Active</td>\n",
              "      <td>1</td>\n",
              "      <td>19-04-2016</td>\n",
              "      <td>Yes</td>\n",
              "      <td>NaN</td>\n",
              "      <td>No</td>\n",
              "      <td>NaN</td>\n",
              "      <td>19-04-2016</td>\n",
              "      <td>NaN</td>\n",
              "      <td>01-09-1992</td>\n",
              "      <td>NaN</td>\n",
              "      <td>NaN</td>\n",
              "      <td>NaN</td>\n",
              "      <td>At Target</td>\n",
              "      <td>BA/BS</td>\n",
              "    </tr>\n",
              "    <tr>\n",
              "      <th>...</th>\n",
              "      <td>...</td>\n",
              "      <td>...</td>\n",
              "      <td>...</td>\n",
              "      <td>...</td>\n",
              "      <td>...</td>\n",
              "      <td>...</td>\n",
              "      <td>...</td>\n",
              "      <td>...</td>\n",
              "      <td>...</td>\n",
              "      <td>...</td>\n",
              "      <td>...</td>\n",
              "      <td>...</td>\n",
              "      <td>...</td>\n",
              "      <td>...</td>\n",
              "      <td>...</td>\n",
              "      <td>...</td>\n",
              "      <td>...</td>\n",
              "    </tr>\n",
              "    <tr>\n",
              "      <th>6323</th>\n",
              "      <td>A6324</td>\n",
              "      <td>31-12-2016</td>\n",
              "      <td>Terminated</td>\n",
              "      <td>6</td>\n",
              "      <td>18-01-1981</td>\n",
              "      <td>No</td>\n",
              "      <td>19-01-2016</td>\n",
              "      <td>Yes</td>\n",
              "      <td>Voluntary Exit</td>\n",
              "      <td>19-01-2004</td>\n",
              "      <td>No</td>\n",
              "      <td>18-12-1960</td>\n",
              "      <td>NaN</td>\n",
              "      <td>NaN</td>\n",
              "      <td>NaN</td>\n",
              "      <td>Above Target</td>\n",
              "      <td>JD</td>\n",
              "    </tr>\n",
              "    <tr>\n",
              "      <th>6324</th>\n",
              "      <td>A6325</td>\n",
              "      <td>31-12-2016</td>\n",
              "      <td>Terminated</td>\n",
              "      <td>6</td>\n",
              "      <td>07-07-1980</td>\n",
              "      <td>No</td>\n",
              "      <td>25-04-2016</td>\n",
              "      <td>Yes</td>\n",
              "      <td>Voluntary Exit</td>\n",
              "      <td>13-08-2005</td>\n",
              "      <td>No</td>\n",
              "      <td>08-04-1955</td>\n",
              "      <td>NaN</td>\n",
              "      <td>NaN</td>\n",
              "      <td>NaN</td>\n",
              "      <td>Above Target</td>\n",
              "      <td>BA/BS</td>\n",
              "    </tr>\n",
              "    <tr>\n",
              "      <th>6325</th>\n",
              "      <td>A6326</td>\n",
              "      <td>31-12-2016</td>\n",
              "      <td>Terminated</td>\n",
              "      <td>6</td>\n",
              "      <td>21-04-1991</td>\n",
              "      <td>No</td>\n",
              "      <td>13-09-2016</td>\n",
              "      <td>Yes</td>\n",
              "      <td>Voluntary Exit</td>\n",
              "      <td>06-02-2005</td>\n",
              "      <td>No</td>\n",
              "      <td>25-02-1965</td>\n",
              "      <td>NaN</td>\n",
              "      <td>NaN</td>\n",
              "      <td>NaN</td>\n",
              "      <td>Significantly Above Target</td>\n",
              "      <td>MA/MS</td>\n",
              "    </tr>\n",
              "    <tr>\n",
              "      <th>6326</th>\n",
              "      <td>A6327</td>\n",
              "      <td>31-12-2016</td>\n",
              "      <td>Terminated</td>\n",
              "      <td>6</td>\n",
              "      <td>30-10-1980</td>\n",
              "      <td>No</td>\n",
              "      <td>12-07-2016</td>\n",
              "      <td>Yes</td>\n",
              "      <td>Voluntary Exit</td>\n",
              "      <td>11-01-2004</td>\n",
              "      <td>No</td>\n",
              "      <td>26-01-1958</td>\n",
              "      <td>NaN</td>\n",
              "      <td>NaN</td>\n",
              "      <td>NaN</td>\n",
              "      <td>Above Target</td>\n",
              "      <td>MBA</td>\n",
              "    </tr>\n",
              "    <tr>\n",
              "      <th>6327</th>\n",
              "      <td>A6328</td>\n",
              "      <td>31-12-2016</td>\n",
              "      <td>Terminated</td>\n",
              "      <td>6</td>\n",
              "      <td>12-11-1985</td>\n",
              "      <td>No</td>\n",
              "      <td>25-01-2016</td>\n",
              "      <td>Yes</td>\n",
              "      <td>Voluntary Exit</td>\n",
              "      <td>31-08-2004</td>\n",
              "      <td>No</td>\n",
              "      <td>05-07-1956</td>\n",
              "      <td>NaN</td>\n",
              "      <td>NaN</td>\n",
              "      <td>NaN</td>\n",
              "      <td>Significantly Above Target</td>\n",
              "      <td>BA/BS</td>\n",
              "    </tr>\n",
              "  </tbody>\n",
              "</table>\n",
              "<p>6328 rows × 17 columns</p>\n",
              "</div>"
            ],
            "text/plain": [
              "     Employee ID  ... Education\\n(Highest\\nDegree)\n",
              "0          A0001  ...                        BA/BS\n",
              "1          A0002  ...                        BA/BS\n",
              "2          A0003  ...                        MA/MS\n",
              "3          A0004  ...                        BA/BS\n",
              "4          A0005  ...                        BA/BS\n",
              "...          ...  ...                          ...\n",
              "6323       A6324  ...                           JD\n",
              "6324       A6325  ...                        BA/BS\n",
              "6325       A6326  ...                        MA/MS\n",
              "6326       A6327  ...                          MBA\n",
              "6327       A6328  ...                        BA/BS\n",
              "\n",
              "[6328 rows x 17 columns]"
            ]
          },
          "metadata": {
            "tags": []
          },
          "execution_count": 3
        }
      ]
    },
    {
      "cell_type": "code",
      "metadata": {
        "colab": {
          "base_uri": "https://localhost:8080/"
        },
        "id": "nOngCLQnhjn1",
        "outputId": "792cf24d-3199-4fa6-c76a-94b055ba9314"
      },
      "source": [
        "u1.info()"
      ],
      "execution_count": null,
      "outputs": [
        {
          "output_type": "stream",
          "text": [
            "<class 'pandas.core.frame.DataFrame'>\n",
            "RangeIndex: 6328 entries, 0 to 6327\n",
            "Data columns (total 17 columns):\n",
            " #   Column                                            Non-Null Count  Dtype  \n",
            "---  ------                                            --------------  -----  \n",
            " 0   Employee ID                                       6328 non-null   object \n",
            " 1   Data Effective Date                               6328 non-null   object \n",
            " 2   Employee\n",
            "Status\n",
            "                                  6328 non-null   object \n",
            " 3   Career Level \n",
            "(1=lowest, 6=highest)\n",
            "              6328 non-null   int64  \n",
            " 4   Hired Date                                        6328 non-null   object \n",
            " 5   Hired in FY\n",
            "(Yes/No)                              6328 non-null   object \n",
            " 6   Termination Date                                  408 non-null    object \n",
            " 7   Terminated\n",
            "in FY\n",
            "(Yes/No)                         6328 non-null   object \n",
            " 8   Termination Type\n",
            "(Voluntary or Involuntary Exit)  408 non-null    object \n",
            " 9   Job Start Date                                    6328 non-null   object \n",
            " 10  Promoted\n",
            "in FY\n",
            "(Yes/No)                           5293 non-null   object \n",
            " 11  Birth Date                                        6328 non-null   object \n",
            " 12  Age\n",
            "(Years)                                       0 non-null      float64\n",
            " 13  Tenure\n",
            "(Years)                                    0 non-null      float64\n",
            " 14  Time in\n",
            "Job (Years)                               0 non-null      float64\n",
            " 15  Rating                                            6328 non-null   object \n",
            " 16  Education\n",
            "(Highest\n",
            "Degree)                        6328 non-null   object \n",
            "dtypes: float64(3), int64(1), object(13)\n",
            "memory usage: 840.6+ KB\n"
          ],
          "name": "stdout"
        }
      ]
    },
    {
      "cell_type": "code",
      "metadata": {
        "colab": {
          "base_uri": "https://localhost:8080/",
          "height": 314
        },
        "id": "uB_HP7NsNi-R",
        "outputId": "90dd45a4-7da3-4ea5-9eb8-df3ec5d2d2fe"
      },
      "source": [
        "u1.rename(columns={'Employee\\nStatus\\n':'Employee Status','Career Level \\n(1=lowest, 6=highest)\\n':'Career Level',\n",
        "                   'Hired in FY\\n(Yes/No)':'Hired in FY','Terminated\\nin FY\\n(Yes/No)':'Terminated',\n",
        "                   'Termination Type\\n(Voluntary or Involuntary Exit)':'Termination Type','Promoted\\nin FY\\n(Yes/No)':'Promoted',\n",
        "                   'Age\\n(Years)':'Age','Tenure\\n(Years)':'Tenure','Time in\\nJob (Years)':'Time in Job',\n",
        "                   'Education\\n(Highest\\nDegree)':'Education'},inplace = True)\n",
        "u1.head()"
      ],
      "execution_count": null,
      "outputs": [
        {
          "output_type": "execute_result",
          "data": {
            "text/html": [
              "<div>\n",
              "<style scoped>\n",
              "    .dataframe tbody tr th:only-of-type {\n",
              "        vertical-align: middle;\n",
              "    }\n",
              "\n",
              "    .dataframe tbody tr th {\n",
              "        vertical-align: top;\n",
              "    }\n",
              "\n",
              "    .dataframe thead th {\n",
              "        text-align: right;\n",
              "    }\n",
              "</style>\n",
              "<table border=\"1\" class=\"dataframe\">\n",
              "  <thead>\n",
              "    <tr style=\"text-align: right;\">\n",
              "      <th></th>\n",
              "      <th>Employee ID</th>\n",
              "      <th>Data Effective Date</th>\n",
              "      <th>Employee Status</th>\n",
              "      <th>Career Level</th>\n",
              "      <th>Hired Date</th>\n",
              "      <th>Hired in FY</th>\n",
              "      <th>Termination Date</th>\n",
              "      <th>Terminated</th>\n",
              "      <th>Termination Type</th>\n",
              "      <th>Job Start Date</th>\n",
              "      <th>Promoted</th>\n",
              "      <th>Birth Date</th>\n",
              "      <th>Age</th>\n",
              "      <th>Tenure</th>\n",
              "      <th>Time in Job</th>\n",
              "      <th>Rating</th>\n",
              "      <th>Education</th>\n",
              "    </tr>\n",
              "  </thead>\n",
              "  <tbody>\n",
              "    <tr>\n",
              "      <th>0</th>\n",
              "      <td>A0001</td>\n",
              "      <td>31-12-2016</td>\n",
              "      <td>Active</td>\n",
              "      <td>1</td>\n",
              "      <td>12-09-2016</td>\n",
              "      <td>Yes</td>\n",
              "      <td>NaN</td>\n",
              "      <td>No</td>\n",
              "      <td>NaN</td>\n",
              "      <td>12-09-2016</td>\n",
              "      <td>NaN</td>\n",
              "      <td>21-09-1992</td>\n",
              "      <td>NaN</td>\n",
              "      <td>NaN</td>\n",
              "      <td>NaN</td>\n",
              "      <td>At Target</td>\n",
              "      <td>BA/BS</td>\n",
              "    </tr>\n",
              "    <tr>\n",
              "      <th>1</th>\n",
              "      <td>A0002</td>\n",
              "      <td>31-12-2016</td>\n",
              "      <td>Active</td>\n",
              "      <td>1</td>\n",
              "      <td>19-04-2016</td>\n",
              "      <td>Yes</td>\n",
              "      <td>NaN</td>\n",
              "      <td>No</td>\n",
              "      <td>NaN</td>\n",
              "      <td>19-04-2016</td>\n",
              "      <td>NaN</td>\n",
              "      <td>16-11-1993</td>\n",
              "      <td>NaN</td>\n",
              "      <td>NaN</td>\n",
              "      <td>NaN</td>\n",
              "      <td>At Target</td>\n",
              "      <td>BA/BS</td>\n",
              "    </tr>\n",
              "    <tr>\n",
              "      <th>2</th>\n",
              "      <td>A0003</td>\n",
              "      <td>31-12-2016</td>\n",
              "      <td>Active</td>\n",
              "      <td>1</td>\n",
              "      <td>14-03-2016</td>\n",
              "      <td>Yes</td>\n",
              "      <td>NaN</td>\n",
              "      <td>No</td>\n",
              "      <td>NaN</td>\n",
              "      <td>14-03-2016</td>\n",
              "      <td>NaN</td>\n",
              "      <td>26-11-1993</td>\n",
              "      <td>NaN</td>\n",
              "      <td>NaN</td>\n",
              "      <td>NaN</td>\n",
              "      <td>At Target</td>\n",
              "      <td>MA/MS</td>\n",
              "    </tr>\n",
              "    <tr>\n",
              "      <th>3</th>\n",
              "      <td>A0004</td>\n",
              "      <td>31-12-2016</td>\n",
              "      <td>Active</td>\n",
              "      <td>1</td>\n",
              "      <td>12-09-2016</td>\n",
              "      <td>Yes</td>\n",
              "      <td>NaN</td>\n",
              "      <td>No</td>\n",
              "      <td>NaN</td>\n",
              "      <td>12-09-2016</td>\n",
              "      <td>NaN</td>\n",
              "      <td>28-03-1993</td>\n",
              "      <td>NaN</td>\n",
              "      <td>NaN</td>\n",
              "      <td>NaN</td>\n",
              "      <td>At Target</td>\n",
              "      <td>BA/BS</td>\n",
              "    </tr>\n",
              "    <tr>\n",
              "      <th>4</th>\n",
              "      <td>A0005</td>\n",
              "      <td>31-12-2016</td>\n",
              "      <td>Active</td>\n",
              "      <td>1</td>\n",
              "      <td>19-04-2016</td>\n",
              "      <td>Yes</td>\n",
              "      <td>NaN</td>\n",
              "      <td>No</td>\n",
              "      <td>NaN</td>\n",
              "      <td>19-04-2016</td>\n",
              "      <td>NaN</td>\n",
              "      <td>01-09-1992</td>\n",
              "      <td>NaN</td>\n",
              "      <td>NaN</td>\n",
              "      <td>NaN</td>\n",
              "      <td>At Target</td>\n",
              "      <td>BA/BS</td>\n",
              "    </tr>\n",
              "  </tbody>\n",
              "</table>\n",
              "</div>"
            ],
            "text/plain": [
              "  Employee ID Data Effective Date  ...     Rating  Education\n",
              "0       A0001          31-12-2016  ...  At Target      BA/BS\n",
              "1       A0002          31-12-2016  ...  At Target      BA/BS\n",
              "2       A0003          31-12-2016  ...  At Target      MA/MS\n",
              "3       A0004          31-12-2016  ...  At Target      BA/BS\n",
              "4       A0005          31-12-2016  ...  At Target      BA/BS\n",
              "\n",
              "[5 rows x 17 columns]"
            ]
          },
          "metadata": {
            "tags": []
          },
          "execution_count": 5
        }
      ]
    },
    {
      "cell_type": "code",
      "metadata": {
        "id": "H240zBuHiBtG"
      },
      "source": [
        "u1['Data Effective Date'] = pd.to_datetime(u1['Data Effective Date'])\n",
        "u1['Hired Date'] = pd.to_datetime(u1['Hired Date'])\n",
        "u1['Job Start Date'] = pd.to_datetime(u1['Job Start Date'])\n",
        "u1['Birth Date'] = pd.to_datetime(u1['Birth Date'])\n",
        "u1['Termination Date'] = pd.to_datetime(u1['Termination Date'])"
      ],
      "execution_count": null,
      "outputs": []
    },
    {
      "cell_type": "code",
      "metadata": {
        "colab": {
          "base_uri": "https://localhost:8080/",
          "height": 314
        },
        "id": "bkMEYPMhjetB",
        "outputId": "b6e6b48b-32c2-4dac-eb45-06d3c45081a4"
      },
      "source": [
        "u1['Age'] = (u1['Data Effective Date'].apply(lambda x : x.year) - u1['Birth Date'].apply(lambda x : x.year))\n",
        "u1.head()"
      ],
      "execution_count": null,
      "outputs": [
        {
          "output_type": "execute_result",
          "data": {
            "text/html": [
              "<div>\n",
              "<style scoped>\n",
              "    .dataframe tbody tr th:only-of-type {\n",
              "        vertical-align: middle;\n",
              "    }\n",
              "\n",
              "    .dataframe tbody tr th {\n",
              "        vertical-align: top;\n",
              "    }\n",
              "\n",
              "    .dataframe thead th {\n",
              "        text-align: right;\n",
              "    }\n",
              "</style>\n",
              "<table border=\"1\" class=\"dataframe\">\n",
              "  <thead>\n",
              "    <tr style=\"text-align: right;\">\n",
              "      <th></th>\n",
              "      <th>Employee ID</th>\n",
              "      <th>Data Effective Date</th>\n",
              "      <th>Employee Status</th>\n",
              "      <th>Career Level</th>\n",
              "      <th>Hired Date</th>\n",
              "      <th>Hired in FY</th>\n",
              "      <th>Termination Date</th>\n",
              "      <th>Terminated</th>\n",
              "      <th>Termination Type</th>\n",
              "      <th>Job Start Date</th>\n",
              "      <th>Promoted</th>\n",
              "      <th>Birth Date</th>\n",
              "      <th>Age</th>\n",
              "      <th>Tenure</th>\n",
              "      <th>Time in Job</th>\n",
              "      <th>Rating</th>\n",
              "      <th>Education</th>\n",
              "    </tr>\n",
              "  </thead>\n",
              "  <tbody>\n",
              "    <tr>\n",
              "      <th>0</th>\n",
              "      <td>A0001</td>\n",
              "      <td>2016-12-31</td>\n",
              "      <td>Active</td>\n",
              "      <td>1</td>\n",
              "      <td>2016-12-09</td>\n",
              "      <td>Yes</td>\n",
              "      <td>NaT</td>\n",
              "      <td>No</td>\n",
              "      <td>NaN</td>\n",
              "      <td>2016-12-09</td>\n",
              "      <td>NaN</td>\n",
              "      <td>1992-09-21</td>\n",
              "      <td>24</td>\n",
              "      <td>NaN</td>\n",
              "      <td>NaN</td>\n",
              "      <td>At Target</td>\n",
              "      <td>BA/BS</td>\n",
              "    </tr>\n",
              "    <tr>\n",
              "      <th>1</th>\n",
              "      <td>A0002</td>\n",
              "      <td>2016-12-31</td>\n",
              "      <td>Active</td>\n",
              "      <td>1</td>\n",
              "      <td>2016-04-19</td>\n",
              "      <td>Yes</td>\n",
              "      <td>NaT</td>\n",
              "      <td>No</td>\n",
              "      <td>NaN</td>\n",
              "      <td>2016-04-19</td>\n",
              "      <td>NaN</td>\n",
              "      <td>1993-11-16</td>\n",
              "      <td>23</td>\n",
              "      <td>NaN</td>\n",
              "      <td>NaN</td>\n",
              "      <td>At Target</td>\n",
              "      <td>BA/BS</td>\n",
              "    </tr>\n",
              "    <tr>\n",
              "      <th>2</th>\n",
              "      <td>A0003</td>\n",
              "      <td>2016-12-31</td>\n",
              "      <td>Active</td>\n",
              "      <td>1</td>\n",
              "      <td>2016-03-14</td>\n",
              "      <td>Yes</td>\n",
              "      <td>NaT</td>\n",
              "      <td>No</td>\n",
              "      <td>NaN</td>\n",
              "      <td>2016-03-14</td>\n",
              "      <td>NaN</td>\n",
              "      <td>1993-11-26</td>\n",
              "      <td>23</td>\n",
              "      <td>NaN</td>\n",
              "      <td>NaN</td>\n",
              "      <td>At Target</td>\n",
              "      <td>MA/MS</td>\n",
              "    </tr>\n",
              "    <tr>\n",
              "      <th>3</th>\n",
              "      <td>A0004</td>\n",
              "      <td>2016-12-31</td>\n",
              "      <td>Active</td>\n",
              "      <td>1</td>\n",
              "      <td>2016-12-09</td>\n",
              "      <td>Yes</td>\n",
              "      <td>NaT</td>\n",
              "      <td>No</td>\n",
              "      <td>NaN</td>\n",
              "      <td>2016-12-09</td>\n",
              "      <td>NaN</td>\n",
              "      <td>1993-03-28</td>\n",
              "      <td>23</td>\n",
              "      <td>NaN</td>\n",
              "      <td>NaN</td>\n",
              "      <td>At Target</td>\n",
              "      <td>BA/BS</td>\n",
              "    </tr>\n",
              "    <tr>\n",
              "      <th>4</th>\n",
              "      <td>A0005</td>\n",
              "      <td>2016-12-31</td>\n",
              "      <td>Active</td>\n",
              "      <td>1</td>\n",
              "      <td>2016-04-19</td>\n",
              "      <td>Yes</td>\n",
              "      <td>NaT</td>\n",
              "      <td>No</td>\n",
              "      <td>NaN</td>\n",
              "      <td>2016-04-19</td>\n",
              "      <td>NaN</td>\n",
              "      <td>1992-01-09</td>\n",
              "      <td>24</td>\n",
              "      <td>NaN</td>\n",
              "      <td>NaN</td>\n",
              "      <td>At Target</td>\n",
              "      <td>BA/BS</td>\n",
              "    </tr>\n",
              "  </tbody>\n",
              "</table>\n",
              "</div>"
            ],
            "text/plain": [
              "  Employee ID Data Effective Date  ...     Rating  Education\n",
              "0       A0001          2016-12-31  ...  At Target      BA/BS\n",
              "1       A0002          2016-12-31  ...  At Target      BA/BS\n",
              "2       A0003          2016-12-31  ...  At Target      MA/MS\n",
              "3       A0004          2016-12-31  ...  At Target      BA/BS\n",
              "4       A0005          2016-12-31  ...  At Target      BA/BS\n",
              "\n",
              "[5 rows x 17 columns]"
            ]
          },
          "metadata": {
            "tags": []
          },
          "execution_count": 7
        }
      ]
    },
    {
      "cell_type": "code",
      "metadata": {
        "colab": {
          "base_uri": "https://localhost:8080/",
          "height": 314
        },
        "id": "LH-K1n2wlkl8",
        "outputId": "843635ef-a403-4086-f1f9-e66922563af3"
      },
      "source": [
        "u1['Tenure'] = (u1['Data Effective Date'].apply(lambda x : x.year) - u1['Hired Date'].apply(lambda x : x.year))\n",
        "u1['Time in Job'] = (u1['Data Effective Date'].apply(lambda x : x.year)-u1['Job Start Date'].apply(lambda x : x.year))\n",
        "u1.head()"
      ],
      "execution_count": null,
      "outputs": [
        {
          "output_type": "execute_result",
          "data": {
            "text/html": [
              "<div>\n",
              "<style scoped>\n",
              "    .dataframe tbody tr th:only-of-type {\n",
              "        vertical-align: middle;\n",
              "    }\n",
              "\n",
              "    .dataframe tbody tr th {\n",
              "        vertical-align: top;\n",
              "    }\n",
              "\n",
              "    .dataframe thead th {\n",
              "        text-align: right;\n",
              "    }\n",
              "</style>\n",
              "<table border=\"1\" class=\"dataframe\">\n",
              "  <thead>\n",
              "    <tr style=\"text-align: right;\">\n",
              "      <th></th>\n",
              "      <th>Employee ID</th>\n",
              "      <th>Data Effective Date</th>\n",
              "      <th>Employee Status</th>\n",
              "      <th>Career Level</th>\n",
              "      <th>Hired Date</th>\n",
              "      <th>Hired in FY</th>\n",
              "      <th>Termination Date</th>\n",
              "      <th>Terminated</th>\n",
              "      <th>Termination Type</th>\n",
              "      <th>Job Start Date</th>\n",
              "      <th>Promoted</th>\n",
              "      <th>Birth Date</th>\n",
              "      <th>Age</th>\n",
              "      <th>Tenure</th>\n",
              "      <th>Time in Job</th>\n",
              "      <th>Rating</th>\n",
              "      <th>Education</th>\n",
              "    </tr>\n",
              "  </thead>\n",
              "  <tbody>\n",
              "    <tr>\n",
              "      <th>0</th>\n",
              "      <td>A0001</td>\n",
              "      <td>2016-12-31</td>\n",
              "      <td>Active</td>\n",
              "      <td>1</td>\n",
              "      <td>2016-12-09</td>\n",
              "      <td>Yes</td>\n",
              "      <td>NaT</td>\n",
              "      <td>No</td>\n",
              "      <td>NaN</td>\n",
              "      <td>2016-12-09</td>\n",
              "      <td>NaN</td>\n",
              "      <td>1992-09-21</td>\n",
              "      <td>24</td>\n",
              "      <td>0</td>\n",
              "      <td>0</td>\n",
              "      <td>At Target</td>\n",
              "      <td>BA/BS</td>\n",
              "    </tr>\n",
              "    <tr>\n",
              "      <th>1</th>\n",
              "      <td>A0002</td>\n",
              "      <td>2016-12-31</td>\n",
              "      <td>Active</td>\n",
              "      <td>1</td>\n",
              "      <td>2016-04-19</td>\n",
              "      <td>Yes</td>\n",
              "      <td>NaT</td>\n",
              "      <td>No</td>\n",
              "      <td>NaN</td>\n",
              "      <td>2016-04-19</td>\n",
              "      <td>NaN</td>\n",
              "      <td>1993-11-16</td>\n",
              "      <td>23</td>\n",
              "      <td>0</td>\n",
              "      <td>0</td>\n",
              "      <td>At Target</td>\n",
              "      <td>BA/BS</td>\n",
              "    </tr>\n",
              "    <tr>\n",
              "      <th>2</th>\n",
              "      <td>A0003</td>\n",
              "      <td>2016-12-31</td>\n",
              "      <td>Active</td>\n",
              "      <td>1</td>\n",
              "      <td>2016-03-14</td>\n",
              "      <td>Yes</td>\n",
              "      <td>NaT</td>\n",
              "      <td>No</td>\n",
              "      <td>NaN</td>\n",
              "      <td>2016-03-14</td>\n",
              "      <td>NaN</td>\n",
              "      <td>1993-11-26</td>\n",
              "      <td>23</td>\n",
              "      <td>0</td>\n",
              "      <td>0</td>\n",
              "      <td>At Target</td>\n",
              "      <td>MA/MS</td>\n",
              "    </tr>\n",
              "    <tr>\n",
              "      <th>3</th>\n",
              "      <td>A0004</td>\n",
              "      <td>2016-12-31</td>\n",
              "      <td>Active</td>\n",
              "      <td>1</td>\n",
              "      <td>2016-12-09</td>\n",
              "      <td>Yes</td>\n",
              "      <td>NaT</td>\n",
              "      <td>No</td>\n",
              "      <td>NaN</td>\n",
              "      <td>2016-12-09</td>\n",
              "      <td>NaN</td>\n",
              "      <td>1993-03-28</td>\n",
              "      <td>23</td>\n",
              "      <td>0</td>\n",
              "      <td>0</td>\n",
              "      <td>At Target</td>\n",
              "      <td>BA/BS</td>\n",
              "    </tr>\n",
              "    <tr>\n",
              "      <th>4</th>\n",
              "      <td>A0005</td>\n",
              "      <td>2016-12-31</td>\n",
              "      <td>Active</td>\n",
              "      <td>1</td>\n",
              "      <td>2016-04-19</td>\n",
              "      <td>Yes</td>\n",
              "      <td>NaT</td>\n",
              "      <td>No</td>\n",
              "      <td>NaN</td>\n",
              "      <td>2016-04-19</td>\n",
              "      <td>NaN</td>\n",
              "      <td>1992-01-09</td>\n",
              "      <td>24</td>\n",
              "      <td>0</td>\n",
              "      <td>0</td>\n",
              "      <td>At Target</td>\n",
              "      <td>BA/BS</td>\n",
              "    </tr>\n",
              "  </tbody>\n",
              "</table>\n",
              "</div>"
            ],
            "text/plain": [
              "  Employee ID Data Effective Date  ...     Rating  Education\n",
              "0       A0001          2016-12-31  ...  At Target      BA/BS\n",
              "1       A0002          2016-12-31  ...  At Target      BA/BS\n",
              "2       A0003          2016-12-31  ...  At Target      MA/MS\n",
              "3       A0004          2016-12-31  ...  At Target      BA/BS\n",
              "4       A0005          2016-12-31  ...  At Target      BA/BS\n",
              "\n",
              "[5 rows x 17 columns]"
            ]
          },
          "metadata": {
            "tags": []
          },
          "execution_count": 8
        }
      ]
    },
    {
      "cell_type": "code",
      "metadata": {
        "id": "QOOP2Tx644Tr"
      },
      "source": [
        "u1 = u1.drop([4322,702])"
      ],
      "execution_count": null,
      "outputs": []
    },
    {
      "cell_type": "code",
      "metadata": {
        "colab": {
          "base_uri": "https://localhost:8080/"
        },
        "id": "a3L1SZ_K1lL_",
        "outputId": "65d5eaa2-5557-4abc-c9bd-8385ae1c2dd9"
      },
      "source": [
        "age_cnt = u1['Age'].value_counts()\n",
        "age_cnt"
      ],
      "execution_count": null,
      "outputs": [
        {
          "output_type": "execute_result",
          "data": {
            "text/plain": [
              "23    509\n",
              "28    505\n",
              "29    415\n",
              "31    394\n",
              "30    369\n",
              "24    355\n",
              "25    322\n",
              "26    321\n",
              "27    294\n",
              "32    248\n",
              "36    238\n",
              "34    237\n",
              "35    219\n",
              "33    189\n",
              "41    144\n",
              "39    131\n",
              "40    124\n",
              "42    119\n",
              "43    103\n",
              "38    102\n",
              "50     98\n",
              "37     96\n",
              "49     89\n",
              "22     85\n",
              "53     82\n",
              "51     80\n",
              "52     76\n",
              "54     72\n",
              "48     72\n",
              "44     62\n",
              "55     49\n",
              "47     47\n",
              "46     40\n",
              "45     20\n",
              "56     16\n",
              "58      2\n",
              "60      1\n",
              "61      1\n",
              "Name: Age, dtype: int64"
            ]
          },
          "metadata": {
            "tags": []
          },
          "execution_count": 10
        }
      ]
    },
    {
      "cell_type": "code",
      "metadata": {
        "id": "32cG8ma854A8"
      },
      "source": [
        "def agegrp(x):\n",
        "  if x<=20:\n",
        "    group = 'Below 20'\n",
        "  elif x>=21 and x<=30:\n",
        "    group = '21-30'\n",
        "  elif x>=31 and x<=40:\n",
        "    group = '31-40'\n",
        "  elif x>=41 and x<=50:\n",
        "    group = '41-50'\n",
        "  elif x>=51 and x<=60:\n",
        "    group = '51-60'\n",
        "  elif x>=61:\n",
        "    group = 'Above 61'\n",
        "  return group"
      ],
      "execution_count": null,
      "outputs": []
    },
    {
      "cell_type": "code",
      "metadata": {
        "colab": {
          "base_uri": "https://localhost:8080/",
          "height": 314
        },
        "id": "_oEYZ5CT6Atz",
        "outputId": "2b8813d6-80d6-400e-f50f-5e1073deecb4"
      },
      "source": [
        "u1['Age Group'] = u1['Age'].apply(agegrp)\n",
        "u1.head()"
      ],
      "execution_count": null,
      "outputs": [
        {
          "output_type": "execute_result",
          "data": {
            "text/html": [
              "<div>\n",
              "<style scoped>\n",
              "    .dataframe tbody tr th:only-of-type {\n",
              "        vertical-align: middle;\n",
              "    }\n",
              "\n",
              "    .dataframe tbody tr th {\n",
              "        vertical-align: top;\n",
              "    }\n",
              "\n",
              "    .dataframe thead th {\n",
              "        text-align: right;\n",
              "    }\n",
              "</style>\n",
              "<table border=\"1\" class=\"dataframe\">\n",
              "  <thead>\n",
              "    <tr style=\"text-align: right;\">\n",
              "      <th></th>\n",
              "      <th>Employee ID</th>\n",
              "      <th>Data Effective Date</th>\n",
              "      <th>Employee Status</th>\n",
              "      <th>Career Level</th>\n",
              "      <th>Hired Date</th>\n",
              "      <th>Hired in FY</th>\n",
              "      <th>Termination Date</th>\n",
              "      <th>Terminated</th>\n",
              "      <th>Termination Type</th>\n",
              "      <th>Job Start Date</th>\n",
              "      <th>Promoted</th>\n",
              "      <th>Birth Date</th>\n",
              "      <th>Age</th>\n",
              "      <th>Tenure</th>\n",
              "      <th>Time in Job</th>\n",
              "      <th>Rating</th>\n",
              "      <th>Education</th>\n",
              "      <th>Age Group</th>\n",
              "    </tr>\n",
              "  </thead>\n",
              "  <tbody>\n",
              "    <tr>\n",
              "      <th>0</th>\n",
              "      <td>A0001</td>\n",
              "      <td>2016-12-31</td>\n",
              "      <td>Active</td>\n",
              "      <td>1</td>\n",
              "      <td>2016-12-09</td>\n",
              "      <td>Yes</td>\n",
              "      <td>NaT</td>\n",
              "      <td>No</td>\n",
              "      <td>NaN</td>\n",
              "      <td>2016-12-09</td>\n",
              "      <td>NaN</td>\n",
              "      <td>1992-09-21</td>\n",
              "      <td>24</td>\n",
              "      <td>0</td>\n",
              "      <td>0</td>\n",
              "      <td>At Target</td>\n",
              "      <td>BA/BS</td>\n",
              "      <td>21-30</td>\n",
              "    </tr>\n",
              "    <tr>\n",
              "      <th>1</th>\n",
              "      <td>A0002</td>\n",
              "      <td>2016-12-31</td>\n",
              "      <td>Active</td>\n",
              "      <td>1</td>\n",
              "      <td>2016-04-19</td>\n",
              "      <td>Yes</td>\n",
              "      <td>NaT</td>\n",
              "      <td>No</td>\n",
              "      <td>NaN</td>\n",
              "      <td>2016-04-19</td>\n",
              "      <td>NaN</td>\n",
              "      <td>1993-11-16</td>\n",
              "      <td>23</td>\n",
              "      <td>0</td>\n",
              "      <td>0</td>\n",
              "      <td>At Target</td>\n",
              "      <td>BA/BS</td>\n",
              "      <td>21-30</td>\n",
              "    </tr>\n",
              "    <tr>\n",
              "      <th>2</th>\n",
              "      <td>A0003</td>\n",
              "      <td>2016-12-31</td>\n",
              "      <td>Active</td>\n",
              "      <td>1</td>\n",
              "      <td>2016-03-14</td>\n",
              "      <td>Yes</td>\n",
              "      <td>NaT</td>\n",
              "      <td>No</td>\n",
              "      <td>NaN</td>\n",
              "      <td>2016-03-14</td>\n",
              "      <td>NaN</td>\n",
              "      <td>1993-11-26</td>\n",
              "      <td>23</td>\n",
              "      <td>0</td>\n",
              "      <td>0</td>\n",
              "      <td>At Target</td>\n",
              "      <td>MA/MS</td>\n",
              "      <td>21-30</td>\n",
              "    </tr>\n",
              "    <tr>\n",
              "      <th>3</th>\n",
              "      <td>A0004</td>\n",
              "      <td>2016-12-31</td>\n",
              "      <td>Active</td>\n",
              "      <td>1</td>\n",
              "      <td>2016-12-09</td>\n",
              "      <td>Yes</td>\n",
              "      <td>NaT</td>\n",
              "      <td>No</td>\n",
              "      <td>NaN</td>\n",
              "      <td>2016-12-09</td>\n",
              "      <td>NaN</td>\n",
              "      <td>1993-03-28</td>\n",
              "      <td>23</td>\n",
              "      <td>0</td>\n",
              "      <td>0</td>\n",
              "      <td>At Target</td>\n",
              "      <td>BA/BS</td>\n",
              "      <td>21-30</td>\n",
              "    </tr>\n",
              "    <tr>\n",
              "      <th>4</th>\n",
              "      <td>A0005</td>\n",
              "      <td>2016-12-31</td>\n",
              "      <td>Active</td>\n",
              "      <td>1</td>\n",
              "      <td>2016-04-19</td>\n",
              "      <td>Yes</td>\n",
              "      <td>NaT</td>\n",
              "      <td>No</td>\n",
              "      <td>NaN</td>\n",
              "      <td>2016-04-19</td>\n",
              "      <td>NaN</td>\n",
              "      <td>1992-01-09</td>\n",
              "      <td>24</td>\n",
              "      <td>0</td>\n",
              "      <td>0</td>\n",
              "      <td>At Target</td>\n",
              "      <td>BA/BS</td>\n",
              "      <td>21-30</td>\n",
              "    </tr>\n",
              "  </tbody>\n",
              "</table>\n",
              "</div>"
            ],
            "text/plain": [
              "  Employee ID Data Effective Date  ... Education  Age Group\n",
              "0       A0001          2016-12-31  ...     BA/BS      21-30\n",
              "1       A0002          2016-12-31  ...     BA/BS      21-30\n",
              "2       A0003          2016-12-31  ...     MA/MS      21-30\n",
              "3       A0004          2016-12-31  ...     BA/BS      21-30\n",
              "4       A0005          2016-12-31  ...     BA/BS      21-30\n",
              "\n",
              "[5 rows x 18 columns]"
            ]
          },
          "metadata": {
            "tags": []
          },
          "execution_count": 12
        }
      ]
    },
    {
      "cell_type": "code",
      "metadata": {
        "colab": {
          "base_uri": "https://localhost:8080/"
        },
        "id": "w6MtaRrvf_lK",
        "outputId": "f8d58251-15ab-4f96-e5e7-be11597ac0cc"
      },
      "source": [
        "agegrp_cnt = np.round(u1['Age Group'].value_counts(normalize = True)*100,2)\n",
        "agegrp_cnt"
      ],
      "execution_count": null,
      "outputs": [
        {
          "output_type": "execute_result",
          "data": {
            "text/plain": [
              "21-30       50.19\n",
              "31-40       31.27\n",
              "41-50       12.55\n",
              "51-60        5.98\n",
              "Above 61     0.02\n",
              "Name: Age Group, dtype: float64"
            ]
          },
          "metadata": {
            "tags": []
          },
          "execution_count": 13
        }
      ]
    },
    {
      "cell_type": "code",
      "metadata": {
        "colab": {
          "base_uri": "https://localhost:8080/",
          "height": 404
        },
        "id": "bScUlwmWf2d9",
        "outputId": "8ead24d6-a9b9-4804-dbf6-1a309a298ac5"
      },
      "source": [
        "plt.figure(figsize=(12,6))\n",
        "plt.bar(agegrp_cnt.keys().values,agegrp_cnt,color = 'green',width = 0.5)\n",
        "plt.xlabel('Age Group',fontweight = 'bold')\n",
        "plt.ylabel('Percentage of People',fontweight = 'bold')\n",
        "plt.title('Age Group varries in Active People');"
      ],
      "execution_count": null,
      "outputs": [
        {
          "output_type": "display_data",
          "data": {
            "image/png": "[encoded data removed]",
            "text/plain": [
              "<Figure size 864x432 with 1 Axes>"
            ]
          },
          "metadata": {
            "tags": [],
            "needs_background": "light"
          }
        }
      ]
    },
    {
      "cell_type": "code",
      "metadata": {
        "colab": {
          "base_uri": "https://localhost:8080/",
          "height": 606
        },
        "id": "DlWwlhA6di1n",
        "outputId": "a87a94bb-6cd9-4e36-b8da-9f8b3da54eca"
      },
      "source": [
        "actv_count = u1[u1['Employee Status']=='Active']\n",
        "actv_count"
      ],
      "execution_count": null,
      "outputs": [
        {
          "output_type": "execute_result",
          "data": {
            "text/html": [
              "<div>\n",
              "<style scoped>\n",
              "    .dataframe tbody tr th:only-of-type {\n",
              "        vertical-align: middle;\n",
              "    }\n",
              "\n",
              "    .dataframe tbody tr th {\n",
              "        vertical-align: top;\n",
              "    }\n",
              "\n",
              "    .dataframe thead th {\n",
              "        text-align: right;\n",
              "    }\n",
              "</style>\n",
              "<table border=\"1\" class=\"dataframe\">\n",
              "  <thead>\n",
              "    <tr style=\"text-align: right;\">\n",
              "      <th></th>\n",
              "      <th>Employee ID</th>\n",
              "      <th>Data Effective Date</th>\n",
              "      <th>Employee Status</th>\n",
              "      <th>Career Level</th>\n",
              "      <th>Hired Date</th>\n",
              "      <th>Hired in FY</th>\n",
              "      <th>Termination Date</th>\n",
              "      <th>Terminated</th>\n",
              "      <th>Termination Type</th>\n",
              "      <th>Job Start Date</th>\n",
              "      <th>Promoted</th>\n",
              "      <th>Birth Date</th>\n",
              "      <th>Age</th>\n",
              "      <th>Tenure</th>\n",
              "      <th>Time in Job</th>\n",
              "      <th>Rating</th>\n",
              "      <th>Education</th>\n",
              "      <th>Age Group</th>\n",
              "    </tr>\n",
              "  </thead>\n",
              "  <tbody>\n",
              "    <tr>\n",
              "      <th>0</th>\n",
              "      <td>A0001</td>\n",
              "      <td>2016-12-31</td>\n",
              "      <td>Active</td>\n",
              "      <td>1</td>\n",
              "      <td>2016-12-09</td>\n",
              "      <td>Yes</td>\n",
              "      <td>NaT</td>\n",
              "      <td>No</td>\n",
              "      <td>NaN</td>\n",
              "      <td>2016-12-09</td>\n",
              "      <td>NaN</td>\n",
              "      <td>1992-09-21</td>\n",
              "      <td>24</td>\n",
              "      <td>0</td>\n",
              "      <td>0</td>\n",
              "      <td>At Target</td>\n",
              "      <td>BA/BS</td>\n",
              "      <td>21-30</td>\n",
              "    </tr>\n",
              "    <tr>\n",
              "      <th>1</th>\n",
              "      <td>A0002</td>\n",
              "      <td>2016-12-31</td>\n",
              "      <td>Active</td>\n",
              "      <td>1</td>\n",
              "      <td>2016-04-19</td>\n",
              "      <td>Yes</td>\n",
              "      <td>NaT</td>\n",
              "      <td>No</td>\n",
              "      <td>NaN</td>\n",
              "      <td>2016-04-19</td>\n",
              "      <td>NaN</td>\n",
              "      <td>1993-11-16</td>\n",
              "      <td>23</td>\n",
              "      <td>0</td>\n",
              "      <td>0</td>\n",
              "      <td>At Target</td>\n",
              "      <td>BA/BS</td>\n",
              "      <td>21-30</td>\n",
              "    </tr>\n",
              "    <tr>\n",
              "      <th>2</th>\n",
              "      <td>A0003</td>\n",
              "      <td>2016-12-31</td>\n",
              "      <td>Active</td>\n",
              "      <td>1</td>\n",
              "      <td>2016-03-14</td>\n",
              "      <td>Yes</td>\n",
              "      <td>NaT</td>\n",
              "      <td>No</td>\n",
              "      <td>NaN</td>\n",
              "      <td>2016-03-14</td>\n",
              "      <td>NaN</td>\n",
              "      <td>1993-11-26</td>\n",
              "      <td>23</td>\n",
              "      <td>0</td>\n",
              "      <td>0</td>\n",
              "      <td>At Target</td>\n",
              "      <td>MA/MS</td>\n",
              "      <td>21-30</td>\n",
              "    </tr>\n",
              "    <tr>\n",
              "      <th>3</th>\n",
              "      <td>A0004</td>\n",
              "      <td>2016-12-31</td>\n",
              "      <td>Active</td>\n",
              "      <td>1</td>\n",
              "      <td>2016-12-09</td>\n",
              "      <td>Yes</td>\n",
              "      <td>NaT</td>\n",
              "      <td>No</td>\n",
              "      <td>NaN</td>\n",
              "      <td>2016-12-09</td>\n",
              "      <td>NaN</td>\n",
              "      <td>1993-03-28</td>\n",
              "      <td>23</td>\n",
              "      <td>0</td>\n",
              "      <td>0</td>\n",
              "      <td>At Target</td>\n",
              "      <td>BA/BS</td>\n",
              "      <td>21-30</td>\n",
              "    </tr>\n",
              "    <tr>\n",
              "      <th>4</th>\n",
              "      <td>A0005</td>\n",
              "      <td>2016-12-31</td>\n",
              "      <td>Active</td>\n",
              "      <td>1</td>\n",
              "      <td>2016-04-19</td>\n",
              "      <td>Yes</td>\n",
              "      <td>NaT</td>\n",
              "      <td>No</td>\n",
              "      <td>NaN</td>\n",
              "      <td>2016-04-19</td>\n",
              "      <td>NaN</td>\n",
              "      <td>1992-01-09</td>\n",
              "      <td>24</td>\n",
              "      <td>0</td>\n",
              "      <td>0</td>\n",
              "      <td>At Target</td>\n",
              "      <td>BA/BS</td>\n",
              "      <td>21-30</td>\n",
              "    </tr>\n",
              "    <tr>\n",
              "      <th>...</th>\n",
              "      <td>...</td>\n",
              "      <td>...</td>\n",
              "      <td>...</td>\n",
              "      <td>...</td>\n",
              "      <td>...</td>\n",
              "      <td>...</td>\n",
              "      <td>...</td>\n",
              "      <td>...</td>\n",
              "      <td>...</td>\n",
              "      <td>...</td>\n",
              "      <td>...</td>\n",
              "      <td>...</td>\n",
              "      <td>...</td>\n",
              "      <td>...</td>\n",
              "      <td>...</td>\n",
              "      <td>...</td>\n",
              "      <td>...</td>\n",
              "      <td>...</td>\n",
              "    </tr>\n",
              "    <tr>\n",
              "      <th>5915</th>\n",
              "      <td>A5916</td>\n",
              "      <td>2016-12-31</td>\n",
              "      <td>Active</td>\n",
              "      <td>6</td>\n",
              "      <td>1986-03-14</td>\n",
              "      <td>No</td>\n",
              "      <td>NaT</td>\n",
              "      <td>No</td>\n",
              "      <td>NaN</td>\n",
              "      <td>2005-11-25</td>\n",
              "      <td>No</td>\n",
              "      <td>1964-06-13</td>\n",
              "      <td>52</td>\n",
              "      <td>30</td>\n",
              "      <td>11</td>\n",
              "      <td>Above Target</td>\n",
              "      <td>PhD</td>\n",
              "      <td>51-60</td>\n",
              "    </tr>\n",
              "    <tr>\n",
              "      <th>5916</th>\n",
              "      <td>A5917</td>\n",
              "      <td>2016-12-31</td>\n",
              "      <td>Active</td>\n",
              "      <td>6</td>\n",
              "      <td>1988-12-09</td>\n",
              "      <td>No</td>\n",
              "      <td>NaT</td>\n",
              "      <td>No</td>\n",
              "      <td>NaN</td>\n",
              "      <td>2005-05-26</td>\n",
              "      <td>No</td>\n",
              "      <td>1964-08-14</td>\n",
              "      <td>52</td>\n",
              "      <td>28</td>\n",
              "      <td>11</td>\n",
              "      <td>At Target</td>\n",
              "      <td>MBA</td>\n",
              "      <td>51-60</td>\n",
              "    </tr>\n",
              "    <tr>\n",
              "      <th>5917</th>\n",
              "      <td>A5918</td>\n",
              "      <td>2016-12-31</td>\n",
              "      <td>Active</td>\n",
              "      <td>6</td>\n",
              "      <td>1993-11-25</td>\n",
              "      <td>No</td>\n",
              "      <td>NaT</td>\n",
              "      <td>No</td>\n",
              "      <td>NaN</td>\n",
              "      <td>2006-09-13</td>\n",
              "      <td>No</td>\n",
              "      <td>1963-02-23</td>\n",
              "      <td>53</td>\n",
              "      <td>23</td>\n",
              "      <td>10</td>\n",
              "      <td>Above Target</td>\n",
              "      <td>PhD</td>\n",
              "      <td>51-60</td>\n",
              "    </tr>\n",
              "    <tr>\n",
              "      <th>5918</th>\n",
              "      <td>A5919</td>\n",
              "      <td>2016-12-31</td>\n",
              "      <td>Active</td>\n",
              "      <td>6</td>\n",
              "      <td>1991-02-07</td>\n",
              "      <td>No</td>\n",
              "      <td>NaT</td>\n",
              "      <td>No</td>\n",
              "      <td>NaN</td>\n",
              "      <td>2007-06-02</td>\n",
              "      <td>No</td>\n",
              "      <td>1966-09-07</td>\n",
              "      <td>50</td>\n",
              "      <td>25</td>\n",
              "      <td>9</td>\n",
              "      <td>Above Target</td>\n",
              "      <td>PhD</td>\n",
              "      <td>41-50</td>\n",
              "    </tr>\n",
              "    <tr>\n",
              "      <th>5919</th>\n",
              "      <td>A5920</td>\n",
              "      <td>2016-12-31</td>\n",
              "      <td>Active</td>\n",
              "      <td>6</td>\n",
              "      <td>1984-06-02</td>\n",
              "      <td>No</td>\n",
              "      <td>NaT</td>\n",
              "      <td>No</td>\n",
              "      <td>NaN</td>\n",
              "      <td>2007-01-01</td>\n",
              "      <td>No</td>\n",
              "      <td>1963-01-25</td>\n",
              "      <td>53</td>\n",
              "      <td>32</td>\n",
              "      <td>9</td>\n",
              "      <td>Above Target</td>\n",
              "      <td>BA/BS</td>\n",
              "      <td>51-60</td>\n",
              "    </tr>\n",
              "  </tbody>\n",
              "</table>\n",
              "<p>5918 rows × 18 columns</p>\n",
              "</div>"
            ],
            "text/plain": [
              "     Employee ID Data Effective Date  ... Education  Age Group\n",
              "0          A0001          2016-12-31  ...     BA/BS      21-30\n",
              "1          A0002          2016-12-31  ...     BA/BS      21-30\n",
              "2          A0003          2016-12-31  ...     MA/MS      21-30\n",
              "3          A0004          2016-12-31  ...     BA/BS      21-30\n",
              "4          A0005          2016-12-31  ...     BA/BS      21-30\n",
              "...          ...                 ...  ...       ...        ...\n",
              "5915       A5916          2016-12-31  ...       PhD      51-60\n",
              "5916       A5917          2016-12-31  ...       MBA      51-60\n",
              "5917       A5918          2016-12-31  ...       PhD      51-60\n",
              "5918       A5919          2016-12-31  ...       PhD      41-50\n",
              "5919       A5920          2016-12-31  ...     BA/BS      51-60\n",
              "\n",
              "[5918 rows x 18 columns]"
            ]
          },
          "metadata": {
            "tags": []
          },
          "execution_count": 15
        }
      ]
    },
    {
      "cell_type": "code",
      "metadata": {
        "colab": {
          "base_uri": "https://localhost:8080/",
          "height": 606
        },
        "id": "XH1PfVItmUcd",
        "outputId": "0664a8c0-3832-471a-e7e7-1f23d98bc5b6"
      },
      "source": [
        "termin_count = u1[u1['Employee Status']=='Terminated']\n",
        "termin_count"
      ],
      "execution_count": null,
      "outputs": [
        {
          "output_type": "execute_result",
          "data": {
            "text/html": [
              "<div>\n",
              "<style scoped>\n",
              "    .dataframe tbody tr th:only-of-type {\n",
              "        vertical-align: middle;\n",
              "    }\n",
              "\n",
              "    .dataframe tbody tr th {\n",
              "        vertical-align: top;\n",
              "    }\n",
              "\n",
              "    .dataframe thead th {\n",
              "        text-align: right;\n",
              "    }\n",
              "</style>\n",
              "<table border=\"1\" class=\"dataframe\">\n",
              "  <thead>\n",
              "    <tr style=\"text-align: right;\">\n",
              "      <th></th>\n",
              "      <th>Employee ID</th>\n",
              "      <th>Data Effective Date</th>\n",
              "      <th>Employee Status</th>\n",
              "      <th>Career Level</th>\n",
              "      <th>Hired Date</th>\n",
              "      <th>Hired in FY</th>\n",
              "      <th>Termination Date</th>\n",
              "      <th>Terminated</th>\n",
              "      <th>Termination Type</th>\n",
              "      <th>Job Start Date</th>\n",
              "      <th>Promoted</th>\n",
              "      <th>Birth Date</th>\n",
              "      <th>Age</th>\n",
              "      <th>Tenure</th>\n",
              "      <th>Time in Job</th>\n",
              "      <th>Rating</th>\n",
              "      <th>Education</th>\n",
              "      <th>Age Group</th>\n",
              "    </tr>\n",
              "  </thead>\n",
              "  <tbody>\n",
              "    <tr>\n",
              "      <th>5920</th>\n",
              "      <td>A5921</td>\n",
              "      <td>2016-12-31</td>\n",
              "      <td>Terminated</td>\n",
              "      <td>1</td>\n",
              "      <td>2015-02-11</td>\n",
              "      <td>Yes</td>\n",
              "      <td>2016-09-26</td>\n",
              "      <td>Yes</td>\n",
              "      <td>Voluntary Exit</td>\n",
              "      <td>2015-02-11</td>\n",
              "      <td>NaN</td>\n",
              "      <td>1992-07-06</td>\n",
              "      <td>24</td>\n",
              "      <td>1</td>\n",
              "      <td>1</td>\n",
              "      <td>At Target</td>\n",
              "      <td>BA/BS</td>\n",
              "      <td>21-30</td>\n",
              "    </tr>\n",
              "    <tr>\n",
              "      <th>5921</th>\n",
              "      <td>A5922</td>\n",
              "      <td>2016-12-31</td>\n",
              "      <td>Terminated</td>\n",
              "      <td>1</td>\n",
              "      <td>2016-04-08</td>\n",
              "      <td>Yes</td>\n",
              "      <td>2016-10-16</td>\n",
              "      <td>Yes</td>\n",
              "      <td>Voluntary Exit</td>\n",
              "      <td>2016-04-08</td>\n",
              "      <td>NaN</td>\n",
              "      <td>1994-05-31</td>\n",
              "      <td>22</td>\n",
              "      <td>0</td>\n",
              "      <td>0</td>\n",
              "      <td>At Target</td>\n",
              "      <td>MA/MS</td>\n",
              "      <td>21-30</td>\n",
              "    </tr>\n",
              "    <tr>\n",
              "      <th>5922</th>\n",
              "      <td>A5923</td>\n",
              "      <td>2016-12-31</td>\n",
              "      <td>Terminated</td>\n",
              "      <td>1</td>\n",
              "      <td>2016-06-14</td>\n",
              "      <td>Yes</td>\n",
              "      <td>2016-08-26</td>\n",
              "      <td>Yes</td>\n",
              "      <td>Voluntary Exit</td>\n",
              "      <td>2016-06-14</td>\n",
              "      <td>NaN</td>\n",
              "      <td>1990-05-10</td>\n",
              "      <td>26</td>\n",
              "      <td>0</td>\n",
              "      <td>0</td>\n",
              "      <td>At Target</td>\n",
              "      <td>BA/BS</td>\n",
              "      <td>21-30</td>\n",
              "    </tr>\n",
              "    <tr>\n",
              "      <th>5923</th>\n",
              "      <td>A5924</td>\n",
              "      <td>2016-12-31</td>\n",
              "      <td>Terminated</td>\n",
              "      <td>1</td>\n",
              "      <td>2016-07-08</td>\n",
              "      <td>Yes</td>\n",
              "      <td>2016-11-25</td>\n",
              "      <td>Yes</td>\n",
              "      <td>Voluntary Exit</td>\n",
              "      <td>2016-07-08</td>\n",
              "      <td>NaN</td>\n",
              "      <td>1993-02-14</td>\n",
              "      <td>23</td>\n",
              "      <td>0</td>\n",
              "      <td>0</td>\n",
              "      <td>At Target</td>\n",
              "      <td>BA/BS</td>\n",
              "      <td>21-30</td>\n",
              "    </tr>\n",
              "    <tr>\n",
              "      <th>5924</th>\n",
              "      <td>A5925</td>\n",
              "      <td>2016-12-31</td>\n",
              "      <td>Terminated</td>\n",
              "      <td>1</td>\n",
              "      <td>2015-06-23</td>\n",
              "      <td>Yes</td>\n",
              "      <td>2016-01-28</td>\n",
              "      <td>Yes</td>\n",
              "      <td>Voluntary Exit</td>\n",
              "      <td>2015-06-23</td>\n",
              "      <td>NaN</td>\n",
              "      <td>1993-09-04</td>\n",
              "      <td>23</td>\n",
              "      <td>1</td>\n",
              "      <td>1</td>\n",
              "      <td>At Target</td>\n",
              "      <td>BA/BS</td>\n",
              "      <td>21-30</td>\n",
              "    </tr>\n",
              "    <tr>\n",
              "      <th>...</th>\n",
              "      <td>...</td>\n",
              "      <td>...</td>\n",
              "      <td>...</td>\n",
              "      <td>...</td>\n",
              "      <td>...</td>\n",
              "      <td>...</td>\n",
              "      <td>...</td>\n",
              "      <td>...</td>\n",
              "      <td>...</td>\n",
              "      <td>...</td>\n",
              "      <td>...</td>\n",
              "      <td>...</td>\n",
              "      <td>...</td>\n",
              "      <td>...</td>\n",
              "      <td>...</td>\n",
              "      <td>...</td>\n",
              "      <td>...</td>\n",
              "      <td>...</td>\n",
              "    </tr>\n",
              "    <tr>\n",
              "      <th>6323</th>\n",
              "      <td>A6324</td>\n",
              "      <td>2016-12-31</td>\n",
              "      <td>Terminated</td>\n",
              "      <td>6</td>\n",
              "      <td>1981-01-18</td>\n",
              "      <td>No</td>\n",
              "      <td>2016-01-19</td>\n",
              "      <td>Yes</td>\n",
              "      <td>Voluntary Exit</td>\n",
              "      <td>2004-01-19</td>\n",
              "      <td>No</td>\n",
              "      <td>1960-12-18</td>\n",
              "      <td>56</td>\n",
              "      <td>35</td>\n",
              "      <td>12</td>\n",
              "      <td>Above Target</td>\n",
              "      <td>JD</td>\n",
              "      <td>51-60</td>\n",
              "    </tr>\n",
              "    <tr>\n",
              "      <th>6324</th>\n",
              "      <td>A6325</td>\n",
              "      <td>2016-12-31</td>\n",
              "      <td>Terminated</td>\n",
              "      <td>6</td>\n",
              "      <td>1980-07-07</td>\n",
              "      <td>No</td>\n",
              "      <td>2016-04-25</td>\n",
              "      <td>Yes</td>\n",
              "      <td>Voluntary Exit</td>\n",
              "      <td>2005-08-13</td>\n",
              "      <td>No</td>\n",
              "      <td>1955-08-04</td>\n",
              "      <td>61</td>\n",
              "      <td>36</td>\n",
              "      <td>11</td>\n",
              "      <td>Above Target</td>\n",
              "      <td>BA/BS</td>\n",
              "      <td>Above 61</td>\n",
              "    </tr>\n",
              "    <tr>\n",
              "      <th>6325</th>\n",
              "      <td>A6326</td>\n",
              "      <td>2016-12-31</td>\n",
              "      <td>Terminated</td>\n",
              "      <td>6</td>\n",
              "      <td>1991-04-21</td>\n",
              "      <td>No</td>\n",
              "      <td>2016-09-13</td>\n",
              "      <td>Yes</td>\n",
              "      <td>Voluntary Exit</td>\n",
              "      <td>2005-06-02</td>\n",
              "      <td>No</td>\n",
              "      <td>1965-02-25</td>\n",
              "      <td>51</td>\n",
              "      <td>25</td>\n",
              "      <td>11</td>\n",
              "      <td>Significantly Above Target</td>\n",
              "      <td>MA/MS</td>\n",
              "      <td>51-60</td>\n",
              "    </tr>\n",
              "    <tr>\n",
              "      <th>6326</th>\n",
              "      <td>A6327</td>\n",
              "      <td>2016-12-31</td>\n",
              "      <td>Terminated</td>\n",
              "      <td>6</td>\n",
              "      <td>1980-10-30</td>\n",
              "      <td>No</td>\n",
              "      <td>2016-12-07</td>\n",
              "      <td>Yes</td>\n",
              "      <td>Voluntary Exit</td>\n",
              "      <td>2004-11-01</td>\n",
              "      <td>No</td>\n",
              "      <td>1958-01-26</td>\n",
              "      <td>58</td>\n",
              "      <td>36</td>\n",
              "      <td>12</td>\n",
              "      <td>Above Target</td>\n",
              "      <td>MBA</td>\n",
              "      <td>51-60</td>\n",
              "    </tr>\n",
              "    <tr>\n",
              "      <th>6327</th>\n",
              "      <td>A6328</td>\n",
              "      <td>2016-12-31</td>\n",
              "      <td>Terminated</td>\n",
              "      <td>6</td>\n",
              "      <td>1985-12-11</td>\n",
              "      <td>No</td>\n",
              "      <td>2016-01-25</td>\n",
              "      <td>Yes</td>\n",
              "      <td>Voluntary Exit</td>\n",
              "      <td>2004-08-31</td>\n",
              "      <td>No</td>\n",
              "      <td>1956-05-07</td>\n",
              "      <td>60</td>\n",
              "      <td>31</td>\n",
              "      <td>12</td>\n",
              "      <td>Significantly Above Target</td>\n",
              "      <td>BA/BS</td>\n",
              "      <td>51-60</td>\n",
              "    </tr>\n",
              "  </tbody>\n",
              "</table>\n",
              "<p>408 rows × 18 columns</p>\n",
              "</div>"
            ],
            "text/plain": [
              "     Employee ID Data Effective Date  ... Education  Age Group\n",
              "5920       A5921          2016-12-31  ...     BA/BS      21-30\n",
              "5921       A5922          2016-12-31  ...     MA/MS      21-30\n",
              "5922       A5923          2016-12-31  ...     BA/BS      21-30\n",
              "5923       A5924          2016-12-31  ...     BA/BS      21-30\n",
              "5924       A5925          2016-12-31  ...     BA/BS      21-30\n",
              "...          ...                 ...  ...       ...        ...\n",
              "6323       A6324          2016-12-31  ...        JD      51-60\n",
              "6324       A6325          2016-12-31  ...     BA/BS   Above 61\n",
              "6325       A6326          2016-12-31  ...     MA/MS      51-60\n",
              "6326       A6327          2016-12-31  ...       MBA      51-60\n",
              "6327       A6328          2016-12-31  ...     BA/BS      51-60\n",
              "\n",
              "[408 rows x 18 columns]"
            ]
          },
          "metadata": {
            "tags": []
          },
          "execution_count": 16
        }
      ]
    },
    {
      "cell_type": "markdown",
      "metadata": {
        "id": "e7dPRrEu5pHG"
      },
      "source": [
        "Active People\n",
        "\n",
        "---\n",
        "\n"
      ]
    },
    {
      "cell_type": "code",
      "metadata": {
        "colab": {
          "base_uri": "https://localhost:8080/"
        },
        "id": "rr4nhTb5lYAt",
        "outputId": "e0074ac9-d209-4653-859e-33d9e235876f"
      },
      "source": [
        "crlvl_act_cnt = np.round(actv_count['Career Level'].value_counts(normalize = True)*100,1)[[1,2,3,4,5,6]]\n",
        "crlvl_act_cnt"
      ],
      "execution_count": null,
      "outputs": [
        {
          "output_type": "execute_result",
          "data": {
            "text/plain": [
              "1    15.2\n",
              "2    18.6\n",
              "3    19.6\n",
              "4    18.8\n",
              "5    15.2\n",
              "6    12.7\n",
              "Name: Career Level, dtype: float64"
            ]
          },
          "metadata": {
            "tags": []
          },
          "execution_count": 17
        }
      ]
    },
    {
      "cell_type": "code",
      "metadata": {
        "colab": {
          "base_uri": "https://localhost:8080/",
          "height": 404
        },
        "id": "svEXaLIJtb1r",
        "outputId": "eb0969d9-23ff-43c1-c8a5-d5fdd8e85889"
      },
      "source": [
        "plt.figure(figsize=(12,6))\n",
        "plt.bar(crlvl_act_cnt.keys().values,crlvl_act_cnt,color = 'red',width = 0.5)\n",
        "plt.xlabel('Career Level',fontweight = 'bold')\n",
        "plt.ylabel('Percentage of People',fontweight = 'bold')\n",
        "plt.title('Active people according to their carrer level');"
      ],
      "execution_count": null,
      "outputs": [
        {
          "output_type": "display_data",
          "data": {
            "image/png": "[encoded data removed]",
            "text/plain": [
              "<Figure size 864x432 with 1 Axes>"
            ]
          },
          "metadata": {
            "tags": [],
            "needs_background": "light"
          }
        }
      ]
    },
    {
      "cell_type": "code",
      "metadata": {
        "colab": {
          "base_uri": "https://localhost:8080/"
        },
        "id": "kc2BmzlA0se3",
        "outputId": "fd825fc2-e9cd-48e1-f442-0ee8225848a8"
      },
      "source": [
        "age_act_cnt = actv_count['Age'].value_counts()\n",
        "age_act_cnt"
      ],
      "execution_count": null,
      "outputs": [
        {
          "output_type": "execute_result",
          "data": {
            "text/plain": [
              "23    468\n",
              "28    468\n",
              "29    375\n",
              "31    365\n",
              "30    337\n",
              "24    298\n",
              "26    293\n",
              "25    289\n",
              "27    267\n",
              "32    235\n",
              "36    232\n",
              "34    226\n",
              "35    211\n",
              "33    182\n",
              "41    141\n",
              "39    130\n",
              "40    121\n",
              "42    116\n",
              "38    100\n",
              "43     99\n",
              "50     98\n",
              "37     92\n",
              "49     89\n",
              "53     81\n",
              "51     78\n",
              "52     76\n",
              "22     76\n",
              "48     72\n",
              "54     72\n",
              "44     62\n",
              "55     49\n",
              "47     47\n",
              "46     40\n",
              "45     18\n",
              "56     15\n",
              "Name: Age, dtype: int64"
            ]
          },
          "metadata": {
            "tags": []
          },
          "execution_count": 19
        }
      ]
    },
    {
      "cell_type": "code",
      "metadata": {
        "colab": {
          "base_uri": "https://localhost:8080/"
        },
        "id": "1HY__3rc6iuG",
        "outputId": "91a69b94-f58c-49f6-e02d-af8956eda63b"
      },
      "source": [
        "agegrp_act_cnt = np.round(actv_count['Age Group'].value_counts(normalize = True)*100,2)\n",
        "agegrp_act_cnt"
      ],
      "execution_count": null,
      "outputs": [
        {
          "output_type": "execute_result",
          "data": {
            "text/plain": [
              "21-30    48.51\n",
              "31-40    32.00\n",
              "41-50    13.21\n",
              "51-60     6.27\n",
              "Name: Age Group, dtype: float64"
            ]
          },
          "metadata": {
            "tags": []
          },
          "execution_count": 20
        }
      ]
    },
    {
      "cell_type": "code",
      "metadata": {
        "colab": {
          "base_uri": "https://localhost:8080/",
          "height": 404
        },
        "id": "0oOOWGIZ9Oaz",
        "outputId": "51df8e1f-194b-45e6-84f8-5b02701e68cb"
      },
      "source": [
        "plt.figure(figsize=(10,6))\n",
        "plt.bar(agegrp_act_cnt.keys().values,agegrp_act_cnt,color = 'green',width = 0.5)\n",
        "plt.xlabel('Age Group',fontweight = 'bold')\n",
        "plt.ylabel('Percentage of People',fontweight = 'bold')\n",
        "plt.title('Age Group varries in Active People');"
      ],
      "execution_count": null,
      "outputs": [
        {
          "output_type": "display_data",
          "data": {
            "image/png": "[encoded data removed]",
            "text/plain": [
              "<Figure size 720x432 with 1 Axes>"
            ]
          },
          "metadata": {
            "tags": [],
            "needs_background": "light"
          }
        }
      ]
    },
    {
      "cell_type": "code",
      "metadata": {
        "colab": {
          "base_uri": "https://localhost:8080/"
        },
        "id": "Uco8zdOO-tPP",
        "outputId": "76cf51ed-3dc9-4814-b007-1657017133f3"
      },
      "source": [
        "edu_act_cnt = np.round(actv_count['Education'].value_counts(normalize = True)*100,2)\n",
        "edu_act_cnt"
      ],
      "execution_count": null,
      "outputs": [
        {
          "output_type": "execute_result",
          "data": {
            "text/plain": [
              "BA/BS    57.42\n",
              "MA/MS    20.41\n",
              "MBA      19.47\n",
              "PhD       1.54\n",
              "JD        1.17\n",
              "Name: Education, dtype: float64"
            ]
          },
          "metadata": {
            "tags": []
          },
          "execution_count": 22
        }
      ]
    },
    {
      "cell_type": "code",
      "metadata": {
        "colab": {
          "base_uri": "https://localhost:8080/",
          "height": 447
        },
        "id": "TNqlY7GEzK0E",
        "outputId": "97e22fe8-3506-4ab0-9950-1669515fa951"
      },
      "source": [
        "plt.pie(edu_act_cnt.values,radius = 2,labels=edu_act_cnt.keys().values,explode=(0,0,0.1,0.2,0.2),shadow=True,\n",
        "        autopct='%.1f%%',startangle = 90)\n",
        "plt.xlabel('\\n\\n\\n\\n\\n\\n\\n Highest Education of Active People ',fontweight = 'bold');"
      ],
      "execution_count": null,
      "outputs": [
        {
          "output_type": "display_data",
          "data": {
            "image/png": "[encoded data removed]",
            "text/plain": [
              "<Figure size 432x288 with 1 Axes>"
            ]
          },
          "metadata": {
            "tags": []
          }
        }
      ]
    },
    {
      "cell_type": "code",
      "metadata": {
        "colab": {
          "base_uri": "https://localhost:8080/"
        },
        "id": "XCHngVpTzRWn",
        "outputId": "170d3771-a46f-4a6f-f30f-b2da443be8ad"
      },
      "source": [
        "rtng_act_cnt = np.round(actv_count['Rating'].value_counts(normalize = True)*100,1)\n",
        "rtng_act_cnt"
      ],
      "execution_count": null,
      "outputs": [
        {
          "output_type": "execute_result",
          "data": {
            "text/plain": [
              "Above Target                  47.8\n",
              "At Target                     41.3\n",
              "Below Target                   5.6\n",
              "Significantly Above Target     5.2\n",
              "Significantly Below Target     0.1\n",
              "Name: Rating, dtype: float64"
            ]
          },
          "metadata": {
            "tags": []
          },
          "execution_count": 24
        }
      ]
    },
    {
      "cell_type": "code",
      "metadata": {
        "colab": {
          "base_uri": "https://localhost:8080/",
          "height": 411
        },
        "id": "8EbPXaXV1dDS",
        "outputId": "1e40d609-ea23-4fd6-ba1d-4d3f3c11240f"
      },
      "source": [
        "plt.pie(rtng_act_cnt.values,radius = 2,labels=rtng_act_cnt.keys().values,explode=(0,0,0.1,0.2,0.3),shadow=True,\n",
        "        autopct='%.1f%%',startangle = 50)\n",
        "plt.xlabel('\\n\\n\\n\\n\\n\\n\\n Rating of Active People ',fontweight = 'bold');"
      ],
      "execution_count": null,
      "outputs": [
        {
          "output_type": "display_data",
          "data": {
            "image/png": "[encoded data removed]",
            "text/plain": [
              "<Figure size 432x288 with 1 Axes>"
            ]
          },
          "metadata": {
            "tags": []
          }
        }
      ]
    },
    {
      "cell_type": "code",
      "metadata": {
        "colab": {
          "base_uri": "https://localhost:8080/"
        },
        "id": "BNpe57bZ1r2S",
        "outputId": "8377057f-3cf5-4c69-e1e9-63a6ae424b19"
      },
      "source": [
        "prmt_cnt = actv_count['Promoted'].value_counts()\n",
        "prmt_cnt"
      ],
      "execution_count": null,
      "outputs": [
        {
          "output_type": "execute_result",
          "data": {
            "text/plain": [
              "No     4054\n",
              "Yes     965\n",
              "Name: Promoted, dtype: int64"
            ]
          },
          "metadata": {
            "tags": []
          },
          "execution_count": 26
        }
      ]
    },
    {
      "cell_type": "code",
      "metadata": {
        "colab": {
          "base_uri": "https://localhost:8080/",
          "height": 410
        },
        "id": "ea8Z07Ow6ed8",
        "outputId": "7ed44b03-33d4-4db2-ed32-dab21bc5cf5b"
      },
      "source": [
        "plt.pie(prmt_cnt.values,radius = 2,labels=prmt_cnt.keys().values,explode=(0,0.1),shadow=True,\n",
        "        autopct='%.1f%%',startangle = 50)\n",
        "plt.xlabel('\\n\\n\\n\\n\\n\\n\\n Promation of Active People ',fontweight = 'bold');"
      ],
      "execution_count": null,
      "outputs": [
        {
          "output_type": "display_data",
          "data": {
            "image/png": "[encoded data removed]",
            "text/plain": [
              "<Figure size 432x288 with 1 Axes>"
            ]
          },
          "metadata": {
            "tags": []
          }
        }
      ]
    },
    {
      "cell_type": "markdown",
      "metadata": {
        "id": "r_Q1lPj15vUp"
      },
      "source": [
        "Terminted people\n",
        "\n",
        "---\n",
        "\n"
      ]
    },
    {
      "cell_type": "code",
      "metadata": {
        "colab": {
          "base_uri": "https://localhost:8080/"
        },
        "id": "eUUtLa70h_Lz",
        "outputId": "492926b6-0cf6-4032-ed9b-46b8df2a4287"
      },
      "source": [
        "crlvl_ter_cnt = np.round(termin_count['Career Level'].value_counts(normalize = True)*100,1)[[1,2,3,4,5,6]]\n",
        "crlvl_ter_cnt"
      ],
      "execution_count": null,
      "outputs": [
        {
          "output_type": "execute_result",
          "data": {
            "text/plain": [
              "1    33.1\n",
              "2    27.0\n",
              "3    22.8\n",
              "4    10.8\n",
              "5     4.4\n",
              "6     2.0\n",
              "Name: Career Level, dtype: float64"
            ]
          },
          "metadata": {
            "tags": []
          },
          "execution_count": 28
        }
      ]
    },
    {
      "cell_type": "code",
      "metadata": {
        "colab": {
          "base_uri": "https://localhost:8080/",
          "height": 457
        },
        "id": "dp9_Z4CMiknh",
        "outputId": "95f0ecfb-b8d1-4786-e114-b002f8b12456"
      },
      "source": [
        "plt.figure(figsize=(18,7))\n",
        "plt.bar(crlvl_ter_cnt.keys().values,crlvl_ter_cnt,color = 'yellow',width = 0.5)\n",
        "plt.xlabel('Career Level',fontweight = 'bold')\n",
        "plt.ylabel('Percentage of People',fontweight = 'bold')\n",
        "plt.title('Terminated people according to their carrer level');"
      ],
      "execution_count": null,
      "outputs": [
        {
          "output_type": "display_data",
          "data": {
            "image/png": "[encoded data removed]",
            "text/plain": [
              "<Figure size 1296x504 with 1 Axes>"
            ]
          },
          "metadata": {
            "tags": [],
            "needs_background": "light"
          }
        }
      ]
    },
    {
      "cell_type": "code",
      "metadata": {
        "colab": {
          "base_uri": "https://localhost:8080/"
        },
        "id": "xmzMonSijMCC",
        "outputId": "a2d46bec-bae8-4920-af6d-b8365c015968"
      },
      "source": [
        "agegrp_ter_cnt = np.round(termin_count['Age Group'].value_counts(normalize = True)*100,2)\n",
        "agegrp_ter_cnt"
      ],
      "execution_count": null,
      "outputs": [
        {
          "output_type": "execute_result",
          "data": {
            "text/plain": [
              "21-30       74.51\n",
              "31-40       20.59\n",
              "41-50        2.94\n",
              "51-60        1.72\n",
              "Above 61     0.25\n",
              "Name: Age Group, dtype: float64"
            ]
          },
          "metadata": {
            "tags": []
          },
          "execution_count": 30
        }
      ]
    },
    {
      "cell_type": "code",
      "metadata": {
        "colab": {
          "base_uri": "https://localhost:8080/",
          "height": 404
        },
        "id": "cWu1SlzzibJe",
        "outputId": "d4ecac75-712b-4e95-bd30-a1fc8eee5d39"
      },
      "source": [
        "plt.figure(figsize=(12,6))\n",
        "plt.bar(agegrp_ter_cnt.keys().values,agegrp_ter_cnt,color = 'yellow',width = 0.5)\n",
        "plt.xlabel('Age Group', fontweight = 'bold')\n",
        "plt.ylabel('Percentage of People', fontweight = 'bold')\n",
        "plt.title('Age Group varries in Terminated People');"
      ],
      "execution_count": null,
      "outputs": [
        {
          "output_type": "display_data",
          "data": {
            "image/png": "[encoded data removed]",
            "text/plain": [
              "<Figure size 864x432 with 1 Axes>"
            ]
          },
          "metadata": {
            "tags": [],
            "needs_background": "light"
          }
        }
      ]
    },
    {
      "cell_type": "code",
      "metadata": {
        "colab": {
          "base_uri": "https://localhost:8080/"
        },
        "id": "mzh3ye47-HcH",
        "outputId": "501318aa-cc5e-4d55-9046-a8eaf599c3df"
      },
      "source": [
        "edu_ter_cnt = np.round(termin_count['Education'].value_counts(normalize = True)*100,2)\n",
        "edu_ter_cnt"
      ],
      "execution_count": null,
      "outputs": [
        {
          "output_type": "execute_result",
          "data": {
            "text/plain": [
              "BA/BS    70.83\n",
              "MA/MS    15.69\n",
              "MBA      12.50\n",
              "PhD       0.74\n",
              "JD        0.25\n",
              "Name: Education, dtype: float64"
            ]
          },
          "metadata": {
            "tags": []
          },
          "execution_count": 32
        }
      ]
    },
    {
      "cell_type": "code",
      "metadata": {
        "colab": {
          "base_uri": "https://localhost:8080/",
          "height": 423
        },
        "id": "yeJXXqgk-TVa",
        "outputId": "8293a6e5-4669-45f5-c9e7-83680a4a7cc5"
      },
      "source": [
        "plt.pie(edu_ter_cnt.values,radius = 2,labels=edu_ter_cnt.keys().values,explode=(0,0,0.1,0.2,0.7),shadow=True,\n",
        "        autopct='%.1f%%',startangle = 200)\n",
        "plt.xlabel('\\n\\n\\n\\n\\n\\n\\n\\n Highest Education of Active People ',fontweight = 'bold');"
      ],
      "execution_count": null,
      "outputs": [
        {
          "output_type": "display_data",
          "data": {
            "image/png": "[encoded data removed]",
            "text/plain": [
              "<Figure size 432x288 with 1 Axes>"
            ]
          },
          "metadata": {
            "tags": []
          }
        }
      ]
    },
    {
      "cell_type": "code",
      "metadata": {
        "colab": {
          "base_uri": "https://localhost:8080/"
        },
        "id": "HPH2ICsw-eJQ",
        "outputId": "e960cad6-1c1d-4034-a1d4-50a28180e15e"
      },
      "source": [
        "rtng_ter_cnt = np.round(termin_count['Rating'].value_counts(normalize = True)*100,1)\n",
        "rtng_ter_cnt"
      ],
      "execution_count": null,
      "outputs": [
        {
          "output_type": "execute_result",
          "data": {
            "text/plain": [
              "Above Target                  43.4\n",
              "At Target                     32.4\n",
              "Significantly Above Target    12.3\n",
              "Below Target                  10.0\n",
              "Significantly Below Target     2.0\n",
              "Name: Rating, dtype: float64"
            ]
          },
          "metadata": {
            "tags": []
          },
          "execution_count": 34
        }
      ]
    },
    {
      "cell_type": "code",
      "metadata": {
        "colab": {
          "base_uri": "https://localhost:8080/",
          "height": 433
        },
        "id": "Z1KagAfk_O2l",
        "outputId": "22f3e8ac-3eb0-4dde-d04d-95db722ac0db"
      },
      "source": [
        "plt.pie(rtng_ter_cnt.values,radius = 2,labels=rtng_ter_cnt.keys().values,explode=(0,0,0.1,0.2,0.3),shadow=True,\n",
        "        autopct='%.1f%%',startangle = 50)\n",
        "plt.xlabel('\\n\\n\\n\\n\\n\\n\\n\\n\\n Rating of Active People ',fontweight = 'bold');"
      ],
      "execution_count": null,
      "outputs": [
        {
          "output_type": "display_data",
          "data": {
            "image/png": "[encoded data removed]",
            "text/plain": [
              "<Figure size 432x288 with 1 Axes>"
            ]
          },
          "metadata": {
            "tags": []
          }
        }
      ]
    },
    {
      "cell_type": "code",
      "metadata": {
        "colab": {
          "base_uri": "https://localhost:8080/"
        },
        "id": "dWrPA021_XuO",
        "outputId": "1a196abc-6edd-4785-9a2a-f3ad6d11995a"
      },
      "source": [
        "tertyp_cnt = termin_count['Termination Type'].value_counts()\n",
        "tertyp_cnt"
      ],
      "execution_count": null,
      "outputs": [
        {
          "output_type": "execute_result",
          "data": {
            "text/plain": [
              "Voluntary Exit      323\n",
              "Involuntary Exit     85\n",
              "Name: Termination Type, dtype: int64"
            ]
          },
          "metadata": {
            "tags": []
          },
          "execution_count": 36
        }
      ]
    },
    {
      "cell_type": "code",
      "metadata": {
        "colab": {
          "base_uri": "https://localhost:8080/",
          "height": 432
        },
        "id": "ZmDwa6HbNXAy",
        "outputId": "22defab9-2b9b-4a35-a39d-ac7e2e3c6361"
      },
      "source": [
        "plt.pie(tertyp_cnt.values,radius = 2,labels=tertyp_cnt.keys().values,explode=(0,0.2),shadow=True,\n",
        "        autopct='%.1f%%')\n",
        "plt.xlabel('\\n\\n\\n\\n\\n\\n\\n\\n\\n Termination Type',fontweight = 'bold');"
      ],
      "execution_count": null,
      "outputs": [
        {
          "output_type": "display_data",
          "data": {
            "image/png": "[encoded data removed]",
            "text/plain": [
              "<Figure size 432x288 with 1 Axes>"
            ]
          },
          "metadata": {
            "tags": []
          }
        }
      ]
    },
    {
      "cell_type": "code",
      "metadata": {
        "id": "ut7MwMsvUDRi"
      },
      "source": [
        ""
      ],
      "execution_count": null,
      "outputs": []
    },
    {
      "cell_type": "code",
      "metadata": {
        "colab": {
          "base_uri": "https://localhost:8080/",
          "height": 314
        },
        "id": "2-HpNiIUTuZI",
        "outputId": "9814a96b-91df-4c29-e4c9-5bfdff39a8bc"
      },
      "source": [
        "u1.head()"
      ],
      "execution_count": null,
      "outputs": [
        {
          "output_type": "execute_result",
          "data": {
            "text/html": [
              "<div>\n",
              "<style scoped>\n",
              "    .dataframe tbody tr th:only-of-type {\n",
              "        vertical-align: middle;\n",
              "    }\n",
              "\n",
              "    .dataframe tbody tr th {\n",
              "        vertical-align: top;\n",
              "    }\n",
              "\n",
              "    .dataframe thead th {\n",
              "        text-align: right;\n",
              "    }\n",
              "</style>\n",
              "<table border=\"1\" class=\"dataframe\">\n",
              "  <thead>\n",
              "    <tr style=\"text-align: right;\">\n",
              "      <th></th>\n",
              "      <th>Employee ID</th>\n",
              "      <th>Data Effective Date</th>\n",
              "      <th>Employee Status</th>\n",
              "      <th>Career Level</th>\n",
              "      <th>Hired Date</th>\n",
              "      <th>Hired in FY</th>\n",
              "      <th>Termination Date</th>\n",
              "      <th>Terminated</th>\n",
              "      <th>Termination Type</th>\n",
              "      <th>Job Start Date</th>\n",
              "      <th>Promoted</th>\n",
              "      <th>Birth Date</th>\n",
              "      <th>Age</th>\n",
              "      <th>Tenure</th>\n",
              "      <th>Time in Job</th>\n",
              "      <th>Rating</th>\n",
              "      <th>Education</th>\n",
              "      <th>Age Group</th>\n",
              "    </tr>\n",
              "  </thead>\n",
              "  <tbody>\n",
              "    <tr>\n",
              "      <th>0</th>\n",
              "      <td>A0001</td>\n",
              "      <td>2016-12-31</td>\n",
              "      <td>Active</td>\n",
              "      <td>1</td>\n",
              "      <td>2016-12-09</td>\n",
              "      <td>Yes</td>\n",
              "      <td>NaT</td>\n",
              "      <td>No</td>\n",
              "      <td>NaN</td>\n",
              "      <td>2016-12-09</td>\n",
              "      <td>NaN</td>\n",
              "      <td>1992-09-21</td>\n",
              "      <td>24</td>\n",
              "      <td>0</td>\n",
              "      <td>0</td>\n",
              "      <td>At Target</td>\n",
              "      <td>BA/BS</td>\n",
              "      <td>21-30</td>\n",
              "    </tr>\n",
              "    <tr>\n",
              "      <th>1</th>\n",
              "      <td>A0002</td>\n",
              "      <td>2016-12-31</td>\n",
              "      <td>Active</td>\n",
              "      <td>1</td>\n",
              "      <td>2016-04-19</td>\n",
              "      <td>Yes</td>\n",
              "      <td>NaT</td>\n",
              "      <td>No</td>\n",
              "      <td>NaN</td>\n",
              "      <td>2016-04-19</td>\n",
              "      <td>NaN</td>\n",
              "      <td>1993-11-16</td>\n",
              "      <td>23</td>\n",
              "      <td>0</td>\n",
              "      <td>0</td>\n",
              "      <td>At Target</td>\n",
              "      <td>BA/BS</td>\n",
              "      <td>21-30</td>\n",
              "    </tr>\n",
              "    <tr>\n",
              "      <th>2</th>\n",
              "      <td>A0003</td>\n",
              "      <td>2016-12-31</td>\n",
              "      <td>Active</td>\n",
              "      <td>1</td>\n",
              "      <td>2016-03-14</td>\n",
              "      <td>Yes</td>\n",
              "      <td>NaT</td>\n",
              "      <td>No</td>\n",
              "      <td>NaN</td>\n",
              "      <td>2016-03-14</td>\n",
              "      <td>NaN</td>\n",
              "      <td>1993-11-26</td>\n",
              "      <td>23</td>\n",
              "      <td>0</td>\n",
              "      <td>0</td>\n",
              "      <td>At Target</td>\n",
              "      <td>MA/MS</td>\n",
              "      <td>21-30</td>\n",
              "    </tr>\n",
              "    <tr>\n",
              "      <th>3</th>\n",
              "      <td>A0004</td>\n",
              "      <td>2016-12-31</td>\n",
              "      <td>Active</td>\n",
              "      <td>1</td>\n",
              "      <td>2016-12-09</td>\n",
              "      <td>Yes</td>\n",
              "      <td>NaT</td>\n",
              "      <td>No</td>\n",
              "      <td>NaN</td>\n",
              "      <td>2016-12-09</td>\n",
              "      <td>NaN</td>\n",
              "      <td>1993-03-28</td>\n",
              "      <td>23</td>\n",
              "      <td>0</td>\n",
              "      <td>0</td>\n",
              "      <td>At Target</td>\n",
              "      <td>BA/BS</td>\n",
              "      <td>21-30</td>\n",
              "    </tr>\n",
              "    <tr>\n",
              "      <th>4</th>\n",
              "      <td>A0005</td>\n",
              "      <td>2016-12-31</td>\n",
              "      <td>Active</td>\n",
              "      <td>1</td>\n",
              "      <td>2016-04-19</td>\n",
              "      <td>Yes</td>\n",
              "      <td>NaT</td>\n",
              "      <td>No</td>\n",
              "      <td>NaN</td>\n",
              "      <td>2016-04-19</td>\n",
              "      <td>NaN</td>\n",
              "      <td>1992-01-09</td>\n",
              "      <td>24</td>\n",
              "      <td>0</td>\n",
              "      <td>0</td>\n",
              "      <td>At Target</td>\n",
              "      <td>BA/BS</td>\n",
              "      <td>21-30</td>\n",
              "    </tr>\n",
              "  </tbody>\n",
              "</table>\n",
              "</div>"
            ],
            "text/plain": [
              "  Employee ID Data Effective Date  ... Education  Age Group\n",
              "0       A0001          2016-12-31  ...     BA/BS      21-30\n",
              "1       A0002          2016-12-31  ...     BA/BS      21-30\n",
              "2       A0003          2016-12-31  ...     MA/MS      21-30\n",
              "3       A0004          2016-12-31  ...     BA/BS      21-30\n",
              "4       A0005          2016-12-31  ...     BA/BS      21-30\n",
              "\n",
              "[5 rows x 18 columns]"
            ]
          },
          "metadata": {
            "tags": []
          },
          "execution_count": 38
        }
      ]
    },
    {
      "cell_type": "markdown",
      "metadata": {
        "id": "Y-GUrS20UrSW"
      },
      "source": [
        "Mix data\n",
        "\n",
        "---\n",
        "\n"
      ]
    },
    {
      "cell_type": "code",
      "metadata": {
        "colab": {
          "base_uri": "https://localhost:8080/",
          "height": 406
        },
        "id": "v-CglVkOYMZU",
        "outputId": "5b1bc170-aa41-4551-ab77-0001da12cb01"
      },
      "source": [
        "u1[['Tenure','Time in Job']]"
      ],
      "execution_count": null,
      "outputs": [
        {
          "output_type": "execute_result",
          "data": {
            "text/html": [
              "<div>\n",
              "<style scoped>\n",
              "    .dataframe tbody tr th:only-of-type {\n",
              "        vertical-align: middle;\n",
              "    }\n",
              "\n",
              "    .dataframe tbody tr th {\n",
              "        vertical-align: top;\n",
              "    }\n",
              "\n",
              "    .dataframe thead th {\n",
              "        text-align: right;\n",
              "    }\n",
              "</style>\n",
              "<table border=\"1\" class=\"dataframe\">\n",
              "  <thead>\n",
              "    <tr style=\"text-align: right;\">\n",
              "      <th></th>\n",
              "      <th>Tenure</th>\n",
              "      <th>Time in Job</th>\n",
              "    </tr>\n",
              "  </thead>\n",
              "  <tbody>\n",
              "    <tr>\n",
              "      <th>0</th>\n",
              "      <td>0</td>\n",
              "      <td>0</td>\n",
              "    </tr>\n",
              "    <tr>\n",
              "      <th>1</th>\n",
              "      <td>0</td>\n",
              "      <td>0</td>\n",
              "    </tr>\n",
              "    <tr>\n",
              "      <th>2</th>\n",
              "      <td>0</td>\n",
              "      <td>0</td>\n",
              "    </tr>\n",
              "    <tr>\n",
              "      <th>3</th>\n",
              "      <td>0</td>\n",
              "      <td>0</td>\n",
              "    </tr>\n",
              "    <tr>\n",
              "      <th>4</th>\n",
              "      <td>0</td>\n",
              "      <td>0</td>\n",
              "    </tr>\n",
              "    <tr>\n",
              "      <th>...</th>\n",
              "      <td>...</td>\n",
              "      <td>...</td>\n",
              "    </tr>\n",
              "    <tr>\n",
              "      <th>6323</th>\n",
              "      <td>35</td>\n",
              "      <td>12</td>\n",
              "    </tr>\n",
              "    <tr>\n",
              "      <th>6324</th>\n",
              "      <td>36</td>\n",
              "      <td>11</td>\n",
              "    </tr>\n",
              "    <tr>\n",
              "      <th>6325</th>\n",
              "      <td>25</td>\n",
              "      <td>11</td>\n",
              "    </tr>\n",
              "    <tr>\n",
              "      <th>6326</th>\n",
              "      <td>36</td>\n",
              "      <td>12</td>\n",
              "    </tr>\n",
              "    <tr>\n",
              "      <th>6327</th>\n",
              "      <td>31</td>\n",
              "      <td>12</td>\n",
              "    </tr>\n",
              "  </tbody>\n",
              "</table>\n",
              "<p>6326 rows × 2 columns</p>\n",
              "</div>"
            ],
            "text/plain": [
              "      Tenure  Time in Job\n",
              "0          0            0\n",
              "1          0            0\n",
              "2          0            0\n",
              "3          0            0\n",
              "4          0            0\n",
              "...      ...          ...\n",
              "6323      35           12\n",
              "6324      36           11\n",
              "6325      25           11\n",
              "6326      36           12\n",
              "6327      31           12\n",
              "\n",
              "[6326 rows x 2 columns]"
            ]
          },
          "metadata": {
            "tags": []
          },
          "execution_count": 39
        }
      ]
    },
    {
      "cell_type": "code",
      "metadata": {
        "colab": {
          "base_uri": "https://localhost:8080/",
          "height": 1000
        },
        "id": "ItWumsxEUvHB",
        "outputId": "a6dac2e0-5d00-4b6e-adee-7d608091ad11"
      },
      "source": [
        "prcnt = lambda x : np.round(x/x.sum() * 100)\n",
        "tm_dif_cnt = u1.groupby(['Tenure','Time in Job'])['Tenure'].count().unstack().apply(prcnt,axis = 1)\n",
        "tm_dif_cnt"
      ],
      "execution_count": null,
      "outputs": [
        {
          "output_type": "execute_result",
          "data": {
            "text/html": [
              "<div>\n",
              "<style scoped>\n",
              "    .dataframe tbody tr th:only-of-type {\n",
              "        vertical-align: middle;\n",
              "    }\n",
              "\n",
              "    .dataframe tbody tr th {\n",
              "        vertical-align: top;\n",
              "    }\n",
              "\n",
              "    .dataframe thead th {\n",
              "        text-align: right;\n",
              "    }\n",
              "</style>\n",
              "<table border=\"1\" class=\"dataframe\">\n",
              "  <thead>\n",
              "    <tr style=\"text-align: right;\">\n",
              "      <th>Time in Job</th>\n",
              "      <th>0</th>\n",
              "      <th>1</th>\n",
              "      <th>2</th>\n",
              "      <th>3</th>\n",
              "      <th>4</th>\n",
              "      <th>5</th>\n",
              "      <th>6</th>\n",
              "      <th>7</th>\n",
              "      <th>8</th>\n",
              "      <th>9</th>\n",
              "      <th>10</th>\n",
              "      <th>11</th>\n",
              "      <th>12</th>\n",
              "    </tr>\n",
              "    <tr>\n",
              "      <th>Tenure</th>\n",
              "      <th></th>\n",
              "      <th></th>\n",
              "      <th></th>\n",
              "      <th></th>\n",
              "      <th></th>\n",
              "      <th></th>\n",
              "      <th></th>\n",
              "      <th></th>\n",
              "      <th></th>\n",
              "      <th></th>\n",
              "      <th></th>\n",
              "      <th></th>\n",
              "      <th></th>\n",
              "    </tr>\n",
              "  </thead>\n",
              "  <tbody>\n",
              "    <tr>\n",
              "      <th>0</th>\n",
              "      <td>100.0</td>\n",
              "      <td>NaN</td>\n",
              "      <td>NaN</td>\n",
              "      <td>NaN</td>\n",
              "      <td>NaN</td>\n",
              "      <td>NaN</td>\n",
              "      <td>NaN</td>\n",
              "      <td>NaN</td>\n",
              "      <td>NaN</td>\n",
              "      <td>NaN</td>\n",
              "      <td>NaN</td>\n",
              "      <td>NaN</td>\n",
              "      <td>NaN</td>\n",
              "    </tr>\n",
              "    <tr>\n",
              "      <th>1</th>\n",
              "      <td>NaN</td>\n",
              "      <td>100.0</td>\n",
              "      <td>NaN</td>\n",
              "      <td>NaN</td>\n",
              "      <td>NaN</td>\n",
              "      <td>NaN</td>\n",
              "      <td>NaN</td>\n",
              "      <td>NaN</td>\n",
              "      <td>NaN</td>\n",
              "      <td>NaN</td>\n",
              "      <td>NaN</td>\n",
              "      <td>NaN</td>\n",
              "      <td>NaN</td>\n",
              "    </tr>\n",
              "    <tr>\n",
              "      <th>2</th>\n",
              "      <td>NaN</td>\n",
              "      <td>NaN</td>\n",
              "      <td>100.0</td>\n",
              "      <td>NaN</td>\n",
              "      <td>NaN</td>\n",
              "      <td>NaN</td>\n",
              "      <td>NaN</td>\n",
              "      <td>NaN</td>\n",
              "      <td>NaN</td>\n",
              "      <td>NaN</td>\n",
              "      <td>NaN</td>\n",
              "      <td>NaN</td>\n",
              "      <td>NaN</td>\n",
              "    </tr>\n",
              "    <tr>\n",
              "      <th>3</th>\n",
              "      <td>9.0</td>\n",
              "      <td>5.0</td>\n",
              "      <td>4.0</td>\n",
              "      <td>82.0</td>\n",
              "      <td>NaN</td>\n",
              "      <td>NaN</td>\n",
              "      <td>NaN</td>\n",
              "      <td>NaN</td>\n",
              "      <td>NaN</td>\n",
              "      <td>NaN</td>\n",
              "      <td>NaN</td>\n",
              "      <td>NaN</td>\n",
              "      <td>NaN</td>\n",
              "    </tr>\n",
              "    <tr>\n",
              "      <th>4</th>\n",
              "      <td>43.0</td>\n",
              "      <td>20.0</td>\n",
              "      <td>23.0</td>\n",
              "      <td>9.0</td>\n",
              "      <td>5.0</td>\n",
              "      <td>NaN</td>\n",
              "      <td>NaN</td>\n",
              "      <td>NaN</td>\n",
              "      <td>NaN</td>\n",
              "      <td>NaN</td>\n",
              "      <td>NaN</td>\n",
              "      <td>NaN</td>\n",
              "      <td>NaN</td>\n",
              "    </tr>\n",
              "    <tr>\n",
              "      <th>5</th>\n",
              "      <td>42.0</td>\n",
              "      <td>22.0</td>\n",
              "      <td>26.0</td>\n",
              "      <td>10.0</td>\n",
              "      <td>NaN</td>\n",
              "      <td>NaN</td>\n",
              "      <td>NaN</td>\n",
              "      <td>NaN</td>\n",
              "      <td>NaN</td>\n",
              "      <td>NaN</td>\n",
              "      <td>NaN</td>\n",
              "      <td>NaN</td>\n",
              "      <td>NaN</td>\n",
              "    </tr>\n",
              "    <tr>\n",
              "      <th>6</th>\n",
              "      <td>34.0</td>\n",
              "      <td>11.0</td>\n",
              "      <td>13.0</td>\n",
              "      <td>24.0</td>\n",
              "      <td>15.0</td>\n",
              "      <td>2.0</td>\n",
              "      <td>NaN</td>\n",
              "      <td>NaN</td>\n",
              "      <td>NaN</td>\n",
              "      <td>NaN</td>\n",
              "      <td>NaN</td>\n",
              "      <td>NaN</td>\n",
              "      <td>NaN</td>\n",
              "    </tr>\n",
              "    <tr>\n",
              "      <th>7</th>\n",
              "      <td>24.0</td>\n",
              "      <td>1.0</td>\n",
              "      <td>9.0</td>\n",
              "      <td>27.0</td>\n",
              "      <td>30.0</td>\n",
              "      <td>10.0</td>\n",
              "      <td>NaN</td>\n",
              "      <td>NaN</td>\n",
              "      <td>NaN</td>\n",
              "      <td>NaN</td>\n",
              "      <td>NaN</td>\n",
              "      <td>NaN</td>\n",
              "      <td>NaN</td>\n",
              "    </tr>\n",
              "    <tr>\n",
              "      <th>8</th>\n",
              "      <td>22.0</td>\n",
              "      <td>NaN</td>\n",
              "      <td>7.0</td>\n",
              "      <td>25.0</td>\n",
              "      <td>31.0</td>\n",
              "      <td>10.0</td>\n",
              "      <td>3.0</td>\n",
              "      <td>1.0</td>\n",
              "      <td>NaN</td>\n",
              "      <td>NaN</td>\n",
              "      <td>NaN</td>\n",
              "      <td>NaN</td>\n",
              "      <td>NaN</td>\n",
              "    </tr>\n",
              "    <tr>\n",
              "      <th>9</th>\n",
              "      <td>18.0</td>\n",
              "      <td>NaN</td>\n",
              "      <td>5.0</td>\n",
              "      <td>16.0</td>\n",
              "      <td>25.0</td>\n",
              "      <td>16.0</td>\n",
              "      <td>11.0</td>\n",
              "      <td>8.0</td>\n",
              "      <td>NaN</td>\n",
              "      <td>NaN</td>\n",
              "      <td>NaN</td>\n",
              "      <td>NaN</td>\n",
              "      <td>NaN</td>\n",
              "    </tr>\n",
              "    <tr>\n",
              "      <th>10</th>\n",
              "      <td>19.0</td>\n",
              "      <td>NaN</td>\n",
              "      <td>NaN</td>\n",
              "      <td>NaN</td>\n",
              "      <td>12.0</td>\n",
              "      <td>32.0</td>\n",
              "      <td>28.0</td>\n",
              "      <td>9.0</td>\n",
              "      <td>NaN</td>\n",
              "      <td>NaN</td>\n",
              "      <td>NaN</td>\n",
              "      <td>NaN</td>\n",
              "      <td>NaN</td>\n",
              "    </tr>\n",
              "    <tr>\n",
              "      <th>11</th>\n",
              "      <td>18.0</td>\n",
              "      <td>NaN</td>\n",
              "      <td>NaN</td>\n",
              "      <td>NaN</td>\n",
              "      <td>12.0</td>\n",
              "      <td>29.0</td>\n",
              "      <td>28.0</td>\n",
              "      <td>14.0</td>\n",
              "      <td>NaN</td>\n",
              "      <td>NaN</td>\n",
              "      <td>NaN</td>\n",
              "      <td>NaN</td>\n",
              "      <td>NaN</td>\n",
              "    </tr>\n",
              "    <tr>\n",
              "      <th>12</th>\n",
              "      <td>18.0</td>\n",
              "      <td>NaN</td>\n",
              "      <td>NaN</td>\n",
              "      <td>NaN</td>\n",
              "      <td>12.0</td>\n",
              "      <td>30.0</td>\n",
              "      <td>28.0</td>\n",
              "      <td>12.0</td>\n",
              "      <td>NaN</td>\n",
              "      <td>NaN</td>\n",
              "      <td>NaN</td>\n",
              "      <td>NaN</td>\n",
              "      <td>NaN</td>\n",
              "    </tr>\n",
              "    <tr>\n",
              "      <th>13</th>\n",
              "      <td>13.0</td>\n",
              "      <td>NaN</td>\n",
              "      <td>NaN</td>\n",
              "      <td>NaN</td>\n",
              "      <td>8.0</td>\n",
              "      <td>28.0</td>\n",
              "      <td>21.0</td>\n",
              "      <td>18.0</td>\n",
              "      <td>11.0</td>\n",
              "      <td>2.0</td>\n",
              "      <td>NaN</td>\n",
              "      <td>NaN</td>\n",
              "      <td>NaN</td>\n",
              "    </tr>\n",
              "    <tr>\n",
              "      <th>14</th>\n",
              "      <td>5.0</td>\n",
              "      <td>NaN</td>\n",
              "      <td>NaN</td>\n",
              "      <td>NaN</td>\n",
              "      <td>5.0</td>\n",
              "      <td>24.0</td>\n",
              "      <td>25.0</td>\n",
              "      <td>24.0</td>\n",
              "      <td>13.0</td>\n",
              "      <td>4.0</td>\n",
              "      <td>NaN</td>\n",
              "      <td>NaN</td>\n",
              "      <td>NaN</td>\n",
              "    </tr>\n",
              "    <tr>\n",
              "      <th>15</th>\n",
              "      <td>13.0</td>\n",
              "      <td>NaN</td>\n",
              "      <td>NaN</td>\n",
              "      <td>NaN</td>\n",
              "      <td>3.0</td>\n",
              "      <td>6.0</td>\n",
              "      <td>18.0</td>\n",
              "      <td>28.0</td>\n",
              "      <td>25.0</td>\n",
              "      <td>6.0</td>\n",
              "      <td>NaN</td>\n",
              "      <td>NaN</td>\n",
              "      <td>NaN</td>\n",
              "    </tr>\n",
              "    <tr>\n",
              "      <th>16</th>\n",
              "      <td>13.0</td>\n",
              "      <td>NaN</td>\n",
              "      <td>NaN</td>\n",
              "      <td>NaN</td>\n",
              "      <td>NaN</td>\n",
              "      <td>NaN</td>\n",
              "      <td>6.0</td>\n",
              "      <td>30.0</td>\n",
              "      <td>40.0</td>\n",
              "      <td>10.0</td>\n",
              "      <td>NaN</td>\n",
              "      <td>NaN</td>\n",
              "      <td>NaN</td>\n",
              "    </tr>\n",
              "    <tr>\n",
              "      <th>17</th>\n",
              "      <td>14.0</td>\n",
              "      <td>NaN</td>\n",
              "      <td>NaN</td>\n",
              "      <td>NaN</td>\n",
              "      <td>NaN</td>\n",
              "      <td>NaN</td>\n",
              "      <td>12.0</td>\n",
              "      <td>35.0</td>\n",
              "      <td>35.0</td>\n",
              "      <td>5.0</td>\n",
              "      <td>NaN</td>\n",
              "      <td>NaN</td>\n",
              "      <td>NaN</td>\n",
              "    </tr>\n",
              "    <tr>\n",
              "      <th>18</th>\n",
              "      <td>14.0</td>\n",
              "      <td>NaN</td>\n",
              "      <td>NaN</td>\n",
              "      <td>NaN</td>\n",
              "      <td>NaN</td>\n",
              "      <td>NaN</td>\n",
              "      <td>8.0</td>\n",
              "      <td>40.0</td>\n",
              "      <td>32.0</td>\n",
              "      <td>6.0</td>\n",
              "      <td>NaN</td>\n",
              "      <td>NaN</td>\n",
              "      <td>NaN</td>\n",
              "    </tr>\n",
              "    <tr>\n",
              "      <th>19</th>\n",
              "      <td>14.0</td>\n",
              "      <td>NaN</td>\n",
              "      <td>NaN</td>\n",
              "      <td>NaN</td>\n",
              "      <td>NaN</td>\n",
              "      <td>NaN</td>\n",
              "      <td>7.0</td>\n",
              "      <td>28.0</td>\n",
              "      <td>40.0</td>\n",
              "      <td>12.0</td>\n",
              "      <td>NaN</td>\n",
              "      <td>NaN</td>\n",
              "      <td>NaN</td>\n",
              "    </tr>\n",
              "    <tr>\n",
              "      <th>20</th>\n",
              "      <td>16.0</td>\n",
              "      <td>NaN</td>\n",
              "      <td>NaN</td>\n",
              "      <td>NaN</td>\n",
              "      <td>NaN</td>\n",
              "      <td>NaN</td>\n",
              "      <td>6.0</td>\n",
              "      <td>34.0</td>\n",
              "      <td>36.0</td>\n",
              "      <td>7.0</td>\n",
              "      <td>NaN</td>\n",
              "      <td>NaN</td>\n",
              "      <td>NaN</td>\n",
              "    </tr>\n",
              "    <tr>\n",
              "      <th>21</th>\n",
              "      <td>9.0</td>\n",
              "      <td>NaN</td>\n",
              "      <td>NaN</td>\n",
              "      <td>NaN</td>\n",
              "      <td>NaN</td>\n",
              "      <td>NaN</td>\n",
              "      <td>13.0</td>\n",
              "      <td>29.0</td>\n",
              "      <td>31.0</td>\n",
              "      <td>15.0</td>\n",
              "      <td>3.0</td>\n",
              "      <td>NaN</td>\n",
              "      <td>NaN</td>\n",
              "    </tr>\n",
              "    <tr>\n",
              "      <th>22</th>\n",
              "      <td>6.0</td>\n",
              "      <td>NaN</td>\n",
              "      <td>NaN</td>\n",
              "      <td>NaN</td>\n",
              "      <td>NaN</td>\n",
              "      <td>NaN</td>\n",
              "      <td>8.0</td>\n",
              "      <td>10.0</td>\n",
              "      <td>26.0</td>\n",
              "      <td>24.0</td>\n",
              "      <td>15.0</td>\n",
              "      <td>12.0</td>\n",
              "      <td>NaN</td>\n",
              "    </tr>\n",
              "    <tr>\n",
              "      <th>23</th>\n",
              "      <td>6.0</td>\n",
              "      <td>NaN</td>\n",
              "      <td>NaN</td>\n",
              "      <td>NaN</td>\n",
              "      <td>NaN</td>\n",
              "      <td>NaN</td>\n",
              "      <td>NaN</td>\n",
              "      <td>NaN</td>\n",
              "      <td>20.0</td>\n",
              "      <td>35.0</td>\n",
              "      <td>33.0</td>\n",
              "      <td>6.0</td>\n",
              "      <td>NaN</td>\n",
              "    </tr>\n",
              "    <tr>\n",
              "      <th>24</th>\n",
              "      <td>7.0</td>\n",
              "      <td>NaN</td>\n",
              "      <td>NaN</td>\n",
              "      <td>NaN</td>\n",
              "      <td>NaN</td>\n",
              "      <td>NaN</td>\n",
              "      <td>NaN</td>\n",
              "      <td>NaN</td>\n",
              "      <td>13.0</td>\n",
              "      <td>41.0</td>\n",
              "      <td>28.0</td>\n",
              "      <td>11.0</td>\n",
              "      <td>NaN</td>\n",
              "    </tr>\n",
              "    <tr>\n",
              "      <th>25</th>\n",
              "      <td>8.0</td>\n",
              "      <td>NaN</td>\n",
              "      <td>NaN</td>\n",
              "      <td>NaN</td>\n",
              "      <td>NaN</td>\n",
              "      <td>NaN</td>\n",
              "      <td>NaN</td>\n",
              "      <td>NaN</td>\n",
              "      <td>10.0</td>\n",
              "      <td>24.0</td>\n",
              "      <td>45.0</td>\n",
              "      <td>13.0</td>\n",
              "      <td>NaN</td>\n",
              "    </tr>\n",
              "    <tr>\n",
              "      <th>26</th>\n",
              "      <td>5.0</td>\n",
              "      <td>NaN</td>\n",
              "      <td>NaN</td>\n",
              "      <td>NaN</td>\n",
              "      <td>NaN</td>\n",
              "      <td>NaN</td>\n",
              "      <td>NaN</td>\n",
              "      <td>NaN</td>\n",
              "      <td>25.0</td>\n",
              "      <td>31.0</td>\n",
              "      <td>28.0</td>\n",
              "      <td>11.0</td>\n",
              "      <td>NaN</td>\n",
              "    </tr>\n",
              "    <tr>\n",
              "      <th>27</th>\n",
              "      <td>4.0</td>\n",
              "      <td>NaN</td>\n",
              "      <td>NaN</td>\n",
              "      <td>NaN</td>\n",
              "      <td>NaN</td>\n",
              "      <td>NaN</td>\n",
              "      <td>NaN</td>\n",
              "      <td>NaN</td>\n",
              "      <td>9.0</td>\n",
              "      <td>38.0</td>\n",
              "      <td>32.0</td>\n",
              "      <td>18.0</td>\n",
              "      <td>NaN</td>\n",
              "    </tr>\n",
              "    <tr>\n",
              "      <th>28</th>\n",
              "      <td>2.0</td>\n",
              "      <td>NaN</td>\n",
              "      <td>NaN</td>\n",
              "      <td>NaN</td>\n",
              "      <td>NaN</td>\n",
              "      <td>NaN</td>\n",
              "      <td>NaN</td>\n",
              "      <td>NaN</td>\n",
              "      <td>11.0</td>\n",
              "      <td>35.0</td>\n",
              "      <td>32.0</td>\n",
              "      <td>19.0</td>\n",
              "      <td>NaN</td>\n",
              "    </tr>\n",
              "    <tr>\n",
              "      <th>29</th>\n",
              "      <td>6.0</td>\n",
              "      <td>NaN</td>\n",
              "      <td>NaN</td>\n",
              "      <td>NaN</td>\n",
              "      <td>NaN</td>\n",
              "      <td>NaN</td>\n",
              "      <td>NaN</td>\n",
              "      <td>NaN</td>\n",
              "      <td>16.0</td>\n",
              "      <td>32.0</td>\n",
              "      <td>32.0</td>\n",
              "      <td>13.0</td>\n",
              "      <td>NaN</td>\n",
              "    </tr>\n",
              "    <tr>\n",
              "      <th>30</th>\n",
              "      <td>13.0</td>\n",
              "      <td>NaN</td>\n",
              "      <td>NaN</td>\n",
              "      <td>NaN</td>\n",
              "      <td>NaN</td>\n",
              "      <td>NaN</td>\n",
              "      <td>NaN</td>\n",
              "      <td>NaN</td>\n",
              "      <td>17.0</td>\n",
              "      <td>35.0</td>\n",
              "      <td>22.0</td>\n",
              "      <td>13.0</td>\n",
              "      <td>NaN</td>\n",
              "    </tr>\n",
              "    <tr>\n",
              "      <th>31</th>\n",
              "      <td>5.0</td>\n",
              "      <td>NaN</td>\n",
              "      <td>NaN</td>\n",
              "      <td>NaN</td>\n",
              "      <td>NaN</td>\n",
              "      <td>NaN</td>\n",
              "      <td>NaN</td>\n",
              "      <td>NaN</td>\n",
              "      <td>15.0</td>\n",
              "      <td>27.0</td>\n",
              "      <td>30.0</td>\n",
              "      <td>20.0</td>\n",
              "      <td>3.0</td>\n",
              "    </tr>\n",
              "    <tr>\n",
              "      <th>32</th>\n",
              "      <td>4.0</td>\n",
              "      <td>NaN</td>\n",
              "      <td>NaN</td>\n",
              "      <td>NaN</td>\n",
              "      <td>NaN</td>\n",
              "      <td>NaN</td>\n",
              "      <td>NaN</td>\n",
              "      <td>NaN</td>\n",
              "      <td>19.0</td>\n",
              "      <td>32.0</td>\n",
              "      <td>32.0</td>\n",
              "      <td>13.0</td>\n",
              "      <td>NaN</td>\n",
              "    </tr>\n",
              "    <tr>\n",
              "      <th>33</th>\n",
              "      <td>8.0</td>\n",
              "      <td>NaN</td>\n",
              "      <td>NaN</td>\n",
              "      <td>NaN</td>\n",
              "      <td>NaN</td>\n",
              "      <td>NaN</td>\n",
              "      <td>NaN</td>\n",
              "      <td>NaN</td>\n",
              "      <td>8.0</td>\n",
              "      <td>38.0</td>\n",
              "      <td>30.0</td>\n",
              "      <td>16.0</td>\n",
              "      <td>NaN</td>\n",
              "    </tr>\n",
              "    <tr>\n",
              "      <th>34</th>\n",
              "      <td>12.0</td>\n",
              "      <td>NaN</td>\n",
              "      <td>NaN</td>\n",
              "      <td>NaN</td>\n",
              "      <td>NaN</td>\n",
              "      <td>NaN</td>\n",
              "      <td>NaN</td>\n",
              "      <td>NaN</td>\n",
              "      <td>6.0</td>\n",
              "      <td>50.0</td>\n",
              "      <td>19.0</td>\n",
              "      <td>12.0</td>\n",
              "      <td>NaN</td>\n",
              "    </tr>\n",
              "    <tr>\n",
              "      <th>35</th>\n",
              "      <td>NaN</td>\n",
              "      <td>NaN</td>\n",
              "      <td>NaN</td>\n",
              "      <td>NaN</td>\n",
              "      <td>NaN</td>\n",
              "      <td>NaN</td>\n",
              "      <td>NaN</td>\n",
              "      <td>NaN</td>\n",
              "      <td>NaN</td>\n",
              "      <td>NaN</td>\n",
              "      <td>NaN</td>\n",
              "      <td>NaN</td>\n",
              "      <td>100.0</td>\n",
              "    </tr>\n",
              "    <tr>\n",
              "      <th>36</th>\n",
              "      <td>NaN</td>\n",
              "      <td>NaN</td>\n",
              "      <td>NaN</td>\n",
              "      <td>NaN</td>\n",
              "      <td>NaN</td>\n",
              "      <td>NaN</td>\n",
              "      <td>NaN</td>\n",
              "      <td>NaN</td>\n",
              "      <td>NaN</td>\n",
              "      <td>NaN</td>\n",
              "      <td>NaN</td>\n",
              "      <td>50.0</td>\n",
              "      <td>50.0</td>\n",
              "    </tr>\n",
              "  </tbody>\n",
              "</table>\n",
              "</div>"
            ],
            "text/plain": [
              "Time in Job     0      1      2     3     4   ...    8     9     10    11     12\n",
              "Tenure                                        ...                               \n",
              "0            100.0    NaN    NaN   NaN   NaN  ...   NaN   NaN   NaN   NaN    NaN\n",
              "1              NaN  100.0    NaN   NaN   NaN  ...   NaN   NaN   NaN   NaN    NaN\n",
              "2              NaN    NaN  100.0   NaN   NaN  ...   NaN   NaN   NaN   NaN    NaN\n",
              "3              9.0    5.0    4.0  82.0   NaN  ...   NaN   NaN   NaN   NaN    NaN\n",
              "4             43.0   20.0   23.0   9.0   5.0  ...   NaN   NaN   NaN   NaN    NaN\n",
              "5             42.0   22.0   26.0  10.0   NaN  ...   NaN   NaN   NaN   NaN    NaN\n",
              "6             34.0   11.0   13.0  24.0  15.0  ...   NaN   NaN   NaN   NaN    NaN\n",
              "7             24.0    1.0    9.0  27.0  30.0  ...   NaN   NaN   NaN   NaN    NaN\n",
              "8             22.0    NaN    7.0  25.0  31.0  ...   NaN   NaN   NaN   NaN    NaN\n",
              "9             18.0    NaN    5.0  16.0  25.0  ...   NaN   NaN   NaN   NaN    NaN\n",
              "10            19.0    NaN    NaN   NaN  12.0  ...   NaN   NaN   NaN   NaN    NaN\n",
              "11            18.0    NaN    NaN   NaN  12.0  ...   NaN   NaN   NaN   NaN    NaN\n",
              "12            18.0    NaN    NaN   NaN  12.0  ...   NaN   NaN   NaN   NaN    NaN\n",
              "13            13.0    NaN    NaN   NaN   8.0  ...  11.0   2.0   NaN   NaN    NaN\n",
              "14             5.0    NaN    NaN   NaN   5.0  ...  13.0   4.0   NaN   NaN    NaN\n",
              "15            13.0    NaN    NaN   NaN   3.0  ...  25.0   6.0   NaN   NaN    NaN\n",
              "16            13.0    NaN    NaN   NaN   NaN  ...  40.0  10.0   NaN   NaN    NaN\n",
              "17            14.0    NaN    NaN   NaN   NaN  ...  35.0   5.0   NaN   NaN    NaN\n",
              "18            14.0    NaN    NaN   NaN   NaN  ...  32.0   6.0   NaN   NaN    NaN\n",
              "19            14.0    NaN    NaN   NaN   NaN  ...  40.0  12.0   NaN   NaN    NaN\n",
              "20            16.0    NaN    NaN   NaN   NaN  ...  36.0   7.0   NaN   NaN    NaN\n",
              "21             9.0    NaN    NaN   NaN   NaN  ...  31.0  15.0   3.0   NaN    NaN\n",
              "22             6.0    NaN    NaN   NaN   NaN  ...  26.0  24.0  15.0  12.0    NaN\n",
              "23             6.0    NaN    NaN   NaN   NaN  ...  20.0  35.0  33.0   6.0    NaN\n",
              "24             7.0    NaN    NaN   NaN   NaN  ...  13.0  41.0  28.0  11.0    NaN\n",
              "25             8.0    NaN    NaN   NaN   NaN  ...  10.0  24.0  45.0  13.0    NaN\n",
              "26             5.0    NaN    NaN   NaN   NaN  ...  25.0  31.0  28.0  11.0    NaN\n",
              "27             4.0    NaN    NaN   NaN   NaN  ...   9.0  38.0  32.0  18.0    NaN\n",
              "28             2.0    NaN    NaN   NaN   NaN  ...  11.0  35.0  32.0  19.0    NaN\n",
              "29             6.0    NaN    NaN   NaN   NaN  ...  16.0  32.0  32.0  13.0    NaN\n",
              "30            13.0    NaN    NaN   NaN   NaN  ...  17.0  35.0  22.0  13.0    NaN\n",
              "31             5.0    NaN    NaN   NaN   NaN  ...  15.0  27.0  30.0  20.0    3.0\n",
              "32             4.0    NaN    NaN   NaN   NaN  ...  19.0  32.0  32.0  13.0    NaN\n",
              "33             8.0    NaN    NaN   NaN   NaN  ...   8.0  38.0  30.0  16.0    NaN\n",
              "34            12.0    NaN    NaN   NaN   NaN  ...   6.0  50.0  19.0  12.0    NaN\n",
              "35             NaN    NaN    NaN   NaN   NaN  ...   NaN   NaN   NaN   NaN  100.0\n",
              "36             NaN    NaN    NaN   NaN   NaN  ...   NaN   NaN   NaN  50.0   50.0\n",
              "\n",
              "[37 rows x 13 columns]"
            ]
          },
          "metadata": {
            "tags": []
          },
          "execution_count": 40
        }
      ]
    },
    {
      "cell_type": "code",
      "metadata": {
        "id": "lkgX4ntvV5AO"
      },
      "source": [
        ""
      ],
      "execution_count": null,
      "outputs": []
    },
    {
      "cell_type": "code",
      "metadata": {
        "id": "ZxushUK-Y-ZZ"
      },
      "source": [
        ""
      ],
      "execution_count": null,
      "outputs": []
    },
    {
      "cell_type": "code",
      "metadata": {
        "colab": {
          "base_uri": "https://localhost:8080/",
          "height": 227
        },
        "id": "9e_oKaIaY-Ji",
        "outputId": "a83f7b06-a9f7-4b1b-892e-7c027406440f"
      },
      "source": [
        "prcnt = lambda x: np.round(x/x.sum() * 100)\n",
        "agegrp_lvl_cnt  = u1.groupby(['Age Group','Career Level'])['Age Group'].count().unstack().apply(prcnt,axis = 1)\n",
        "agegrp_lvl_cnt"
      ],
      "execution_count": null,
      "outputs": [
        {
          "output_type": "execute_result",
          "data": {
            "text/html": [
              "<div>\n",
              "<style scoped>\n",
              "    .dataframe tbody tr th:only-of-type {\n",
              "        vertical-align: middle;\n",
              "    }\n",
              "\n",
              "    .dataframe tbody tr th {\n",
              "        vertical-align: top;\n",
              "    }\n",
              "\n",
              "    .dataframe thead th {\n",
              "        text-align: right;\n",
              "    }\n",
              "</style>\n",
              "<table border=\"1\" class=\"dataframe\">\n",
              "  <thead>\n",
              "    <tr style=\"text-align: right;\">\n",
              "      <th>Career Level</th>\n",
              "      <th>1</th>\n",
              "      <th>2</th>\n",
              "      <th>3</th>\n",
              "      <th>4</th>\n",
              "      <th>5</th>\n",
              "      <th>6</th>\n",
              "    </tr>\n",
              "    <tr>\n",
              "      <th>Age Group</th>\n",
              "      <th></th>\n",
              "      <th></th>\n",
              "      <th></th>\n",
              "      <th></th>\n",
              "      <th></th>\n",
              "      <th></th>\n",
              "    </tr>\n",
              "  </thead>\n",
              "  <tbody>\n",
              "    <tr>\n",
              "      <th>21-30</th>\n",
              "      <td>33.0</td>\n",
              "      <td>38.0</td>\n",
              "      <td>28.0</td>\n",
              "      <td>1.0</td>\n",
              "      <td>NaN</td>\n",
              "      <td>NaN</td>\n",
              "    </tr>\n",
              "    <tr>\n",
              "      <th>31-40</th>\n",
              "      <td>NaN</td>\n",
              "      <td>NaN</td>\n",
              "      <td>18.0</td>\n",
              "      <td>56.0</td>\n",
              "      <td>25.0</td>\n",
              "      <td>NaN</td>\n",
              "    </tr>\n",
              "    <tr>\n",
              "      <th>41-50</th>\n",
              "      <td>NaN</td>\n",
              "      <td>NaN</td>\n",
              "      <td>NaN</td>\n",
              "      <td>NaN</td>\n",
              "      <td>52.0</td>\n",
              "      <td>48.0</td>\n",
              "    </tr>\n",
              "    <tr>\n",
              "      <th>51-60</th>\n",
              "      <td>NaN</td>\n",
              "      <td>NaN</td>\n",
              "      <td>NaN</td>\n",
              "      <td>NaN</td>\n",
              "      <td>NaN</td>\n",
              "      <td>100.0</td>\n",
              "    </tr>\n",
              "    <tr>\n",
              "      <th>Above 61</th>\n",
              "      <td>NaN</td>\n",
              "      <td>NaN</td>\n",
              "      <td>NaN</td>\n",
              "      <td>NaN</td>\n",
              "      <td>NaN</td>\n",
              "      <td>100.0</td>\n",
              "    </tr>\n",
              "  </tbody>\n",
              "</table>\n",
              "</div>"
            ],
            "text/plain": [
              "Career Level     1     2     3     4     5      6\n",
              "Age Group                                        \n",
              "21-30         33.0  38.0  28.0   1.0   NaN    NaN\n",
              "31-40          NaN   NaN  18.0  56.0  25.0    NaN\n",
              "41-50          NaN   NaN   NaN   NaN  52.0   48.0\n",
              "51-60          NaN   NaN   NaN   NaN   NaN  100.0\n",
              "Above 61       NaN   NaN   NaN   NaN   NaN  100.0"
            ]
          },
          "metadata": {
            "tags": []
          },
          "execution_count": 41
        }
      ]
    },
    {
      "cell_type": "code",
      "metadata": {
        "colab": {
          "base_uri": "https://localhost:8080/"
        },
        "id": "B0L3V5SNauAs",
        "outputId": "e040b336-1844-40b6-cca3-f8a3cb6619da"
      },
      "source": [
        "agegrp_lvl_cnt[1].keys().values"
      ],
      "execution_count": null,
      "outputs": [
        {
          "output_type": "execute_result",
          "data": {
            "text/plain": [
              "array(['21-30', '31-40', '41-50', '51-60', 'Above 61'], dtype=object)"
            ]
          },
          "metadata": {
            "tags": []
          },
          "execution_count": 47
        }
      ]
    },
    {
      "cell_type": "code",
      "metadata": {
        "colab": {
          "base_uri": "https://localhost:8080/"
        },
        "id": "br3bw7F_-HT6",
        "outputId": "81808b52-dcd3-40e3-b31d-d958252f70dc"
      },
      "source": [
        "agegrp_lvl_cnt.to_numpy()[4]"
      ],
      "execution_count": null,
      "outputs": [
        {
          "output_type": "execute_result",
          "data": {
            "text/plain": [
              "array([ nan,  nan,  nan,  nan,  nan, 100.])"
            ]
          },
          "metadata": {
            "tags": []
          },
          "execution_count": 48
        }
      ]
    },
    {
      "cell_type": "code",
      "metadata": {
        "colab": {
          "base_uri": "https://localhost:8080/",
          "height": 427
        },
        "id": "JaSmixYpbL7J",
        "outputId": "3fa35513-cb2e-47fe-b8d6-1ad89d298f64"
      },
      "source": [
        "fig  = plt.figure(figsize=(18,7))\n",
        "barWidth  = 0.25\n",
        "\n",
        "bar1 = agegrp_lvl_cnt.to_numpy()[0]\n",
        "bar2 = agegrp_lvl_cnt.to_numpy()[1]\n",
        "bar3 = agegrp_lvl_cnt.to_numpy()[2]\n",
        "bar4 = agegrp_lvl_cnt.to_numpy()[3]\n",
        "bar5 = agegrp_lvl_cnt.to_numpy()[4]\n",
        "\n",
        "\n",
        "r1 = np.arange(len(bar1))\n",
        "r2 = [x + barWidth for x in r1]\n",
        "r3 = [x + barWidth for x in r2]\n",
        "r4 = [x + barWidth for x in r3]\n",
        "r5 = [x + barWidth for x in r4]\n",
        "\n",
        "\n",
        "plt.bar(r1,bar1, width=barWidth, label=agegrp_lvl_cnt[1].keys().values[0])\n",
        "plt.bar(r2,bar2, width=barWidth, label=agegrp_lvl_cnt[1].keys().values[1])\n",
        "plt.bar(r3,bar3, width=barWidth, label=agegrp_lvl_cnt[1].keys().values[2])\n",
        "plt.bar(r4,bar4, width=barWidth, label=agegrp_lvl_cnt[1].keys().values[3])\n",
        "plt.bar(r5,bar5, width=barWidth, label=agegrp_lvl_cnt[1].keys().values[4])\n",
        "\n",
        "plt.xticks([r + barWidth for r in range(len(bar1))],agegrp_lvl_cnt.keys().values)\n",
        "\n",
        "plt.legend()\n",
        "plt.show()"
      ],
      "execution_count": null,
      "outputs": [
        {
          "output_type": "display_data",
          "data": {
            "image/png": "[encoded data removed]",
            "text/plain": [
              "<Figure size 1296x504 with 1 Axes>"
            ]
          },
          "metadata": {
            "tags": [],
            "needs_background": "light"
          }
        }
      ]
    },
    {
      "cell_type": "code",
      "metadata": {
        "id": "x-RE1yjLZ5zJ"
      },
      "source": [
        ""
      ],
      "execution_count": null,
      "outputs": []
    },
    {
      "cell_type": "code",
      "metadata": {
        "id": "TKEOaXJHeroP"
      },
      "source": [
        ""
      ],
      "execution_count": null,
      "outputs": []
    },
    {
      "cell_type": "code",
      "metadata": {
        "colab": {
          "base_uri": "https://localhost:8080/",
          "height": 513
        },
        "id": "7S0OgNMMfN1a",
        "outputId": "80fb977b-2bde-4350-c0bd-4bb565aff947"
      },
      "source": [
        "plt.figure(figsize=(18,8))\n",
        "barWidth = 0.25\n",
        "\n",
        "barr1 = crlvl_act_cnt.to_numpy()\n",
        "barr2 = crlvl_ter_cnt.to_numpy()\n",
        "\n",
        "rr1 = np.arange(len(bar1))\n",
        "rr2 = [x + barWidth for x in rr1]\n",
        "\n",
        "plt.bar(rr1,barr1,width=barWidth, label = 'Active People')\n",
        "plt.bar(rr2,barr2,width=barWidth, label = 'Terminated People')\n",
        "\n",
        "plt.xlabel('Career Levels',fontweight = 'bold')\n",
        "plt.ylabel('Percentage of People',fontweight = 'bold')\n",
        "plt.title('Difference of Career Level between Active and Terminated People')\n",
        "plt.xticks([r + barWidth for r in range(len(barr1))], crlvl_act_cnt.keys().values)\n",
        "\n",
        "plt.legend()\n",
        "plt.show()"
      ],
      "execution_count": null,
      "outputs": [
        {
          "output_type": "display_data",
          "data": {
            "image/png": "[encoded data removed]",
            "text/plain": [
              "<Figure size 1296x576 with 1 Axes>"
            ]
          },
          "metadata": {
            "tags": [],
            "needs_background": "light"
          }
        }
      ]
    },
    {
      "cell_type": "code",
      "metadata": {
        "colab": {
          "base_uri": "https://localhost:8080/",
          "height": 404
        },
        "id": "LKmuYAroh7hW",
        "outputId": "c7c2f5c1-738a-4a3e-f7d3-7c687a490daf"
      },
      "source": [
        "fig = plt.figure(figsize = (16, 6))\n",
        "\n",
        "plt.plot( crlvl_act_cnt.keys().values, crlvl_act_cnt.values, marker='o', markerfacecolor='blue', markersize=12, color='skyblue', linewidth=3,label = 'Active People')\n",
        "plt.plot( crlvl_ter_cnt.keys().values, crlvl_ter_cnt.values, marker='v', color='olive' , linewidth=2, linestyle='dashed',label = 'Terminated People')\n",
        "\n",
        "plt.xlabel('Career Levels',fontweight = 'bold')\n",
        "plt.ylabel('Percentage of People',fontweight = 'bold')\n",
        "plt.title('Difference of Career Level between Active and Terminated People')\n",
        "\n",
        "plt.xticks(crlvl_ter_cnt.keys().values)\n",
        "\n",
        "plt.legend();"
      ],
      "execution_count": null,
      "outputs": [
        {
          "output_type": "display_data",
          "data": {
            "image/png": "[encoded data removed]",
            "text/plain": [
              "<Figure size 1152x432 with 1 Axes>"
            ]
          },
          "metadata": {
            "tags": [],
            "needs_background": "light"
          }
        }
      ]
    },
    {
      "cell_type": "code",
      "metadata": {
        "id": "eM1wQ0Snktiy"
      },
      "source": [
        ""
      ],
      "execution_count": null,
      "outputs": []
    }
  ]
}
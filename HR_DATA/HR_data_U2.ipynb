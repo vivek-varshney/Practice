{
  "nbformat": 4,
  "nbformat_minor": 0,
  "metadata": {
    "colab": {
      "name": "HR_data_U2.ipynb",
      "provenance": [],
      "collapsed_sections": [],
      "authorship_tag": "ABX9TyPLyF2+MmcpPKVc+w5z422O",
      "include_colab_link": true
    },
    "kernelspec": {
      "name": "python3",
      "display_name": "Python 3"
    }
  },
  "cells": [
    {
      "cell_type": "markdown",
      "metadata": {
        "id": "view-in-github",
        "colab_type": "text"
      },
      "source": [
        "<a href=\"https://colab.research.google.com/github/vivek-varshney/Practice/blob/main/HR_DATA/HR_data_U2.ipynb\" target=\"_parent\"><img src=\"https://colab.research.google.com/assets/colab-badge.svg\" alt=\"Open In Colab\"/></a>"
      ]
    },
    {
      "cell_type": "code",
      "metadata": {
        "id": "TJzFWNtxa9g0"
      },
      "source": [
        "import pandas as pd\n",
        "import numpy as np\n",
        "import matplotlib.pyplot as plt"
      ],
      "execution_count": null,
      "outputs": []
    },
    {
      "cell_type": "code",
      "metadata": {
        "colab": {
          "base_uri": "https://localhost:8080/"
        },
        "id": "ka5B0IyGgUQ_",
        "outputId": "60cc8e41-b312-4672-80a5-b7d47e3601fe"
      },
      "source": [
        "!wget https://raw.githubusercontent.com/gauravpks/ml-repo/master/HRDS/unit2.csv"
      ],
      "execution_count": null,
      "outputs": [
        {
          "output_type": "stream",
          "text": [
            "--2020-12-02 14:40:40--  https://raw.githubusercontent.com/gauravpks/ml-repo/master/HRDS/unit2.csv\n",
            "Resolving raw.githubusercontent.com (raw.githubusercontent.com)... 151.101.0.133, 151.101.64.133, 151.101.128.133, ...\n",
            "Connecting to raw.githubusercontent.com (raw.githubusercontent.com)|151.101.0.133|:443... connected.\n",
            "HTTP request sent, awaiting response... 200 OK\n",
            "Length: 260960 (255K) [text/plain]\n",
            "Saving to: ‘unit2.csv.1’\n",
            "\n",
            "\runit2.csv.1           0%[                    ]       0  --.-KB/s               \runit2.csv.1         100%[===================>] 254.84K  --.-KB/s    in 0.04s   \n",
            "\n",
            "2020-12-02 14:40:40 (6.43 MB/s) - ‘unit2.csv.1’ saved [260960/260960]\n",
            "\n"
          ],
          "name": "stdout"
        }
      ]
    },
    {
      "cell_type": "code",
      "metadata": {
        "colab": {
          "base_uri": "https://localhost:8080/",
          "height": 810
        },
        "id": "VPo-e15qgqtY",
        "outputId": "2530354f-64b6-4831-d525-9b36740aeed2"
      },
      "source": [
        "u2 = pd.read_csv('unit2.csv')\n",
        "u2"
      ],
      "execution_count": null,
      "outputs": [
        {
          "output_type": "execute_result",
          "data": {
            "text/html": [
              "<div>\n",
              "<style scoped>\n",
              "    .dataframe tbody tr th:only-of-type {\n",
              "        vertical-align: middle;\n",
              "    }\n",
              "\n",
              "    .dataframe tbody tr th {\n",
              "        vertical-align: top;\n",
              "    }\n",
              "\n",
              "    .dataframe thead th {\n",
              "        text-align: right;\n",
              "    }\n",
              "</style>\n",
              "<table border=\"1\" class=\"dataframe\">\n",
              "  <thead>\n",
              "    <tr style=\"text-align: right;\">\n",
              "      <th></th>\n",
              "      <th>Employee ID</th>\n",
              "      <th>Data Effective Date</th>\n",
              "      <th>Employee\\nStatus\\n</th>\n",
              "      <th>Career Level \\n(1=lowest, 6=highest)\\n</th>\n",
              "      <th>Hired Date</th>\n",
              "      <th>Hired in FY\\n(Yes/No)</th>\n",
              "      <th>Termination Date</th>\n",
              "      <th>Terminated\\nin FY\\n(Yes/No)</th>\n",
              "      <th>Termination Type\\n(Voluntary or Involuntary Exit)</th>\n",
              "      <th>Job Start Date</th>\n",
              "      <th>Promoted\\nin FY\\n(Yes/No)</th>\n",
              "      <th>Birth Date</th>\n",
              "      <th>Age\\n(Years)</th>\n",
              "      <th>Tenure\\n(Years)</th>\n",
              "      <th>Time in\\nJob (Years)</th>\n",
              "      <th>Rating\\n(1=lowest, 5=highest)</th>\n",
              "      <th>Education\\n(Highest\\nDegree)</th>\n",
              "    </tr>\n",
              "  </thead>\n",
              "  <tbody>\n",
              "    <tr>\n",
              "      <th>0</th>\n",
              "      <td>N0001</td>\n",
              "      <td>31-12-2016</td>\n",
              "      <td>Active</td>\n",
              "      <td>1</td>\n",
              "      <td>19-04-2016</td>\n",
              "      <td>Yes</td>\n",
              "      <td>NaN</td>\n",
              "      <td>No</td>\n",
              "      <td>NaN</td>\n",
              "      <td>19-04-2016</td>\n",
              "      <td>NaN</td>\n",
              "      <td>01-09-1995</td>\n",
              "      <td>NaN</td>\n",
              "      <td>NaN</td>\n",
              "      <td>NaN</td>\n",
              "      <td>3</td>\n",
              "      <td>MA/MS</td>\n",
              "    </tr>\n",
              "    <tr>\n",
              "      <th>1</th>\n",
              "      <td>N0002</td>\n",
              "      <td>31-12-2016</td>\n",
              "      <td>Active</td>\n",
              "      <td>1</td>\n",
              "      <td>19-10-2016</td>\n",
              "      <td>Yes</td>\n",
              "      <td>NaN</td>\n",
              "      <td>No</td>\n",
              "      <td>NaN</td>\n",
              "      <td>19-10-2016</td>\n",
              "      <td>NaN</td>\n",
              "      <td>13-09-1994</td>\n",
              "      <td>NaN</td>\n",
              "      <td>NaN</td>\n",
              "      <td>NaN</td>\n",
              "      <td>4</td>\n",
              "      <td>MA/MS</td>\n",
              "    </tr>\n",
              "    <tr>\n",
              "      <th>2</th>\n",
              "      <td>N0003</td>\n",
              "      <td>31-12-2016</td>\n",
              "      <td>Active</td>\n",
              "      <td>1</td>\n",
              "      <td>26-05-2016</td>\n",
              "      <td>Yes</td>\n",
              "      <td>NaN</td>\n",
              "      <td>No</td>\n",
              "      <td>NaN</td>\n",
              "      <td>26-05-2016</td>\n",
              "      <td>NaN</td>\n",
              "      <td>19-04-1996</td>\n",
              "      <td>NaN</td>\n",
              "      <td>NaN</td>\n",
              "      <td>NaN</td>\n",
              "      <td>3</td>\n",
              "      <td>BA/BS</td>\n",
              "    </tr>\n",
              "    <tr>\n",
              "      <th>3</th>\n",
              "      <td>N0004</td>\n",
              "      <td>31-12-2016</td>\n",
              "      <td>Active</td>\n",
              "      <td>1</td>\n",
              "      <td>19-10-2016</td>\n",
              "      <td>Yes</td>\n",
              "      <td>NaN</td>\n",
              "      <td>No</td>\n",
              "      <td>NaN</td>\n",
              "      <td>19-10-2016</td>\n",
              "      <td>NaN</td>\n",
              "      <td>21-01-1994</td>\n",
              "      <td>NaN</td>\n",
              "      <td>NaN</td>\n",
              "      <td>NaN</td>\n",
              "      <td>3</td>\n",
              "      <td>BA/BS</td>\n",
              "    </tr>\n",
              "    <tr>\n",
              "      <th>4</th>\n",
              "      <td>N0005</td>\n",
              "      <td>31-12-2016</td>\n",
              "      <td>Active</td>\n",
              "      <td>1</td>\n",
              "      <td>06-02-2016</td>\n",
              "      <td>Yes</td>\n",
              "      <td>NaN</td>\n",
              "      <td>No</td>\n",
              "      <td>NaN</td>\n",
              "      <td>06-02-2016</td>\n",
              "      <td>NaN</td>\n",
              "      <td>18-05-1993</td>\n",
              "      <td>NaN</td>\n",
              "      <td>NaN</td>\n",
              "      <td>NaN</td>\n",
              "      <td>3</td>\n",
              "      <td>BA/BS</td>\n",
              "    </tr>\n",
              "    <tr>\n",
              "      <th>...</th>\n",
              "      <td>...</td>\n",
              "      <td>...</td>\n",
              "      <td>...</td>\n",
              "      <td>...</td>\n",
              "      <td>...</td>\n",
              "      <td>...</td>\n",
              "      <td>...</td>\n",
              "      <td>...</td>\n",
              "      <td>...</td>\n",
              "      <td>...</td>\n",
              "      <td>...</td>\n",
              "      <td>...</td>\n",
              "      <td>...</td>\n",
              "      <td>...</td>\n",
              "      <td>...</td>\n",
              "      <td>...</td>\n",
              "      <td>...</td>\n",
              "    </tr>\n",
              "    <tr>\n",
              "      <th>2788</th>\n",
              "      <td>N2589</td>\n",
              "      <td>31-12-2016</td>\n",
              "      <td>Terminated</td>\n",
              "      <td>4</td>\n",
              "      <td>08-09-2004</td>\n",
              "      <td>No</td>\n",
              "      <td>09-03-2016</td>\n",
              "      <td>Yes</td>\n",
              "      <td>Voluntary Exit</td>\n",
              "      <td>27-12-2011</td>\n",
              "      <td>No</td>\n",
              "      <td>04-02-1986</td>\n",
              "      <td>NaN</td>\n",
              "      <td>NaN</td>\n",
              "      <td>NaN</td>\n",
              "      <td>2</td>\n",
              "      <td>MA/MS</td>\n",
              "    </tr>\n",
              "    <tr>\n",
              "      <th>2789</th>\n",
              "      <td>N2590</td>\n",
              "      <td>31-12-2016</td>\n",
              "      <td>Terminated</td>\n",
              "      <td>4</td>\n",
              "      <td>28-09-2005</td>\n",
              "      <td>No</td>\n",
              "      <td>28-09-2016</td>\n",
              "      <td>Yes</td>\n",
              "      <td>Involuntary Exit</td>\n",
              "      <td>10-06-2012</td>\n",
              "      <td>No</td>\n",
              "      <td>29-08-1984</td>\n",
              "      <td>NaN</td>\n",
              "      <td>NaN</td>\n",
              "      <td>NaN</td>\n",
              "      <td>2</td>\n",
              "      <td>BA/BS</td>\n",
              "    </tr>\n",
              "    <tr>\n",
              "      <th>2790</th>\n",
              "      <td>N2591</td>\n",
              "      <td>31-12-2016</td>\n",
              "      <td>Terminated</td>\n",
              "      <td>4</td>\n",
              "      <td>10-06-2006</td>\n",
              "      <td>No</td>\n",
              "      <td>15-01-2016</td>\n",
              "      <td>Yes</td>\n",
              "      <td>Involuntary Exit</td>\n",
              "      <td>03-11-2011</td>\n",
              "      <td>No</td>\n",
              "      <td>22-08-1987</td>\n",
              "      <td>NaN</td>\n",
              "      <td>NaN</td>\n",
              "      <td>NaN</td>\n",
              "      <td>2</td>\n",
              "      <td>MBA</td>\n",
              "    </tr>\n",
              "    <tr>\n",
              "      <th>2791</th>\n",
              "      <td>N2592</td>\n",
              "      <td>31-12-2016</td>\n",
              "      <td>Terminated</td>\n",
              "      <td>4</td>\n",
              "      <td>20-04-2006</td>\n",
              "      <td>No</td>\n",
              "      <td>02-07-2016</td>\n",
              "      <td>Yes</td>\n",
              "      <td>Involuntary Exit</td>\n",
              "      <td>13-09-2012</td>\n",
              "      <td>No</td>\n",
              "      <td>07-11-1988</td>\n",
              "      <td>NaN</td>\n",
              "      <td>NaN</td>\n",
              "      <td>NaN</td>\n",
              "      <td>2</td>\n",
              "      <td>BA/BS</td>\n",
              "    </tr>\n",
              "    <tr>\n",
              "      <th>2792</th>\n",
              "      <td>N2593</td>\n",
              "      <td>31-12-2016</td>\n",
              "      <td>Terminated</td>\n",
              "      <td>4</td>\n",
              "      <td>20-07-2007</td>\n",
              "      <td>No</td>\n",
              "      <td>12-12-2016</td>\n",
              "      <td>Yes</td>\n",
              "      <td>Involuntary Exit</td>\n",
              "      <td>19-07-2012</td>\n",
              "      <td>No</td>\n",
              "      <td>03-07-1983</td>\n",
              "      <td>NaN</td>\n",
              "      <td>NaN</td>\n",
              "      <td>NaN</td>\n",
              "      <td>2</td>\n",
              "      <td>BA/BS</td>\n",
              "    </tr>\n",
              "  </tbody>\n",
              "</table>\n",
              "<p>2793 rows × 17 columns</p>\n",
              "</div>"
            ],
            "text/plain": [
              "     Employee ID  ... Education\\n(Highest\\nDegree)\n",
              "0          N0001  ...                        MA/MS\n",
              "1          N0002  ...                        MA/MS\n",
              "2          N0003  ...                        BA/BS\n",
              "3          N0004  ...                        BA/BS\n",
              "4          N0005  ...                        BA/BS\n",
              "...          ...  ...                          ...\n",
              "2788       N2589  ...                        MA/MS\n",
              "2789       N2590  ...                        BA/BS\n",
              "2790       N2591  ...                          MBA\n",
              "2791       N2592  ...                        BA/BS\n",
              "2792       N2593  ...                        BA/BS\n",
              "\n",
              "[2793 rows x 17 columns]"
            ]
          },
          "metadata": {
            "tags": []
          },
          "execution_count": 32
        }
      ]
    },
    {
      "cell_type": "code",
      "metadata": {
        "colab": {
          "base_uri": "https://localhost:8080/"
        },
        "id": "nOngCLQnhjn1",
        "outputId": "6df33c48-9cb4-4dd9-a7ce-8fc8db841b20"
      },
      "source": [
        "u2.info()"
      ],
      "execution_count": null,
      "outputs": [
        {
          "output_type": "stream",
          "text": [
            "<class 'pandas.core.frame.DataFrame'>\n",
            "RangeIndex: 2793 entries, 0 to 2792\n",
            "Data columns (total 17 columns):\n",
            " #   Column                                            Non-Null Count  Dtype  \n",
            "---  ------                                            --------------  -----  \n",
            " 0   Employee ID                                       2793 non-null   object \n",
            " 1   Data Effective Date                               2793 non-null   object \n",
            " 2   Employee\n",
            "Status\n",
            "                                  2793 non-null   object \n",
            " 3   Career Level \n",
            "(1=lowest, 6=highest)\n",
            "              2793 non-null   int64  \n",
            " 4   Hired Date                                        2793 non-null   object \n",
            " 5   Hired in FY\n",
            "(Yes/No)                              2793 non-null   object \n",
            " 6   Termination Date                                  613 non-null    object \n",
            " 7   Terminated\n",
            "in FY\n",
            "(Yes/No)                         2793 non-null   object \n",
            " 8   Termination Type\n",
            "(Voluntary or Involuntary Exit)  613 non-null    object \n",
            " 9   Job Start Date                                    2793 non-null   object \n",
            " 10  Promoted\n",
            "in FY\n",
            "(Yes/No)                           2448 non-null   object \n",
            " 11  Birth Date                                        2793 non-null   object \n",
            " 12  Age\n",
            "(Years)                                       0 non-null      float64\n",
            " 13  Tenure\n",
            "(Years)                                    0 non-null      float64\n",
            " 14  Time in\n",
            "Job (Years)                               0 non-null      float64\n",
            " 15  Rating\n",
            "(1=lowest, 5=highest)                      2793 non-null   int64  \n",
            " 16  Education\n",
            "(Highest\n",
            "Degree)                        2793 non-null   object \n",
            "dtypes: float64(3), int64(2), object(12)\n",
            "memory usage: 371.1+ KB\n"
          ],
          "name": "stdout"
        }
      ]
    },
    {
      "cell_type": "code",
      "metadata": {
        "colab": {
          "base_uri": "https://localhost:8080/",
          "height": 314
        },
        "id": "uB_HP7NsNi-R",
        "outputId": "662113d3-79d8-4f3e-f363-2058247e0719"
      },
      "source": [
        "u2.rename(columns={'Employee\\nStatus\\n':'Employee Status','Career Level \\n(1=lowest, 6=highest)\\n':'Career Level',\n",
        "                   'Hired in FY\\n(Yes/No)':'Hired in FY','Terminated\\nin FY\\n(Yes/No)':'Terminated',\n",
        "                   'Termination Type\\n(Voluntary or Involuntary Exit)':'Termination Type','Promoted\\nin FY\\n(Yes/No)':'Promoted',\n",
        "                   'Age\\n(Years)':'Age','Tenure\\n(Years)':'Tenure','Time in\\nJob (Years)':'Time in Job',\n",
        "                   'Education\\n(Highest\\nDegree)':'Education','Rating\\n(1=lowest, 5=highest)':'Rating'},inplace = True)\n",
        "u2.head()"
      ],
      "execution_count": null,
      "outputs": [
        {
          "output_type": "execute_result",
          "data": {
            "text/html": [
              "<div>\n",
              "<style scoped>\n",
              "    .dataframe tbody tr th:only-of-type {\n",
              "        vertical-align: middle;\n",
              "    }\n",
              "\n",
              "    .dataframe tbody tr th {\n",
              "        vertical-align: top;\n",
              "    }\n",
              "\n",
              "    .dataframe thead th {\n",
              "        text-align: right;\n",
              "    }\n",
              "</style>\n",
              "<table border=\"1\" class=\"dataframe\">\n",
              "  <thead>\n",
              "    <tr style=\"text-align: right;\">\n",
              "      <th></th>\n",
              "      <th>Employee ID</th>\n",
              "      <th>Data Effective Date</th>\n",
              "      <th>Employee Status</th>\n",
              "      <th>Career Level</th>\n",
              "      <th>Hired Date</th>\n",
              "      <th>Hired in FY</th>\n",
              "      <th>Termination Date</th>\n",
              "      <th>Terminated</th>\n",
              "      <th>Termination Type</th>\n",
              "      <th>Job Start Date</th>\n",
              "      <th>Promoted</th>\n",
              "      <th>Birth Date</th>\n",
              "      <th>Age</th>\n",
              "      <th>Tenure</th>\n",
              "      <th>Time in Job</th>\n",
              "      <th>Rating</th>\n",
              "      <th>Education</th>\n",
              "    </tr>\n",
              "  </thead>\n",
              "  <tbody>\n",
              "    <tr>\n",
              "      <th>0</th>\n",
              "      <td>N0001</td>\n",
              "      <td>31-12-2016</td>\n",
              "      <td>Active</td>\n",
              "      <td>1</td>\n",
              "      <td>19-04-2016</td>\n",
              "      <td>Yes</td>\n",
              "      <td>NaN</td>\n",
              "      <td>No</td>\n",
              "      <td>NaN</td>\n",
              "      <td>19-04-2016</td>\n",
              "      <td>NaN</td>\n",
              "      <td>01-09-1995</td>\n",
              "      <td>NaN</td>\n",
              "      <td>NaN</td>\n",
              "      <td>NaN</td>\n",
              "      <td>3</td>\n",
              "      <td>MA/MS</td>\n",
              "    </tr>\n",
              "    <tr>\n",
              "      <th>1</th>\n",
              "      <td>N0002</td>\n",
              "      <td>31-12-2016</td>\n",
              "      <td>Active</td>\n",
              "      <td>1</td>\n",
              "      <td>19-10-2016</td>\n",
              "      <td>Yes</td>\n",
              "      <td>NaN</td>\n",
              "      <td>No</td>\n",
              "      <td>NaN</td>\n",
              "      <td>19-10-2016</td>\n",
              "      <td>NaN</td>\n",
              "      <td>13-09-1994</td>\n",
              "      <td>NaN</td>\n",
              "      <td>NaN</td>\n",
              "      <td>NaN</td>\n",
              "      <td>4</td>\n",
              "      <td>MA/MS</td>\n",
              "    </tr>\n",
              "    <tr>\n",
              "      <th>2</th>\n",
              "      <td>N0003</td>\n",
              "      <td>31-12-2016</td>\n",
              "      <td>Active</td>\n",
              "      <td>1</td>\n",
              "      <td>26-05-2016</td>\n",
              "      <td>Yes</td>\n",
              "      <td>NaN</td>\n",
              "      <td>No</td>\n",
              "      <td>NaN</td>\n",
              "      <td>26-05-2016</td>\n",
              "      <td>NaN</td>\n",
              "      <td>19-04-1996</td>\n",
              "      <td>NaN</td>\n",
              "      <td>NaN</td>\n",
              "      <td>NaN</td>\n",
              "      <td>3</td>\n",
              "      <td>BA/BS</td>\n",
              "    </tr>\n",
              "    <tr>\n",
              "      <th>3</th>\n",
              "      <td>N0004</td>\n",
              "      <td>31-12-2016</td>\n",
              "      <td>Active</td>\n",
              "      <td>1</td>\n",
              "      <td>19-10-2016</td>\n",
              "      <td>Yes</td>\n",
              "      <td>NaN</td>\n",
              "      <td>No</td>\n",
              "      <td>NaN</td>\n",
              "      <td>19-10-2016</td>\n",
              "      <td>NaN</td>\n",
              "      <td>21-01-1994</td>\n",
              "      <td>NaN</td>\n",
              "      <td>NaN</td>\n",
              "      <td>NaN</td>\n",
              "      <td>3</td>\n",
              "      <td>BA/BS</td>\n",
              "    </tr>\n",
              "    <tr>\n",
              "      <th>4</th>\n",
              "      <td>N0005</td>\n",
              "      <td>31-12-2016</td>\n",
              "      <td>Active</td>\n",
              "      <td>1</td>\n",
              "      <td>06-02-2016</td>\n",
              "      <td>Yes</td>\n",
              "      <td>NaN</td>\n",
              "      <td>No</td>\n",
              "      <td>NaN</td>\n",
              "      <td>06-02-2016</td>\n",
              "      <td>NaN</td>\n",
              "      <td>18-05-1993</td>\n",
              "      <td>NaN</td>\n",
              "      <td>NaN</td>\n",
              "      <td>NaN</td>\n",
              "      <td>3</td>\n",
              "      <td>BA/BS</td>\n",
              "    </tr>\n",
              "  </tbody>\n",
              "</table>\n",
              "</div>"
            ],
            "text/plain": [
              "  Employee ID Data Effective Date  ... Rating  Education\n",
              "0       N0001          31-12-2016  ...      3      MA/MS\n",
              "1       N0002          31-12-2016  ...      4      MA/MS\n",
              "2       N0003          31-12-2016  ...      3      BA/BS\n",
              "3       N0004          31-12-2016  ...      3      BA/BS\n",
              "4       N0005          31-12-2016  ...      3      BA/BS\n",
              "\n",
              "[5 rows x 17 columns]"
            ]
          },
          "metadata": {
            "tags": []
          },
          "execution_count": 34
        }
      ]
    },
    {
      "cell_type": "code",
      "metadata": {
        "id": "H240zBuHiBtG"
      },
      "source": [
        "u2['Data Effective Date'] = pd.to_datetime(u2['Data Effective Date'])\n",
        "u2['Hired Date'] = pd.to_datetime(u2['Hired Date'])\n",
        "u2['Job Start Date'] = pd.to_datetime(u2['Job Start Date'])\n",
        "u2['Birth Date'] = pd.to_datetime(u2['Birth Date'])\n",
        "u2['Termination Date'] = pd.to_datetime(u2['Termination Date'])"
      ],
      "execution_count": null,
      "outputs": []
    },
    {
      "cell_type": "code",
      "metadata": {
        "colab": {
          "base_uri": "https://localhost:8080/",
          "height": 314
        },
        "id": "bkMEYPMhjetB",
        "outputId": "71e28441-6a50-4444-93e3-42942982799d"
      },
      "source": [
        "u2['Age'] = (u2['Data Effective Date'].apply(lambda x : x.year) - u2['Birth Date'].apply(lambda x : x.year))\n",
        "u2.head()"
      ],
      "execution_count": null,
      "outputs": [
        {
          "output_type": "execute_result",
          "data": {
            "text/html": [
              "<div>\n",
              "<style scoped>\n",
              "    .dataframe tbody tr th:only-of-type {\n",
              "        vertical-align: middle;\n",
              "    }\n",
              "\n",
              "    .dataframe tbody tr th {\n",
              "        vertical-align: top;\n",
              "    }\n",
              "\n",
              "    .dataframe thead th {\n",
              "        text-align: right;\n",
              "    }\n",
              "</style>\n",
              "<table border=\"1\" class=\"dataframe\">\n",
              "  <thead>\n",
              "    <tr style=\"text-align: right;\">\n",
              "      <th></th>\n",
              "      <th>Employee ID</th>\n",
              "      <th>Data Effective Date</th>\n",
              "      <th>Employee Status</th>\n",
              "      <th>Career Level</th>\n",
              "      <th>Hired Date</th>\n",
              "      <th>Hired in FY</th>\n",
              "      <th>Termination Date</th>\n",
              "      <th>Terminated</th>\n",
              "      <th>Termination Type</th>\n",
              "      <th>Job Start Date</th>\n",
              "      <th>Promoted</th>\n",
              "      <th>Birth Date</th>\n",
              "      <th>Age</th>\n",
              "      <th>Tenure</th>\n",
              "      <th>Time in Job</th>\n",
              "      <th>Rating</th>\n",
              "      <th>Education</th>\n",
              "    </tr>\n",
              "  </thead>\n",
              "  <tbody>\n",
              "    <tr>\n",
              "      <th>0</th>\n",
              "      <td>N0001</td>\n",
              "      <td>2016-12-31</td>\n",
              "      <td>Active</td>\n",
              "      <td>1</td>\n",
              "      <td>2016-04-19</td>\n",
              "      <td>Yes</td>\n",
              "      <td>NaT</td>\n",
              "      <td>No</td>\n",
              "      <td>NaN</td>\n",
              "      <td>2016-04-19</td>\n",
              "      <td>NaN</td>\n",
              "      <td>1995-01-09</td>\n",
              "      <td>21</td>\n",
              "      <td>NaN</td>\n",
              "      <td>NaN</td>\n",
              "      <td>3</td>\n",
              "      <td>MA/MS</td>\n",
              "    </tr>\n",
              "    <tr>\n",
              "      <th>1</th>\n",
              "      <td>N0002</td>\n",
              "      <td>2016-12-31</td>\n",
              "      <td>Active</td>\n",
              "      <td>1</td>\n",
              "      <td>2016-10-19</td>\n",
              "      <td>Yes</td>\n",
              "      <td>NaT</td>\n",
              "      <td>No</td>\n",
              "      <td>NaN</td>\n",
              "      <td>2016-10-19</td>\n",
              "      <td>NaN</td>\n",
              "      <td>1994-09-13</td>\n",
              "      <td>22</td>\n",
              "      <td>NaN</td>\n",
              "      <td>NaN</td>\n",
              "      <td>4</td>\n",
              "      <td>MA/MS</td>\n",
              "    </tr>\n",
              "    <tr>\n",
              "      <th>2</th>\n",
              "      <td>N0003</td>\n",
              "      <td>2016-12-31</td>\n",
              "      <td>Active</td>\n",
              "      <td>1</td>\n",
              "      <td>2016-05-26</td>\n",
              "      <td>Yes</td>\n",
              "      <td>NaT</td>\n",
              "      <td>No</td>\n",
              "      <td>NaN</td>\n",
              "      <td>2016-05-26</td>\n",
              "      <td>NaN</td>\n",
              "      <td>1996-04-19</td>\n",
              "      <td>20</td>\n",
              "      <td>NaN</td>\n",
              "      <td>NaN</td>\n",
              "      <td>3</td>\n",
              "      <td>BA/BS</td>\n",
              "    </tr>\n",
              "    <tr>\n",
              "      <th>3</th>\n",
              "      <td>N0004</td>\n",
              "      <td>2016-12-31</td>\n",
              "      <td>Active</td>\n",
              "      <td>1</td>\n",
              "      <td>2016-10-19</td>\n",
              "      <td>Yes</td>\n",
              "      <td>NaT</td>\n",
              "      <td>No</td>\n",
              "      <td>NaN</td>\n",
              "      <td>2016-10-19</td>\n",
              "      <td>NaN</td>\n",
              "      <td>1994-01-21</td>\n",
              "      <td>22</td>\n",
              "      <td>NaN</td>\n",
              "      <td>NaN</td>\n",
              "      <td>3</td>\n",
              "      <td>BA/BS</td>\n",
              "    </tr>\n",
              "    <tr>\n",
              "      <th>4</th>\n",
              "      <td>N0005</td>\n",
              "      <td>2016-12-31</td>\n",
              "      <td>Active</td>\n",
              "      <td>1</td>\n",
              "      <td>2016-06-02</td>\n",
              "      <td>Yes</td>\n",
              "      <td>NaT</td>\n",
              "      <td>No</td>\n",
              "      <td>NaN</td>\n",
              "      <td>2016-06-02</td>\n",
              "      <td>NaN</td>\n",
              "      <td>1993-05-18</td>\n",
              "      <td>23</td>\n",
              "      <td>NaN</td>\n",
              "      <td>NaN</td>\n",
              "      <td>3</td>\n",
              "      <td>BA/BS</td>\n",
              "    </tr>\n",
              "  </tbody>\n",
              "</table>\n",
              "</div>"
            ],
            "text/plain": [
              "  Employee ID Data Effective Date  ... Rating  Education\n",
              "0       N0001          2016-12-31  ...      3      MA/MS\n",
              "1       N0002          2016-12-31  ...      4      MA/MS\n",
              "2       N0003          2016-12-31  ...      3      BA/BS\n",
              "3       N0004          2016-12-31  ...      3      BA/BS\n",
              "4       N0005          2016-12-31  ...      3      BA/BS\n",
              "\n",
              "[5 rows x 17 columns]"
            ]
          },
          "metadata": {
            "tags": []
          },
          "execution_count": 36
        }
      ]
    },
    {
      "cell_type": "code",
      "metadata": {
        "colab": {
          "base_uri": "https://localhost:8080/",
          "height": 314
        },
        "id": "LH-K1n2wlkl8",
        "outputId": "30ec5f89-3846-494d-88ba-2efdc7cb6ab9"
      },
      "source": [
        "u2['Tenure'] = (u2['Data Effective Date'].apply(lambda x : x.year) - u2['Hired Date'].apply(lambda x : x.year))\n",
        "u2['Time in Job'] = (u2['Data Effective Date'].apply(lambda x : x.year)-u2['Job Start Date'].apply(lambda x : x.year))\n",
        "u2.head()"
      ],
      "execution_count": null,
      "outputs": [
        {
          "output_type": "execute_result",
          "data": {
            "text/html": [
              "<div>\n",
              "<style scoped>\n",
              "    .dataframe tbody tr th:only-of-type {\n",
              "        vertical-align: middle;\n",
              "    }\n",
              "\n",
              "    .dataframe tbody tr th {\n",
              "        vertical-align: top;\n",
              "    }\n",
              "\n",
              "    .dataframe thead th {\n",
              "        text-align: right;\n",
              "    }\n",
              "</style>\n",
              "<table border=\"1\" class=\"dataframe\">\n",
              "  <thead>\n",
              "    <tr style=\"text-align: right;\">\n",
              "      <th></th>\n",
              "      <th>Employee ID</th>\n",
              "      <th>Data Effective Date</th>\n",
              "      <th>Employee Status</th>\n",
              "      <th>Career Level</th>\n",
              "      <th>Hired Date</th>\n",
              "      <th>Hired in FY</th>\n",
              "      <th>Termination Date</th>\n",
              "      <th>Terminated</th>\n",
              "      <th>Termination Type</th>\n",
              "      <th>Job Start Date</th>\n",
              "      <th>Promoted</th>\n",
              "      <th>Birth Date</th>\n",
              "      <th>Age</th>\n",
              "      <th>Tenure</th>\n",
              "      <th>Time in Job</th>\n",
              "      <th>Rating</th>\n",
              "      <th>Education</th>\n",
              "    </tr>\n",
              "  </thead>\n",
              "  <tbody>\n",
              "    <tr>\n",
              "      <th>0</th>\n",
              "      <td>N0001</td>\n",
              "      <td>2016-12-31</td>\n",
              "      <td>Active</td>\n",
              "      <td>1</td>\n",
              "      <td>2016-04-19</td>\n",
              "      <td>Yes</td>\n",
              "      <td>NaT</td>\n",
              "      <td>No</td>\n",
              "      <td>NaN</td>\n",
              "      <td>2016-04-19</td>\n",
              "      <td>NaN</td>\n",
              "      <td>1995-01-09</td>\n",
              "      <td>21</td>\n",
              "      <td>0</td>\n",
              "      <td>0</td>\n",
              "      <td>3</td>\n",
              "      <td>MA/MS</td>\n",
              "    </tr>\n",
              "    <tr>\n",
              "      <th>1</th>\n",
              "      <td>N0002</td>\n",
              "      <td>2016-12-31</td>\n",
              "      <td>Active</td>\n",
              "      <td>1</td>\n",
              "      <td>2016-10-19</td>\n",
              "      <td>Yes</td>\n",
              "      <td>NaT</td>\n",
              "      <td>No</td>\n",
              "      <td>NaN</td>\n",
              "      <td>2016-10-19</td>\n",
              "      <td>NaN</td>\n",
              "      <td>1994-09-13</td>\n",
              "      <td>22</td>\n",
              "      <td>0</td>\n",
              "      <td>0</td>\n",
              "      <td>4</td>\n",
              "      <td>MA/MS</td>\n",
              "    </tr>\n",
              "    <tr>\n",
              "      <th>2</th>\n",
              "      <td>N0003</td>\n",
              "      <td>2016-12-31</td>\n",
              "      <td>Active</td>\n",
              "      <td>1</td>\n",
              "      <td>2016-05-26</td>\n",
              "      <td>Yes</td>\n",
              "      <td>NaT</td>\n",
              "      <td>No</td>\n",
              "      <td>NaN</td>\n",
              "      <td>2016-05-26</td>\n",
              "      <td>NaN</td>\n",
              "      <td>1996-04-19</td>\n",
              "      <td>20</td>\n",
              "      <td>0</td>\n",
              "      <td>0</td>\n",
              "      <td>3</td>\n",
              "      <td>BA/BS</td>\n",
              "    </tr>\n",
              "    <tr>\n",
              "      <th>3</th>\n",
              "      <td>N0004</td>\n",
              "      <td>2016-12-31</td>\n",
              "      <td>Active</td>\n",
              "      <td>1</td>\n",
              "      <td>2016-10-19</td>\n",
              "      <td>Yes</td>\n",
              "      <td>NaT</td>\n",
              "      <td>No</td>\n",
              "      <td>NaN</td>\n",
              "      <td>2016-10-19</td>\n",
              "      <td>NaN</td>\n",
              "      <td>1994-01-21</td>\n",
              "      <td>22</td>\n",
              "      <td>0</td>\n",
              "      <td>0</td>\n",
              "      <td>3</td>\n",
              "      <td>BA/BS</td>\n",
              "    </tr>\n",
              "    <tr>\n",
              "      <th>4</th>\n",
              "      <td>N0005</td>\n",
              "      <td>2016-12-31</td>\n",
              "      <td>Active</td>\n",
              "      <td>1</td>\n",
              "      <td>2016-06-02</td>\n",
              "      <td>Yes</td>\n",
              "      <td>NaT</td>\n",
              "      <td>No</td>\n",
              "      <td>NaN</td>\n",
              "      <td>2016-06-02</td>\n",
              "      <td>NaN</td>\n",
              "      <td>1993-05-18</td>\n",
              "      <td>23</td>\n",
              "      <td>0</td>\n",
              "      <td>0</td>\n",
              "      <td>3</td>\n",
              "      <td>BA/BS</td>\n",
              "    </tr>\n",
              "  </tbody>\n",
              "</table>\n",
              "</div>"
            ],
            "text/plain": [
              "  Employee ID Data Effective Date  ... Rating  Education\n",
              "0       N0001          2016-12-31  ...      3      MA/MS\n",
              "1       N0002          2016-12-31  ...      4      MA/MS\n",
              "2       N0003          2016-12-31  ...      3      BA/BS\n",
              "3       N0004          2016-12-31  ...      3      BA/BS\n",
              "4       N0005          2016-12-31  ...      3      BA/BS\n",
              "\n",
              "[5 rows x 17 columns]"
            ]
          },
          "metadata": {
            "tags": []
          },
          "execution_count": 37
        }
      ]
    },
    {
      "cell_type": "code",
      "metadata": {
        "colab": {
          "base_uri": "https://localhost:8080/"
        },
        "id": "a3L1SZ_K1lL_",
        "outputId": "82a73147-8b49-44c6-8c0b-493517550f7a"
      },
      "source": [
        "age_cnt = u2['Age'].value_counts()\n",
        "age_cnt"
      ],
      "execution_count": null,
      "outputs": [
        {
          "output_type": "execute_result",
          "data": {
            "text/plain": [
              "28    244\n",
              "27    242\n",
              "26    229\n",
              "29    211\n",
              "25    197\n",
              "22    194\n",
              "30    191\n",
              "23    191\n",
              "24    168\n",
              "31    135\n",
              "32    101\n",
              "33    100\n",
              "34     97\n",
              "21     80\n",
              "35     73\n",
              "37     55\n",
              "36     42\n",
              "39     35\n",
              "38     31\n",
              "40     25\n",
              "42     23\n",
              "48     15\n",
              "47     14\n",
              "51     12\n",
              "41     12\n",
              "43     10\n",
              "20      9\n",
              "46      9\n",
              "49      9\n",
              "45      9\n",
              "54      7\n",
              "53      6\n",
              "52      6\n",
              "44      4\n",
              "50      4\n",
              "57      1\n",
              "55      1\n",
              "56      1\n",
              "Name: Age, dtype: int64"
            ]
          },
          "metadata": {
            "tags": []
          },
          "execution_count": 38
        }
      ]
    },
    {
      "cell_type": "code",
      "metadata": {
        "id": "32cG8ma854A8"
      },
      "source": [
        "def agegrp(x):\n",
        "  if x<=20:\n",
        "    group = 'Below 20'\n",
        "  elif x>=21 and x<=30:\n",
        "    group = '21-30'\n",
        "  elif x>=31 and x<=40:\n",
        "    group = '31-40'\n",
        "  elif x>=41 and x<=50:\n",
        "    group = '41-50'\n",
        "  elif x>=51 and x<=60:\n",
        "    group = '51-60'\n",
        "  elif x>=61:\n",
        "    group = 'Above 61'\n",
        "  return group"
      ],
      "execution_count": null,
      "outputs": []
    },
    {
      "cell_type": "code",
      "metadata": {
        "colab": {
          "base_uri": "https://localhost:8080/",
          "height": 314
        },
        "id": "_oEYZ5CT6Atz",
        "outputId": "b8d79326-5e01-4eb9-f2e6-159d44a97585"
      },
      "source": [
        "u2['Age Group'] = u2['Age'].apply(agegrp)\n",
        "u2.head()"
      ],
      "execution_count": null,
      "outputs": [
        {
          "output_type": "execute_result",
          "data": {
            "text/html": [
              "<div>\n",
              "<style scoped>\n",
              "    .dataframe tbody tr th:only-of-type {\n",
              "        vertical-align: middle;\n",
              "    }\n",
              "\n",
              "    .dataframe tbody tr th {\n",
              "        vertical-align: top;\n",
              "    }\n",
              "\n",
              "    .dataframe thead th {\n",
              "        text-align: right;\n",
              "    }\n",
              "</style>\n",
              "<table border=\"1\" class=\"dataframe\">\n",
              "  <thead>\n",
              "    <tr style=\"text-align: right;\">\n",
              "      <th></th>\n",
              "      <th>Employee ID</th>\n",
              "      <th>Data Effective Date</th>\n",
              "      <th>Employee Status</th>\n",
              "      <th>Career Level</th>\n",
              "      <th>Hired Date</th>\n",
              "      <th>Hired in FY</th>\n",
              "      <th>Termination Date</th>\n",
              "      <th>Terminated</th>\n",
              "      <th>Termination Type</th>\n",
              "      <th>Job Start Date</th>\n",
              "      <th>Promoted</th>\n",
              "      <th>Birth Date</th>\n",
              "      <th>Age</th>\n",
              "      <th>Tenure</th>\n",
              "      <th>Time in Job</th>\n",
              "      <th>Rating</th>\n",
              "      <th>Education</th>\n",
              "      <th>Age Group</th>\n",
              "    </tr>\n",
              "  </thead>\n",
              "  <tbody>\n",
              "    <tr>\n",
              "      <th>0</th>\n",
              "      <td>N0001</td>\n",
              "      <td>2016-12-31</td>\n",
              "      <td>Active</td>\n",
              "      <td>1</td>\n",
              "      <td>2016-04-19</td>\n",
              "      <td>Yes</td>\n",
              "      <td>NaT</td>\n",
              "      <td>No</td>\n",
              "      <td>NaN</td>\n",
              "      <td>2016-04-19</td>\n",
              "      <td>NaN</td>\n",
              "      <td>1995-01-09</td>\n",
              "      <td>21</td>\n",
              "      <td>0</td>\n",
              "      <td>0</td>\n",
              "      <td>3</td>\n",
              "      <td>MA/MS</td>\n",
              "      <td>21-30</td>\n",
              "    </tr>\n",
              "    <tr>\n",
              "      <th>1</th>\n",
              "      <td>N0002</td>\n",
              "      <td>2016-12-31</td>\n",
              "      <td>Active</td>\n",
              "      <td>1</td>\n",
              "      <td>2016-10-19</td>\n",
              "      <td>Yes</td>\n",
              "      <td>NaT</td>\n",
              "      <td>No</td>\n",
              "      <td>NaN</td>\n",
              "      <td>2016-10-19</td>\n",
              "      <td>NaN</td>\n",
              "      <td>1994-09-13</td>\n",
              "      <td>22</td>\n",
              "      <td>0</td>\n",
              "      <td>0</td>\n",
              "      <td>4</td>\n",
              "      <td>MA/MS</td>\n",
              "      <td>21-30</td>\n",
              "    </tr>\n",
              "    <tr>\n",
              "      <th>2</th>\n",
              "      <td>N0003</td>\n",
              "      <td>2016-12-31</td>\n",
              "      <td>Active</td>\n",
              "      <td>1</td>\n",
              "      <td>2016-05-26</td>\n",
              "      <td>Yes</td>\n",
              "      <td>NaT</td>\n",
              "      <td>No</td>\n",
              "      <td>NaN</td>\n",
              "      <td>2016-05-26</td>\n",
              "      <td>NaN</td>\n",
              "      <td>1996-04-19</td>\n",
              "      <td>20</td>\n",
              "      <td>0</td>\n",
              "      <td>0</td>\n",
              "      <td>3</td>\n",
              "      <td>BA/BS</td>\n",
              "      <td>Below 20</td>\n",
              "    </tr>\n",
              "    <tr>\n",
              "      <th>3</th>\n",
              "      <td>N0004</td>\n",
              "      <td>2016-12-31</td>\n",
              "      <td>Active</td>\n",
              "      <td>1</td>\n",
              "      <td>2016-10-19</td>\n",
              "      <td>Yes</td>\n",
              "      <td>NaT</td>\n",
              "      <td>No</td>\n",
              "      <td>NaN</td>\n",
              "      <td>2016-10-19</td>\n",
              "      <td>NaN</td>\n",
              "      <td>1994-01-21</td>\n",
              "      <td>22</td>\n",
              "      <td>0</td>\n",
              "      <td>0</td>\n",
              "      <td>3</td>\n",
              "      <td>BA/BS</td>\n",
              "      <td>21-30</td>\n",
              "    </tr>\n",
              "    <tr>\n",
              "      <th>4</th>\n",
              "      <td>N0005</td>\n",
              "      <td>2016-12-31</td>\n",
              "      <td>Active</td>\n",
              "      <td>1</td>\n",
              "      <td>2016-06-02</td>\n",
              "      <td>Yes</td>\n",
              "      <td>NaT</td>\n",
              "      <td>No</td>\n",
              "      <td>NaN</td>\n",
              "      <td>2016-06-02</td>\n",
              "      <td>NaN</td>\n",
              "      <td>1993-05-18</td>\n",
              "      <td>23</td>\n",
              "      <td>0</td>\n",
              "      <td>0</td>\n",
              "      <td>3</td>\n",
              "      <td>BA/BS</td>\n",
              "      <td>21-30</td>\n",
              "    </tr>\n",
              "  </tbody>\n",
              "</table>\n",
              "</div>"
            ],
            "text/plain": [
              "  Employee ID Data Effective Date Employee Status  ...  Rating Education Age Group\n",
              "0       N0001          2016-12-31          Active  ...       3     MA/MS     21-30\n",
              "1       N0002          2016-12-31          Active  ...       4     MA/MS     21-30\n",
              "2       N0003          2016-12-31          Active  ...       3     BA/BS  Below 20\n",
              "3       N0004          2016-12-31          Active  ...       3     BA/BS     21-30\n",
              "4       N0005          2016-12-31          Active  ...       3     BA/BS     21-30\n",
              "\n",
              "[5 rows x 18 columns]"
            ]
          },
          "metadata": {
            "tags": []
          },
          "execution_count": 40
        }
      ]
    },
    {
      "cell_type": "code",
      "metadata": {
        "colab": {
          "base_uri": "https://localhost:8080/"
        },
        "id": "w6MtaRrvf_lK",
        "outputId": "ab0e0bb4-6bae-44d3-ecd4-823fddb99b29"
      },
      "source": [
        "agegrp_cnt = np.round(u2['Age Group'].value_counts(normalize = True)*100,2)\n",
        "agegrp_cnt"
      ],
      "execution_count": null,
      "outputs": [
        {
          "output_type": "execute_result",
          "data": {
            "text/plain": [
              "21-30       69.71\n",
              "31-40       24.85\n",
              "41-50        3.90\n",
              "51-60        1.22\n",
              "Below 20     0.32\n",
              "Name: Age Group, dtype: float64"
            ]
          },
          "metadata": {
            "tags": []
          },
          "execution_count": 41
        }
      ]
    },
    {
      "cell_type": "code",
      "metadata": {
        "colab": {
          "base_uri": "https://localhost:8080/",
          "height": 404
        },
        "id": "bScUlwmWf2d9",
        "outputId": "365b136b-fde9-4e9e-945d-26ccbbeb7553"
      },
      "source": [
        "plt.figure(figsize=(12,6))\n",
        "plt.bar(agegrp_cnt.keys().values,agegrp_cnt,color = 'green',width = 0.5)\n",
        "plt.xlabel('Age Group',fontweight = 'bold')\n",
        "plt.ylabel('Percentage of People',fontweight = 'bold')\n",
        "plt.title('Age Group varries in Active People');"
      ],
      "execution_count": null,
      "outputs": [
        {
          "output_type": "display_data",
          "data": {
            "image/png": "[encoded data removed]",
            "text/plain": [
              "<Figure size 864x432 with 1 Axes>"
            ]
          },
          "metadata": {
            "tags": [],
            "needs_background": "light"
          }
        }
      ]
    },
    {
      "cell_type": "code",
      "metadata": {
        "colab": {
          "base_uri": "https://localhost:8080/",
          "height": 606
        },
        "id": "DlWwlhA6di1n",
        "outputId": "a4c10b99-6c84-4457-bf49-b373f7a7523c"
      },
      "source": [
        "actv_count = u2[u2['Employee Status']=='Active']\n",
        "actv_count"
      ],
      "execution_count": null,
      "outputs": [
        {
          "output_type": "execute_result",
          "data": {
            "text/html": [
              "<div>\n",
              "<style scoped>\n",
              "    .dataframe tbody tr th:only-of-type {\n",
              "        vertical-align: middle;\n",
              "    }\n",
              "\n",
              "    .dataframe tbody tr th {\n",
              "        vertical-align: top;\n",
              "    }\n",
              "\n",
              "    .dataframe thead th {\n",
              "        text-align: right;\n",
              "    }\n",
              "</style>\n",
              "<table border=\"1\" class=\"dataframe\">\n",
              "  <thead>\n",
              "    <tr style=\"text-align: right;\">\n",
              "      <th></th>\n",
              "      <th>Employee ID</th>\n",
              "      <th>Data Effective Date</th>\n",
              "      <th>Employee Status</th>\n",
              "      <th>Career Level</th>\n",
              "      <th>Hired Date</th>\n",
              "      <th>Hired in FY</th>\n",
              "      <th>Termination Date</th>\n",
              "      <th>Terminated</th>\n",
              "      <th>Termination Type</th>\n",
              "      <th>Job Start Date</th>\n",
              "      <th>Promoted</th>\n",
              "      <th>Birth Date</th>\n",
              "      <th>Age</th>\n",
              "      <th>Tenure</th>\n",
              "      <th>Time in Job</th>\n",
              "      <th>Rating</th>\n",
              "      <th>Education</th>\n",
              "      <th>Age Group</th>\n",
              "    </tr>\n",
              "  </thead>\n",
              "  <tbody>\n",
              "    <tr>\n",
              "      <th>0</th>\n",
              "      <td>N0001</td>\n",
              "      <td>2016-12-31</td>\n",
              "      <td>Active</td>\n",
              "      <td>1</td>\n",
              "      <td>2016-04-19</td>\n",
              "      <td>Yes</td>\n",
              "      <td>NaT</td>\n",
              "      <td>No</td>\n",
              "      <td>NaN</td>\n",
              "      <td>2016-04-19</td>\n",
              "      <td>NaN</td>\n",
              "      <td>1995-01-09</td>\n",
              "      <td>21</td>\n",
              "      <td>0</td>\n",
              "      <td>0</td>\n",
              "      <td>3</td>\n",
              "      <td>MA/MS</td>\n",
              "      <td>21-30</td>\n",
              "    </tr>\n",
              "    <tr>\n",
              "      <th>1</th>\n",
              "      <td>N0002</td>\n",
              "      <td>2016-12-31</td>\n",
              "      <td>Active</td>\n",
              "      <td>1</td>\n",
              "      <td>2016-10-19</td>\n",
              "      <td>Yes</td>\n",
              "      <td>NaT</td>\n",
              "      <td>No</td>\n",
              "      <td>NaN</td>\n",
              "      <td>2016-10-19</td>\n",
              "      <td>NaN</td>\n",
              "      <td>1994-09-13</td>\n",
              "      <td>22</td>\n",
              "      <td>0</td>\n",
              "      <td>0</td>\n",
              "      <td>4</td>\n",
              "      <td>MA/MS</td>\n",
              "      <td>21-30</td>\n",
              "    </tr>\n",
              "    <tr>\n",
              "      <th>2</th>\n",
              "      <td>N0003</td>\n",
              "      <td>2016-12-31</td>\n",
              "      <td>Active</td>\n",
              "      <td>1</td>\n",
              "      <td>2016-05-26</td>\n",
              "      <td>Yes</td>\n",
              "      <td>NaT</td>\n",
              "      <td>No</td>\n",
              "      <td>NaN</td>\n",
              "      <td>2016-05-26</td>\n",
              "      <td>NaN</td>\n",
              "      <td>1996-04-19</td>\n",
              "      <td>20</td>\n",
              "      <td>0</td>\n",
              "      <td>0</td>\n",
              "      <td>3</td>\n",
              "      <td>BA/BS</td>\n",
              "      <td>Below 20</td>\n",
              "    </tr>\n",
              "    <tr>\n",
              "      <th>3</th>\n",
              "      <td>N0004</td>\n",
              "      <td>2016-12-31</td>\n",
              "      <td>Active</td>\n",
              "      <td>1</td>\n",
              "      <td>2016-10-19</td>\n",
              "      <td>Yes</td>\n",
              "      <td>NaT</td>\n",
              "      <td>No</td>\n",
              "      <td>NaN</td>\n",
              "      <td>2016-10-19</td>\n",
              "      <td>NaN</td>\n",
              "      <td>1994-01-21</td>\n",
              "      <td>22</td>\n",
              "      <td>0</td>\n",
              "      <td>0</td>\n",
              "      <td>3</td>\n",
              "      <td>BA/BS</td>\n",
              "      <td>21-30</td>\n",
              "    </tr>\n",
              "    <tr>\n",
              "      <th>4</th>\n",
              "      <td>N0005</td>\n",
              "      <td>2016-12-31</td>\n",
              "      <td>Active</td>\n",
              "      <td>1</td>\n",
              "      <td>2016-06-02</td>\n",
              "      <td>Yes</td>\n",
              "      <td>NaT</td>\n",
              "      <td>No</td>\n",
              "      <td>NaN</td>\n",
              "      <td>2016-06-02</td>\n",
              "      <td>NaN</td>\n",
              "      <td>1993-05-18</td>\n",
              "      <td>23</td>\n",
              "      <td>0</td>\n",
              "      <td>0</td>\n",
              "      <td>3</td>\n",
              "      <td>BA/BS</td>\n",
              "      <td>21-30</td>\n",
              "    </tr>\n",
              "    <tr>\n",
              "      <th>...</th>\n",
              "      <td>...</td>\n",
              "      <td>...</td>\n",
              "      <td>...</td>\n",
              "      <td>...</td>\n",
              "      <td>...</td>\n",
              "      <td>...</td>\n",
              "      <td>...</td>\n",
              "      <td>...</td>\n",
              "      <td>...</td>\n",
              "      <td>...</td>\n",
              "      <td>...</td>\n",
              "      <td>...</td>\n",
              "      <td>...</td>\n",
              "      <td>...</td>\n",
              "      <td>...</td>\n",
              "      <td>...</td>\n",
              "      <td>...</td>\n",
              "      <td>...</td>\n",
              "    </tr>\n",
              "    <tr>\n",
              "      <th>2718</th>\n",
              "      <td>N2176</td>\n",
              "      <td>2016-12-31</td>\n",
              "      <td>Active</td>\n",
              "      <td>6</td>\n",
              "      <td>1992-03-14</td>\n",
              "      <td>No</td>\n",
              "      <td>NaT</td>\n",
              "      <td>No</td>\n",
              "      <td>NaN</td>\n",
              "      <td>2008-01-07</td>\n",
              "      <td>No</td>\n",
              "      <td>1970-02-22</td>\n",
              "      <td>46</td>\n",
              "      <td>24</td>\n",
              "      <td>8</td>\n",
              "      <td>4</td>\n",
              "      <td>MBA</td>\n",
              "      <td>41-50</td>\n",
              "    </tr>\n",
              "    <tr>\n",
              "      <th>2719</th>\n",
              "      <td>N2177</td>\n",
              "      <td>2016-12-31</td>\n",
              "      <td>Active</td>\n",
              "      <td>6</td>\n",
              "      <td>1987-06-02</td>\n",
              "      <td>No</td>\n",
              "      <td>NaT</td>\n",
              "      <td>No</td>\n",
              "      <td>NaN</td>\n",
              "      <td>2007-08-08</td>\n",
              "      <td>No</td>\n",
              "      <td>1961-04-07</td>\n",
              "      <td>55</td>\n",
              "      <td>29</td>\n",
              "      <td>9</td>\n",
              "      <td>4</td>\n",
              "      <td>BA/BS</td>\n",
              "      <td>51-60</td>\n",
              "    </tr>\n",
              "    <tr>\n",
              "      <th>2720</th>\n",
              "      <td>N2178</td>\n",
              "      <td>2016-12-31</td>\n",
              "      <td>Active</td>\n",
              "      <td>6</td>\n",
              "      <td>1998-11-25</td>\n",
              "      <td>No</td>\n",
              "      <td>NaT</td>\n",
              "      <td>No</td>\n",
              "      <td>NaN</td>\n",
              "      <td>2008-06-02</td>\n",
              "      <td>No</td>\n",
              "      <td>1969-10-12</td>\n",
              "      <td>47</td>\n",
              "      <td>18</td>\n",
              "      <td>8</td>\n",
              "      <td>4</td>\n",
              "      <td>PhD</td>\n",
              "      <td>41-50</td>\n",
              "    </tr>\n",
              "    <tr>\n",
              "      <th>2721</th>\n",
              "      <td>N2179</td>\n",
              "      <td>2016-12-31</td>\n",
              "      <td>Active</td>\n",
              "      <td>6</td>\n",
              "      <td>1990-10-19</td>\n",
              "      <td>No</td>\n",
              "      <td>NaT</td>\n",
              "      <td>No</td>\n",
              "      <td>NaN</td>\n",
              "      <td>2007-04-20</td>\n",
              "      <td>No</td>\n",
              "      <td>1970-11-30</td>\n",
              "      <td>46</td>\n",
              "      <td>26</td>\n",
              "      <td>9</td>\n",
              "      <td>4</td>\n",
              "      <td>BA/BS</td>\n",
              "      <td>41-50</td>\n",
              "    </tr>\n",
              "    <tr>\n",
              "      <th>2722</th>\n",
              "      <td>N2180</td>\n",
              "      <td>2016-12-31</td>\n",
              "      <td>Active</td>\n",
              "      <td>6</td>\n",
              "      <td>1995-06-02</td>\n",
              "      <td>No</td>\n",
              "      <td>NaT</td>\n",
              "      <td>No</td>\n",
              "      <td>NaN</td>\n",
              "      <td>2007-09-13</td>\n",
              "      <td>No</td>\n",
              "      <td>1967-02-15</td>\n",
              "      <td>49</td>\n",
              "      <td>21</td>\n",
              "      <td>9</td>\n",
              "      <td>4</td>\n",
              "      <td>BA/BS</td>\n",
              "      <td>41-50</td>\n",
              "    </tr>\n",
              "  </tbody>\n",
              "</table>\n",
              "<p>2180 rows × 18 columns</p>\n",
              "</div>"
            ],
            "text/plain": [
              "     Employee ID Data Effective Date  ... Education  Age Group\n",
              "0          N0001          2016-12-31  ...     MA/MS      21-30\n",
              "1          N0002          2016-12-31  ...     MA/MS      21-30\n",
              "2          N0003          2016-12-31  ...     BA/BS   Below 20\n",
              "3          N0004          2016-12-31  ...     BA/BS      21-30\n",
              "4          N0005          2016-12-31  ...     BA/BS      21-30\n",
              "...          ...                 ...  ...       ...        ...\n",
              "2718       N2176          2016-12-31  ...       MBA      41-50\n",
              "2719       N2177          2016-12-31  ...     BA/BS      51-60\n",
              "2720       N2178          2016-12-31  ...       PhD      41-50\n",
              "2721       N2179          2016-12-31  ...     BA/BS      41-50\n",
              "2722       N2180          2016-12-31  ...     BA/BS      41-50\n",
              "\n",
              "[2180 rows x 18 columns]"
            ]
          },
          "metadata": {
            "tags": []
          },
          "execution_count": 43
        }
      ]
    },
    {
      "cell_type": "code",
      "metadata": {
        "colab": {
          "base_uri": "https://localhost:8080/",
          "height": 606
        },
        "id": "XH1PfVItmUcd",
        "outputId": "dfdad0a2-955e-4448-c2c8-f6ad2fce2b6f"
      },
      "source": [
        "termin_count = u2[u2['Employee Status']=='Terminated']\n",
        "termin_count"
      ],
      "execution_count": null,
      "outputs": [
        {
          "output_type": "execute_result",
          "data": {
            "text/html": [
              "<div>\n",
              "<style scoped>\n",
              "    .dataframe tbody tr th:only-of-type {\n",
              "        vertical-align: middle;\n",
              "    }\n",
              "\n",
              "    .dataframe tbody tr th {\n",
              "        vertical-align: top;\n",
              "    }\n",
              "\n",
              "    .dataframe thead th {\n",
              "        text-align: right;\n",
              "    }\n",
              "</style>\n",
              "<table border=\"1\" class=\"dataframe\">\n",
              "  <thead>\n",
              "    <tr style=\"text-align: right;\">\n",
              "      <th></th>\n",
              "      <th>Employee ID</th>\n",
              "      <th>Data Effective Date</th>\n",
              "      <th>Employee Status</th>\n",
              "      <th>Career Level</th>\n",
              "      <th>Hired Date</th>\n",
              "      <th>Hired in FY</th>\n",
              "      <th>Termination Date</th>\n",
              "      <th>Terminated</th>\n",
              "      <th>Termination Type</th>\n",
              "      <th>Job Start Date</th>\n",
              "      <th>Promoted</th>\n",
              "      <th>Birth Date</th>\n",
              "      <th>Age</th>\n",
              "      <th>Tenure</th>\n",
              "      <th>Time in Job</th>\n",
              "      <th>Rating</th>\n",
              "      <th>Education</th>\n",
              "      <th>Age Group</th>\n",
              "    </tr>\n",
              "  </thead>\n",
              "  <tbody>\n",
              "    <tr>\n",
              "      <th>300</th>\n",
              "      <td>N2181</td>\n",
              "      <td>2016-12-31</td>\n",
              "      <td>Terminated</td>\n",
              "      <td>1</td>\n",
              "      <td>2016-12-07</td>\n",
              "      <td>Yes</td>\n",
              "      <td>2016-10-30</td>\n",
              "      <td>Yes</td>\n",
              "      <td>Voluntary Exit</td>\n",
              "      <td>2016-12-07</td>\n",
              "      <td>NaN</td>\n",
              "      <td>1993-04-09</td>\n",
              "      <td>23</td>\n",
              "      <td>0</td>\n",
              "      <td>0</td>\n",
              "      <td>2</td>\n",
              "      <td>BA/BS</td>\n",
              "      <td>21-30</td>\n",
              "    </tr>\n",
              "    <tr>\n",
              "      <th>301</th>\n",
              "      <td>N2182</td>\n",
              "      <td>2016-12-31</td>\n",
              "      <td>Terminated</td>\n",
              "      <td>1</td>\n",
              "      <td>2016-04-21</td>\n",
              "      <td>Yes</td>\n",
              "      <td>2016-11-26</td>\n",
              "      <td>Yes</td>\n",
              "      <td>Voluntary Exit</td>\n",
              "      <td>2016-04-21</td>\n",
              "      <td>NaN</td>\n",
              "      <td>1996-05-15</td>\n",
              "      <td>20</td>\n",
              "      <td>0</td>\n",
              "      <td>0</td>\n",
              "      <td>2</td>\n",
              "      <td>BA/BS</td>\n",
              "      <td>Below 20</td>\n",
              "    </tr>\n",
              "    <tr>\n",
              "      <th>302</th>\n",
              "      <td>N2183</td>\n",
              "      <td>2016-12-31</td>\n",
              "      <td>Terminated</td>\n",
              "      <td>1</td>\n",
              "      <td>2015-06-10</td>\n",
              "      <td>Yes</td>\n",
              "      <td>2016-12-05</td>\n",
              "      <td>Yes</td>\n",
              "      <td>Voluntary Exit</td>\n",
              "      <td>2015-06-10</td>\n",
              "      <td>NaN</td>\n",
              "      <td>1992-09-22</td>\n",
              "      <td>24</td>\n",
              "      <td>1</td>\n",
              "      <td>1</td>\n",
              "      <td>2</td>\n",
              "      <td>MBA</td>\n",
              "      <td>21-30</td>\n",
              "    </tr>\n",
              "    <tr>\n",
              "      <th>303</th>\n",
              "      <td>N2184</td>\n",
              "      <td>2016-12-31</td>\n",
              "      <td>Terminated</td>\n",
              "      <td>1</td>\n",
              "      <td>2015-04-25</td>\n",
              "      <td>Yes</td>\n",
              "      <td>2016-11-02</td>\n",
              "      <td>Yes</td>\n",
              "      <td>Voluntary Exit</td>\n",
              "      <td>2015-04-25</td>\n",
              "      <td>NaN</td>\n",
              "      <td>1993-02-09</td>\n",
              "      <td>23</td>\n",
              "      <td>1</td>\n",
              "      <td>1</td>\n",
              "      <td>2</td>\n",
              "      <td>BA/BS</td>\n",
              "      <td>21-30</td>\n",
              "    </tr>\n",
              "    <tr>\n",
              "      <th>304</th>\n",
              "      <td>N2185</td>\n",
              "      <td>2016-12-31</td>\n",
              "      <td>Terminated</td>\n",
              "      <td>1</td>\n",
              "      <td>2015-08-05</td>\n",
              "      <td>Yes</td>\n",
              "      <td>2016-01-19</td>\n",
              "      <td>Yes</td>\n",
              "      <td>Voluntary Exit</td>\n",
              "      <td>2015-08-05</td>\n",
              "      <td>NaN</td>\n",
              "      <td>1993-04-03</td>\n",
              "      <td>23</td>\n",
              "      <td>1</td>\n",
              "      <td>1</td>\n",
              "      <td>2</td>\n",
              "      <td>BA/BS</td>\n",
              "      <td>21-30</td>\n",
              "    </tr>\n",
              "    <tr>\n",
              "      <th>...</th>\n",
              "      <td>...</td>\n",
              "      <td>...</td>\n",
              "      <td>...</td>\n",
              "      <td>...</td>\n",
              "      <td>...</td>\n",
              "      <td>...</td>\n",
              "      <td>...</td>\n",
              "      <td>...</td>\n",
              "      <td>...</td>\n",
              "      <td>...</td>\n",
              "      <td>...</td>\n",
              "      <td>...</td>\n",
              "      <td>...</td>\n",
              "      <td>...</td>\n",
              "      <td>...</td>\n",
              "      <td>...</td>\n",
              "      <td>...</td>\n",
              "      <td>...</td>\n",
              "    </tr>\n",
              "    <tr>\n",
              "      <th>2788</th>\n",
              "      <td>N2589</td>\n",
              "      <td>2016-12-31</td>\n",
              "      <td>Terminated</td>\n",
              "      <td>4</td>\n",
              "      <td>2004-08-09</td>\n",
              "      <td>No</td>\n",
              "      <td>2016-09-03</td>\n",
              "      <td>Yes</td>\n",
              "      <td>Voluntary Exit</td>\n",
              "      <td>2011-12-27</td>\n",
              "      <td>No</td>\n",
              "      <td>1986-04-02</td>\n",
              "      <td>30</td>\n",
              "      <td>12</td>\n",
              "      <td>5</td>\n",
              "      <td>2</td>\n",
              "      <td>MA/MS</td>\n",
              "      <td>21-30</td>\n",
              "    </tr>\n",
              "    <tr>\n",
              "      <th>2789</th>\n",
              "      <td>N2590</td>\n",
              "      <td>2016-12-31</td>\n",
              "      <td>Terminated</td>\n",
              "      <td>4</td>\n",
              "      <td>2005-09-28</td>\n",
              "      <td>No</td>\n",
              "      <td>2016-09-28</td>\n",
              "      <td>Yes</td>\n",
              "      <td>Involuntary Exit</td>\n",
              "      <td>2012-10-06</td>\n",
              "      <td>No</td>\n",
              "      <td>1984-08-29</td>\n",
              "      <td>32</td>\n",
              "      <td>11</td>\n",
              "      <td>4</td>\n",
              "      <td>2</td>\n",
              "      <td>BA/BS</td>\n",
              "      <td>31-40</td>\n",
              "    </tr>\n",
              "    <tr>\n",
              "      <th>2790</th>\n",
              "      <td>N2591</td>\n",
              "      <td>2016-12-31</td>\n",
              "      <td>Terminated</td>\n",
              "      <td>4</td>\n",
              "      <td>2006-10-06</td>\n",
              "      <td>No</td>\n",
              "      <td>2016-01-15</td>\n",
              "      <td>Yes</td>\n",
              "      <td>Involuntary Exit</td>\n",
              "      <td>2011-03-11</td>\n",
              "      <td>No</td>\n",
              "      <td>1987-08-22</td>\n",
              "      <td>29</td>\n",
              "      <td>10</td>\n",
              "      <td>5</td>\n",
              "      <td>2</td>\n",
              "      <td>MBA</td>\n",
              "      <td>21-30</td>\n",
              "    </tr>\n",
              "    <tr>\n",
              "      <th>2791</th>\n",
              "      <td>N2592</td>\n",
              "      <td>2016-12-31</td>\n",
              "      <td>Terminated</td>\n",
              "      <td>4</td>\n",
              "      <td>2006-04-20</td>\n",
              "      <td>No</td>\n",
              "      <td>2016-02-07</td>\n",
              "      <td>Yes</td>\n",
              "      <td>Involuntary Exit</td>\n",
              "      <td>2012-09-13</td>\n",
              "      <td>No</td>\n",
              "      <td>1988-07-11</td>\n",
              "      <td>28</td>\n",
              "      <td>10</td>\n",
              "      <td>4</td>\n",
              "      <td>2</td>\n",
              "      <td>BA/BS</td>\n",
              "      <td>21-30</td>\n",
              "    </tr>\n",
              "    <tr>\n",
              "      <th>2792</th>\n",
              "      <td>N2593</td>\n",
              "      <td>2016-12-31</td>\n",
              "      <td>Terminated</td>\n",
              "      <td>4</td>\n",
              "      <td>2007-07-20</td>\n",
              "      <td>No</td>\n",
              "      <td>2016-12-12</td>\n",
              "      <td>Yes</td>\n",
              "      <td>Involuntary Exit</td>\n",
              "      <td>2012-07-19</td>\n",
              "      <td>No</td>\n",
              "      <td>1983-03-07</td>\n",
              "      <td>33</td>\n",
              "      <td>9</td>\n",
              "      <td>4</td>\n",
              "      <td>2</td>\n",
              "      <td>BA/BS</td>\n",
              "      <td>31-40</td>\n",
              "    </tr>\n",
              "  </tbody>\n",
              "</table>\n",
              "<p>613 rows × 18 columns</p>\n",
              "</div>"
            ],
            "text/plain": [
              "     Employee ID Data Effective Date  ... Education  Age Group\n",
              "300        N2181          2016-12-31  ...     BA/BS      21-30\n",
              "301        N2182          2016-12-31  ...     BA/BS   Below 20\n",
              "302        N2183          2016-12-31  ...       MBA      21-30\n",
              "303        N2184          2016-12-31  ...     BA/BS      21-30\n",
              "304        N2185          2016-12-31  ...     BA/BS      21-30\n",
              "...          ...                 ...  ...       ...        ...\n",
              "2788       N2589          2016-12-31  ...     MA/MS      21-30\n",
              "2789       N2590          2016-12-31  ...     BA/BS      31-40\n",
              "2790       N2591          2016-12-31  ...       MBA      21-30\n",
              "2791       N2592          2016-12-31  ...     BA/BS      21-30\n",
              "2792       N2593          2016-12-31  ...     BA/BS      31-40\n",
              "\n",
              "[613 rows x 18 columns]"
            ]
          },
          "metadata": {
            "tags": []
          },
          "execution_count": 44
        }
      ]
    },
    {
      "cell_type": "markdown",
      "metadata": {
        "id": "e7dPRrEu5pHG"
      },
      "source": [
        "Active People\n",
        "\n",
        "---\n",
        "\n"
      ]
    },
    {
      "cell_type": "code",
      "metadata": {
        "colab": {
          "base_uri": "https://localhost:8080/"
        },
        "id": "rr4nhTb5lYAt",
        "outputId": "afddb7bd-cb23-4989-eb01-468cd86fb7e2"
      },
      "source": [
        "crlvl_act_cnt = np.round(actv_count['Career Level'].value_counts(normalize = True)*100,1)[[1,2,3,4,5,6]]\n",
        "crlvl_act_cnt"
      ],
      "execution_count": null,
      "outputs": [
        {
          "output_type": "execute_result",
          "data": {
            "text/plain": [
              "1    13.8\n",
              "2    28.9\n",
              "3    22.9\n",
              "4    18.3\n",
              "5    11.5\n",
              "6     4.6\n",
              "Name: Career Level, dtype: float64"
            ]
          },
          "metadata": {
            "tags": []
          },
          "execution_count": 45
        }
      ]
    },
    {
      "cell_type": "code",
      "metadata": {
        "colab": {
          "base_uri": "https://localhost:8080/",
          "height": 404
        },
        "id": "svEXaLIJtb1r",
        "outputId": "5ece6159-8956-40bb-b6e6-0eab5018acd7"
      },
      "source": [
        "plt.figure(figsize=(12,6))\n",
        "plt.bar(crlvl_act_cnt.keys().values,crlvl_act_cnt,color = 'red',width = 0.5)\n",
        "plt.xlabel('Career Level',fontweight = 'bold')\n",
        "plt.ylabel('Percentage of People',fontweight = 'bold')\n",
        "plt.title('Active people according to their carrer level');"
      ],
      "execution_count": null,
      "outputs": [
        {
          "output_type": "display_data",
          "data": {
            "image/png": "[encoded data removed]",
            "text/plain": [
              "<Figure size 864x432 with 1 Axes>"
            ]
          },
          "metadata": {
            "tags": [],
            "needs_background": "light"
          }
        }
      ]
    },
    {
      "cell_type": "code",
      "metadata": {
        "colab": {
          "base_uri": "https://localhost:8080/"
        },
        "id": "kc2BmzlA0se3",
        "outputId": "248a2626-5195-4ae8-9946-81d5d01ff55b"
      },
      "source": [
        "age_act_cnt = actv_count['Age'].value_counts()\n",
        "age_act_cnt"
      ],
      "execution_count": null,
      "outputs": [
        {
          "output_type": "execute_result",
          "data": {
            "text/plain": [
              "26    190\n",
              "27    180\n",
              "22    176\n",
              "28    171\n",
              "25    163\n",
              "23    162\n",
              "29    152\n",
              "30    140\n",
              "24    137\n",
              "31     93\n",
              "32     76\n",
              "21     74\n",
              "33     68\n",
              "34     67\n",
              "35     53\n",
              "37     42\n",
              "36     30\n",
              "39     29\n",
              "38     25\n",
              "40     22\n",
              "42     16\n",
              "48     15\n",
              "47     14\n",
              "49      9\n",
              "46      9\n",
              "45      9\n",
              "43      9\n",
              "41      9\n",
              "51      8\n",
              "20      8\n",
              "54      6\n",
              "52      5\n",
              "53      5\n",
              "50      4\n",
              "44      3\n",
              "55      1\n",
              "Name: Age, dtype: int64"
            ]
          },
          "metadata": {
            "tags": []
          },
          "execution_count": 47
        }
      ]
    },
    {
      "cell_type": "code",
      "metadata": {
        "colab": {
          "base_uri": "https://localhost:8080/"
        },
        "id": "1HY__3rc6iuG",
        "outputId": "82fa8afc-a414-48a4-90b8-74886aeb0c76"
      },
      "source": [
        "agegrp_act_cnt = np.round(actv_count['Age Group'].value_counts(normalize = True)*100,2)\n",
        "agegrp_act_cnt"
      ],
      "execution_count": null,
      "outputs": [
        {
          "output_type": "execute_result",
          "data": {
            "text/plain": [
              "21-30       70.87\n",
              "31-40       23.17\n",
              "41-50        4.45\n",
              "51-60        1.15\n",
              "Below 20     0.37\n",
              "Name: Age Group, dtype: float64"
            ]
          },
          "metadata": {
            "tags": []
          },
          "execution_count": 48
        }
      ]
    },
    {
      "cell_type": "code",
      "metadata": {
        "colab": {
          "base_uri": "https://localhost:8080/",
          "height": 404
        },
        "id": "0oOOWGIZ9Oaz",
        "outputId": "496dbc99-12c7-4d50-e922-492a48638a67"
      },
      "source": [
        "plt.figure(figsize=(10,6))\n",
        "plt.bar(agegrp_act_cnt.keys().values,agegrp_act_cnt,color = 'green',width = 0.5)\n",
        "plt.xlabel('Age Group',fontweight = 'bold')\n",
        "plt.ylabel('Percentage of People',fontweight = 'bold')\n",
        "plt.title('Age Group varries in Active People');"
      ],
      "execution_count": null,
      "outputs": [
        {
          "output_type": "display_data",
          "data": {
            "image/png": "[encoded data removed]",
            "text/plain": [
              "<Figure size 720x432 with 1 Axes>"
            ]
          },
          "metadata": {
            "tags": [],
            "needs_background": "light"
          }
        }
      ]
    },
    {
      "cell_type": "code",
      "metadata": {
        "id": "Uco8zdOO-tPP",
        "colab": {
          "base_uri": "https://localhost:8080/"
        },
        "outputId": "3cdc9618-1613-42f7-c928-a21264b4f155"
      },
      "source": [
        "edu_act_cnt = np.round(actv_count['Education'].value_counts(normalize = True)*100,2)\n",
        "edu_act_cnt"
      ],
      "execution_count": null,
      "outputs": [
        {
          "output_type": "execute_result",
          "data": {
            "text/plain": [
              "BA/BS    44.31\n",
              "MBA      24.63\n",
              "MA/MS    23.99\n",
              "PhD       4.77\n",
              "JD        2.29\n",
              "Name: Education, dtype: float64"
            ]
          },
          "metadata": {
            "tags": []
          },
          "execution_count": 50
        }
      ]
    },
    {
      "cell_type": "code",
      "metadata": {
        "colab": {
          "base_uri": "https://localhost:8080/",
          "height": 447
        },
        "id": "TNqlY7GEzK0E",
        "outputId": "a7b498fb-6ce5-4d32-f7cb-3978206549e0"
      },
      "source": [
        "plt.pie(edu_act_cnt.values,radius = 2,labels=edu_act_cnt.keys().values,explode=(0,0,0.1,0.2,0.2),shadow=True,\n",
        "        autopct='%.1f%%',startangle = 90)\n",
        "plt.xlabel('\\n\\n\\n\\n\\n\\n\\n Highest Education of Active People ',fontweight = 'bold');"
      ],
      "execution_count": null,
      "outputs": [
        {
          "output_type": "display_data",
          "data": {
            "image/png": "[encoded data removed]",
            "text/plain": [
              "<Figure size 432x288 with 1 Axes>"
            ]
          },
          "metadata": {
            "tags": []
          }
        }
      ]
    },
    {
      "cell_type": "code",
      "metadata": {
        "colab": {
          "base_uri": "https://localhost:8080/"
        },
        "id": "XCHngVpTzRWn",
        "outputId": "1a3f08c4-33fd-4f1b-ee72-1e95772ff7c1"
      },
      "source": [
        "rtng_act_cnt = np.round(actv_count['Rating'].value_counts(normalize = True)*100,1)[[3,4,5]]\n",
        "rtng_act_cnt"
      ],
      "execution_count": null,
      "outputs": [
        {
          "output_type": "execute_result",
          "data": {
            "text/plain": [
              "3    29.4\n",
              "4    41.0\n",
              "5    29.7\n",
              "Name: Rating, dtype: float64"
            ]
          },
          "metadata": {
            "tags": []
          },
          "execution_count": 52
        }
      ]
    },
    {
      "cell_type": "code",
      "metadata": {
        "colab": {
          "base_uri": "https://localhost:8080/",
          "height": 425
        },
        "id": "8EbPXaXV1dDS",
        "outputId": "54549dcf-e1f3-4254-e5ee-f74c85bb7626"
      },
      "source": [
        "plt.pie(rtng_act_cnt.values,radius = 2,labels=rtng_act_cnt.keys().values,explode=(0,0,0.2),shadow=True,\n",
        "        autopct='%.1f%%',startangle = 50)\n",
        "plt.xlabel('\\n\\n\\n\\n\\n\\n\\n Rating of Active People ',fontweight = 'bold');"
      ],
      "execution_count": null,
      "outputs": [
        {
          "output_type": "display_data",
          "data": {
            "image/png": "[encoded data removed]",
            "text/plain": [
              "<Figure size 432x288 with 1 Axes>"
            ]
          },
          "metadata": {
            "tags": []
          }
        }
      ]
    },
    {
      "cell_type": "code",
      "metadata": {
        "colab": {
          "base_uri": "https://localhost:8080/"
        },
        "id": "BNpe57bZ1r2S",
        "outputId": "0b638324-a809-4cda-d2c5-07c08ca570b5"
      },
      "source": [
        "prmt_cnt = actv_count['Promoted'].value_counts()\n",
        "prmt_cnt"
      ],
      "execution_count": null,
      "outputs": [
        {
          "output_type": "execute_result",
          "data": {
            "text/plain": [
              "No     1213\n",
              "Yes     667\n",
              "Name: Promoted, dtype: int64"
            ]
          },
          "metadata": {
            "tags": []
          },
          "execution_count": 54
        }
      ]
    },
    {
      "cell_type": "code",
      "metadata": {
        "colab": {
          "base_uri": "https://localhost:8080/",
          "height": 411
        },
        "id": "g5hBgpNu6DCs",
        "outputId": "497283eb-1344-4208-bea1-509324cac101"
      },
      "source": [
        "plt.pie(prmt_cnt.values,radius = 2,labels=prmt_cnt.keys().values,explode=(0,0.1),shadow=True,\n",
        "        autopct='%.1f%%',startangle = 50)\n",
        "plt.xlabel('\\n\\n\\n\\n\\n\\n\\n Promation of Active People ',fontweight = 'bold');"
      ],
      "execution_count": null,
      "outputs": [
        {
          "output_type": "display_data",
          "data": {
            "image/png": "[encoded data removed]",
            "text/plain": [
              "<Figure size 432x288 with 1 Axes>"
            ]
          },
          "metadata": {
            "tags": []
          }
        }
      ]
    },
    {
      "cell_type": "markdown",
      "metadata": {
        "id": "r_Q1lPj15vUp"
      },
      "source": [
        "Terminted people\n",
        "\n",
        "---\n",
        "\n"
      ]
    },
    {
      "cell_type": "code",
      "metadata": {
        "colab": {
          "base_uri": "https://localhost:8080/"
        },
        "id": "eUUtLa70h_Lz",
        "outputId": "ad862e76-152b-4195-949c-67c47130ab2a"
      },
      "source": [
        "crlvl_ter_cnt = np.round(termin_count['Career Level'].value_counts(normalize = True)*100,1)[[1,2,3,4,5,6]]\n",
        "crlvl_ter_cnt"
      ],
      "execution_count": null,
      "outputs": [
        {
          "output_type": "execute_result",
          "data": {
            "text/plain": [
              "1     7.3\n",
              "2    25.8\n",
              "3    24.5\n",
              "4    32.6\n",
              "5     8.2\n",
              "6     1.6\n",
              "Name: Career Level, dtype: float64"
            ]
          },
          "metadata": {
            "tags": []
          },
          "execution_count": 55
        }
      ]
    },
    {
      "cell_type": "code",
      "metadata": {
        "colab": {
          "base_uri": "https://localhost:8080/",
          "height": 457
        },
        "id": "dp9_Z4CMiknh",
        "outputId": "c7535341-087c-43a0-c2df-f2991f1b7ef4"
      },
      "source": [
        "plt.figure(figsize=(18,7))\n",
        "plt.bar(crlvl_ter_cnt.keys().values,crlvl_ter_cnt,color = 'yellow',width = 0.5)\n",
        "plt.xlabel('Career Level',fontweight = 'bold')\n",
        "plt.ylabel('Percentage of People',fontweight = 'bold')\n",
        "plt.title('Terminated people according to their carrer level');"
      ],
      "execution_count": null,
      "outputs": [
        {
          "output_type": "display_data",
          "data": {
            "image/png": "[encoded data removed]",
            "text/plain": [
              "<Figure size 1296x504 with 1 Axes>"
            ]
          },
          "metadata": {
            "tags": [],
            "needs_background": "light"
          }
        }
      ]
    },
    {
      "cell_type": "code",
      "metadata": {
        "colab": {
          "base_uri": "https://localhost:8080/"
        },
        "id": "xmzMonSijMCC",
        "outputId": "fcc692f3-c6fa-439c-801f-2d67177e2458"
      },
      "source": [
        "agegrp_ter_cnt = np.round(termin_count['Age Group'].value_counts(normalize = True)*100,2)\n",
        "agegrp_ter_cnt"
      ],
      "execution_count": null,
      "outputs": [
        {
          "output_type": "execute_result",
          "data": {
            "text/plain": [
              "21-30       65.58\n",
              "31-40       30.83\n",
              "41-50        1.96\n",
              "51-60        1.47\n",
              "Below 20     0.16\n",
              "Name: Age Group, dtype: float64"
            ]
          },
          "metadata": {
            "tags": []
          },
          "execution_count": 57
        }
      ]
    },
    {
      "cell_type": "code",
      "metadata": {
        "colab": {
          "base_uri": "https://localhost:8080/",
          "height": 404
        },
        "id": "cWu1SlzzibJe",
        "outputId": "923694ca-7718-4dbd-953e-07825b685e43"
      },
      "source": [
        "plt.figure(figsize=(12,6))\n",
        "plt.bar(agegrp_ter_cnt.keys().values,agegrp_ter_cnt,color = 'yellow',width = 0.5)\n",
        "plt.xlabel('Age Group', fontweight = 'bold')\n",
        "plt.ylabel('Percentage of People', fontweight = 'bold')\n",
        "plt.title('Age Group varries in Terminated People');"
      ],
      "execution_count": null,
      "outputs": [
        {
          "output_type": "display_data",
          "data": {
            "image/png": "[encoded data removed]",
            "text/plain": [
              "<Figure size 864x432 with 1 Axes>"
            ]
          },
          "metadata": {
            "tags": [],
            "needs_background": "light"
          }
        }
      ]
    },
    {
      "cell_type": "code",
      "metadata": {
        "colab": {
          "base_uri": "https://localhost:8080/"
        },
        "id": "mzh3ye47-HcH",
        "outputId": "b1f3e79d-d643-4fc9-b0fd-21a5446da690"
      },
      "source": [
        "edu_ter_cnt = np.round(termin_count['Education'].value_counts(normalize = True)*100,2)\n",
        "edu_ter_cnt"
      ],
      "execution_count": null,
      "outputs": [
        {
          "output_type": "execute_result",
          "data": {
            "text/plain": [
              "BA/BS    38.50\n",
              "MA/MS    28.38\n",
              "MBA      23.16\n",
              "PhD       6.36\n",
              "JD        3.59\n",
              "Name: Education, dtype: float64"
            ]
          },
          "metadata": {
            "tags": []
          },
          "execution_count": 59
        }
      ]
    },
    {
      "cell_type": "code",
      "metadata": {
        "colab": {
          "base_uri": "https://localhost:8080/",
          "height": 432
        },
        "id": "yeJXXqgk-TVa",
        "outputId": "f6d193c9-1a66-412c-9be7-3655a8da7781"
      },
      "source": [
        "plt.pie(edu_ter_cnt.values,radius = 2,labels=edu_ter_cnt.keys().values,explode=(0,0,0.1,0.2,0.7),shadow=True,\n",
        "        autopct='%.1f%%',startangle = 200)\n",
        "plt.xlabel('\\n\\n\\n\\n\\n\\n\\n\\n Highest Education of Active People ',fontweight = 'bold');"
      ],
      "execution_count": null,
      "outputs": [
        {
          "output_type": "display_data",
          "data": {
            "image/png": "[encoded data removed]",
            "text/plain": [
              "<Figure size 432x288 with 1 Axes>"
            ]
          },
          "metadata": {
            "tags": []
          }
        }
      ]
    },
    {
      "cell_type": "code",
      "metadata": {
        "colab": {
          "base_uri": "https://localhost:8080/"
        },
        "id": "HPH2ICsw-eJQ",
        "outputId": "5e82cbfa-9c7f-4a97-c426-3adaddcfe0e0"
      },
      "source": [
        "rtng_ter_cnt = np.round(termin_count['Rating'].value_counts(normalize = True)*100,1)[[1,2,3]]\n",
        "rtng_ter_cnt"
      ],
      "execution_count": null,
      "outputs": [
        {
          "output_type": "execute_result",
          "data": {
            "text/plain": [
              "1     3.3\n",
              "2    80.4\n",
              "3    16.3\n",
              "Name: Rating, dtype: float64"
            ]
          },
          "metadata": {
            "tags": []
          },
          "execution_count": 63
        }
      ]
    },
    {
      "cell_type": "code",
      "metadata": {
        "colab": {
          "base_uri": "https://localhost:8080/",
          "height": 428
        },
        "id": "Z1KagAfk_O2l",
        "outputId": "2d88b448-6270-4b07-efd5-1e073e97132e"
      },
      "source": [
        "plt.pie(rtng_ter_cnt.values,radius = 2,labels=rtng_ter_cnt.keys().values,explode=(0,0.1,0.1),shadow=True,\n",
        "        autopct='%.1f%%',startangle = 50)\n",
        "plt.xlabel('\\n\\n\\n\\n\\n\\n\\n\\n\\n Rating of Active People ',fontweight = 'bold');"
      ],
      "execution_count": null,
      "outputs": [
        {
          "output_type": "display_data",
          "data": {
            "image/png": "[encoded data removed]",
            "text/plain": [
              "<Figure size 432x288 with 1 Axes>"
            ]
          },
          "metadata": {
            "tags": []
          }
        }
      ]
    },
    {
      "cell_type": "code",
      "metadata": {
        "colab": {
          "base_uri": "https://localhost:8080/"
        },
        "id": "dWrPA021_XuO",
        "outputId": "db6c646c-4d7f-4bd0-9e49-d7efd974bba4"
      },
      "source": [
        "tertyp_cnt = termin_count['Termination Type'].value_counts()\n",
        "tertyp_cnt"
      ],
      "execution_count": null,
      "outputs": [
        {
          "output_type": "execute_result",
          "data": {
            "text/plain": [
              "Involuntary Exit    385\n",
              "Voluntary Exit      228\n",
              "Name: Termination Type, dtype: int64"
            ]
          },
          "metadata": {
            "tags": []
          },
          "execution_count": 66
        }
      ]
    },
    {
      "cell_type": "code",
      "metadata": {
        "colab": {
          "base_uri": "https://localhost:8080/",
          "height": 434
        },
        "id": "ZmDwa6HbNXAy",
        "outputId": "451685ff-d3bc-48f3-c0d5-5f0d00a5c81f"
      },
      "source": [
        "plt.pie(tertyp_cnt.values,radius = 2,labels=tertyp_cnt.keys().values,explode=(0,0.2),shadow=True,\n",
        "        autopct='%.1f%%',startangle = 50)\n",
        "plt.xlabel('\\n\\n\\n\\n\\n\\n\\n\\n\\n Termination Type',fontweight = 'bold');"
      ],
      "execution_count": null,
      "outputs": [
        {
          "output_type": "display_data",
          "data": {
            "image/png": "[encoded data removed]",
            "text/plain": [
              "<Figure size 432x288 with 1 Axes>"
            ]
          },
          "metadata": {
            "tags": []
          }
        }
      ]
    },
    {
      "cell_type": "code",
      "metadata": {
        "id": "ut7MwMsvUDRi"
      },
      "source": [
        ""
      ],
      "execution_count": null,
      "outputs": []
    },
    {
      "cell_type": "code",
      "metadata": {
        "colab": {
          "base_uri": "https://localhost:8080/",
          "height": 314
        },
        "id": "2-HpNiIUTuZI",
        "outputId": "7c5de524-4770-4b0c-aa29-fa424ef32a9c"
      },
      "source": [
        "u2.head()"
      ],
      "execution_count": null,
      "outputs": [
        {
          "output_type": "execute_result",
          "data": {
            "text/html": [
              "<div>\n",
              "<style scoped>\n",
              "    .dataframe tbody tr th:only-of-type {\n",
              "        vertical-align: middle;\n",
              "    }\n",
              "\n",
              "    .dataframe tbody tr th {\n",
              "        vertical-align: top;\n",
              "    }\n",
              "\n",
              "    .dataframe thead th {\n",
              "        text-align: right;\n",
              "    }\n",
              "</style>\n",
              "<table border=\"1\" class=\"dataframe\">\n",
              "  <thead>\n",
              "    <tr style=\"text-align: right;\">\n",
              "      <th></th>\n",
              "      <th>Employee ID</th>\n",
              "      <th>Data Effective Date</th>\n",
              "      <th>Employee Status</th>\n",
              "      <th>Career Level</th>\n",
              "      <th>Hired Date</th>\n",
              "      <th>Hired in FY</th>\n",
              "      <th>Termination Date</th>\n",
              "      <th>Terminated</th>\n",
              "      <th>Termination Type</th>\n",
              "      <th>Job Start Date</th>\n",
              "      <th>Promoted</th>\n",
              "      <th>Birth Date</th>\n",
              "      <th>Age</th>\n",
              "      <th>Tenure</th>\n",
              "      <th>Time in Job</th>\n",
              "      <th>Rating</th>\n",
              "      <th>Education</th>\n",
              "      <th>Age Group</th>\n",
              "    </tr>\n",
              "  </thead>\n",
              "  <tbody>\n",
              "    <tr>\n",
              "      <th>0</th>\n",
              "      <td>N0001</td>\n",
              "      <td>2016-12-31</td>\n",
              "      <td>Active</td>\n",
              "      <td>1</td>\n",
              "      <td>2016-04-19</td>\n",
              "      <td>Yes</td>\n",
              "      <td>NaT</td>\n",
              "      <td>No</td>\n",
              "      <td>NaN</td>\n",
              "      <td>2016-04-19</td>\n",
              "      <td>NaN</td>\n",
              "      <td>1995-01-09</td>\n",
              "      <td>21</td>\n",
              "      <td>0</td>\n",
              "      <td>0</td>\n",
              "      <td>3</td>\n",
              "      <td>MA/MS</td>\n",
              "      <td>21-30</td>\n",
              "    </tr>\n",
              "    <tr>\n",
              "      <th>1</th>\n",
              "      <td>N0002</td>\n",
              "      <td>2016-12-31</td>\n",
              "      <td>Active</td>\n",
              "      <td>1</td>\n",
              "      <td>2016-10-19</td>\n",
              "      <td>Yes</td>\n",
              "      <td>NaT</td>\n",
              "      <td>No</td>\n",
              "      <td>NaN</td>\n",
              "      <td>2016-10-19</td>\n",
              "      <td>NaN</td>\n",
              "      <td>1994-09-13</td>\n",
              "      <td>22</td>\n",
              "      <td>0</td>\n",
              "      <td>0</td>\n",
              "      <td>4</td>\n",
              "      <td>MA/MS</td>\n",
              "      <td>21-30</td>\n",
              "    </tr>\n",
              "    <tr>\n",
              "      <th>2</th>\n",
              "      <td>N0003</td>\n",
              "      <td>2016-12-31</td>\n",
              "      <td>Active</td>\n",
              "      <td>1</td>\n",
              "      <td>2016-05-26</td>\n",
              "      <td>Yes</td>\n",
              "      <td>NaT</td>\n",
              "      <td>No</td>\n",
              "      <td>NaN</td>\n",
              "      <td>2016-05-26</td>\n",
              "      <td>NaN</td>\n",
              "      <td>1996-04-19</td>\n",
              "      <td>20</td>\n",
              "      <td>0</td>\n",
              "      <td>0</td>\n",
              "      <td>3</td>\n",
              "      <td>BA/BS</td>\n",
              "      <td>Below 20</td>\n",
              "    </tr>\n",
              "    <tr>\n",
              "      <th>3</th>\n",
              "      <td>N0004</td>\n",
              "      <td>2016-12-31</td>\n",
              "      <td>Active</td>\n",
              "      <td>1</td>\n",
              "      <td>2016-10-19</td>\n",
              "      <td>Yes</td>\n",
              "      <td>NaT</td>\n",
              "      <td>No</td>\n",
              "      <td>NaN</td>\n",
              "      <td>2016-10-19</td>\n",
              "      <td>NaN</td>\n",
              "      <td>1994-01-21</td>\n",
              "      <td>22</td>\n",
              "      <td>0</td>\n",
              "      <td>0</td>\n",
              "      <td>3</td>\n",
              "      <td>BA/BS</td>\n",
              "      <td>21-30</td>\n",
              "    </tr>\n",
              "    <tr>\n",
              "      <th>4</th>\n",
              "      <td>N0005</td>\n",
              "      <td>2016-12-31</td>\n",
              "      <td>Active</td>\n",
              "      <td>1</td>\n",
              "      <td>2016-06-02</td>\n",
              "      <td>Yes</td>\n",
              "      <td>NaT</td>\n",
              "      <td>No</td>\n",
              "      <td>NaN</td>\n",
              "      <td>2016-06-02</td>\n",
              "      <td>NaN</td>\n",
              "      <td>1993-05-18</td>\n",
              "      <td>23</td>\n",
              "      <td>0</td>\n",
              "      <td>0</td>\n",
              "      <td>3</td>\n",
              "      <td>BA/BS</td>\n",
              "      <td>21-30</td>\n",
              "    </tr>\n",
              "  </tbody>\n",
              "</table>\n",
              "</div>"
            ],
            "text/plain": [
              "  Employee ID Data Effective Date Employee Status  ...  Rating Education Age Group\n",
              "0       N0001          2016-12-31          Active  ...       3     MA/MS     21-30\n",
              "1       N0002          2016-12-31          Active  ...       4     MA/MS     21-30\n",
              "2       N0003          2016-12-31          Active  ...       3     BA/BS  Below 20\n",
              "3       N0004          2016-12-31          Active  ...       3     BA/BS     21-30\n",
              "4       N0005          2016-12-31          Active  ...       3     BA/BS     21-30\n",
              "\n",
              "[5 rows x 18 columns]"
            ]
          },
          "metadata": {
            "tags": []
          },
          "execution_count": 68
        }
      ]
    },
    {
      "cell_type": "markdown",
      "metadata": {
        "id": "Y-GUrS20UrSW"
      },
      "source": [
        "Mix data\n",
        "\n",
        "---\n",
        "\n"
      ]
    },
    {
      "cell_type": "code",
      "metadata": {
        "colab": {
          "base_uri": "https://localhost:8080/",
          "height": 406
        },
        "id": "v-CglVkOYMZU",
        "outputId": "f378a9e5-0129-4d47-9c12-2579ee8f777c"
      },
      "source": [
        "u2[['Tenure','Time in Job']]"
      ],
      "execution_count": null,
      "outputs": [
        {
          "output_type": "execute_result",
          "data": {
            "text/html": [
              "<div>\n",
              "<style scoped>\n",
              "    .dataframe tbody tr th:only-of-type {\n",
              "        vertical-align: middle;\n",
              "    }\n",
              "\n",
              "    .dataframe tbody tr th {\n",
              "        vertical-align: top;\n",
              "    }\n",
              "\n",
              "    .dataframe thead th {\n",
              "        text-align: right;\n",
              "    }\n",
              "</style>\n",
              "<table border=\"1\" class=\"dataframe\">\n",
              "  <thead>\n",
              "    <tr style=\"text-align: right;\">\n",
              "      <th></th>\n",
              "      <th>Tenure</th>\n",
              "      <th>Time in Job</th>\n",
              "    </tr>\n",
              "  </thead>\n",
              "  <tbody>\n",
              "    <tr>\n",
              "      <th>0</th>\n",
              "      <td>0</td>\n",
              "      <td>0</td>\n",
              "    </tr>\n",
              "    <tr>\n",
              "      <th>1</th>\n",
              "      <td>0</td>\n",
              "      <td>0</td>\n",
              "    </tr>\n",
              "    <tr>\n",
              "      <th>2</th>\n",
              "      <td>0</td>\n",
              "      <td>0</td>\n",
              "    </tr>\n",
              "    <tr>\n",
              "      <th>3</th>\n",
              "      <td>0</td>\n",
              "      <td>0</td>\n",
              "    </tr>\n",
              "    <tr>\n",
              "      <th>4</th>\n",
              "      <td>0</td>\n",
              "      <td>0</td>\n",
              "    </tr>\n",
              "    <tr>\n",
              "      <th>...</th>\n",
              "      <td>...</td>\n",
              "      <td>...</td>\n",
              "    </tr>\n",
              "    <tr>\n",
              "      <th>2788</th>\n",
              "      <td>12</td>\n",
              "      <td>5</td>\n",
              "    </tr>\n",
              "    <tr>\n",
              "      <th>2789</th>\n",
              "      <td>11</td>\n",
              "      <td>4</td>\n",
              "    </tr>\n",
              "    <tr>\n",
              "      <th>2790</th>\n",
              "      <td>10</td>\n",
              "      <td>5</td>\n",
              "    </tr>\n",
              "    <tr>\n",
              "      <th>2791</th>\n",
              "      <td>10</td>\n",
              "      <td>4</td>\n",
              "    </tr>\n",
              "    <tr>\n",
              "      <th>2792</th>\n",
              "      <td>9</td>\n",
              "      <td>4</td>\n",
              "    </tr>\n",
              "  </tbody>\n",
              "</table>\n",
              "<p>2793 rows × 2 columns</p>\n",
              "</div>"
            ],
            "text/plain": [
              "      Tenure  Time in Job\n",
              "0          0            0\n",
              "1          0            0\n",
              "2          0            0\n",
              "3          0            0\n",
              "4          0            0\n",
              "...      ...          ...\n",
              "2788      12            5\n",
              "2789      11            4\n",
              "2790      10            5\n",
              "2791      10            4\n",
              "2792       9            4\n",
              "\n",
              "[2793 rows x 2 columns]"
            ]
          },
          "metadata": {
            "tags": []
          },
          "execution_count": 69
        }
      ]
    },
    {
      "cell_type": "code",
      "metadata": {
        "colab": {
          "base_uri": "https://localhost:8080/",
          "height": 1000
        },
        "id": "ItWumsxEUvHB",
        "outputId": "f25bc4af-d5b4-49ab-d792-19625f78bb4f"
      },
      "source": [
        "prcnt = lambda x : np.round(x/x.sum() * 100)\n",
        "tm_dif_cnt = u2.groupby(['Tenure','Time in Job'])['Tenure'].count().unstack().apply(prcnt,axis = 1)\n",
        "tm_dif_cnt"
      ],
      "execution_count": null,
      "outputs": [
        {
          "output_type": "execute_result",
          "data": {
            "text/html": [
              "<div>\n",
              "<style scoped>\n",
              "    .dataframe tbody tr th:only-of-type {\n",
              "        vertical-align: middle;\n",
              "    }\n",
              "\n",
              "    .dataframe tbody tr th {\n",
              "        vertical-align: top;\n",
              "    }\n",
              "\n",
              "    .dataframe thead th {\n",
              "        text-align: right;\n",
              "    }\n",
              "</style>\n",
              "<table border=\"1\" class=\"dataframe\">\n",
              "  <thead>\n",
              "    <tr style=\"text-align: right;\">\n",
              "      <th>Time in Job</th>\n",
              "      <th>0</th>\n",
              "      <th>1</th>\n",
              "      <th>2</th>\n",
              "      <th>3</th>\n",
              "      <th>4</th>\n",
              "      <th>5</th>\n",
              "      <th>6</th>\n",
              "      <th>7</th>\n",
              "      <th>8</th>\n",
              "      <th>9</th>\n",
              "      <th>10</th>\n",
              "      <th>11</th>\n",
              "      <th>12</th>\n",
              "    </tr>\n",
              "    <tr>\n",
              "      <th>Tenure</th>\n",
              "      <th></th>\n",
              "      <th></th>\n",
              "      <th></th>\n",
              "      <th></th>\n",
              "      <th></th>\n",
              "      <th></th>\n",
              "      <th></th>\n",
              "      <th></th>\n",
              "      <th></th>\n",
              "      <th></th>\n",
              "      <th></th>\n",
              "      <th></th>\n",
              "      <th></th>\n",
              "    </tr>\n",
              "  </thead>\n",
              "  <tbody>\n",
              "    <tr>\n",
              "      <th>0</th>\n",
              "      <td>100.0</td>\n",
              "      <td>NaN</td>\n",
              "      <td>NaN</td>\n",
              "      <td>NaN</td>\n",
              "      <td>NaN</td>\n",
              "      <td>NaN</td>\n",
              "      <td>NaN</td>\n",
              "      <td>NaN</td>\n",
              "      <td>NaN</td>\n",
              "      <td>NaN</td>\n",
              "      <td>NaN</td>\n",
              "      <td>NaN</td>\n",
              "      <td>NaN</td>\n",
              "    </tr>\n",
              "    <tr>\n",
              "      <th>1</th>\n",
              "      <td>NaN</td>\n",
              "      <td>100.0</td>\n",
              "      <td>NaN</td>\n",
              "      <td>NaN</td>\n",
              "      <td>NaN</td>\n",
              "      <td>NaN</td>\n",
              "      <td>NaN</td>\n",
              "      <td>NaN</td>\n",
              "      <td>NaN</td>\n",
              "      <td>NaN</td>\n",
              "      <td>NaN</td>\n",
              "      <td>NaN</td>\n",
              "      <td>NaN</td>\n",
              "    </tr>\n",
              "    <tr>\n",
              "      <th>2</th>\n",
              "      <td>NaN</td>\n",
              "      <td>24.0</td>\n",
              "      <td>76.0</td>\n",
              "      <td>NaN</td>\n",
              "      <td>NaN</td>\n",
              "      <td>NaN</td>\n",
              "      <td>NaN</td>\n",
              "      <td>NaN</td>\n",
              "      <td>NaN</td>\n",
              "      <td>NaN</td>\n",
              "      <td>NaN</td>\n",
              "      <td>NaN</td>\n",
              "      <td>NaN</td>\n",
              "    </tr>\n",
              "    <tr>\n",
              "      <th>3</th>\n",
              "      <td>2.0</td>\n",
              "      <td>50.0</td>\n",
              "      <td>47.0</td>\n",
              "      <td>2.0</td>\n",
              "      <td>NaN</td>\n",
              "      <td>NaN</td>\n",
              "      <td>NaN</td>\n",
              "      <td>NaN</td>\n",
              "      <td>NaN</td>\n",
              "      <td>NaN</td>\n",
              "      <td>NaN</td>\n",
              "      <td>NaN</td>\n",
              "      <td>NaN</td>\n",
              "    </tr>\n",
              "    <tr>\n",
              "      <th>4</th>\n",
              "      <td>10.0</td>\n",
              "      <td>35.0</td>\n",
              "      <td>49.0</td>\n",
              "      <td>7.0</td>\n",
              "      <td>NaN</td>\n",
              "      <td>NaN</td>\n",
              "      <td>NaN</td>\n",
              "      <td>NaN</td>\n",
              "      <td>NaN</td>\n",
              "      <td>NaN</td>\n",
              "      <td>NaN</td>\n",
              "      <td>NaN</td>\n",
              "      <td>NaN</td>\n",
              "    </tr>\n",
              "    <tr>\n",
              "      <th>5</th>\n",
              "      <td>24.0</td>\n",
              "      <td>14.0</td>\n",
              "      <td>33.0</td>\n",
              "      <td>30.0</td>\n",
              "      <td>0.0</td>\n",
              "      <td>NaN</td>\n",
              "      <td>NaN</td>\n",
              "      <td>NaN</td>\n",
              "      <td>NaN</td>\n",
              "      <td>NaN</td>\n",
              "      <td>NaN</td>\n",
              "      <td>NaN</td>\n",
              "      <td>NaN</td>\n",
              "    </tr>\n",
              "    <tr>\n",
              "      <th>6</th>\n",
              "      <td>31.0</td>\n",
              "      <td>NaN</td>\n",
              "      <td>28.0</td>\n",
              "      <td>38.0</td>\n",
              "      <td>3.0</td>\n",
              "      <td>NaN</td>\n",
              "      <td>NaN</td>\n",
              "      <td>NaN</td>\n",
              "      <td>NaN</td>\n",
              "      <td>NaN</td>\n",
              "      <td>NaN</td>\n",
              "      <td>NaN</td>\n",
              "      <td>NaN</td>\n",
              "    </tr>\n",
              "    <tr>\n",
              "      <th>7</th>\n",
              "      <td>26.0</td>\n",
              "      <td>NaN</td>\n",
              "      <td>11.0</td>\n",
              "      <td>36.0</td>\n",
              "      <td>28.0</td>\n",
              "      <td>NaN</td>\n",
              "      <td>NaN</td>\n",
              "      <td>NaN</td>\n",
              "      <td>NaN</td>\n",
              "      <td>NaN</td>\n",
              "      <td>NaN</td>\n",
              "      <td>NaN</td>\n",
              "      <td>NaN</td>\n",
              "    </tr>\n",
              "    <tr>\n",
              "      <th>8</th>\n",
              "      <td>18.0</td>\n",
              "      <td>NaN</td>\n",
              "      <td>NaN</td>\n",
              "      <td>32.0</td>\n",
              "      <td>46.0</td>\n",
              "      <td>4.0</td>\n",
              "      <td>NaN</td>\n",
              "      <td>NaN</td>\n",
              "      <td>NaN</td>\n",
              "      <td>NaN</td>\n",
              "      <td>NaN</td>\n",
              "      <td>NaN</td>\n",
              "      <td>NaN</td>\n",
              "    </tr>\n",
              "    <tr>\n",
              "      <th>9</th>\n",
              "      <td>20.0</td>\n",
              "      <td>NaN</td>\n",
              "      <td>NaN</td>\n",
              "      <td>29.0</td>\n",
              "      <td>49.0</td>\n",
              "      <td>1.0</td>\n",
              "      <td>NaN</td>\n",
              "      <td>NaN</td>\n",
              "      <td>NaN</td>\n",
              "      <td>NaN</td>\n",
              "      <td>NaN</td>\n",
              "      <td>NaN</td>\n",
              "      <td>NaN</td>\n",
              "    </tr>\n",
              "    <tr>\n",
              "      <th>10</th>\n",
              "      <td>17.0</td>\n",
              "      <td>NaN</td>\n",
              "      <td>NaN</td>\n",
              "      <td>26.0</td>\n",
              "      <td>41.0</td>\n",
              "      <td>10.0</td>\n",
              "      <td>7.0</td>\n",
              "      <td>NaN</td>\n",
              "      <td>NaN</td>\n",
              "      <td>NaN</td>\n",
              "      <td>NaN</td>\n",
              "      <td>NaN</td>\n",
              "      <td>NaN</td>\n",
              "    </tr>\n",
              "    <tr>\n",
              "      <th>11</th>\n",
              "      <td>20.0</td>\n",
              "      <td>NaN</td>\n",
              "      <td>NaN</td>\n",
              "      <td>24.0</td>\n",
              "      <td>38.0</td>\n",
              "      <td>12.0</td>\n",
              "      <td>6.0</td>\n",
              "      <td>NaN</td>\n",
              "      <td>NaN</td>\n",
              "      <td>NaN</td>\n",
              "      <td>NaN</td>\n",
              "      <td>NaN</td>\n",
              "      <td>NaN</td>\n",
              "    </tr>\n",
              "    <tr>\n",
              "      <th>12</th>\n",
              "      <td>22.0</td>\n",
              "      <td>NaN</td>\n",
              "      <td>NaN</td>\n",
              "      <td>18.0</td>\n",
              "      <td>30.0</td>\n",
              "      <td>23.0</td>\n",
              "      <td>8.0</td>\n",
              "      <td>NaN</td>\n",
              "      <td>NaN</td>\n",
              "      <td>NaN</td>\n",
              "      <td>NaN</td>\n",
              "      <td>NaN</td>\n",
              "      <td>NaN</td>\n",
              "    </tr>\n",
              "    <tr>\n",
              "      <th>13</th>\n",
              "      <td>20.0</td>\n",
              "      <td>NaN</td>\n",
              "      <td>NaN</td>\n",
              "      <td>4.0</td>\n",
              "      <td>12.0</td>\n",
              "      <td>30.0</td>\n",
              "      <td>32.0</td>\n",
              "      <td>2.0</td>\n",
              "      <td>NaN</td>\n",
              "      <td>NaN</td>\n",
              "      <td>NaN</td>\n",
              "      <td>NaN</td>\n",
              "      <td>NaN</td>\n",
              "    </tr>\n",
              "    <tr>\n",
              "      <th>14</th>\n",
              "      <td>32.0</td>\n",
              "      <td>NaN</td>\n",
              "      <td>NaN</td>\n",
              "      <td>NaN</td>\n",
              "      <td>NaN</td>\n",
              "      <td>41.0</td>\n",
              "      <td>23.0</td>\n",
              "      <td>5.0</td>\n",
              "      <td>NaN</td>\n",
              "      <td>NaN</td>\n",
              "      <td>NaN</td>\n",
              "      <td>NaN</td>\n",
              "      <td>NaN</td>\n",
              "    </tr>\n",
              "    <tr>\n",
              "      <th>15</th>\n",
              "      <td>18.0</td>\n",
              "      <td>NaN</td>\n",
              "      <td>NaN</td>\n",
              "      <td>NaN</td>\n",
              "      <td>NaN</td>\n",
              "      <td>36.0</td>\n",
              "      <td>39.0</td>\n",
              "      <td>6.0</td>\n",
              "      <td>NaN</td>\n",
              "      <td>NaN</td>\n",
              "      <td>NaN</td>\n",
              "      <td>NaN</td>\n",
              "      <td>NaN</td>\n",
              "    </tr>\n",
              "    <tr>\n",
              "      <th>16</th>\n",
              "      <td>20.0</td>\n",
              "      <td>NaN</td>\n",
              "      <td>NaN</td>\n",
              "      <td>NaN</td>\n",
              "      <td>NaN</td>\n",
              "      <td>33.0</td>\n",
              "      <td>47.0</td>\n",
              "      <td>NaN</td>\n",
              "      <td>NaN</td>\n",
              "      <td>NaN</td>\n",
              "      <td>NaN</td>\n",
              "      <td>NaN</td>\n",
              "      <td>NaN</td>\n",
              "    </tr>\n",
              "    <tr>\n",
              "      <th>17</th>\n",
              "      <td>14.0</td>\n",
              "      <td>NaN</td>\n",
              "      <td>NaN</td>\n",
              "      <td>NaN</td>\n",
              "      <td>NaN</td>\n",
              "      <td>24.0</td>\n",
              "      <td>52.0</td>\n",
              "      <td>3.0</td>\n",
              "      <td>NaN</td>\n",
              "      <td>7.0</td>\n",
              "      <td>NaN</td>\n",
              "      <td>NaN</td>\n",
              "      <td>NaN</td>\n",
              "    </tr>\n",
              "    <tr>\n",
              "      <th>18</th>\n",
              "      <td>9.0</td>\n",
              "      <td>NaN</td>\n",
              "      <td>NaN</td>\n",
              "      <td>NaN</td>\n",
              "      <td>NaN</td>\n",
              "      <td>41.0</td>\n",
              "      <td>27.0</td>\n",
              "      <td>5.0</td>\n",
              "      <td>9.0</td>\n",
              "      <td>9.0</td>\n",
              "      <td>NaN</td>\n",
              "      <td>NaN</td>\n",
              "      <td>NaN</td>\n",
              "    </tr>\n",
              "    <tr>\n",
              "      <th>19</th>\n",
              "      <td>20.0</td>\n",
              "      <td>NaN</td>\n",
              "      <td>NaN</td>\n",
              "      <td>NaN</td>\n",
              "      <td>NaN</td>\n",
              "      <td>50.0</td>\n",
              "      <td>20.0</td>\n",
              "      <td>NaN</td>\n",
              "      <td>NaN</td>\n",
              "      <td>10.0</td>\n",
              "      <td>NaN</td>\n",
              "      <td>NaN</td>\n",
              "      <td>NaN</td>\n",
              "    </tr>\n",
              "    <tr>\n",
              "      <th>20</th>\n",
              "      <td>NaN</td>\n",
              "      <td>NaN</td>\n",
              "      <td>NaN</td>\n",
              "      <td>NaN</td>\n",
              "      <td>NaN</td>\n",
              "      <td>NaN</td>\n",
              "      <td>12.0</td>\n",
              "      <td>NaN</td>\n",
              "      <td>62.0</td>\n",
              "      <td>25.0</td>\n",
              "      <td>NaN</td>\n",
              "      <td>NaN</td>\n",
              "      <td>NaN</td>\n",
              "    </tr>\n",
              "    <tr>\n",
              "      <th>21</th>\n",
              "      <td>20.0</td>\n",
              "      <td>NaN</td>\n",
              "      <td>NaN</td>\n",
              "      <td>NaN</td>\n",
              "      <td>NaN</td>\n",
              "      <td>NaN</td>\n",
              "      <td>NaN</td>\n",
              "      <td>NaN</td>\n",
              "      <td>40.0</td>\n",
              "      <td>40.0</td>\n",
              "      <td>NaN</td>\n",
              "      <td>NaN</td>\n",
              "      <td>NaN</td>\n",
              "    </tr>\n",
              "    <tr>\n",
              "      <th>22</th>\n",
              "      <td>14.0</td>\n",
              "      <td>NaN</td>\n",
              "      <td>NaN</td>\n",
              "      <td>NaN</td>\n",
              "      <td>NaN</td>\n",
              "      <td>NaN</td>\n",
              "      <td>NaN</td>\n",
              "      <td>NaN</td>\n",
              "      <td>57.0</td>\n",
              "      <td>29.0</td>\n",
              "      <td>NaN</td>\n",
              "      <td>NaN</td>\n",
              "      <td>NaN</td>\n",
              "    </tr>\n",
              "    <tr>\n",
              "      <th>23</th>\n",
              "      <td>29.0</td>\n",
              "      <td>NaN</td>\n",
              "      <td>NaN</td>\n",
              "      <td>NaN</td>\n",
              "      <td>NaN</td>\n",
              "      <td>NaN</td>\n",
              "      <td>NaN</td>\n",
              "      <td>NaN</td>\n",
              "      <td>29.0</td>\n",
              "      <td>43.0</td>\n",
              "      <td>NaN</td>\n",
              "      <td>NaN</td>\n",
              "      <td>NaN</td>\n",
              "    </tr>\n",
              "    <tr>\n",
              "      <th>24</th>\n",
              "      <td>12.0</td>\n",
              "      <td>NaN</td>\n",
              "      <td>NaN</td>\n",
              "      <td>NaN</td>\n",
              "      <td>NaN</td>\n",
              "      <td>NaN</td>\n",
              "      <td>NaN</td>\n",
              "      <td>NaN</td>\n",
              "      <td>69.0</td>\n",
              "      <td>19.0</td>\n",
              "      <td>NaN</td>\n",
              "      <td>NaN</td>\n",
              "      <td>NaN</td>\n",
              "    </tr>\n",
              "    <tr>\n",
              "      <th>25</th>\n",
              "      <td>25.0</td>\n",
              "      <td>NaN</td>\n",
              "      <td>NaN</td>\n",
              "      <td>NaN</td>\n",
              "      <td>NaN</td>\n",
              "      <td>NaN</td>\n",
              "      <td>NaN</td>\n",
              "      <td>NaN</td>\n",
              "      <td>12.0</td>\n",
              "      <td>62.0</td>\n",
              "      <td>NaN</td>\n",
              "      <td>NaN</td>\n",
              "      <td>NaN</td>\n",
              "    </tr>\n",
              "    <tr>\n",
              "      <th>26</th>\n",
              "      <td>17.0</td>\n",
              "      <td>NaN</td>\n",
              "      <td>NaN</td>\n",
              "      <td>NaN</td>\n",
              "      <td>NaN</td>\n",
              "      <td>NaN</td>\n",
              "      <td>NaN</td>\n",
              "      <td>NaN</td>\n",
              "      <td>67.0</td>\n",
              "      <td>17.0</td>\n",
              "      <td>NaN</td>\n",
              "      <td>NaN</td>\n",
              "      <td>NaN</td>\n",
              "    </tr>\n",
              "    <tr>\n",
              "      <th>27</th>\n",
              "      <td>12.0</td>\n",
              "      <td>NaN</td>\n",
              "      <td>NaN</td>\n",
              "      <td>NaN</td>\n",
              "      <td>NaN</td>\n",
              "      <td>NaN</td>\n",
              "      <td>NaN</td>\n",
              "      <td>NaN</td>\n",
              "      <td>50.0</td>\n",
              "      <td>38.0</td>\n",
              "      <td>NaN</td>\n",
              "      <td>NaN</td>\n",
              "      <td>NaN</td>\n",
              "    </tr>\n",
              "    <tr>\n",
              "      <th>28</th>\n",
              "      <td>8.0</td>\n",
              "      <td>NaN</td>\n",
              "      <td>NaN</td>\n",
              "      <td>NaN</td>\n",
              "      <td>NaN</td>\n",
              "      <td>NaN</td>\n",
              "      <td>NaN</td>\n",
              "      <td>NaN</td>\n",
              "      <td>46.0</td>\n",
              "      <td>23.0</td>\n",
              "      <td>15.0</td>\n",
              "      <td>NaN</td>\n",
              "      <td>8.0</td>\n",
              "    </tr>\n",
              "    <tr>\n",
              "      <th>29</th>\n",
              "      <td>NaN</td>\n",
              "      <td>NaN</td>\n",
              "      <td>NaN</td>\n",
              "      <td>NaN</td>\n",
              "      <td>NaN</td>\n",
              "      <td>NaN</td>\n",
              "      <td>NaN</td>\n",
              "      <td>NaN</td>\n",
              "      <td>NaN</td>\n",
              "      <td>100.0</td>\n",
              "      <td>NaN</td>\n",
              "      <td>NaN</td>\n",
              "      <td>NaN</td>\n",
              "    </tr>\n",
              "    <tr>\n",
              "      <th>30</th>\n",
              "      <td>NaN</td>\n",
              "      <td>NaN</td>\n",
              "      <td>NaN</td>\n",
              "      <td>NaN</td>\n",
              "      <td>NaN</td>\n",
              "      <td>NaN</td>\n",
              "      <td>NaN</td>\n",
              "      <td>NaN</td>\n",
              "      <td>25.0</td>\n",
              "      <td>50.0</td>\n",
              "      <td>NaN</td>\n",
              "      <td>NaN</td>\n",
              "      <td>25.0</td>\n",
              "    </tr>\n",
              "    <tr>\n",
              "      <th>31</th>\n",
              "      <td>NaN</td>\n",
              "      <td>NaN</td>\n",
              "      <td>NaN</td>\n",
              "      <td>NaN</td>\n",
              "      <td>NaN</td>\n",
              "      <td>NaN</td>\n",
              "      <td>NaN</td>\n",
              "      <td>NaN</td>\n",
              "      <td>NaN</td>\n",
              "      <td>NaN</td>\n",
              "      <td>NaN</td>\n",
              "      <td>100.0</td>\n",
              "      <td>NaN</td>\n",
              "    </tr>\n",
              "    <tr>\n",
              "      <th>32</th>\n",
              "      <td>NaN</td>\n",
              "      <td>NaN</td>\n",
              "      <td>NaN</td>\n",
              "      <td>NaN</td>\n",
              "      <td>NaN</td>\n",
              "      <td>NaN</td>\n",
              "      <td>NaN</td>\n",
              "      <td>NaN</td>\n",
              "      <td>NaN</td>\n",
              "      <td>NaN</td>\n",
              "      <td>NaN</td>\n",
              "      <td>50.0</td>\n",
              "      <td>50.0</td>\n",
              "    </tr>\n",
              "    <tr>\n",
              "      <th>33</th>\n",
              "      <td>NaN</td>\n",
              "      <td>NaN</td>\n",
              "      <td>NaN</td>\n",
              "      <td>NaN</td>\n",
              "      <td>NaN</td>\n",
              "      <td>NaN</td>\n",
              "      <td>NaN</td>\n",
              "      <td>NaN</td>\n",
              "      <td>NaN</td>\n",
              "      <td>NaN</td>\n",
              "      <td>NaN</td>\n",
              "      <td>100.0</td>\n",
              "      <td>NaN</td>\n",
              "    </tr>\n",
              "  </tbody>\n",
              "</table>\n",
              "</div>"
            ],
            "text/plain": [
              "Time in Job     0      1     2     3     4   ...    8      9     10     11    12\n",
              "Tenure                                       ...                                \n",
              "0            100.0    NaN   NaN   NaN   NaN  ...   NaN    NaN   NaN    NaN   NaN\n",
              "1              NaN  100.0   NaN   NaN   NaN  ...   NaN    NaN   NaN    NaN   NaN\n",
              "2              NaN   24.0  76.0   NaN   NaN  ...   NaN    NaN   NaN    NaN   NaN\n",
              "3              2.0   50.0  47.0   2.0   NaN  ...   NaN    NaN   NaN    NaN   NaN\n",
              "4             10.0   35.0  49.0   7.0   NaN  ...   NaN    NaN   NaN    NaN   NaN\n",
              "5             24.0   14.0  33.0  30.0   0.0  ...   NaN    NaN   NaN    NaN   NaN\n",
              "6             31.0    NaN  28.0  38.0   3.0  ...   NaN    NaN   NaN    NaN   NaN\n",
              "7             26.0    NaN  11.0  36.0  28.0  ...   NaN    NaN   NaN    NaN   NaN\n",
              "8             18.0    NaN   NaN  32.0  46.0  ...   NaN    NaN   NaN    NaN   NaN\n",
              "9             20.0    NaN   NaN  29.0  49.0  ...   NaN    NaN   NaN    NaN   NaN\n",
              "10            17.0    NaN   NaN  26.0  41.0  ...   NaN    NaN   NaN    NaN   NaN\n",
              "11            20.0    NaN   NaN  24.0  38.0  ...   NaN    NaN   NaN    NaN   NaN\n",
              "12            22.0    NaN   NaN  18.0  30.0  ...   NaN    NaN   NaN    NaN   NaN\n",
              "13            20.0    NaN   NaN   4.0  12.0  ...   NaN    NaN   NaN    NaN   NaN\n",
              "14            32.0    NaN   NaN   NaN   NaN  ...   NaN    NaN   NaN    NaN   NaN\n",
              "15            18.0    NaN   NaN   NaN   NaN  ...   NaN    NaN   NaN    NaN   NaN\n",
              "16            20.0    NaN   NaN   NaN   NaN  ...   NaN    NaN   NaN    NaN   NaN\n",
              "17            14.0    NaN   NaN   NaN   NaN  ...   NaN    7.0   NaN    NaN   NaN\n",
              "18             9.0    NaN   NaN   NaN   NaN  ...   9.0    9.0   NaN    NaN   NaN\n",
              "19            20.0    NaN   NaN   NaN   NaN  ...   NaN   10.0   NaN    NaN   NaN\n",
              "20             NaN    NaN   NaN   NaN   NaN  ...  62.0   25.0   NaN    NaN   NaN\n",
              "21            20.0    NaN   NaN   NaN   NaN  ...  40.0   40.0   NaN    NaN   NaN\n",
              "22            14.0    NaN   NaN   NaN   NaN  ...  57.0   29.0   NaN    NaN   NaN\n",
              "23            29.0    NaN   NaN   NaN   NaN  ...  29.0   43.0   NaN    NaN   NaN\n",
              "24            12.0    NaN   NaN   NaN   NaN  ...  69.0   19.0   NaN    NaN   NaN\n",
              "25            25.0    NaN   NaN   NaN   NaN  ...  12.0   62.0   NaN    NaN   NaN\n",
              "26            17.0    NaN   NaN   NaN   NaN  ...  67.0   17.0   NaN    NaN   NaN\n",
              "27            12.0    NaN   NaN   NaN   NaN  ...  50.0   38.0   NaN    NaN   NaN\n",
              "28             8.0    NaN   NaN   NaN   NaN  ...  46.0   23.0  15.0    NaN   8.0\n",
              "29             NaN    NaN   NaN   NaN   NaN  ...   NaN  100.0   NaN    NaN   NaN\n",
              "30             NaN    NaN   NaN   NaN   NaN  ...  25.0   50.0   NaN    NaN  25.0\n",
              "31             NaN    NaN   NaN   NaN   NaN  ...   NaN    NaN   NaN  100.0   NaN\n",
              "32             NaN    NaN   NaN   NaN   NaN  ...   NaN    NaN   NaN   50.0  50.0\n",
              "33             NaN    NaN   NaN   NaN   NaN  ...   NaN    NaN   NaN  100.0   NaN\n",
              "\n",
              "[34 rows x 13 columns]"
            ]
          },
          "metadata": {
            "tags": []
          },
          "execution_count": 70
        }
      ]
    },
    {
      "cell_type": "code",
      "metadata": {
        "id": "lkgX4ntvV5AO"
      },
      "source": [
        ""
      ],
      "execution_count": null,
      "outputs": []
    },
    {
      "cell_type": "code",
      "metadata": {
        "id": "ZxushUK-Y-ZZ"
      },
      "source": [
        ""
      ],
      "execution_count": null,
      "outputs": []
    },
    {
      "cell_type": "code",
      "metadata": {
        "colab": {
          "base_uri": "https://localhost:8080/",
          "height": 227
        },
        "id": "9e_oKaIaY-Ji",
        "outputId": "e62c0b8f-3609-4ec3-bc7e-af28f9eb0892"
      },
      "source": [
        "prcnt = lambda x: np.round(x/x.sum() * 100)\n",
        "agegrp_lvl_cnt  = u2.groupby(['Age Group','Career Level'])['Age Group'].count().unstack().apply(prcnt,axis = 1)\n",
        "agegrp_lvl_cnt"
      ],
      "execution_count": null,
      "outputs": [
        {
          "output_type": "execute_result",
          "data": {
            "text/html": [
              "<div>\n",
              "<style scoped>\n",
              "    .dataframe tbody tr th:only-of-type {\n",
              "        vertical-align: middle;\n",
              "    }\n",
              "\n",
              "    .dataframe tbody tr th {\n",
              "        vertical-align: top;\n",
              "    }\n",
              "\n",
              "    .dataframe thead th {\n",
              "        text-align: right;\n",
              "    }\n",
              "</style>\n",
              "<table border=\"1\" class=\"dataframe\">\n",
              "  <thead>\n",
              "    <tr style=\"text-align: right;\">\n",
              "      <th>Career Level</th>\n",
              "      <th>1</th>\n",
              "      <th>2</th>\n",
              "      <th>3</th>\n",
              "      <th>4</th>\n",
              "      <th>5</th>\n",
              "      <th>6</th>\n",
              "    </tr>\n",
              "    <tr>\n",
              "      <th>Age Group</th>\n",
              "      <th></th>\n",
              "      <th></th>\n",
              "      <th></th>\n",
              "      <th></th>\n",
              "      <th></th>\n",
              "      <th></th>\n",
              "    </tr>\n",
              "  </thead>\n",
              "  <tbody>\n",
              "    <tr>\n",
              "      <th>21-30</th>\n",
              "      <td>17.0</td>\n",
              "      <td>40.0</td>\n",
              "      <td>31.0</td>\n",
              "      <td>11.0</td>\n",
              "      <td>0.0</td>\n",
              "      <td>NaN</td>\n",
              "    </tr>\n",
              "    <tr>\n",
              "      <th>31-40</th>\n",
              "      <td>NaN</td>\n",
              "      <td>NaN</td>\n",
              "      <td>6.0</td>\n",
              "      <td>56.0</td>\n",
              "      <td>37.0</td>\n",
              "      <td>0.0</td>\n",
              "    </tr>\n",
              "    <tr>\n",
              "      <th>41-50</th>\n",
              "      <td>NaN</td>\n",
              "      <td>NaN</td>\n",
              "      <td>NaN</td>\n",
              "      <td>NaN</td>\n",
              "      <td>32.0</td>\n",
              "      <td>68.0</td>\n",
              "    </tr>\n",
              "    <tr>\n",
              "      <th>51-60</th>\n",
              "      <td>NaN</td>\n",
              "      <td>NaN</td>\n",
              "      <td>NaN</td>\n",
              "      <td>NaN</td>\n",
              "      <td>NaN</td>\n",
              "      <td>100.0</td>\n",
              "    </tr>\n",
              "    <tr>\n",
              "      <th>Below 20</th>\n",
              "      <td>100.0</td>\n",
              "      <td>NaN</td>\n",
              "      <td>NaN</td>\n",
              "      <td>NaN</td>\n",
              "      <td>NaN</td>\n",
              "      <td>NaN</td>\n",
              "    </tr>\n",
              "  </tbody>\n",
              "</table>\n",
              "</div>"
            ],
            "text/plain": [
              "Career Level      1     2     3     4     5      6\n",
              "Age Group                                         \n",
              "21-30          17.0  40.0  31.0  11.0   0.0    NaN\n",
              "31-40           NaN   NaN   6.0  56.0  37.0    0.0\n",
              "41-50           NaN   NaN   NaN   NaN  32.0   68.0\n",
              "51-60           NaN   NaN   NaN   NaN   NaN  100.0\n",
              "Below 20      100.0   NaN   NaN   NaN   NaN    NaN"
            ]
          },
          "metadata": {
            "tags": []
          },
          "execution_count": 71
        }
      ]
    },
    {
      "cell_type": "code",
      "metadata": {
        "colab": {
          "base_uri": "https://localhost:8080/"
        },
        "id": "B0L3V5SNauAs",
        "outputId": "7f9ed52b-fb67-4130-a245-f1e43ee8ac4e"
      },
      "source": [
        "agegrp_lvl_cnt[1].keys().values"
      ],
      "execution_count": null,
      "outputs": [
        {
          "output_type": "execute_result",
          "data": {
            "text/plain": [
              "array(['21-30', '31-40', '41-50', '51-60', 'Below 20'], dtype=object)"
            ]
          },
          "metadata": {
            "tags": []
          },
          "execution_count": 72
        }
      ]
    },
    {
      "cell_type": "code",
      "metadata": {
        "colab": {
          "base_uri": "https://localhost:8080/",
          "height": 427
        },
        "id": "JaSmixYpbL7J",
        "outputId": "3116e046-6639-406f-a667-d5428e211cd8"
      },
      "source": [
        "fig  = plt.figure(figsize=(18,7))\n",
        "barWidth  = 0.25\n",
        "\n",
        "bar1 = agegrp_lvl_cnt.to_numpy()[0]\n",
        "bar2 = agegrp_lvl_cnt.to_numpy()[1]\n",
        "bar3 = agegrp_lvl_cnt.to_numpy()[2]\n",
        "bar4 = agegrp_lvl_cnt.to_numpy()[3]\n",
        "bar5 = agegrp_lvl_cnt.to_numpy()[4]\n",
        "\n",
        "\n",
        "r1 = np.arange(len(bar1))\n",
        "r2 = [x + barWidth for x in r1]\n",
        "r3 = [x + barWidth for x in r2]\n",
        "r4 = [x + barWidth for x in r3]\n",
        "r5 = [x + barWidth for x in r4]\n",
        "\n",
        "\n",
        "plt.bar(r1,bar1, width=barWidth, label=agegrp_lvl_cnt[1].keys().values[0])\n",
        "plt.bar(r2,bar2, width=barWidth, label=agegrp_lvl_cnt[1].keys().values[1])\n",
        "plt.bar(r3,bar3, width=barWidth, label=agegrp_lvl_cnt[1].keys().values[2])\n",
        "plt.bar(r4,bar4, width=barWidth, label=agegrp_lvl_cnt[1].keys().values[3])\n",
        "plt.bar(r5,bar5, width=barWidth, label=agegrp_lvl_cnt[1].keys().values[4])\n",
        "\n",
        "plt.xticks([r + barWidth for r in range(len(bar1))],agegrp_lvl_cnt.keys().values)\n",
        "\n",
        "plt.legend()\n",
        "plt.show()"
      ],
      "execution_count": null,
      "outputs": [
        {
          "output_type": "display_data",
          "data": {
            "image/png": "[encoded data removed]",
            "text/plain": [
              "<Figure size 1296x504 with 1 Axes>"
            ]
          },
          "metadata": {
            "tags": [],
            "needs_background": "light"
          }
        }
      ]
    },
    {
      "cell_type": "code",
      "metadata": {
        "id": "x-RE1yjLZ5zJ"
      },
      "source": [
        ""
      ],
      "execution_count": null,
      "outputs": []
    },
    {
      "cell_type": "code",
      "metadata": {
        "id": "TKEOaXJHeroP"
      },
      "source": [
        ""
      ],
      "execution_count": null,
      "outputs": []
    },
    {
      "cell_type": "code",
      "metadata": {
        "colab": {
          "base_uri": "https://localhost:8080/",
          "height": 513
        },
        "id": "7S0OgNMMfN1a",
        "outputId": "792c2970-2a6a-400c-c85d-81c5c7b5b609"
      },
      "source": [
        "plt.figure(figsize=(18,8))\n",
        "barWidth = 0.25\n",
        "\n",
        "barr1 = crlvl_act_cnt.to_numpy()\n",
        "barr2 = crlvl_ter_cnt.to_numpy()\n",
        "\n",
        "rr1 = np.arange(len(bar1))\n",
        "rr2 = [x + barWidth for x in rr1]\n",
        "\n",
        "plt.bar(rr1,barr1,width=barWidth, label = 'Active People')\n",
        "plt.bar(rr2,barr2,width=barWidth, label = 'Terminated People')\n",
        "\n",
        "plt.xlabel('Career Levels',fontweight = 'bold')\n",
        "plt.ylabel('Percentage of People',fontweight = 'bold')\n",
        "plt.title('Difference of Career Level between Active and Terminated People')\n",
        "plt.xticks([r + barWidth for r in range(len(barr1))], crlvl_act_cnt.keys().values)\n",
        "\n",
        "plt.legend()\n",
        "plt.show()"
      ],
      "execution_count": null,
      "outputs": [
        {
          "output_type": "display_data",
          "data": {
            "image/png": "[encoded data removed]",
            "text/plain": [
              "<Figure size 1296x576 with 1 Axes>"
            ]
          },
          "metadata": {
            "tags": [],
            "needs_background": "light"
          }
        }
      ]
    },
    {
      "cell_type": "code",
      "metadata": {
        "colab": {
          "base_uri": "https://localhost:8080/",
          "height": 404
        },
        "id": "LKmuYAroh7hW",
        "outputId": "b88b2ef5-d9fb-405f-94e5-196cd94121b4"
      },
      "source": [
        "fig = plt.figure(figsize = (16, 6))\n",
        "\n",
        "plt.plot( crlvl_act_cnt.keys().values, crlvl_act_cnt.values, marker='o', markerfacecolor='blue', markersize=12, color='skyblue', linewidth=3,label = 'Active People')\n",
        "plt.plot( crlvl_ter_cnt.keys().values, crlvl_ter_cnt.values, marker='v', color='olive' , linewidth=2, linestyle='dashed',label = 'Terminated People')\n",
        "\n",
        "plt.xlabel('Career Levels',fontweight = 'bold')\n",
        "plt.ylabel('Percentage of People',fontweight = 'bold')\n",
        "plt.title('Difference of Career Level between Active and Terminated People')\n",
        "\n",
        "plt.xticks(crlvl_ter_cnt.keys().values)\n",
        "\n",
        "plt.legend();"
      ],
      "execution_count": null,
      "outputs": [
        {
          "output_type": "display_data",
          "data": {
            "image/png": "[encoded data removed]",
            "text/plain": [
              "<Figure size 1152x432 with 1 Axes>"
            ]
          },
          "metadata": {
            "tags": [],
            "needs_background": "light"
          }
        }
      ]
    },
    {
      "cell_type": "code",
      "metadata": {
        "id": "eM1wQ0Snktiy"
      },
      "source": [
        ""
      ],
      "execution_count": null,
      "outputs": []
    }
  ]
}
{
  "nbformat": 4,
  "nbformat_minor": 0,
  "metadata": {
    "colab": {
      "name": "Idustrial_safety_01.ipynb",
      "provenance": [],
      "collapsed_sections": [],
      "authorship_tag": "ABX9TyPPHIFsEEiTGCUOXwpC9UuT",
      "include_colab_link": true
    },
    "kernelspec": {
      "name": "python3",
      "display_name": "Python 3"
    }
  },
  "cells": [
    {
      "cell_type": "markdown",
      "metadata": {
        "id": "view-in-github",
        "colab_type": "text"
      },
      "source": [
        "<a href=\"https://colab.research.google.com/github/vivek-varshney/Practice/blob/main/HR_DATA/Idustrial_safety_01.ipynb\" target=\"_parent\"><img src=\"https://colab.research.google.com/assets/colab-badge.svg\" alt=\"Open In Colab\"/></a>"
      ]
    },
    {
      "cell_type": "code",
      "metadata": {
        "id": "kibbhHRVMGp_"
      },
      "source": [
        "import numpy as np\n",
        "import pandas as pd\n",
        "import matplotlib.pyplot as plt"
      ],
      "execution_count": null,
      "outputs": []
    },
    {
      "cell_type": "code",
      "metadata": {
        "id": "OubbxWZUMyBG",
        "colab": {
          "base_uri": "https://localhost:8080/"
        },
        "outputId": "e47a4a26-0e0e-4c33-a071-d9de9af4aa41"
      },
      "source": [
        "!wget https://raw.githubusercontent.com/gauravpks/ml-repo/master/IndustrialSafetyDS/industrial_safety.csv"
      ],
      "execution_count": null,
      "outputs": [
        {
          "output_type": "stream",
          "text": [
            "--2020-11-23 15:33:26--  https://raw.githubusercontent.com/gauravpks/ml-repo/master/IndustrialSafetyDS/industrial_safety.csv\n",
            "Resolving raw.githubusercontent.com (raw.githubusercontent.com)... 151.101.0.133, 151.101.64.133, 151.101.128.133, ...\n",
            "Connecting to raw.githubusercontent.com (raw.githubusercontent.com)|151.101.0.133|:443... connected.\n",
            "HTTP request sent, awaiting response... 200 OK\n",
            "Length: 192153 (188K) [text/plain]\n",
            "Saving to: ‘industrial_safety.csv’\n",
            "\n",
            "industrial_safety.c 100%[===================>] 187.65K  --.-KB/s    in 0.01s   \n",
            "\n",
            "2020-11-23 15:33:27 (16.4 MB/s) - ‘industrial_safety.csv’ saved [192153/192153]\n",
            "\n"
          ],
          "name": "stdout"
        }
      ]
    },
    {
      "cell_type": "code",
      "metadata": {
        "id": "86c2nuKTM-Tp",
        "colab": {
          "base_uri": "https://localhost:8080/",
          "height": 306
        },
        "outputId": "5d35c010-0d07-44a5-ee22-3e935ff7d3de"
      },
      "source": [
        "iss = pd.read_csv(\"industrial_safety.csv\")\n",
        "iss.head()"
      ],
      "execution_count": null,
      "outputs": [
        {
          "output_type": "execute_result",
          "data": {
            "text/html": [
              "<div>\n",
              "<style scoped>\n",
              "    .dataframe tbody tr th:only-of-type {\n",
              "        vertical-align: middle;\n",
              "    }\n",
              "\n",
              "    .dataframe tbody tr th {\n",
              "        vertical-align: top;\n",
              "    }\n",
              "\n",
              "    .dataframe thead th {\n",
              "        text-align: right;\n",
              "    }\n",
              "</style>\n",
              "<table border=\"1\" class=\"dataframe\">\n",
              "  <thead>\n",
              "    <tr style=\"text-align: right;\">\n",
              "      <th></th>\n",
              "      <th>Data</th>\n",
              "      <th>Countries</th>\n",
              "      <th>Local</th>\n",
              "      <th>Industry Sector</th>\n",
              "      <th>Accident Level</th>\n",
              "      <th>Potential Accident Level</th>\n",
              "      <th>Gender</th>\n",
              "      <th>Employee or Third Party</th>\n",
              "      <th>Critical Risk</th>\n",
              "      <th>Description</th>\n",
              "    </tr>\n",
              "  </thead>\n",
              "  <tbody>\n",
              "    <tr>\n",
              "      <th>0</th>\n",
              "      <td>01-01-2016 00:00</td>\n",
              "      <td>United States</td>\n",
              "      <td>West Virginia</td>\n",
              "      <td>Mining</td>\n",
              "      <td>I</td>\n",
              "      <td>IV</td>\n",
              "      <td>Male</td>\n",
              "      <td>Third Party</td>\n",
              "      <td>Pressed</td>\n",
              "      <td>While removing the drill rod of the Jumbo 08 f...</td>\n",
              "    </tr>\n",
              "    <tr>\n",
              "      <th>1</th>\n",
              "      <td>02-01-2016 00:00</td>\n",
              "      <td>Canada</td>\n",
              "      <td>Alberta</td>\n",
              "      <td>Mining</td>\n",
              "      <td>I</td>\n",
              "      <td>IV</td>\n",
              "      <td>Male</td>\n",
              "      <td>Employee</td>\n",
              "      <td>Pressurized Systems</td>\n",
              "      <td>During the activation of a sodium sulphide pum...</td>\n",
              "    </tr>\n",
              "    <tr>\n",
              "      <th>2</th>\n",
              "      <td>06-01-2016 00:00</td>\n",
              "      <td>United States</td>\n",
              "      <td>Kentucky</td>\n",
              "      <td>Mining</td>\n",
              "      <td>I</td>\n",
              "      <td>III</td>\n",
              "      <td>Male</td>\n",
              "      <td>Third Party (Remote)</td>\n",
              "      <td>Manual Tools</td>\n",
              "      <td>In the sub-station MILPO located at level +170...</td>\n",
              "    </tr>\n",
              "    <tr>\n",
              "      <th>3</th>\n",
              "      <td>08-01-2016 00:00</td>\n",
              "      <td>United States</td>\n",
              "      <td>Illinois</td>\n",
              "      <td>Mining</td>\n",
              "      <td>I</td>\n",
              "      <td>I</td>\n",
              "      <td>Male</td>\n",
              "      <td>Third Party</td>\n",
              "      <td>Others</td>\n",
              "      <td>Being 9:45 am. approximately in the Nv. 1880 C...</td>\n",
              "    </tr>\n",
              "    <tr>\n",
              "      <th>4</th>\n",
              "      <td>10-01-2016 00:00</td>\n",
              "      <td>United States</td>\n",
              "      <td>Illinois</td>\n",
              "      <td>Mining</td>\n",
              "      <td>IV</td>\n",
              "      <td>IV</td>\n",
              "      <td>Male</td>\n",
              "      <td>Third Party</td>\n",
              "      <td>Others</td>\n",
              "      <td>Approximately at 11:45 a.m. in circumstances t...</td>\n",
              "    </tr>\n",
              "  </tbody>\n",
              "</table>\n",
              "</div>"
            ],
            "text/plain": [
              "               Data  ...                                        Description\n",
              "0  01-01-2016 00:00  ...  While removing the drill rod of the Jumbo 08 f...\n",
              "1  02-01-2016 00:00  ...  During the activation of a sodium sulphide pum...\n",
              "2  06-01-2016 00:00  ...  In the sub-station MILPO located at level +170...\n",
              "3  08-01-2016 00:00  ...  Being 9:45 am. approximately in the Nv. 1880 C...\n",
              "4  10-01-2016 00:00  ...  Approximately at 11:45 a.m. in circumstances t...\n",
              "\n",
              "[5 rows x 10 columns]"
            ]
          },
          "metadata": {
            "tags": []
          },
          "execution_count": 4
        }
      ]
    },
    {
      "cell_type": "code",
      "metadata": {
        "id": "R8L-Dg8IEDmT",
        "colab": {
          "base_uri": "https://localhost:8080/",
          "height": 306
        },
        "outputId": "894f03fc-5b38-4f94-a9d5-d4c1c87fda58"
      },
      "source": [
        "iss.rename(columns={'Data':'Date', 'Countries':'Country'}, inplace=True)\n",
        "iss.head()"
      ],
      "execution_count": null,
      "outputs": [
        {
          "output_type": "execute_result",
          "data": {
            "text/html": [
              "<div>\n",
              "<style scoped>\n",
              "    .dataframe tbody tr th:only-of-type {\n",
              "        vertical-align: middle;\n",
              "    }\n",
              "\n",
              "    .dataframe tbody tr th {\n",
              "        vertical-align: top;\n",
              "    }\n",
              "\n",
              "    .dataframe thead th {\n",
              "        text-align: right;\n",
              "    }\n",
              "</style>\n",
              "<table border=\"1\" class=\"dataframe\">\n",
              "  <thead>\n",
              "    <tr style=\"text-align: right;\">\n",
              "      <th></th>\n",
              "      <th>Date</th>\n",
              "      <th>Country</th>\n",
              "      <th>Local</th>\n",
              "      <th>Industry Sector</th>\n",
              "      <th>Accident Level</th>\n",
              "      <th>Potential Accident Level</th>\n",
              "      <th>Gender</th>\n",
              "      <th>Employee or Third Party</th>\n",
              "      <th>Critical Risk</th>\n",
              "      <th>Description</th>\n",
              "    </tr>\n",
              "  </thead>\n",
              "  <tbody>\n",
              "    <tr>\n",
              "      <th>0</th>\n",
              "      <td>01-01-2016 00:00</td>\n",
              "      <td>United States</td>\n",
              "      <td>West Virginia</td>\n",
              "      <td>Mining</td>\n",
              "      <td>I</td>\n",
              "      <td>IV</td>\n",
              "      <td>Male</td>\n",
              "      <td>Third Party</td>\n",
              "      <td>Pressed</td>\n",
              "      <td>While removing the drill rod of the Jumbo 08 f...</td>\n",
              "    </tr>\n",
              "    <tr>\n",
              "      <th>1</th>\n",
              "      <td>02-01-2016 00:00</td>\n",
              "      <td>Canada</td>\n",
              "      <td>Alberta</td>\n",
              "      <td>Mining</td>\n",
              "      <td>I</td>\n",
              "      <td>IV</td>\n",
              "      <td>Male</td>\n",
              "      <td>Employee</td>\n",
              "      <td>Pressurized Systems</td>\n",
              "      <td>During the activation of a sodium sulphide pum...</td>\n",
              "    </tr>\n",
              "    <tr>\n",
              "      <th>2</th>\n",
              "      <td>06-01-2016 00:00</td>\n",
              "      <td>United States</td>\n",
              "      <td>Kentucky</td>\n",
              "      <td>Mining</td>\n",
              "      <td>I</td>\n",
              "      <td>III</td>\n",
              "      <td>Male</td>\n",
              "      <td>Third Party (Remote)</td>\n",
              "      <td>Manual Tools</td>\n",
              "      <td>In the sub-station MILPO located at level +170...</td>\n",
              "    </tr>\n",
              "    <tr>\n",
              "      <th>3</th>\n",
              "      <td>08-01-2016 00:00</td>\n",
              "      <td>United States</td>\n",
              "      <td>Illinois</td>\n",
              "      <td>Mining</td>\n",
              "      <td>I</td>\n",
              "      <td>I</td>\n",
              "      <td>Male</td>\n",
              "      <td>Third Party</td>\n",
              "      <td>Others</td>\n",
              "      <td>Being 9:45 am. approximately in the Nv. 1880 C...</td>\n",
              "    </tr>\n",
              "    <tr>\n",
              "      <th>4</th>\n",
              "      <td>10-01-2016 00:00</td>\n",
              "      <td>United States</td>\n",
              "      <td>Illinois</td>\n",
              "      <td>Mining</td>\n",
              "      <td>IV</td>\n",
              "      <td>IV</td>\n",
              "      <td>Male</td>\n",
              "      <td>Third Party</td>\n",
              "      <td>Others</td>\n",
              "      <td>Approximately at 11:45 a.m. in circumstances t...</td>\n",
              "    </tr>\n",
              "  </tbody>\n",
              "</table>\n",
              "</div>"
            ],
            "text/plain": [
              "               Date  ...                                        Description\n",
              "0  01-01-2016 00:00  ...  While removing the drill rod of the Jumbo 08 f...\n",
              "1  02-01-2016 00:00  ...  During the activation of a sodium sulphide pum...\n",
              "2  06-01-2016 00:00  ...  In the sub-station MILPO located at level +170...\n",
              "3  08-01-2016 00:00  ...  Being 9:45 am. approximately in the Nv. 1880 C...\n",
              "4  10-01-2016 00:00  ...  Approximately at 11:45 a.m. in circumstances t...\n",
              "\n",
              "[5 rows x 10 columns]"
            ]
          },
          "metadata": {
            "tags": []
          },
          "execution_count": 5
        }
      ]
    },
    {
      "cell_type": "code",
      "metadata": {
        "id": "8QC8tuJlNKVS",
        "colab": {
          "base_uri": "https://localhost:8080/"
        },
        "outputId": "5fd25582-9a0c-4a99-d655-1592e6ee0d8e"
      },
      "source": [
        "iss.info()"
      ],
      "execution_count": null,
      "outputs": [
        {
          "output_type": "stream",
          "text": [
            "<class 'pandas.core.frame.DataFrame'>\n",
            "RangeIndex: 424 entries, 0 to 423\n",
            "Data columns (total 10 columns):\n",
            " #   Column                    Non-Null Count  Dtype \n",
            "---  ------                    --------------  ----- \n",
            " 0   Date                      424 non-null    object\n",
            " 1   Country                   424 non-null    object\n",
            " 2   Local                     424 non-null    object\n",
            " 3   Industry Sector           424 non-null    object\n",
            " 4   Accident Level            424 non-null    object\n",
            " 5   Potential Accident Level  424 non-null    object\n",
            " 6   Gender                    424 non-null    object\n",
            " 7   Employee or Third Party   424 non-null    object\n",
            " 8   Critical Risk             424 non-null    object\n",
            " 9   Description               424 non-null    object\n",
            "dtypes: object(10)\n",
            "memory usage: 33.2+ KB\n"
          ],
          "name": "stdout"
        }
      ]
    },
    {
      "cell_type": "code",
      "metadata": {
        "id": "tcIseNHjeG7j"
      },
      "source": [
        ""
      ],
      "execution_count": null,
      "outputs": []
    },
    {
      "cell_type": "markdown",
      "metadata": {
        "id": "h-HvL2A3opDr"
      },
      "source": [
        "Divide the date into many other different coloum "
      ]
    },
    {
      "cell_type": "code",
      "metadata": {
        "id": "936UHbI_Cw-f",
        "colab": {
          "base_uri": "https://localhost:8080/",
          "height": 408
        },
        "outputId": "39eea7e6-77d9-44d6-8b59-2304a0e5b127"
      },
      "source": [
        "iss['Date'] = pd.to_datetime(iss['Date'])\n",
        "iss['Year'] = iss['Date'].apply(lambda x : x.year)\n",
        "iss['Month'] = iss['Date'].apply(lambda x : x.month)\n",
        "iss['Month Name'] = iss['Date'].apply(lambda x : x.month_name())\n",
        "iss['Day'] = iss['Date'].apply(lambda x : x.day)\n",
        "iss['Weekday'] = iss['Date'].apply(lambda x : x.day_name())\n",
        "iss['WeekofYear'] = iss['Date'].apply(lambda x : x.weekofyear)\n",
        "iss.head()"
      ],
      "execution_count": null,
      "outputs": [
        {
          "output_type": "execute_result",
          "data": {
            "text/html": [
              "<div>\n",
              "<style scoped>\n",
              "    .dataframe tbody tr th:only-of-type {\n",
              "        vertical-align: middle;\n",
              "    }\n",
              "\n",
              "    .dataframe tbody tr th {\n",
              "        vertical-align: top;\n",
              "    }\n",
              "\n",
              "    .dataframe thead th {\n",
              "        text-align: right;\n",
              "    }\n",
              "</style>\n",
              "<table border=\"1\" class=\"dataframe\">\n",
              "  <thead>\n",
              "    <tr style=\"text-align: right;\">\n",
              "      <th></th>\n",
              "      <th>Date</th>\n",
              "      <th>Country</th>\n",
              "      <th>Local</th>\n",
              "      <th>Industry Sector</th>\n",
              "      <th>Accident Level</th>\n",
              "      <th>Potential Accident Level</th>\n",
              "      <th>Gender</th>\n",
              "      <th>Employee or Third Party</th>\n",
              "      <th>Critical Risk</th>\n",
              "      <th>Description</th>\n",
              "      <th>Year</th>\n",
              "      <th>Month</th>\n",
              "      <th>Month Name</th>\n",
              "      <th>Day</th>\n",
              "      <th>Weekday</th>\n",
              "      <th>WeekofYear</th>\n",
              "    </tr>\n",
              "  </thead>\n",
              "  <tbody>\n",
              "    <tr>\n",
              "      <th>0</th>\n",
              "      <td>2016-01-01</td>\n",
              "      <td>United States</td>\n",
              "      <td>West Virginia</td>\n",
              "      <td>Mining</td>\n",
              "      <td>I</td>\n",
              "      <td>IV</td>\n",
              "      <td>Male</td>\n",
              "      <td>Third Party</td>\n",
              "      <td>Pressed</td>\n",
              "      <td>While removing the drill rod of the Jumbo 08 f...</td>\n",
              "      <td>2016</td>\n",
              "      <td>1</td>\n",
              "      <td>January</td>\n",
              "      <td>1</td>\n",
              "      <td>Friday</td>\n",
              "      <td>53</td>\n",
              "    </tr>\n",
              "    <tr>\n",
              "      <th>1</th>\n",
              "      <td>2016-02-01</td>\n",
              "      <td>Canada</td>\n",
              "      <td>Alberta</td>\n",
              "      <td>Mining</td>\n",
              "      <td>I</td>\n",
              "      <td>IV</td>\n",
              "      <td>Male</td>\n",
              "      <td>Employee</td>\n",
              "      <td>Pressurized Systems</td>\n",
              "      <td>During the activation of a sodium sulphide pum...</td>\n",
              "      <td>2016</td>\n",
              "      <td>2</td>\n",
              "      <td>February</td>\n",
              "      <td>1</td>\n",
              "      <td>Monday</td>\n",
              "      <td>5</td>\n",
              "    </tr>\n",
              "    <tr>\n",
              "      <th>2</th>\n",
              "      <td>2016-06-01</td>\n",
              "      <td>United States</td>\n",
              "      <td>Kentucky</td>\n",
              "      <td>Mining</td>\n",
              "      <td>I</td>\n",
              "      <td>III</td>\n",
              "      <td>Male</td>\n",
              "      <td>Third Party (Remote)</td>\n",
              "      <td>Manual Tools</td>\n",
              "      <td>In the sub-station MILPO located at level +170...</td>\n",
              "      <td>2016</td>\n",
              "      <td>6</td>\n",
              "      <td>June</td>\n",
              "      <td>1</td>\n",
              "      <td>Wednesday</td>\n",
              "      <td>22</td>\n",
              "    </tr>\n",
              "    <tr>\n",
              "      <th>3</th>\n",
              "      <td>2016-08-01</td>\n",
              "      <td>United States</td>\n",
              "      <td>Illinois</td>\n",
              "      <td>Mining</td>\n",
              "      <td>I</td>\n",
              "      <td>I</td>\n",
              "      <td>Male</td>\n",
              "      <td>Third Party</td>\n",
              "      <td>Others</td>\n",
              "      <td>Being 9:45 am. approximately in the Nv. 1880 C...</td>\n",
              "      <td>2016</td>\n",
              "      <td>8</td>\n",
              "      <td>August</td>\n",
              "      <td>1</td>\n",
              "      <td>Monday</td>\n",
              "      <td>31</td>\n",
              "    </tr>\n",
              "    <tr>\n",
              "      <th>4</th>\n",
              "      <td>2016-10-01</td>\n",
              "      <td>United States</td>\n",
              "      <td>Illinois</td>\n",
              "      <td>Mining</td>\n",
              "      <td>IV</td>\n",
              "      <td>IV</td>\n",
              "      <td>Male</td>\n",
              "      <td>Third Party</td>\n",
              "      <td>Others</td>\n",
              "      <td>Approximately at 11:45 a.m. in circumstances t...</td>\n",
              "      <td>2016</td>\n",
              "      <td>10</td>\n",
              "      <td>October</td>\n",
              "      <td>1</td>\n",
              "      <td>Saturday</td>\n",
              "      <td>39</td>\n",
              "    </tr>\n",
              "  </tbody>\n",
              "</table>\n",
              "</div>"
            ],
            "text/plain": [
              "        Date         Country          Local  ... Day    Weekday WeekofYear\n",
              "0 2016-01-01  United States   West Virginia  ...   1     Friday         53\n",
              "1 2016-02-01          Canada        Alberta  ...   1     Monday          5\n",
              "2 2016-06-01  United States        Kentucky  ...   1  Wednesday         22\n",
              "3 2016-08-01  United States        Illinois  ...   1     Monday         31\n",
              "4 2016-10-01  United States        Illinois  ...   1   Saturday         39\n",
              "\n",
              "[5 rows x 16 columns]"
            ]
          },
          "metadata": {
            "tags": []
          },
          "execution_count": 7
        }
      ]
    },
    {
      "cell_type": "code",
      "metadata": {
        "id": "YrGTJfzuCw6s",
        "colab": {
          "base_uri": "https://localhost:8080/",
          "height": 493
        },
        "outputId": "78b5a48f-8685-4803-c8e2-ecb75e84b459"
      },
      "source": [
        "def month2seasons(x):\n",
        "    if x in [9, 10, 11]:\n",
        "        season = 'Spring'\n",
        "    elif x in [12, 1, 2]:\n",
        "        season = 'Summer'\n",
        "    elif x in [3, 4, 5]:\n",
        "        season = 'Autumn'\n",
        "    elif x in [6, 7, 8]:\n",
        "        season = 'Winter'\n",
        "    return season\n",
        "\n",
        "iss['Season'] = iss['Month'].apply(month2seasons)\n",
        "iss.head()"
      ],
      "execution_count": null,
      "outputs": [
        {
          "output_type": "execute_result",
          "data": {
            "text/html": [
              "<div>\n",
              "<style scoped>\n",
              "    .dataframe tbody tr th:only-of-type {\n",
              "        vertical-align: middle;\n",
              "    }\n",
              "\n",
              "    .dataframe tbody tr th {\n",
              "        vertical-align: top;\n",
              "    }\n",
              "\n",
              "    .dataframe thead th {\n",
              "        text-align: right;\n",
              "    }\n",
              "</style>\n",
              "<table border=\"1\" class=\"dataframe\">\n",
              "  <thead>\n",
              "    <tr style=\"text-align: right;\">\n",
              "      <th></th>\n",
              "      <th>Date</th>\n",
              "      <th>Country</th>\n",
              "      <th>Local</th>\n",
              "      <th>Industry Sector</th>\n",
              "      <th>Accident Level</th>\n",
              "      <th>Potential Accident Level</th>\n",
              "      <th>Gender</th>\n",
              "      <th>Employee or Third Party</th>\n",
              "      <th>Critical Risk</th>\n",
              "      <th>Description</th>\n",
              "      <th>Year</th>\n",
              "      <th>Month</th>\n",
              "      <th>Month Name</th>\n",
              "      <th>Day</th>\n",
              "      <th>Weekday</th>\n",
              "      <th>WeekofYear</th>\n",
              "      <th>Season</th>\n",
              "    </tr>\n",
              "  </thead>\n",
              "  <tbody>\n",
              "    <tr>\n",
              "      <th>0</th>\n",
              "      <td>2016-01-01</td>\n",
              "      <td>United States</td>\n",
              "      <td>West Virginia</td>\n",
              "      <td>Mining</td>\n",
              "      <td>I</td>\n",
              "      <td>IV</td>\n",
              "      <td>Male</td>\n",
              "      <td>Third Party</td>\n",
              "      <td>Pressed</td>\n",
              "      <td>While removing the drill rod of the Jumbo 08 f...</td>\n",
              "      <td>2016</td>\n",
              "      <td>1</td>\n",
              "      <td>January</td>\n",
              "      <td>1</td>\n",
              "      <td>Friday</td>\n",
              "      <td>53</td>\n",
              "      <td>Summer</td>\n",
              "    </tr>\n",
              "    <tr>\n",
              "      <th>1</th>\n",
              "      <td>2016-02-01</td>\n",
              "      <td>Canada</td>\n",
              "      <td>Alberta</td>\n",
              "      <td>Mining</td>\n",
              "      <td>I</td>\n",
              "      <td>IV</td>\n",
              "      <td>Male</td>\n",
              "      <td>Employee</td>\n",
              "      <td>Pressurized Systems</td>\n",
              "      <td>During the activation of a sodium sulphide pum...</td>\n",
              "      <td>2016</td>\n",
              "      <td>2</td>\n",
              "      <td>February</td>\n",
              "      <td>1</td>\n",
              "      <td>Monday</td>\n",
              "      <td>5</td>\n",
              "      <td>Summer</td>\n",
              "    </tr>\n",
              "    <tr>\n",
              "      <th>2</th>\n",
              "      <td>2016-06-01</td>\n",
              "      <td>United States</td>\n",
              "      <td>Kentucky</td>\n",
              "      <td>Mining</td>\n",
              "      <td>I</td>\n",
              "      <td>III</td>\n",
              "      <td>Male</td>\n",
              "      <td>Third Party (Remote)</td>\n",
              "      <td>Manual Tools</td>\n",
              "      <td>In the sub-station MILPO located at level +170...</td>\n",
              "      <td>2016</td>\n",
              "      <td>6</td>\n",
              "      <td>June</td>\n",
              "      <td>1</td>\n",
              "      <td>Wednesday</td>\n",
              "      <td>22</td>\n",
              "      <td>Winter</td>\n",
              "    </tr>\n",
              "    <tr>\n",
              "      <th>3</th>\n",
              "      <td>2016-08-01</td>\n",
              "      <td>United States</td>\n",
              "      <td>Illinois</td>\n",
              "      <td>Mining</td>\n",
              "      <td>I</td>\n",
              "      <td>I</td>\n",
              "      <td>Male</td>\n",
              "      <td>Third Party</td>\n",
              "      <td>Others</td>\n",
              "      <td>Being 9:45 am. approximately in the Nv. 1880 C...</td>\n",
              "      <td>2016</td>\n",
              "      <td>8</td>\n",
              "      <td>August</td>\n",
              "      <td>1</td>\n",
              "      <td>Monday</td>\n",
              "      <td>31</td>\n",
              "      <td>Winter</td>\n",
              "    </tr>\n",
              "    <tr>\n",
              "      <th>4</th>\n",
              "      <td>2016-10-01</td>\n",
              "      <td>United States</td>\n",
              "      <td>Illinois</td>\n",
              "      <td>Mining</td>\n",
              "      <td>IV</td>\n",
              "      <td>IV</td>\n",
              "      <td>Male</td>\n",
              "      <td>Third Party</td>\n",
              "      <td>Others</td>\n",
              "      <td>Approximately at 11:45 a.m. in circumstances t...</td>\n",
              "      <td>2016</td>\n",
              "      <td>10</td>\n",
              "      <td>October</td>\n",
              "      <td>1</td>\n",
              "      <td>Saturday</td>\n",
              "      <td>39</td>\n",
              "      <td>Spring</td>\n",
              "    </tr>\n",
              "  </tbody>\n",
              "</table>\n",
              "</div>"
            ],
            "text/plain": [
              "        Date         Country          Local  ...    Weekday WeekofYear  Season\n",
              "0 2016-01-01  United States   West Virginia  ...     Friday         53  Summer\n",
              "1 2016-02-01          Canada        Alberta  ...     Monday          5  Summer\n",
              "2 2016-06-01  United States        Kentucky  ...  Wednesday         22  Winter\n",
              "3 2016-08-01  United States        Illinois  ...     Monday         31  Winter\n",
              "4 2016-10-01  United States        Illinois  ...   Saturday         39  Spring\n",
              "\n",
              "[5 rows x 17 columns]"
            ]
          },
          "metadata": {
            "tags": []
          },
          "execution_count": 8
        }
      ]
    },
    {
      "cell_type": "code",
      "metadata": {
        "id": "6Lh6_FiSeYZ6"
      },
      "source": [
        ""
      ],
      "execution_count": null,
      "outputs": []
    },
    {
      "cell_type": "markdown",
      "metadata": {
        "id": "WsBLWuEBekQe"
      },
      "source": [
        "Graphs on whole Data\n",
        "\n",
        "---\n"
      ]
    },
    {
      "cell_type": "code",
      "metadata": {
        "id": "kWzyYni7PYSG",
        "colab": {
          "base_uri": "https://localhost:8080/"
        },
        "outputId": "1e0c52c1-c244-4f9a-c780-a156d2aa2343"
      },
      "source": [
        "ccount = np.round(iss['Country'].value_counts(normalize=True)*100)\n",
        "ccount"
      ],
      "execution_count": null,
      "outputs": [
        {
          "output_type": "execute_result",
          "data": {
            "text/plain": [
              "United States     59.0\n",
              "Canada            30.0\n",
              "Mexico            10.0\n",
              "Name: Country, dtype: float64"
            ]
          },
          "metadata": {
            "tags": []
          },
          "execution_count": 9
        }
      ]
    },
    {
      "cell_type": "code",
      "metadata": {
        "id": "_uMlIRo3Pevl",
        "colab": {
          "base_uri": "https://localhost:8080/",
          "height": 434
        },
        "outputId": "16e02d79-f428-4a97-cf09-d4a4a299eef2"
      },
      "source": [
        "plt.pie(ccount, labels=ccount.keys().values,radius=2)\n",
        "plt.xlabel('\\n\\n\\n\\n\\n\\n\\n\\nCountries',fontweight = 'bold');"
      ],
      "execution_count": null,
      "outputs": [
        {
          "output_type": "display_data",
          "data": {
            "image/png": "[encoded data removed]",
            "text/plain": [
              "<Figure size 432x288 with 1 Axes>"
            ]
          },
          "metadata": {
            "tags": []
          }
        }
      ]
    },
    {
      "cell_type": "code",
      "metadata": {
        "id": "cDT05kCLWmOg",
        "colab": {
          "base_uri": "https://localhost:8080/"
        },
        "outputId": "3a5c10e7-55c0-4d96-d5af-7e9b3a2f6938"
      },
      "source": [
        "lcount = iss['Local'].value_counts()\n",
        "lcount"
      ],
      "execution_count": null,
      "outputs": [
        {
          "output_type": "execute_result",
          "data": {
            "text/plain": [
              "Kentucky             90\n",
              "British Columbia     58\n",
              "West Virginia        57\n",
              "Illinois             56\n",
              "Pennsylvania         46\n",
              "Mexico City          44\n",
              "Ontario              26\n",
              "Alberta              24\n",
              "Manitoba             15\n",
              "Quebec                3\n",
              "Yukon                 3\n",
              "Montana               2\n",
              "Name: Local, dtype: int64"
            ]
          },
          "metadata": {
            "tags": []
          },
          "execution_count": 11
        }
      ]
    },
    {
      "cell_type": "code",
      "metadata": {
        "id": "1D-FvPJGX5Xd",
        "colab": {
          "base_uri": "https://localhost:8080/",
          "height": 638
        },
        "outputId": "c4d58ae9-7767-4a12-9185-99bb74045c25"
      },
      "source": [
        "plt.pie(lcount, labels=lcount.keys().values, radius = 3,shadow=True);\n",
        "plt.xlabel(\"\\n\\n\\n\\n\\n\\n\\n\\n\\n\\n\\n\\n\\n\\n\\n\\n\\nLocals\",fontweight = 'bold');"
      ],
      "execution_count": null,
      "outputs": [
        {
          "output_type": "display_data",
          "data": {
            "image/png": "[encoded data removed]",
            "text/plain": [
              "<Figure size 432x288 with 1 Axes>"
            ]
          },
          "metadata": {
            "tags": []
          }
        }
      ]
    },
    {
      "cell_type": "code",
      "metadata": {
        "colab": {
          "base_uri": "https://localhost:8080/",
          "height": 513
        },
        "id": "gmDrw6KQAXGg",
        "outputId": "f7499880-41e9-4792-f22a-24be9779a4ff"
      },
      "source": [
        "fig, ax = plt.subplots(figsize= (18,8))\n",
        "plt.bar(lcount.keys().values,lcount,width=0.5, color=['green','blue','red','orange'])\n",
        "plt.xlabel('Local Name',fontweight = 'bold')\n",
        "plt.ylabel('Percentage',fontweight = 'bold')\n",
        "plt.title('Locals',fontweight = 'bold')\n",
        "for i in ax.patches: \n",
        "\tplt.text(i.get_x()+0.15,i.get_height()+0.9, \n",
        "\t\t\tstr(i.get_height()), \n",
        "\t\t\tfontsize = 10, fontweight ='bold', \n",
        "\t\t\tcolor ='black')\n",
        "plt.show()"
      ],
      "execution_count": null,
      "outputs": [
        {
          "output_type": "display_data",
          "data": {
            "image/png": "[encoded data removed]",
            "text/plain": [
              "<Figure size 1296x576 with 1 Axes>"
            ]
          },
          "metadata": {
            "tags": [],
            "needs_background": "light"
          }
        }
      ]
    },
    {
      "cell_type": "code",
      "metadata": {
        "id": "pdibJ3kexxRX",
        "colab": {
          "base_uri": "https://localhost:8080/"
        },
        "outputId": "bc6a2711-5123-4480-8af8-75934d28f77e"
      },
      "source": [
        "iscount = np.round(iss['Industry Sector'].value_counts(normalize = True)*100,decimals=1)\n",
        "iscount"
      ],
      "execution_count": null,
      "outputs": [
        {
          "output_type": "execute_result",
          "data": {
            "text/plain": [
              "Mining    56.8\n",
              "Metals    31.6\n",
              "Others    11.6\n",
              "Name: Industry Sector, dtype: float64"
            ]
          },
          "metadata": {
            "tags": []
          },
          "execution_count": 14
        }
      ]
    },
    {
      "cell_type": "code",
      "metadata": {
        "id": "HInzyxM94eEl",
        "colab": {
          "base_uri": "https://localhost:8080/",
          "height": 248
        },
        "outputId": "7ce5f3e4-747a-4c22-c012-8dd028da078e"
      },
      "source": [
        "plt.pie(iscount,labels=iscount.keys().values);"
      ],
      "execution_count": null,
      "outputs": [
        {
          "output_type": "display_data",
          "data": {
            "image/png": "[encoded data removed]",
            "text/plain": [
              "<Figure size 432x288 with 1 Axes>"
            ]
          },
          "metadata": {
            "tags": []
          }
        }
      ]
    },
    {
      "cell_type": "code",
      "metadata": {
        "id": "my1XSRvZ5ExZ",
        "colab": {
          "base_uri": "https://localhost:8080/"
        },
        "outputId": "5ce85470-c7fc-4349-9d6d-0579b38a1ef5"
      },
      "source": [
        "crcount = np.round(iss['Critical Risk'].value_counts(normalize=True)*100,2)\n",
        "crcount"
      ],
      "execution_count": null,
      "outputs": [
        {
          "output_type": "execute_result",
          "data": {
            "text/plain": [
              "Others                                       54.72\n",
              "Pressed                                       5.66\n",
              "Manual Tools                                  4.72\n",
              "Chemical substances                           4.01\n",
              "Venomous Animals                              3.77\n",
              "Cut                                           3.30\n",
              "Projection                                    3.07\n",
              "Bees                                          2.36\n",
              "Fall                                          2.12\n",
              "Vehicles and Mobile Equipment                 1.89\n",
              "remains of choco                              1.65\n",
              "Pressurized Systems                           1.65\n",
              "Fall prevention (same level)                  1.65\n",
              "Fall prevention                               1.42\n",
              "Suspended Loads                               1.42\n",
              "Pressurized Systems / Chemical Substances     0.71\n",
              "Power lock                                    0.71\n",
              "Blocking and isolation of energies            0.71\n",
              "Liquid Metal                                  0.71\n",
              "Projection of fragments                       0.47\n",
              "Electrical Shock                              0.47\n",
              "Machine Protection                            0.47\n",
              "Plates                                        0.24\n",
              "Electrical installation                       0.24\n",
              "Individual protection equipment               0.24\n",
              "Poll                                          0.24\n",
              "Projection/Choco                              0.24\n",
              "Projection/Manual Tools                       0.24\n",
              "Projection/Burning                            0.24\n",
              "Burn                                          0.24\n",
              "\\nNot applicable                              0.24\n",
              "Confined space                                0.24\n",
              "Name: Critical Risk, dtype: float64"
            ]
          },
          "metadata": {
            "tags": []
          },
          "execution_count": 16
        }
      ]
    },
    {
      "cell_type": "code",
      "metadata": {
        "id": "EBM24Tci7BYg",
        "colab": {
          "base_uri": "https://localhost:8080/",
          "height": 386
        },
        "outputId": "4686869e-4890-40ca-ccce-dc9aa973135b"
      },
      "source": [
        "plt.figure(figsize=(20,6))\n",
        "plt.bar(crcount.keys().values,crcount,color=['red','green','blue']);"
      ],
      "execution_count": null,
      "outputs": [
        {
          "output_type": "display_data",
          "data": {
            "image/png": "[encoded data removed]",
            "text/plain": [
              "<Figure size 1440x432 with 1 Axes>"
            ]
          },
          "metadata": {
            "tags": [],
            "needs_background": "light"
          }
        }
      ]
    },
    {
      "cell_type": "code",
      "metadata": {
        "id": "Rvg8yEz6_WKS",
        "colab": {
          "base_uri": "https://localhost:8080/"
        },
        "outputId": "9a04baa0-ca79-48c0-d1fe-85d94c98285b"
      },
      "source": [
        "#ecount = np.round(iss['Employee or Third Party'].value_counts(normalize = True)*100)\n",
        "ecount = iss['Employee or Third Party'].value_counts()\n",
        "ecount"
      ],
      "execution_count": null,
      "outputs": [
        {
          "output_type": "execute_result",
          "data": {
            "text/plain": [
              "Third Party             189\n",
              "Employee                178\n",
              "Third Party (Remote)     57\n",
              "Name: Employee or Third Party, dtype: int64"
            ]
          },
          "metadata": {
            "tags": []
          },
          "execution_count": 18
        }
      ]
    },
    {
      "cell_type": "code",
      "metadata": {
        "id": "3Sj9gb_kAVMb",
        "colab": {
          "base_uri": "https://localhost:8080/",
          "height": 248
        },
        "outputId": "0c3355e2-3f55-4e4d-aeb3-1057db1e29d2"
      },
      "source": [
        "plt.pie(ecount,labels=ecount.keys().values);"
      ],
      "execution_count": null,
      "outputs": [
        {
          "output_type": "display_data",
          "data": {
            "image/png": "[encoded data removed]",
            "text/plain": [
              "<Figure size 432x288 with 1 Axes>"
            ]
          },
          "metadata": {
            "tags": []
          }
        }
      ]
    },
    {
      "cell_type": "code",
      "metadata": {
        "id": "R-huhQ3JAb5c",
        "colab": {
          "base_uri": "https://localhost:8080/"
        },
        "outputId": "48a0befd-7a91-4356-c79f-fc5da9f9aef1"
      },
      "source": [
        "acount= np.append(np.round(iss['Accident Level'].value_counts(normalize = True)*100),0)\n",
        "acount"
      ],
      "execution_count": null,
      "outputs": [
        {
          "output_type": "execute_result",
          "data": {
            "text/plain": [
              "array([74.,  9.,  7.,  7.,  2.,  0.])"
            ]
          },
          "metadata": {
            "tags": []
          },
          "execution_count": 20
        }
      ]
    },
    {
      "cell_type": "code",
      "metadata": {
        "id": "DSyaH1SHLT1g",
        "colab": {
          "base_uri": "https://localhost:8080/"
        },
        "outputId": "0584688a-f168-4c48-a65c-d6810e35dc25"
      },
      "source": [
        "pacount = np.round(iss['Potential Accident Level'].value_counts(normalize= True)*100,decimals=1)[[3, 2, 1, 0, 4, 5]]\n",
        "pacount"
      ],
      "execution_count": null,
      "outputs": [
        {
          "output_type": "execute_result",
          "data": {
            "text/plain": [
              "I      11.6\n",
              "II     22.2\n",
              "III    25.0\n",
              "IV     33.7\n",
              "V       7.3\n",
              "VI      0.2\n",
              "Name: Potential Accident Level, dtype: float64"
            ]
          },
          "metadata": {
            "tags": []
          },
          "execution_count": 21
        }
      ]
    },
    {
      "cell_type": "code",
      "metadata": {
        "id": "y2L9Lc-PKSSs",
        "colab": {
          "base_uri": "https://localhost:8080/",
          "height": 374
        },
        "outputId": "550a4b63-7d17-427e-c338-8455728bbf88"
      },
      "source": [
        "plt.figure(figsize=(14,6))\n",
        "barWidth = 0.25\n",
        "br1 = np.arange(len(acount))\n",
        "br2 = [x + barWidth for x in br1]\n",
        "\n",
        "plt.bar(br1,acount,width=0.25)\n",
        "plt.bar(br2,pacount,width=0.25)\n",
        "plt.xticks([r + barWidth for r in range(len(br1))], \n",
        "           pacount.keys().values);"
      ],
      "execution_count": null,
      "outputs": [
        {
          "output_type": "display_data",
          "data": {
            "image/png": "[encoded data removed]",
            "text/plain": [
              "<Figure size 1008x432 with 1 Axes>"
            ]
          },
          "metadata": {
            "tags": [],
            "needs_background": "light"
          }
        }
      ]
    },
    {
      "cell_type": "markdown",
      "metadata": {
        "id": "8kcdw1Eo1psS"
      },
      "source": [
        "**Result In United State Only**\n",
        "\n",
        "---\n",
        "\n"
      ]
    },
    {
      "cell_type": "code",
      "metadata": {
        "id": "Bw84cU4fMXQd",
        "colab": {
          "base_uri": "https://localhost:8080/"
        },
        "outputId": "7874e6fb-4546-42bc-e85b-aca9b6fbe11f"
      },
      "source": [
        "cntrs1 = iss[iss['Country'] == \"United States \"]\n",
        "lcount1 = np.round(cntrs1['Local'].value_counts(normalize= True)*100)\n",
        "lcount1"
      ],
      "execution_count": null,
      "outputs": [
        {
          "output_type": "execute_result",
          "data": {
            "text/plain": [
              "Kentucky         36.0\n",
              "West Virginia    23.0\n",
              "Illinois         22.0\n",
              "Pennsylvania     18.0\n",
              "Montana           1.0\n",
              "Name: Local, dtype: float64"
            ]
          },
          "metadata": {
            "tags": []
          },
          "execution_count": 23
        }
      ]
    },
    {
      "cell_type": "code",
      "metadata": {
        "id": "iEmfFiatOKwH",
        "colab": {
          "base_uri": "https://localhost:8080/",
          "height": 264
        },
        "outputId": "09a3deb2-07ad-4550-fe68-5c8cc27ee5b3"
      },
      "source": [
        "plt.pie(lcount1,labels=lcount1.keys().values)\n",
        "plt.title(\"Accidents in locals of US\");"
      ],
      "execution_count": null,
      "outputs": [
        {
          "output_type": "display_data",
          "data": {
            "image/png": "[encoded data removed]",
            "text/plain": [
              "<Figure size 432x288 with 1 Axes>"
            ]
          },
          "metadata": {
            "tags": []
          }
        }
      ]
    },
    {
      "cell_type": "code",
      "metadata": {
        "id": "rsc0e5jPQr0P",
        "colab": {
          "base_uri": "https://localhost:8080/"
        },
        "outputId": "e9b34ff1-6942-47b4-d54b-fbb719807c9c"
      },
      "source": [
        "iscount1 = np.round(cntrs1['Industry Sector'].value_counts(normalize = True)*100)\n",
        "iscount1"
      ],
      "execution_count": null,
      "outputs": [
        {
          "output_type": "execute_result",
          "data": {
            "text/plain": [
              "Mining    81.0\n",
              "Metals    18.0\n",
              "Others     1.0\n",
              "Name: Industry Sector, dtype: float64"
            ]
          },
          "metadata": {
            "tags": []
          },
          "execution_count": 25
        }
      ]
    },
    {
      "cell_type": "code",
      "metadata": {
        "id": "y4Tdo-xV8gWM",
        "colab": {
          "base_uri": "https://localhost:8080/",
          "height": 265
        },
        "outputId": "4c9446b4-fe3d-426f-99ad-4e26f16ab4f6"
      },
      "source": [
        "plt.bar(iscount1.keys().values,iscount1,width=0.6,color=['red','green','blue']);"
      ],
      "execution_count": null,
      "outputs": [
        {
          "output_type": "display_data",
          "data": {
            "image/png": "[encoded data removed]",
            "text/plain": [
              "<Figure size 432x288 with 1 Axes>"
            ]
          },
          "metadata": {
            "tags": [],
            "needs_background": "light"
          }
        }
      ]
    },
    {
      "cell_type": "code",
      "metadata": {
        "id": "rLZ60RYG9Bt0",
        "colab": {
          "base_uri": "https://localhost:8080/"
        },
        "outputId": "e63d35be-6302-4e65-f08e-47f09b07aead"
      },
      "source": [
        "ecount1 = np.round(cntrs1['Employee or Third Party'].value_counts(normalize = True)*100)\n",
        "ecount1"
      ],
      "execution_count": null,
      "outputs": [
        {
          "output_type": "execute_result",
          "data": {
            "text/plain": [
              "Third Party             55.0\n",
              "Employee                35.0\n",
              "Third Party (Remote)    10.0\n",
              "Name: Employee or Third Party, dtype: float64"
            ]
          },
          "metadata": {
            "tags": []
          },
          "execution_count": 27
        }
      ]
    },
    {
      "cell_type": "code",
      "metadata": {
        "id": "vxQOOMra6dZw",
        "colab": {
          "base_uri": "https://localhost:8080/",
          "height": 265
        },
        "outputId": "b844b9d4-04d0-4d34-cbfd-0c1b24f8f3f7"
      },
      "source": [
        "plt.bar(ecount1.keys().values,ecount1,width=0.6,color=['red','green','blue']);"
      ],
      "execution_count": null,
      "outputs": [
        {
          "output_type": "display_data",
          "data": {
            "image/png": "[encoded data removed]",
            "text/plain": [
              "<Figure size 432x288 with 1 Axes>"
            ]
          },
          "metadata": {
            "tags": [],
            "needs_background": "light"
          }
        }
      ]
    },
    {
      "cell_type": "code",
      "metadata": {
        "id": "frIkO8S36o9x",
        "colab": {
          "base_uri": "https://localhost:8080/",
          "height": 545
        },
        "outputId": "e60147f7-73b5-4073-d28a-58f0aa5d200f"
      },
      "source": [
        "crcount1 = np.round(cntrs1['Critical Risk'].value_counts(normalize=True)*100,2)\n",
        "fig,ax = plt.subplots(figsize=(20,10))\n",
        "plt.barh(crcount1.keys().values,crcount1,height=0.5,color=['red','green','blue'])\n",
        "ax.invert_yaxis()\n",
        "\n",
        "ax.grid(color = 'grey',alpha=0.2, linewidth =0.5)\n",
        "\n",
        "for i in ax.patches: \n",
        "\tplt.text(i.get_width()+0.2, i.get_y()+0.5, \n",
        "\t\t\tstr(round((i.get_width()), 2)), \n",
        "\t\t\tfontsize = 10, fontweight ='bold', \n",
        "\t\t\tcolor ='black') ;"
      ],
      "execution_count": null,
      "outputs": [
        {
          "output_type": "display_data",
          "data": {
            "image/png": "[encoded data removed]",
            "text/plain": [
              "<Figure size 1440x720 with 1 Axes>"
            ]
          },
          "metadata": {
            "tags": [],
            "needs_background": "light"
          }
        }
      ]
    },
    {
      "cell_type": "markdown",
      "metadata": {
        "id": "EvyGOG228R_6"
      },
      "source": [
        "**Result In Canada Only**\n",
        "\n",
        "---\n",
        "\n"
      ]
    },
    {
      "cell_type": "code",
      "metadata": {
        "id": "fMxOTy_s8hTA",
        "colab": {
          "base_uri": "https://localhost:8080/"
        },
        "outputId": "408e17e8-3622-4e2a-e889-1829a20a4ad6"
      },
      "source": [
        "cntrs2 = iss[iss['Country'] == \"Canada\"]\n",
        "lcount2 = np.round(cntrs2['Local'].value_counts(normalize= True)*100)\n",
        "lcount2"
      ],
      "execution_count": null,
      "outputs": [
        {
          "output_type": "execute_result",
          "data": {
            "text/plain": [
              "British Columbia     45.0\n",
              "Ontario              20.0\n",
              "Alberta              19.0\n",
              "Manitoba             12.0\n",
              "Quebec                2.0\n",
              "Yukon                 2.0\n",
              "Name: Local, dtype: float64"
            ]
          },
          "metadata": {
            "tags": []
          },
          "execution_count": 30
        }
      ]
    },
    {
      "cell_type": "code",
      "metadata": {
        "id": "57yeajMF8hao",
        "colab": {
          "base_uri": "https://localhost:8080/",
          "height": 374
        },
        "outputId": "4c12319f-119f-4ec9-fcad-0ba48124a28e"
      },
      "source": [
        "plt.figure(figsize=(10,6))\n",
        "plt.bar(lcount2.keys().values,lcount2,width=0.6, color = 'orange');"
      ],
      "execution_count": null,
      "outputs": [
        {
          "output_type": "display_data",
          "data": {
            "image/png": "[encoded data removed]",
            "text/plain": [
              "<Figure size 720x432 with 1 Axes>"
            ]
          },
          "metadata": {
            "tags": [],
            "needs_background": "light"
          }
        }
      ]
    },
    {
      "cell_type": "code",
      "metadata": {
        "id": "3AWKehP88hQJ",
        "colab": {
          "base_uri": "https://localhost:8080/",
          "height": 265
        },
        "outputId": "20e328f9-5ded-45a4-a898-7ea522275b74"
      },
      "source": [
        "iscount2 = np.round(cntrs2['Industry Sector'].value_counts(normalize = True)*100)\n",
        "plt.bar(iscount2.keys().values,iscount2,width=0.5,color =('blue','black','grey'));"
      ],
      "execution_count": null,
      "outputs": [
        {
          "output_type": "display_data",
          "data": {
            "image/png": "[encoded data removed]",
            "text/plain": [
              "<Figure size 432x288 with 1 Axes>"
            ]
          },
          "metadata": {
            "tags": [],
            "needs_background": "light"
          }
        }
      ]
    },
    {
      "cell_type": "code",
      "metadata": {
        "id": "2Sw6lary-ZMB",
        "colab": {
          "base_uri": "https://localhost:8080/",
          "height": 265
        },
        "outputId": "fcf85c30-b3c5-48e5-bb59-155af7664104"
      },
      "source": [
        "ecount2 = np.round(cntrs2['Employee or Third Party'].value_counts(normalize = True)*100)\n",
        "plt.bar(ecount2.keys().values,ecount2,width=0.5,color =('blue','black','grey'));"
      ],
      "execution_count": null,
      "outputs": [
        {
          "output_type": "display_data",
          "data": {
            "image/png": "[encoded data removed]",
            "text/plain": [
              "<Figure size 432x288 with 1 Axes>"
            ]
          },
          "metadata": {
            "tags": [],
            "needs_background": "light"
          }
        }
      ]
    },
    {
      "cell_type": "code",
      "metadata": {
        "id": "cvdx55Sc_oud"
      },
      "source": [
        ""
      ],
      "execution_count": null,
      "outputs": []
    },
    {
      "cell_type": "markdown",
      "metadata": {
        "id": "PIkw5iniAQpB"
      },
      "source": [
        "**Result In Mexico Only**\n",
        "\n",
        "---"
      ]
    },
    {
      "cell_type": "code",
      "metadata": {
        "id": "X8p-bh95Ad_b",
        "colab": {
          "base_uri": "https://localhost:8080/"
        },
        "outputId": "70c69c7c-62fb-4b25-ced4-3c87103c71f9"
      },
      "source": [
        "cntrs3 = iss[iss['Country'] == \"Mexico\"]\n",
        "cntrs3.info()"
      ],
      "execution_count": null,
      "outputs": [
        {
          "output_type": "stream",
          "text": [
            "<class 'pandas.core.frame.DataFrame'>\n",
            "Int64Index: 44 entries, 78 to 417\n",
            "Data columns (total 17 columns):\n",
            " #   Column                    Non-Null Count  Dtype         \n",
            "---  ------                    --------------  -----         \n",
            " 0   Date                      44 non-null     datetime64[ns]\n",
            " 1   Country                   44 non-null     object        \n",
            " 2   Local                     44 non-null     object        \n",
            " 3   Industry Sector           44 non-null     object        \n",
            " 4   Accident Level            44 non-null     object        \n",
            " 5   Potential Accident Level  44 non-null     object        \n",
            " 6   Gender                    44 non-null     object        \n",
            " 7   Employee or Third Party   44 non-null     object        \n",
            " 8   Critical Risk             44 non-null     object        \n",
            " 9   Description               44 non-null     object        \n",
            " 10  Year                      44 non-null     int64         \n",
            " 11  Month                     44 non-null     int64         \n",
            " 12  Month Name                44 non-null     object        \n",
            " 13  Day                       44 non-null     int64         \n",
            " 14  Weekday                   44 non-null     object        \n",
            " 15  WeekofYear                44 non-null     int64         \n",
            " 16  Season                    44 non-null     object        \n",
            "dtypes: datetime64[ns](1), int64(4), object(12)\n",
            "memory usage: 6.2+ KB\n"
          ],
          "name": "stdout"
        }
      ]
    },
    {
      "cell_type": "code",
      "metadata": {
        "id": "2zPFeJ6PB5Xs",
        "colab": {
          "base_uri": "https://localhost:8080/"
        },
        "outputId": "5bdcec93-fca1-46a5-e732-8f1e00d11484"
      },
      "source": [
        "lcount3 = np.round(cntrs3['Local'].value_counts(normalize= True)*100)\n",
        "lcount3"
      ],
      "execution_count": null,
      "outputs": [
        {
          "output_type": "execute_result",
          "data": {
            "text/plain": [
              "Mexico City     100.0\n",
              "Name: Local, dtype: float64"
            ]
          },
          "metadata": {
            "tags": []
          },
          "execution_count": 35
        }
      ]
    },
    {
      "cell_type": "code",
      "metadata": {
        "id": "-HY0_g4NAd8a"
      },
      "source": [
        "#iscount3 = np.round(cntrs3['Industry Sector'].value_counts(normalize = True)*100)\n",
        "#plt.bar(iscount3.keys().values,iscount3,width=0.5,color =('yellow','orange','pink'));"
      ],
      "execution_count": null,
      "outputs": []
    },
    {
      "cell_type": "code",
      "metadata": {
        "id": "xajc2IAQBv3D",
        "colab": {
          "base_uri": "https://localhost:8080/",
          "height": 265
        },
        "outputId": "14c387c3-ca20-4d57-96d6-aa9999bf8ad0"
      },
      "source": [
        "ecount3 = np.round(cntrs3['Employee or Third Party'].value_counts(normalize = True)*100)\n",
        "plt.bar(ecount3.keys().values,ecount3,width=0.4,color =('yellow','pink','orange'));"
      ],
      "execution_count": null,
      "outputs": [
        {
          "output_type": "display_data",
          "data": {
            "image/png": "[encoded data removed]",
            "text/plain": [
              "<Figure size 432x288 with 1 Axes>"
            ]
          },
          "metadata": {
            "tags": [],
            "needs_background": "light"
          }
        }
      ]
    },
    {
      "cell_type": "code",
      "metadata": {
        "id": "3bJTbQZ8Cb4j"
      },
      "source": [
        ""
      ],
      "execution_count": null,
      "outputs": []
    },
    {
      "cell_type": "markdown",
      "metadata": {
        "id": "gX5C-trQCllN"
      },
      "source": [
        "**Result by all data**\n",
        "\n",
        "---\n",
        "\n",
        "\n"
      ]
    },
    {
      "cell_type": "code",
      "metadata": {
        "id": "Lh79XLEaHDYb",
        "colab": {
          "base_uri": "https://localhost:8080/",
          "height": 428
        },
        "outputId": "16938f57-8517-4397-9c35-76c258ad01b0"
      },
      "source": [
        "plt.figure(figsize=(15,7))\n",
        "brwdh = 0.25 \n",
        "\n",
        "b1 = ecount1.to_numpy()\n",
        "b2 = ecount2.to_numpy()\n",
        "b3 = np.append(ecount3,0)\n",
        "\n",
        "r1 = np.arange(len(b1))\n",
        "r2 = [x + brwdh for x in r1]\n",
        "#r3 = [x + brwdh for x in r2]\n",
        "\n",
        "plt.bar(r1,ecount1,width=brwdh,label= ecount1.keys().values)\n",
        "plt.bar(r2,ecount2,width=brwdh,label= ecount2.keys().values)\n",
        "#plt.bar(r3,ecount3,width=brwdh,label= ecount2.keys().values)\n",
        "\n",
        "plt.xticks([r + brwdh for r in range(len(b1))],ecount1.keys().values)\n",
        "plt.legend()\n",
        "plt.show();"
      ],
      "execution_count": null,
      "outputs": [
        {
          "output_type": "display_data",
          "data": {
            "image/png": "[encoded data removed]",
            "text/plain": [
              "<Figure size 1080x504 with 1 Axes>"
            ]
          },
          "metadata": {
            "tags": [],
            "needs_background": "light"
          }
        }
      ]
    },
    {
      "cell_type": "markdown",
      "metadata": {
        "id": "LjbEkEF98N_k"
      },
      "source": [
        "here upper graph has lots of bugs. so we have arrange it before use."
      ]
    },
    {
      "cell_type": "code",
      "metadata": {
        "id": "KYZeREweHDxV",
        "colab": {
          "base_uri": "https://localhost:8080/",
          "height": 173
        },
        "outputId": "833032a5-cdde-49b6-bc22-311667633529"
      },
      "source": [
        "prcnt = lambda x : np.round(x/(x.sum())*100)\n",
        "Emp_Cunt = iss.groupby(['Employee or Third Party','Country'])['Employee or Third Party'].count().unstack().apply(prcnt,axis=0)\n",
        "Emp_Cunt"
      ],
      "execution_count": null,
      "outputs": [
        {
          "output_type": "execute_result",
          "data": {
            "text/html": [
              "<div>\n",
              "<style scoped>\n",
              "    .dataframe tbody tr th:only-of-type {\n",
              "        vertical-align: middle;\n",
              "    }\n",
              "\n",
              "    .dataframe tbody tr th {\n",
              "        vertical-align: top;\n",
              "    }\n",
              "\n",
              "    .dataframe thead th {\n",
              "        text-align: right;\n",
              "    }\n",
              "</style>\n",
              "<table border=\"1\" class=\"dataframe\">\n",
              "  <thead>\n",
              "    <tr style=\"text-align: right;\">\n",
              "      <th>Country</th>\n",
              "      <th>Canada</th>\n",
              "      <th>Mexico</th>\n",
              "      <th>United States</th>\n",
              "    </tr>\n",
              "    <tr>\n",
              "      <th>Employee or Third Party</th>\n",
              "      <th></th>\n",
              "      <th></th>\n",
              "      <th></th>\n",
              "    </tr>\n",
              "  </thead>\n",
              "  <tbody>\n",
              "    <tr>\n",
              "      <th>Employee</th>\n",
              "      <td>64.0</td>\n",
              "      <td>16.0</td>\n",
              "      <td>35.0</td>\n",
              "    </tr>\n",
              "    <tr>\n",
              "      <th>Third Party</th>\n",
              "      <td>10.0</td>\n",
              "      <td>84.0</td>\n",
              "      <td>55.0</td>\n",
              "    </tr>\n",
              "    <tr>\n",
              "      <th>Third Party (Remote)</th>\n",
              "      <td>26.0</td>\n",
              "      <td>NaN</td>\n",
              "      <td>10.0</td>\n",
              "    </tr>\n",
              "  </tbody>\n",
              "</table>\n",
              "</div>"
            ],
            "text/plain": [
              "Country                  Canada  Mexico  United States \n",
              "Employee or Third Party                                \n",
              "Employee                   64.0    16.0            35.0\n",
              "Third Party                10.0    84.0            55.0\n",
              "Third Party (Remote)       26.0     NaN            10.0"
            ]
          },
          "metadata": {
            "tags": []
          },
          "execution_count": 39
        }
      ]
    },
    {
      "cell_type": "code",
      "metadata": {
        "colab": {
          "base_uri": "https://localhost:8080/"
        },
        "id": "uVnX7IxFIa72",
        "outputId": "8af924c1-f02c-48e1-c9c9-3e5d2b6dfc54"
      },
      "source": [
        "Emp_Cunt['Canada'].keys().values"
      ],
      "execution_count": null,
      "outputs": [
        {
          "output_type": "execute_result",
          "data": {
            "text/plain": [
              "array(['Employee', 'Third Party', 'Third Party (Remote)'], dtype=object)"
            ]
          },
          "metadata": {
            "tags": []
          },
          "execution_count": 40
        }
      ]
    },
    {
      "cell_type": "code",
      "metadata": {
        "colab": {
          "base_uri": "https://localhost:8080/",
          "height": 388
        },
        "id": "b2u0GHac8rKr",
        "outputId": "b49257f4-6276-4b2b-c491-13ef9f5f1195"
      },
      "source": [
        "fig = plt.figure(figsize = (15, 6))\n",
        "# set width of bar\n",
        "barWidth = 0.25\n",
        "\n",
        "# set height of bar\n",
        "bars1 = Emp_Cunt.to_numpy()[0]\n",
        "bars2 = Emp_Cunt.to_numpy()[1]\n",
        "bars3 = Emp_Cunt.to_numpy()[2]\n",
        "\n",
        "# Set position of bar on X axis\n",
        "r1 = np.arange(len(bars1))\n",
        "r2 = [x + barWidth for x in r1]\n",
        "r3 = [x + barWidth for x in r2]\n",
        "\n",
        "# Make the plot\n",
        "plt.bar(r1, bars1, color='red',  width=barWidth, edgecolor='white', label=Emp_Cunt['Canada'].keys().values[0])\n",
        "plt.bar(r2, bars2, color='green',width=barWidth, edgecolor='white', label=Emp_Cunt['Canada'].keys().values[1])\n",
        "plt.bar(r3, bars3, color='blue', width=barWidth, edgecolor='white', label=Emp_Cunt['Canada'].keys().values[2])\n",
        "\n",
        "# Add xticks on the middle of the group bars\n",
        "plt.xlabel('Country', fontweight= 'bold')\n",
        "plt.xticks([r + barWidth for r in range(len(bars1))], Emp_Cunt.keys().values)\n",
        "\n",
        "# Create legend & Show graphic\n",
        "plt.legend()\n",
        "plt.show()"
      ],
      "execution_count": null,
      "outputs": [
        {
          "output_type": "display_data",
          "data": {
            "image/png": "[encoded data removed]",
            "text/plain": [
              "<Figure size 1080x432 with 1 Axes>"
            ]
          },
          "metadata": {
            "tags": [],
            "needs_background": "light"
          }
        }
      ]
    },
    {
      "cell_type": "code",
      "metadata": {
        "colab": {
          "base_uri": "https://localhost:8080/"
        },
        "id": "RCM0ZPlIQJoq",
        "outputId": "5e9eaf53-c0ed-4349-c259-3849887f7964"
      },
      "source": [
        "prcnt = lambda x : np.round(x/(x.sum())*100,1)\n",
        "mnt_cnt = iss.groupby(['Month','Accident Level'])['Month'].count().unstack().apply(prcnt,axis = 1).fillna(0)\n",
        "mnt_cnt.info()"
      ],
      "execution_count": null,
      "outputs": [
        {
          "output_type": "stream",
          "text": [
            "<class 'pandas.core.frame.DataFrame'>\n",
            "Int64Index: 12 entries, 1 to 12\n",
            "Data columns (total 5 columns):\n",
            " #   Column  Non-Null Count  Dtype  \n",
            "---  ------  --------------  -----  \n",
            " 0   I       12 non-null     float64\n",
            " 1   II      12 non-null     float64\n",
            " 2   III     12 non-null     float64\n",
            " 3   IV      12 non-null     float64\n",
            " 4   V       12 non-null     float64\n",
            "dtypes: float64(5)\n",
            "memory usage: 576.0 bytes\n"
          ],
          "name": "stdout"
        }
      ]
    },
    {
      "cell_type": "code",
      "metadata": {
        "colab": {
          "base_uri": "https://localhost:8080/"
        },
        "id": "Ue7sGxZlUSSj",
        "outputId": "dab5805b-0450-4dbb-afac-0dcdde4f67f7"
      },
      "source": [
        "mnt_cnt.reset_index(level=0, inplace=True) \n",
        "mnt_cnt.info()"
      ],
      "execution_count": null,
      "outputs": [
        {
          "output_type": "stream",
          "text": [
            "<class 'pandas.core.frame.DataFrame'>\n",
            "RangeIndex: 12 entries, 0 to 11\n",
            "Data columns (total 6 columns):\n",
            " #   Column  Non-Null Count  Dtype  \n",
            "---  ------  --------------  -----  \n",
            " 0   Month   12 non-null     int64  \n",
            " 1   I       12 non-null     float64\n",
            " 2   II      12 non-null     float64\n",
            " 3   III     12 non-null     float64\n",
            " 4   IV      12 non-null     float64\n",
            " 5   V       12 non-null     float64\n",
            "dtypes: float64(5), int64(1)\n",
            "memory usage: 704.0 bytes\n"
          ],
          "name": "stdout"
        }
      ]
    },
    {
      "cell_type": "code",
      "metadata": {
        "colab": {
          "base_uri": "https://localhost:8080/",
          "height": 320
        },
        "id": "rnS8cuLWS-2S",
        "outputId": "60ed7e02-0577-4280-9ae9-fd9a4cec706f"
      },
      "source": [
        "fig = plt.figure(figsize = (16, 5))\n",
        "plt.plot( 'Month', 'I'  , data=mnt_cnt, marker='o', markerfacecolor='blue', markersize=12, color='skyblue', linewidth=3)\n",
        "plt.plot( 'Month', 'II' , data=mnt_cnt, marker='v', color='olive' , linewidth=2,linestyle='dashed')\n",
        "plt.plot( 'Month', 'III', data=mnt_cnt, marker='p', color='orange', linewidth=2)\n",
        "plt.plot( 'Month', 'IV' , data=mnt_cnt, marker='h', color='black' , linewidth=2, linestyle='dashed')\n",
        "plt.plot( 'Month', 'V'  , data=mnt_cnt, marker='o', color='red'   , linewidth=2)\n",
        "plt.xticks(mnt_cnt['II'].keys().values)\n",
        "plt.legend();"
      ],
      "execution_count": null,
      "outputs": [
        {
          "output_type": "display_data",
          "data": {
            "image/png": "[encoded data removed]",
            "text/plain": [
              "<Figure size 1152x360 with 1 Axes>"
            ]
          },
          "metadata": {
            "tags": [],
            "needs_background": "light"
          }
        }
      ]
    },
    {
      "cell_type": "code",
      "metadata": {
        "colab": {
          "base_uri": "https://localhost:8080/"
        },
        "id": "QaMULzJATGPo",
        "outputId": "fb0bce18-6803-4c3d-acbc-336ec71d4a1b"
      },
      "source": [
        "mnt_cnt1 = np.round(iss['Month'].value_counts(normalize = True)*100)[[1,2,3,4,5,6,7,8,9,10,11,12]]\n",
        "mnt_cnt1"
      ],
      "execution_count": null,
      "outputs": [
        {
          "output_type": "execute_result",
          "data": {
            "text/plain": [
              "1      9.0\n",
              "2     13.0\n",
              "3      9.0\n",
              "4     12.0\n",
              "5      9.0\n",
              "6     10.0\n",
              "7      5.0\n",
              "8      9.0\n",
              "9      6.0\n",
              "10     6.0\n",
              "11     6.0\n",
              "12     6.0\n",
              "Name: Month, dtype: float64"
            ]
          },
          "metadata": {
            "tags": []
          },
          "execution_count": 45
        }
      ]
    },
    {
      "cell_type": "code",
      "metadata": {
        "colab": {
          "base_uri": "https://localhost:8080/",
          "height": 497
        },
        "id": "_4Lr4o5FneDq",
        "outputId": "69f33414-c77c-4c8b-f603-0c97d4a2dcd4"
      },
      "source": [
        "fig,ax = plt.subplots(figsize= (18,8))\n",
        "plt.bar(mnt_cnt1.keys().values,mnt_cnt1,color= ('red','green','orange'),width=0.5)\n",
        "plt.xlabel('Months',fontweight = 'bold')\n",
        "plt.ylabel('Percentage %',fontweight = 'bold')\n",
        "for i in ax.patches:\n",
        "  plt.text(i.get_x()+0.15,i.get_height()+0.25,\n",
        "           str(i.get_height()),\n",
        "           color = 'black',fontweight = 'bold')\n",
        "plt.xticks(mnt_cnt1.keys().values) ;"
      ],
      "execution_count": null,
      "outputs": [
        {
          "output_type": "display_data",
          "data": {
            "image/png": "[encoded data removed]",
            "text/plain": [
              "<Figure size 1296x576 with 1 Axes>"
            ]
          },
          "metadata": {
            "tags": [],
            "needs_background": "light"
          }
        }
      ]
    },
    {
      "cell_type": "code",
      "metadata": {
        "id": "DBP_4HF2nuMa"
      },
      "source": [
        "year_count = iss['Year'].value_counts()\n",
        "day_count = iss['Day'].value_counts()\n",
        "wekdy_count = iss['Weekday'].value_counts()[['Monday','Tuesday','Wednesday','Thursday','Friday','Saturday','Sunday']]\n",
        "wekyr_count = iss['WeekofYear'].value_counts()\n",
        "sesn_count = np.round(iss['Season'].value_counts(normalize = True)*100)"
      ],
      "execution_count": null,
      "outputs": []
    },
    {
      "cell_type": "code",
      "metadata": {
        "colab": {
          "base_uri": "https://localhost:8080/",
          "height": 248
        },
        "id": "yNq9p6YV4yAt",
        "outputId": "dff4a556-9fe0-452a-ab8c-0caa8bcc05e8"
      },
      "source": [
        "plt.pie(year_count,labels= year_count.keys().values);"
      ],
      "execution_count": null,
      "outputs": [
        {
          "output_type": "display_data",
          "data": {
            "image/png": "[encoded data removed]",
            "text/plain": [
              "<Figure size 432x288 with 1 Axes>"
            ]
          },
          "metadata": {
            "tags": []
          }
        }
      ]
    },
    {
      "cell_type": "markdown",
      "metadata": {
        "id": "3XhEJzUJuO1a"
      },
      "source": [
        "**Note:- Define a function for providing the list of serial number.**"
      ]
    },
    {
      "cell_type": "code",
      "metadata": {
        "id": "UQdxm2U9LEwl"
      },
      "source": [
        "def lst(a):\n",
        "  lst1 = []\n",
        "  for i in range(1,a+1):\n",
        "    lst1.append(i)\n",
        "  return(lst1)"
      ],
      "execution_count": null,
      "outputs": []
    },
    {
      "cell_type": "code",
      "metadata": {
        "colab": {
          "base_uri": "https://localhost:8080/"
        },
        "id": "kLFrPblN508A",
        "outputId": "4ccdbcbd-da52-41d8-8f95-c6ee6c3284e8"
      },
      "source": [
        "day1=day_count[lst(len(day_count.keys().values))]\n",
        "day1"
      ],
      "execution_count": null,
      "outputs": [
        {
          "output_type": "execute_result",
          "data": {
            "text/plain": [
              "1     17\n",
              "2     21\n",
              "3     24\n",
              "4     24\n",
              "5     18\n",
              "6     21\n",
              "7     14\n",
              "8      8\n",
              "9      9\n",
              "10    10\n",
              "11     4\n",
              "12    10\n",
              "13    15\n",
              "14    12\n",
              "15    15\n",
              "16    19\n",
              "17    15\n",
              "18    15\n",
              "19    11\n",
              "20    11\n",
              "21     9\n",
              "22    17\n",
              "23    17\n",
              "24    16\n",
              "25    15\n",
              "26     9\n",
              "27     9\n",
              "28     6\n",
              "29    12\n",
              "30    14\n",
              "31     7\n",
              "Name: Day, dtype: int64"
            ]
          },
          "metadata": {
            "tags": []
          },
          "execution_count": 50
        }
      ]
    },
    {
      "cell_type": "code",
      "metadata": {
        "colab": {
          "base_uri": "https://localhost:8080/",
          "height": 606
        },
        "id": "haYAdALrO7ks",
        "outputId": "293f8ad5-5265-47bf-feeb-a4eb5d0298a8"
      },
      "source": [
        "fig,ax = plt.subplots(figsize = (18,10))\n",
        "plt.barh(day1.keys().values,day1.values,color = ('orange','grey','pink','blue'))\n",
        "plt.xlabel('Number of cases in day',fontweight = 'bold')\n",
        "plt.ylabel('Days',fontweight = 'bold')\n",
        "plt.yticks(day1.keys().values)\n",
        "for x in ax.patches:\n",
        "  plt.text(x.get_width()+0.15,x.get_y()+0.15,\n",
        "           str(x.get_width()),\n",
        "           color = 'grey',fontweight = 'bold')\n",
        "ax.grid(alpha = 0.2);"
      ],
      "execution_count": null,
      "outputs": [
        {
          "output_type": "display_data",
          "data": {
            "image/png": "[encoded data removed]",
            "text/plain": [
              "<Figure size 1296x720 with 1 Axes>"
            ]
          },
          "metadata": {
            "tags": [],
            "needs_background": "light"
          }
        }
      ]
    },
    {
      "cell_type": "code",
      "metadata": {
        "id": "oeeiNsQT6rZc",
        "colab": {
          "base_uri": "https://localhost:8080/",
          "height": 388
        },
        "outputId": "a72f3e94-89a3-468e-96ea-44514fc9be85"
      },
      "source": [
        "plt.figure(figsize = (12,6))\n",
        "plt.bar(wekdy_count.keys().values,wekdy_count.values,color = ('red','yellow','green'),width = 0.5)\n",
        "plt.xlabel('WEEKDAY', fontweight = 'bold')        \n",
        "plt.ylabel('Number of Accident\\'s',fontweight= 'bold');"
      ],
      "execution_count": null,
      "outputs": [
        {
          "output_type": "display_data",
          "data": {
            "image/png": "[encoded data removed]",
            "text/plain": [
              "<Figure size 864x432 with 1 Axes>"
            ]
          },
          "metadata": {
            "tags": [],
            "needs_background": "light"
          }
        }
      ]
    },
    {
      "cell_type": "code",
      "metadata": {
        "colab": {
          "base_uri": "https://localhost:8080/"
        },
        "id": "7TkDDD47NQFM",
        "outputId": "ffdec53c-b2f8-4c30-de6c-e024ffe6b34e"
      },
      "source": [
        "wekyr1 = wekyr_count[lst(len(wekyr_count.keys().values))]\n",
        "wekyr1"
      ],
      "execution_count": null,
      "outputs": [
        {
          "output_type": "execute_result",
          "data": {
            "text/plain": [
              "1     11\n",
              "2      6\n",
              "3      8\n",
              "4     10\n",
              "5     14\n",
              "6      5\n",
              "7     21\n",
              "8     14\n",
              "9      8\n",
              "10     7\n",
              "11    13\n",
              "12     8\n",
              "13    10\n",
              "14    17\n",
              "15     8\n",
              "16     8\n",
              "17    13\n",
              "18    13\n",
              "19     2\n",
              "20    12\n",
              "21     9\n",
              "22     8\n",
              "23     6\n",
              "24    14\n",
              "25    14\n",
              "26     6\n",
              "27     7\n",
              "28     3\n",
              "29     3\n",
              "30     3\n",
              "31    20\n",
              "32     7\n",
              "33     3\n",
              "34     5\n",
              "35    10\n",
              "36     4\n",
              "37     6\n",
              "38     7\n",
              "39     6\n",
              "40     7\n",
              "41     5\n",
              "42     4\n",
              "43     5\n",
              "44     9\n",
              "45    10\n",
              "46     1\n",
              "47     4\n",
              "48     6\n",
              "49     5\n",
              "50     8\n",
              "51     5\n",
              "52     4\n",
              "53     2\n",
              "Name: WeekofYear, dtype: int64"
            ]
          },
          "metadata": {
            "tags": []
          },
          "execution_count": 53
        }
      ]
    },
    {
      "cell_type": "code",
      "metadata": {
        "colab": {
          "base_uri": "https://localhost:8080/",
          "height": 374
        },
        "id": "_hGbBpl5NSzF",
        "outputId": "33510e66-725e-499c-d42e-d777f99726d0"
      },
      "source": [
        "plt.figure(figsize = (18,6))\n",
        "plt.bar(wekyr1.keys().values,wekyr1,color = 'orange');"
      ],
      "execution_count": null,
      "outputs": [
        {
          "output_type": "display_data",
          "data": {
            "image/png": "[encoded data removed]",
            "text/plain": [
              "<Figure size 1296x432 with 1 Axes>"
            ]
          },
          "metadata": {
            "tags": [],
            "needs_background": "light"
          }
        }
      ]
    },
    {
      "cell_type": "code",
      "metadata": {
        "colab": {
          "base_uri": "https://localhost:8080/",
          "height": 320
        },
        "id": "ETGQM8SIcMir",
        "outputId": "6087c384-04eb-4d7a-b33a-678048b5a529"
      },
      "source": [
        "plt.figure(figsize = (12,5))\n",
        "plt.bar(sesn_count.keys().values,sesn_count,color = 'skyblue',width=0.4);"
      ],
      "execution_count": null,
      "outputs": [
        {
          "output_type": "display_data",
          "data": {
            "image/png": "[encoded data removed]",
            "text/plain": [
              "<Figure size 864x360 with 1 Axes>"
            ]
          },
          "metadata": {
            "tags": [],
            "needs_background": "light"
          }
        }
      ]
    },
    {
      "cell_type": "code",
      "metadata": {
        "id": "QlaiHBmhcXSk"
      },
      "source": [
        ""
      ],
      "execution_count": null,
      "outputs": []
    },
    {
      "cell_type": "markdown",
      "metadata": {
        "id": "sJQTmpHNdKY-"
      },
      "source": [
        "**Now some graphs depend on the data of US**\n",
        "\n",
        "---\n"
      ]
    },
    {
      "cell_type": "code",
      "metadata": {
        "colab": {
          "base_uri": "https://localhost:8080/",
          "height": 459
        },
        "id": "FD_gpCagdXnV",
        "outputId": "148eb118-3209-4721-855d-1fb7121b864e"
      },
      "source": [
        "cntrs1.head()"
      ],
      "execution_count": null,
      "outputs": [
        {
          "output_type": "execute_result",
          "data": {
            "text/html": [
              "<div>\n",
              "<style scoped>\n",
              "    .dataframe tbody tr th:only-of-type {\n",
              "        vertical-align: middle;\n",
              "    }\n",
              "\n",
              "    .dataframe tbody tr th {\n",
              "        vertical-align: top;\n",
              "    }\n",
              "\n",
              "    .dataframe thead th {\n",
              "        text-align: right;\n",
              "    }\n",
              "</style>\n",
              "<table border=\"1\" class=\"dataframe\">\n",
              "  <thead>\n",
              "    <tr style=\"text-align: right;\">\n",
              "      <th></th>\n",
              "      <th>Date</th>\n",
              "      <th>Country</th>\n",
              "      <th>Local</th>\n",
              "      <th>Industry Sector</th>\n",
              "      <th>Accident Level</th>\n",
              "      <th>Potential Accident Level</th>\n",
              "      <th>Gender</th>\n",
              "      <th>Employee or Third Party</th>\n",
              "      <th>Critical Risk</th>\n",
              "      <th>Description</th>\n",
              "      <th>Year</th>\n",
              "      <th>Month</th>\n",
              "      <th>Month Name</th>\n",
              "      <th>Day</th>\n",
              "      <th>Weekday</th>\n",
              "      <th>WeekofYear</th>\n",
              "      <th>Season</th>\n",
              "    </tr>\n",
              "  </thead>\n",
              "  <tbody>\n",
              "    <tr>\n",
              "      <th>0</th>\n",
              "      <td>2016-01-01</td>\n",
              "      <td>United States</td>\n",
              "      <td>West Virginia</td>\n",
              "      <td>Mining</td>\n",
              "      <td>I</td>\n",
              "      <td>IV</td>\n",
              "      <td>Male</td>\n",
              "      <td>Third Party</td>\n",
              "      <td>Pressed</td>\n",
              "      <td>While removing the drill rod of the Jumbo 08 f...</td>\n",
              "      <td>2016</td>\n",
              "      <td>1</td>\n",
              "      <td>January</td>\n",
              "      <td>1</td>\n",
              "      <td>Friday</td>\n",
              "      <td>53</td>\n",
              "      <td>Summer</td>\n",
              "    </tr>\n",
              "    <tr>\n",
              "      <th>2</th>\n",
              "      <td>2016-06-01</td>\n",
              "      <td>United States</td>\n",
              "      <td>Kentucky</td>\n",
              "      <td>Mining</td>\n",
              "      <td>I</td>\n",
              "      <td>III</td>\n",
              "      <td>Male</td>\n",
              "      <td>Third Party (Remote)</td>\n",
              "      <td>Manual Tools</td>\n",
              "      <td>In the sub-station MILPO located at level +170...</td>\n",
              "      <td>2016</td>\n",
              "      <td>6</td>\n",
              "      <td>June</td>\n",
              "      <td>1</td>\n",
              "      <td>Wednesday</td>\n",
              "      <td>22</td>\n",
              "      <td>Winter</td>\n",
              "    </tr>\n",
              "    <tr>\n",
              "      <th>3</th>\n",
              "      <td>2016-08-01</td>\n",
              "      <td>United States</td>\n",
              "      <td>Illinois</td>\n",
              "      <td>Mining</td>\n",
              "      <td>I</td>\n",
              "      <td>I</td>\n",
              "      <td>Male</td>\n",
              "      <td>Third Party</td>\n",
              "      <td>Others</td>\n",
              "      <td>Being 9:45 am. approximately in the Nv. 1880 C...</td>\n",
              "      <td>2016</td>\n",
              "      <td>8</td>\n",
              "      <td>August</td>\n",
              "      <td>1</td>\n",
              "      <td>Monday</td>\n",
              "      <td>31</td>\n",
              "      <td>Winter</td>\n",
              "    </tr>\n",
              "    <tr>\n",
              "      <th>4</th>\n",
              "      <td>2016-10-01</td>\n",
              "      <td>United States</td>\n",
              "      <td>Illinois</td>\n",
              "      <td>Mining</td>\n",
              "      <td>IV</td>\n",
              "      <td>IV</td>\n",
              "      <td>Male</td>\n",
              "      <td>Third Party</td>\n",
              "      <td>Others</td>\n",
              "      <td>Approximately at 11:45 a.m. in circumstances t...</td>\n",
              "      <td>2016</td>\n",
              "      <td>10</td>\n",
              "      <td>October</td>\n",
              "      <td>1</td>\n",
              "      <td>Saturday</td>\n",
              "      <td>39</td>\n",
              "      <td>Spring</td>\n",
              "    </tr>\n",
              "    <tr>\n",
              "      <th>7</th>\n",
              "      <td>2016-01-17</td>\n",
              "      <td>United States</td>\n",
              "      <td>Illinois</td>\n",
              "      <td>Mining</td>\n",
              "      <td>I</td>\n",
              "      <td>III</td>\n",
              "      <td>Male</td>\n",
              "      <td>Third Party</td>\n",
              "      <td>Pressed</td>\n",
              "      <td>At approximately 04:50 p.m., when the mechanic...</td>\n",
              "      <td>2016</td>\n",
              "      <td>1</td>\n",
              "      <td>January</td>\n",
              "      <td>17</td>\n",
              "      <td>Sunday</td>\n",
              "      <td>2</td>\n",
              "      <td>Summer</td>\n",
              "    </tr>\n",
              "  </tbody>\n",
              "</table>\n",
              "</div>"
            ],
            "text/plain": [
              "        Date         Country          Local  ...    Weekday WeekofYear  Season\n",
              "0 2016-01-01  United States   West Virginia  ...     Friday         53  Summer\n",
              "2 2016-06-01  United States        Kentucky  ...  Wednesday         22  Winter\n",
              "3 2016-08-01  United States        Illinois  ...     Monday         31  Winter\n",
              "4 2016-10-01  United States        Illinois  ...   Saturday         39  Spring\n",
              "7 2016-01-17  United States        Illinois  ...     Sunday          2  Summer\n",
              "\n",
              "[5 rows x 17 columns]"
            ]
          },
          "metadata": {
            "tags": []
          },
          "execution_count": 56
        }
      ]
    },
    {
      "cell_type": "code",
      "metadata": {
        "id": "z6WaesgjdfNC"
      },
      "source": [
        "mnt_cnt_us = np.round(cntrs1['Month'].value_counts(normalize = True)*100)\n",
        "year_count_us = cntrs1['Year'].value_counts()\n",
        "day_count_us = cntrs1['Day'].value_counts()\n",
        "wekdy_count_us = cntrs1['Weekday'].value_counts()[['Monday','Tuesday','Wednesday','Thursday','Friday','Saturday','Sunday']]\n",
        "wekyr_count_us = cntrs1['WeekofYear'].value_counts()\n",
        "sesn_count_us = np.round(cntrs1['Season'].value_counts(normalize = True)*100)"
      ],
      "execution_count": null,
      "outputs": []
    },
    {
      "cell_type": "code",
      "metadata": {
        "colab": {
          "base_uri": "https://localhost:8080/"
        },
        "id": "86fpgDyftTM1",
        "outputId": "258c3fbe-efe8-4c8c-f71c-c5f406d5d943"
      },
      "source": [
        "mnt_cnt_us1= mnt_cnt_us[lst(len(mnt_cnt_us.values))]\n",
        "mnt_cnt_us1"
      ],
      "execution_count": null,
      "outputs": [
        {
          "output_type": "execute_result",
          "data": {
            "text/plain": [
              "1     10.0\n",
              "2     12.0\n",
              "3     10.0\n",
              "4     10.0\n",
              "5      7.0\n",
              "6      9.0\n",
              "7      6.0\n",
              "8     10.0\n",
              "9      7.0\n",
              "10     6.0\n",
              "11     8.0\n",
              "12     6.0\n",
              "Name: Month, dtype: float64"
            ]
          },
          "metadata": {
            "tags": []
          },
          "execution_count": 58
        }
      ]
    },
    {
      "cell_type": "code",
      "metadata": {
        "colab": {
          "base_uri": "https://localhost:8080/",
          "height": 497
        },
        "id": "dzS2WRmytVUi",
        "outputId": "fb76b3e0-dd36-46fa-a0ba-04a1d2d64117"
      },
      "source": [
        "fig,ax = plt.subplots(figsize= (18,8))\n",
        "plt.bar(mnt_cnt_us1.keys().values,mnt_cnt_us1,color= ('red','green','orange'),width=0.5)\n",
        "plt.xlabel('Months',fontweight = 'bold')\n",
        "plt.ylabel('Percentage %',fontweight = 'bold')\n",
        "for i in ax.patches:\n",
        "  plt.text(i.get_x()+0.15,i.get_height()+0.25,\n",
        "           str(i.get_height()),\n",
        "           color = 'black',fontweight = 'bold')\n",
        "plt.xticks(mnt_cnt_us1.keys().values);"
      ],
      "execution_count": null,
      "outputs": [
        {
          "output_type": "display_data",
          "data": {
            "image/png": "[encoded data removed]",
            "text/plain": [
              "<Figure size 1296x576 with 1 Axes>"
            ]
          },
          "metadata": {
            "tags": [],
            "needs_background": "light"
          }
        }
      ]
    },
    {
      "cell_type": "code",
      "metadata": {
        "colab": {
          "base_uri": "https://localhost:8080/",
          "height": 384
        },
        "id": "idJuyuAew_2U",
        "outputId": "13cbfd1f-8cb1-46a6-b693-5426e03c7f12"
      },
      "source": [
        "plt.pie(year_count_us,labels= year_count_us.keys().values,autopct='%.1f',radius=2,\n",
        "        shadow = True,explode = (0,0.15),startangle=260);"
      ],
      "execution_count": null,
      "outputs": [
        {
          "output_type": "display_data",
          "data": {
            "image/png": "[encoded data removed]",
            "text/plain": [
              "<Figure size 432x288 with 1 Axes>"
            ]
          },
          "metadata": {
            "tags": []
          }
        }
      ]
    },
    {
      "cell_type": "code",
      "metadata": {
        "colab": {
          "base_uri": "https://localhost:8080/"
        },
        "id": "IpipXSlKz0iW",
        "outputId": "2aa49259-845d-41d9-853d-b984a38c75e6"
      },
      "source": [
        "wekdy_count_us"
      ],
      "execution_count": null,
      "outputs": [
        {
          "output_type": "execute_result",
          "data": {
            "text/plain": [
              "Monday       33\n",
              "Tuesday      36\n",
              "Wednesday    33\n",
              "Thursday     39\n",
              "Friday       43\n",
              "Saturday     41\n",
              "Sunday       26\n",
              "Name: Weekday, dtype: int64"
            ]
          },
          "metadata": {
            "tags": []
          },
          "execution_count": 61
        }
      ]
    },
    {
      "cell_type": "code",
      "metadata": {
        "colab": {
          "base_uri": "https://localhost:8080/",
          "height": 497
        },
        "id": "UarVpwbX3zE3",
        "outputId": "8a8ba3a2-2d83-4c95-cba5-fbae8a833ecc"
      },
      "source": [
        "#Total weekdays Vs Us weekdays difference\n",
        "fig,ax = plt.subplots(figsize= (20,8))\n",
        "barWidth = 0.25\n",
        "\n",
        "bar1 = wekdy_count.to_numpy()\n",
        "bar2 = wekdy_count_us.to_numpy()\n",
        "\n",
        "r1 = np.arange(len(bar1))\n",
        "r2 = [x + barWidth for x in r1]\n",
        "\n",
        "plt.bar(r1,wekdy_count,width=barWidth,color = 'blue',label = 'All weekday data')\n",
        "plt.bar(r2,wekdy_count_us,width=barWidth,color = 'green',label = 'US weekday data')\n",
        "\n",
        "plt.xlabel('WeekDays',fontweight = 'bold')\n",
        "plt.ylabel('Number of Accidents',fontweight = 'bold')\n",
        "for i in ax.patches:\n",
        "  plt.text(i.get_x()+0.08,i.get_height()+1,\n",
        "           str(i.get_height()),\n",
        "           color = 'black',fontweight = 'bold')\n",
        "#plt.xticks(wekdy_count.keys().values)\n",
        "plt.xticks([r+barWidth for r in range(len(bar1))],wekdy_count_us.keys().values)\n",
        "plt.legend();"
      ],
      "execution_count": null,
      "outputs": [
        {
          "output_type": "display_data",
          "data": {
            "image/png": "[encoded data removed]",
            "text/plain": [
              "<Figure size 1440x576 with 1 Axes>"
            ]
          },
          "metadata": {
            "tags": [],
            "needs_background": "light"
          }
        }
      ]
    },
    {
      "cell_type": "code",
      "metadata": {
        "id": "UrLZVgAl-TaK",
        "colab": {
          "base_uri": "https://localhost:8080/"
        },
        "outputId": "5d755ea8-8e3c-4476-ed84-fe7dd4c91769"
      },
      "source": [
        "type(wekdy_count_us)"
      ],
      "execution_count": null,
      "outputs": [
        {
          "output_type": "execute_result",
          "data": {
            "text/plain": [
              "pandas.core.series.Series"
            ]
          },
          "metadata": {
            "tags": []
          },
          "execution_count": 83
        }
      ]
    },
    {
      "cell_type": "code",
      "metadata": {
        "id": "n74Df0Q2vN-G"
      },
      "source": [
        "?plt.pie"
      ],
      "execution_count": null,
      "outputs": []
    },
    {
      "cell_type": "code",
      "metadata": {
        "colab": {
          "base_uri": "https://localhost:8080/"
        },
        "id": "rJdCgW8SwqNW",
        "outputId": "bd72537a-9027-485b-c7b0-70ec643cdbb9"
      },
      "source": [
        "type(mnt_cnt_us1)"
      ],
      "execution_count": null,
      "outputs": [
        {
          "output_type": "execute_result",
          "data": {
            "text/plain": [
              "pandas.core.series.Series"
            ]
          },
          "metadata": {
            "tags": []
          },
          "execution_count": 82
        }
      ]
    },
    {
      "cell_type": "code",
      "metadata": {
        "id": "EA0b9DZzxpcp"
      },
      "source": [
        ""
      ],
      "execution_count": null,
      "outputs": []
    }
  ]
}
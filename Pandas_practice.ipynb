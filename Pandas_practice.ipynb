{
  "nbformat": 4,
  "nbformat_minor": 0,
  "metadata": {
    "colab": {
      "name": "Pandas_practice.ipynb",
      "provenance": [],
      "authorship_tag": "ABX9TyMihwjo/iehsI3eCIE+xZME",
      "include_colab_link": true
    },
    "kernelspec": {
      "name": "python3",
      "display_name": "Python 3"
    }
  },
  "cells": [
    {
      "cell_type": "markdown",
      "metadata": {
        "id": "view-in-github",
        "colab_type": "text"
      },
      "source": [
        "<a href=\"https://colab.research.google.com/github/vivek-varshney/Practice/blob/main/Pandas_practice.ipynb\" target=\"_parent\"><img src=\"https://colab.research.google.com/assets/colab-badge.svg\" alt=\"Open In Colab\"/></a>"
      ]
    },
    {
      "cell_type": "code",
      "metadata": {
        "id": "TuwfOLO3bsOh"
      },
      "source": [
        "import pandas as pd\n",
        "import numpy as np"
      ],
      "execution_count": 1,
      "outputs": []
    },
    {
      "cell_type": "code",
      "metadata": {
        "id": "v0sTcN-Zbraf",
        "outputId": "42f37e18-adb0-4891-a92a-36c237eeecf9",
        "colab": {
          "base_uri": "https://localhost:8080/"
        }
      },
      "source": [
        "!wget https://raw.githubusercontent.com/gauravpks/ml-repo/master/DataSet/sbux.csv"
      ],
      "execution_count": 2,
      "outputs": [
        {
          "output_type": "stream",
          "text": [
            "--2020-11-03 14:33:58--  https://raw.githubusercontent.com/gauravpks/ml-repo/master/DataSet/sbux.csv\n",
            "Resolving raw.githubusercontent.com (raw.githubusercontent.com)... 151.101.0.133, 151.101.64.133, 151.101.128.133, ...\n",
            "Connecting to raw.githubusercontent.com (raw.githubusercontent.com)|151.101.0.133|:443... connected.\n",
            "HTTP request sent, awaiting response... 200 OK\n",
            "Length: 61896 (60K) [text/plain]\n",
            "Saving to: ‘sbux.csv’\n",
            "\n",
            "sbux.csv            100%[===================>]  60.45K  --.-KB/s    in 0.03s   \n",
            "\n",
            "2020-11-03 14:33:58 (2.24 MB/s) - ‘sbux.csv’ saved [61896/61896]\n",
            "\n"
          ],
          "name": "stdout"
        }
      ]
    },
    {
      "cell_type": "code",
      "metadata": {
        "id": "YqfPcsV7hzsv",
        "outputId": "908a8485-f0e5-4b20-bc05-433b04c921af",
        "colab": {
          "base_uri": "https://localhost:8080/"
        }
      },
      "source": [
        "print(pd.__version__)"
      ],
      "execution_count": 3,
      "outputs": [
        {
          "output_type": "stream",
          "text": [
            "1.1.3\n"
          ],
          "name": "stdout"
        }
      ]
    },
    {
      "cell_type": "code",
      "metadata": {
        "id": "kRziNah5h-h0",
        "outputId": "484204f9-495c-4a66-fb6d-dc22726d0ff7",
        "colab": {
          "base_uri": "https://localhost:8080/"
        }
      },
      "source": [
        "!pwd"
      ],
      "execution_count": 4,
      "outputs": [
        {
          "output_type": "stream",
          "text": [
            "/content\n"
          ],
          "name": "stdout"
        }
      ]
    },
    {
      "cell_type": "code",
      "metadata": {
        "id": "Br9nXulxiEQr",
        "outputId": "4d4ae8a3-6b2b-4f5e-c408-90a38a5ff936",
        "colab": {
          "base_uri": "https://localhost:8080/"
        }
      },
      "source": [
        "print(np.__version__)"
      ],
      "execution_count": 5,
      "outputs": [
        {
          "output_type": "stream",
          "text": [
            "1.18.5\n"
          ],
          "name": "stdout"
        }
      ]
    },
    {
      "cell_type": "code",
      "metadata": {
        "id": "DE7xitUWiIxu",
        "outputId": "c56e8df6-05ab-4554-ef48-c23ca5a0ecc5",
        "colab": {
          "base_uri": "https://localhost:8080/",
          "height": 419
        }
      },
      "source": [
        "files = pd.read_csv(\"sbux.csv\")\n",
        "files"
      ],
      "execution_count": 7,
      "outputs": [
        {
          "output_type": "execute_result",
          "data": {
            "text/html": [
              "<div>\n",
              "<style scoped>\n",
              "    .dataframe tbody tr th:only-of-type {\n",
              "        vertical-align: middle;\n",
              "    }\n",
              "\n",
              "    .dataframe tbody tr th {\n",
              "        vertical-align: top;\n",
              "    }\n",
              "\n",
              "    .dataframe thead th {\n",
              "        text-align: right;\n",
              "    }\n",
              "</style>\n",
              "<table border=\"1\" class=\"dataframe\">\n",
              "  <thead>\n",
              "    <tr style=\"text-align: right;\">\n",
              "      <th></th>\n",
              "      <th>date</th>\n",
              "      <th>open</th>\n",
              "      <th>high</th>\n",
              "      <th>low</th>\n",
              "      <th>close</th>\n",
              "      <th>volume</th>\n",
              "      <th>Name</th>\n",
              "    </tr>\n",
              "  </thead>\n",
              "  <tbody>\n",
              "    <tr>\n",
              "      <th>0</th>\n",
              "      <td>2013-02-08</td>\n",
              "      <td>27.920</td>\n",
              "      <td>28.325</td>\n",
              "      <td>27.920</td>\n",
              "      <td>28.185</td>\n",
              "      <td>7146296</td>\n",
              "      <td>SBUX</td>\n",
              "    </tr>\n",
              "    <tr>\n",
              "      <th>1</th>\n",
              "      <td>2013-02-11</td>\n",
              "      <td>28.260</td>\n",
              "      <td>28.260</td>\n",
              "      <td>27.930</td>\n",
              "      <td>28.070</td>\n",
              "      <td>5457354</td>\n",
              "      <td>SBUX</td>\n",
              "    </tr>\n",
              "    <tr>\n",
              "      <th>2</th>\n",
              "      <td>2013-02-12</td>\n",
              "      <td>28.000</td>\n",
              "      <td>28.275</td>\n",
              "      <td>27.975</td>\n",
              "      <td>28.130</td>\n",
              "      <td>8665592</td>\n",
              "      <td>SBUX</td>\n",
              "    </tr>\n",
              "    <tr>\n",
              "      <th>3</th>\n",
              "      <td>2013-02-13</td>\n",
              "      <td>28.230</td>\n",
              "      <td>28.230</td>\n",
              "      <td>27.750</td>\n",
              "      <td>27.915</td>\n",
              "      <td>7022056</td>\n",
              "      <td>SBUX</td>\n",
              "    </tr>\n",
              "    <tr>\n",
              "      <th>4</th>\n",
              "      <td>2013-02-14</td>\n",
              "      <td>27.765</td>\n",
              "      <td>27.905</td>\n",
              "      <td>27.675</td>\n",
              "      <td>27.775</td>\n",
              "      <td>8899188</td>\n",
              "      <td>SBUX</td>\n",
              "    </tr>\n",
              "    <tr>\n",
              "      <th>...</th>\n",
              "      <td>...</td>\n",
              "      <td>...</td>\n",
              "      <td>...</td>\n",
              "      <td>...</td>\n",
              "      <td>...</td>\n",
              "      <td>...</td>\n",
              "      <td>...</td>\n",
              "    </tr>\n",
              "    <tr>\n",
              "      <th>1254</th>\n",
              "      <td>2018-02-01</td>\n",
              "      <td>56.280</td>\n",
              "      <td>56.420</td>\n",
              "      <td>55.890</td>\n",
              "      <td>56.000</td>\n",
              "      <td>14690146</td>\n",
              "      <td>SBUX</td>\n",
              "    </tr>\n",
              "    <tr>\n",
              "      <th>1255</th>\n",
              "      <td>2018-02-02</td>\n",
              "      <td>55.900</td>\n",
              "      <td>56.320</td>\n",
              "      <td>55.700</td>\n",
              "      <td>55.770</td>\n",
              "      <td>15358909</td>\n",
              "      <td>SBUX</td>\n",
              "    </tr>\n",
              "    <tr>\n",
              "      <th>1256</th>\n",
              "      <td>2018-02-05</td>\n",
              "      <td>55.530</td>\n",
              "      <td>56.260</td>\n",
              "      <td>54.570</td>\n",
              "      <td>54.690</td>\n",
              "      <td>16059955</td>\n",
              "      <td>SBUX</td>\n",
              "    </tr>\n",
              "    <tr>\n",
              "      <th>1257</th>\n",
              "      <td>2018-02-06</td>\n",
              "      <td>53.685</td>\n",
              "      <td>56.060</td>\n",
              "      <td>53.560</td>\n",
              "      <td>55.610</td>\n",
              "      <td>17415065</td>\n",
              "      <td>SBUX</td>\n",
              "    </tr>\n",
              "    <tr>\n",
              "      <th>1258</th>\n",
              "      <td>2018-02-07</td>\n",
              "      <td>55.080</td>\n",
              "      <td>55.430</td>\n",
              "      <td>54.440</td>\n",
              "      <td>54.460</td>\n",
              "      <td>13927022</td>\n",
              "      <td>SBUX</td>\n",
              "    </tr>\n",
              "  </tbody>\n",
              "</table>\n",
              "<p>1259 rows × 7 columns</p>\n",
              "</div>"
            ],
            "text/plain": [
              "            date    open    high     low   close    volume  Name\n",
              "0     2013-02-08  27.920  28.325  27.920  28.185   7146296  SBUX\n",
              "1     2013-02-11  28.260  28.260  27.930  28.070   5457354  SBUX\n",
              "2     2013-02-12  28.000  28.275  27.975  28.130   8665592  SBUX\n",
              "3     2013-02-13  28.230  28.230  27.750  27.915   7022056  SBUX\n",
              "4     2013-02-14  27.765  27.905  27.675  27.775   8899188  SBUX\n",
              "...          ...     ...     ...     ...     ...       ...   ...\n",
              "1254  2018-02-01  56.280  56.420  55.890  56.000  14690146  SBUX\n",
              "1255  2018-02-02  55.900  56.320  55.700  55.770  15358909  SBUX\n",
              "1256  2018-02-05  55.530  56.260  54.570  54.690  16059955  SBUX\n",
              "1257  2018-02-06  53.685  56.060  53.560  55.610  17415065  SBUX\n",
              "1258  2018-02-07  55.080  55.430  54.440  54.460  13927022  SBUX\n",
              "\n",
              "[1259 rows x 7 columns]"
            ]
          },
          "metadata": {
            "tags": []
          },
          "execution_count": 7
        }
      ]
    },
    {
      "cell_type": "code",
      "metadata": {
        "id": "3cirKiQhi2jY",
        "outputId": "06a3b8de-fd6c-4d97-8360-18c9a8b6401f",
        "colab": {
          "base_uri": "https://localhost:8080/",
          "height": 390
        }
      },
      "source": [
        "files.head(11)"
      ],
      "execution_count": 9,
      "outputs": [
        {
          "output_type": "execute_result",
          "data": {
            "text/html": [
              "<div>\n",
              "<style scoped>\n",
              "    .dataframe tbody tr th:only-of-type {\n",
              "        vertical-align: middle;\n",
              "    }\n",
              "\n",
              "    .dataframe tbody tr th {\n",
              "        vertical-align: top;\n",
              "    }\n",
              "\n",
              "    .dataframe thead th {\n",
              "        text-align: right;\n",
              "    }\n",
              "</style>\n",
              "<table border=\"1\" class=\"dataframe\">\n",
              "  <thead>\n",
              "    <tr style=\"text-align: right;\">\n",
              "      <th></th>\n",
              "      <th>date</th>\n",
              "      <th>open</th>\n",
              "      <th>high</th>\n",
              "      <th>low</th>\n",
              "      <th>close</th>\n",
              "      <th>volume</th>\n",
              "      <th>Name</th>\n",
              "    </tr>\n",
              "  </thead>\n",
              "  <tbody>\n",
              "    <tr>\n",
              "      <th>0</th>\n",
              "      <td>2013-02-08</td>\n",
              "      <td>27.920</td>\n",
              "      <td>28.325</td>\n",
              "      <td>27.920</td>\n",
              "      <td>28.185</td>\n",
              "      <td>7146296</td>\n",
              "      <td>SBUX</td>\n",
              "    </tr>\n",
              "    <tr>\n",
              "      <th>1</th>\n",
              "      <td>2013-02-11</td>\n",
              "      <td>28.260</td>\n",
              "      <td>28.260</td>\n",
              "      <td>27.930</td>\n",
              "      <td>28.070</td>\n",
              "      <td>5457354</td>\n",
              "      <td>SBUX</td>\n",
              "    </tr>\n",
              "    <tr>\n",
              "      <th>2</th>\n",
              "      <td>2013-02-12</td>\n",
              "      <td>28.000</td>\n",
              "      <td>28.275</td>\n",
              "      <td>27.975</td>\n",
              "      <td>28.130</td>\n",
              "      <td>8665592</td>\n",
              "      <td>SBUX</td>\n",
              "    </tr>\n",
              "    <tr>\n",
              "      <th>3</th>\n",
              "      <td>2013-02-13</td>\n",
              "      <td>28.230</td>\n",
              "      <td>28.230</td>\n",
              "      <td>27.750</td>\n",
              "      <td>27.915</td>\n",
              "      <td>7022056</td>\n",
              "      <td>SBUX</td>\n",
              "    </tr>\n",
              "    <tr>\n",
              "      <th>4</th>\n",
              "      <td>2013-02-14</td>\n",
              "      <td>27.765</td>\n",
              "      <td>27.905</td>\n",
              "      <td>27.675</td>\n",
              "      <td>27.775</td>\n",
              "      <td>8899188</td>\n",
              "      <td>SBUX</td>\n",
              "    </tr>\n",
              "    <tr>\n",
              "      <th>5</th>\n",
              "      <td>2013-02-15</td>\n",
              "      <td>27.805</td>\n",
              "      <td>27.850</td>\n",
              "      <td>27.085</td>\n",
              "      <td>27.170</td>\n",
              "      <td>18195730</td>\n",
              "      <td>SBUX</td>\n",
              "    </tr>\n",
              "    <tr>\n",
              "      <th>6</th>\n",
              "      <td>2013-02-19</td>\n",
              "      <td>27.180</td>\n",
              "      <td>27.305</td>\n",
              "      <td>27.010</td>\n",
              "      <td>27.225</td>\n",
              "      <td>11760912</td>\n",
              "      <td>SBUX</td>\n",
              "    </tr>\n",
              "    <tr>\n",
              "      <th>7</th>\n",
              "      <td>2013-02-20</td>\n",
              "      <td>27.300</td>\n",
              "      <td>27.420</td>\n",
              "      <td>26.590</td>\n",
              "      <td>26.655</td>\n",
              "      <td>12472506</td>\n",
              "      <td>SBUX</td>\n",
              "    </tr>\n",
              "    <tr>\n",
              "      <th>8</th>\n",
              "      <td>2013-02-21</td>\n",
              "      <td>26.535</td>\n",
              "      <td>26.820</td>\n",
              "      <td>26.260</td>\n",
              "      <td>26.675</td>\n",
              "      <td>13896450</td>\n",
              "      <td>SBUX</td>\n",
              "    </tr>\n",
              "    <tr>\n",
              "      <th>9</th>\n",
              "      <td>2013-02-22</td>\n",
              "      <td>26.850</td>\n",
              "      <td>27.105</td>\n",
              "      <td>26.640</td>\n",
              "      <td>27.085</td>\n",
              "      <td>11487316</td>\n",
              "      <td>SBUX</td>\n",
              "    </tr>\n",
              "    <tr>\n",
              "      <th>10</th>\n",
              "      <td>2013-02-25</td>\n",
              "      <td>27.200</td>\n",
              "      <td>27.355</td>\n",
              "      <td>26.600</td>\n",
              "      <td>26.605</td>\n",
              "      <td>12333954</td>\n",
              "      <td>SBUX</td>\n",
              "    </tr>\n",
              "  </tbody>\n",
              "</table>\n",
              "</div>"
            ],
            "text/plain": [
              "          date    open    high     low   close    volume  Name\n",
              "0   2013-02-08  27.920  28.325  27.920  28.185   7146296  SBUX\n",
              "1   2013-02-11  28.260  28.260  27.930  28.070   5457354  SBUX\n",
              "2   2013-02-12  28.000  28.275  27.975  28.130   8665592  SBUX\n",
              "3   2013-02-13  28.230  28.230  27.750  27.915   7022056  SBUX\n",
              "4   2013-02-14  27.765  27.905  27.675  27.775   8899188  SBUX\n",
              "5   2013-02-15  27.805  27.850  27.085  27.170  18195730  SBUX\n",
              "6   2013-02-19  27.180  27.305  27.010  27.225  11760912  SBUX\n",
              "7   2013-02-20  27.300  27.420  26.590  26.655  12472506  SBUX\n",
              "8   2013-02-21  26.535  26.820  26.260  26.675  13896450  SBUX\n",
              "9   2013-02-22  26.850  27.105  26.640  27.085  11487316  SBUX\n",
              "10  2013-02-25  27.200  27.355  26.600  26.605  12333954  SBUX"
            ]
          },
          "metadata": {
            "tags": []
          },
          "execution_count": 9
        }
      ]
    },
    {
      "cell_type": "code",
      "metadata": {
        "id": "JrINFwc2jMgZ",
        "outputId": "195b6502-a223-430b-9dd4-ea2d88c2fdf2",
        "colab": {
          "base_uri": "https://localhost:8080/",
          "height": 669
        }
      },
      "source": [
        "files.tail(20)"
      ],
      "execution_count": 12,
      "outputs": [
        {
          "output_type": "execute_result",
          "data": {
            "text/html": [
              "<div>\n",
              "<style scoped>\n",
              "    .dataframe tbody tr th:only-of-type {\n",
              "        vertical-align: middle;\n",
              "    }\n",
              "\n",
              "    .dataframe tbody tr th {\n",
              "        vertical-align: top;\n",
              "    }\n",
              "\n",
              "    .dataframe thead th {\n",
              "        text-align: right;\n",
              "    }\n",
              "</style>\n",
              "<table border=\"1\" class=\"dataframe\">\n",
              "  <thead>\n",
              "    <tr style=\"text-align: right;\">\n",
              "      <th></th>\n",
              "      <th>date</th>\n",
              "      <th>open</th>\n",
              "      <th>high</th>\n",
              "      <th>low</th>\n",
              "      <th>close</th>\n",
              "      <th>volume</th>\n",
              "      <th>Name</th>\n",
              "    </tr>\n",
              "  </thead>\n",
              "  <tbody>\n",
              "    <tr>\n",
              "      <th>1239</th>\n",
              "      <td>2018-01-10</td>\n",
              "      <td>59.240</td>\n",
              "      <td>60.13</td>\n",
              "      <td>58.8550</td>\n",
              "      <td>59.82</td>\n",
              "      <td>8656454</td>\n",
              "      <td>SBUX</td>\n",
              "    </tr>\n",
              "    <tr>\n",
              "      <th>1240</th>\n",
              "      <td>2018-01-11</td>\n",
              "      <td>59.760</td>\n",
              "      <td>60.02</td>\n",
              "      <td>59.4541</td>\n",
              "      <td>60.00</td>\n",
              "      <td>5806282</td>\n",
              "      <td>SBUX</td>\n",
              "    </tr>\n",
              "    <tr>\n",
              "      <th>1241</th>\n",
              "      <td>2018-01-12</td>\n",
              "      <td>60.400</td>\n",
              "      <td>60.51</td>\n",
              "      <td>59.6500</td>\n",
              "      <td>60.40</td>\n",
              "      <td>6989075</td>\n",
              "      <td>SBUX</td>\n",
              "    </tr>\n",
              "    <tr>\n",
              "      <th>1242</th>\n",
              "      <td>2018-01-16</td>\n",
              "      <td>60.330</td>\n",
              "      <td>61.10</td>\n",
              "      <td>60.3000</td>\n",
              "      <td>60.56</td>\n",
              "      <td>8040748</td>\n",
              "      <td>SBUX</td>\n",
              "    </tr>\n",
              "    <tr>\n",
              "      <th>1243</th>\n",
              "      <td>2018-01-17</td>\n",
              "      <td>61.000</td>\n",
              "      <td>61.33</td>\n",
              "      <td>60.5200</td>\n",
              "      <td>60.66</td>\n",
              "      <td>8433771</td>\n",
              "      <td>SBUX</td>\n",
              "    </tr>\n",
              "    <tr>\n",
              "      <th>1244</th>\n",
              "      <td>2018-01-18</td>\n",
              "      <td>61.430</td>\n",
              "      <td>61.44</td>\n",
              "      <td>60.7350</td>\n",
              "      <td>61.09</td>\n",
              "      <td>9170903</td>\n",
              "      <td>SBUX</td>\n",
              "    </tr>\n",
              "    <tr>\n",
              "      <th>1245</th>\n",
              "      <td>2018-01-19</td>\n",
              "      <td>61.210</td>\n",
              "      <td>61.46</td>\n",
              "      <td>60.9500</td>\n",
              "      <td>61.26</td>\n",
              "      <td>8361853</td>\n",
              "      <td>SBUX</td>\n",
              "    </tr>\n",
              "    <tr>\n",
              "      <th>1246</th>\n",
              "      <td>2018-01-22</td>\n",
              "      <td>61.040</td>\n",
              "      <td>61.47</td>\n",
              "      <td>60.7700</td>\n",
              "      <td>61.41</td>\n",
              "      <td>11945783</td>\n",
              "      <td>SBUX</td>\n",
              "    </tr>\n",
              "    <tr>\n",
              "      <th>1247</th>\n",
              "      <td>2018-01-23</td>\n",
              "      <td>61.320</td>\n",
              "      <td>61.91</td>\n",
              "      <td>61.1400</td>\n",
              "      <td>61.69</td>\n",
              "      <td>10806783</td>\n",
              "      <td>SBUX</td>\n",
              "    </tr>\n",
              "    <tr>\n",
              "      <th>1248</th>\n",
              "      <td>2018-01-24</td>\n",
              "      <td>61.510</td>\n",
              "      <td>61.94</td>\n",
              "      <td>60.2326</td>\n",
              "      <td>60.83</td>\n",
              "      <td>11911867</td>\n",
              "      <td>SBUX</td>\n",
              "    </tr>\n",
              "    <tr>\n",
              "      <th>1249</th>\n",
              "      <td>2018-01-25</td>\n",
              "      <td>61.030</td>\n",
              "      <td>61.20</td>\n",
              "      <td>60.4000</td>\n",
              "      <td>60.55</td>\n",
              "      <td>16225618</td>\n",
              "      <td>SBUX</td>\n",
              "    </tr>\n",
              "    <tr>\n",
              "      <th>1250</th>\n",
              "      <td>2018-01-26</td>\n",
              "      <td>57.940</td>\n",
              "      <td>58.17</td>\n",
              "      <td>56.5500</td>\n",
              "      <td>57.99</td>\n",
              "      <td>51851690</td>\n",
              "      <td>SBUX</td>\n",
              "    </tr>\n",
              "    <tr>\n",
              "      <th>1251</th>\n",
              "      <td>2018-01-29</td>\n",
              "      <td>57.550</td>\n",
              "      <td>58.35</td>\n",
              "      <td>56.9100</td>\n",
              "      <td>57.02</td>\n",
              "      <td>18899867</td>\n",
              "      <td>SBUX</td>\n",
              "    </tr>\n",
              "    <tr>\n",
              "      <th>1252</th>\n",
              "      <td>2018-01-30</td>\n",
              "      <td>56.960</td>\n",
              "      <td>57.54</td>\n",
              "      <td>56.7400</td>\n",
              "      <td>57.19</td>\n",
              "      <td>14341155</td>\n",
              "      <td>SBUX</td>\n",
              "    </tr>\n",
              "    <tr>\n",
              "      <th>1253</th>\n",
              "      <td>2018-01-31</td>\n",
              "      <td>57.230</td>\n",
              "      <td>57.45</td>\n",
              "      <td>56.7000</td>\n",
              "      <td>56.81</td>\n",
              "      <td>13118364</td>\n",
              "      <td>SBUX</td>\n",
              "    </tr>\n",
              "    <tr>\n",
              "      <th>1254</th>\n",
              "      <td>2018-02-01</td>\n",
              "      <td>56.280</td>\n",
              "      <td>56.42</td>\n",
              "      <td>55.8900</td>\n",
              "      <td>56.00</td>\n",
              "      <td>14690146</td>\n",
              "      <td>SBUX</td>\n",
              "    </tr>\n",
              "    <tr>\n",
              "      <th>1255</th>\n",
              "      <td>2018-02-02</td>\n",
              "      <td>55.900</td>\n",
              "      <td>56.32</td>\n",
              "      <td>55.7000</td>\n",
              "      <td>55.77</td>\n",
              "      <td>15358909</td>\n",
              "      <td>SBUX</td>\n",
              "    </tr>\n",
              "    <tr>\n",
              "      <th>1256</th>\n",
              "      <td>2018-02-05</td>\n",
              "      <td>55.530</td>\n",
              "      <td>56.26</td>\n",
              "      <td>54.5700</td>\n",
              "      <td>54.69</td>\n",
              "      <td>16059955</td>\n",
              "      <td>SBUX</td>\n",
              "    </tr>\n",
              "    <tr>\n",
              "      <th>1257</th>\n",
              "      <td>2018-02-06</td>\n",
              "      <td>53.685</td>\n",
              "      <td>56.06</td>\n",
              "      <td>53.5600</td>\n",
              "      <td>55.61</td>\n",
              "      <td>17415065</td>\n",
              "      <td>SBUX</td>\n",
              "    </tr>\n",
              "    <tr>\n",
              "      <th>1258</th>\n",
              "      <td>2018-02-07</td>\n",
              "      <td>55.080</td>\n",
              "      <td>55.43</td>\n",
              "      <td>54.4400</td>\n",
              "      <td>54.46</td>\n",
              "      <td>13927022</td>\n",
              "      <td>SBUX</td>\n",
              "    </tr>\n",
              "  </tbody>\n",
              "</table>\n",
              "</div>"
            ],
            "text/plain": [
              "            date    open   high      low  close    volume  Name\n",
              "1239  2018-01-10  59.240  60.13  58.8550  59.82   8656454  SBUX\n",
              "1240  2018-01-11  59.760  60.02  59.4541  60.00   5806282  SBUX\n",
              "1241  2018-01-12  60.400  60.51  59.6500  60.40   6989075  SBUX\n",
              "1242  2018-01-16  60.330  61.10  60.3000  60.56   8040748  SBUX\n",
              "1243  2018-01-17  61.000  61.33  60.5200  60.66   8433771  SBUX\n",
              "1244  2018-01-18  61.430  61.44  60.7350  61.09   9170903  SBUX\n",
              "1245  2018-01-19  61.210  61.46  60.9500  61.26   8361853  SBUX\n",
              "1246  2018-01-22  61.040  61.47  60.7700  61.41  11945783  SBUX\n",
              "1247  2018-01-23  61.320  61.91  61.1400  61.69  10806783  SBUX\n",
              "1248  2018-01-24  61.510  61.94  60.2326  60.83  11911867  SBUX\n",
              "1249  2018-01-25  61.030  61.20  60.4000  60.55  16225618  SBUX\n",
              "1250  2018-01-26  57.940  58.17  56.5500  57.99  51851690  SBUX\n",
              "1251  2018-01-29  57.550  58.35  56.9100  57.02  18899867  SBUX\n",
              "1252  2018-01-30  56.960  57.54  56.7400  57.19  14341155  SBUX\n",
              "1253  2018-01-31  57.230  57.45  56.7000  56.81  13118364  SBUX\n",
              "1254  2018-02-01  56.280  56.42  55.8900  56.00  14690146  SBUX\n",
              "1255  2018-02-02  55.900  56.32  55.7000  55.77  15358909  SBUX\n",
              "1256  2018-02-05  55.530  56.26  54.5700  54.69  16059955  SBUX\n",
              "1257  2018-02-06  53.685  56.06  53.5600  55.61  17415065  SBUX\n",
              "1258  2018-02-07  55.080  55.43  54.4400  54.46  13927022  SBUX"
            ]
          },
          "metadata": {
            "tags": []
          },
          "execution_count": 12
        }
      ]
    },
    {
      "cell_type": "code",
      "metadata": {
        "id": "VGBNldiGjZcf",
        "outputId": "3f69bd51-47e2-4daf-b765-601e5857fa94",
        "colab": {
          "base_uri": "https://localhost:8080/"
        }
      },
      "source": [
        "files.info()"
      ],
      "execution_count": 13,
      "outputs": [
        {
          "output_type": "stream",
          "text": [
            "<class 'pandas.core.frame.DataFrame'>\n",
            "RangeIndex: 1259 entries, 0 to 1258\n",
            "Data columns (total 7 columns):\n",
            " #   Column  Non-Null Count  Dtype  \n",
            "---  ------  --------------  -----  \n",
            " 0   date    1259 non-null   object \n",
            " 1   open    1259 non-null   float64\n",
            " 2   high    1259 non-null   float64\n",
            " 3   low     1259 non-null   float64\n",
            " 4   close   1259 non-null   float64\n",
            " 5   volume  1259 non-null   int64  \n",
            " 6   Name    1259 non-null   object \n",
            "dtypes: float64(4), int64(1), object(2)\n",
            "memory usage: 69.0+ KB\n"
          ],
          "name": "stdout"
        }
      ]
    },
    {
      "cell_type": "code",
      "metadata": {
        "id": "19QQUdBHjx4M",
        "outputId": "ce91de30-122c-438c-d12b-d89a1ffc9b9a",
        "colab": {
          "base_uri": "https://localhost:8080/"
        }
      },
      "source": [
        "!pwd"
      ],
      "execution_count": 14,
      "outputs": [
        {
          "output_type": "stream",
          "text": [
            "/content\n"
          ],
          "name": "stdout"
        }
      ]
    },
    {
      "cell_type": "code",
      "metadata": {
        "id": "vTGlvwqajzPE",
        "outputId": "a8d3c9df-5de7-469b-d683-7ee3cc944f94",
        "colab": {
          "base_uri": "https://localhost:8080/"
        }
      },
      "source": [
        "files.columns"
      ],
      "execution_count": 17,
      "outputs": [
        {
          "output_type": "execute_result",
          "data": {
            "text/plain": [
              "Index(['date', 'open', 'high', 'low', 'close', 'volume', 'Name'], dtype='object')"
            ]
          },
          "metadata": {
            "tags": []
          },
          "execution_count": 17
        }
      ]
    },
    {
      "cell_type": "code",
      "metadata": {
        "id": "GNXfMYskkDWF",
        "outputId": "bb300a47-065b-44be-dbf4-1e68ecbf8f4e",
        "colab": {
          "base_uri": "https://localhost:8080/",
          "height": 419
        }
      },
      "source": [
        "files[['open','high']]"
      ],
      "execution_count": 21,
      "outputs": [
        {
          "output_type": "execute_result",
          "data": {
            "text/html": [
              "<div>\n",
              "<style scoped>\n",
              "    .dataframe tbody tr th:only-of-type {\n",
              "        vertical-align: middle;\n",
              "    }\n",
              "\n",
              "    .dataframe tbody tr th {\n",
              "        vertical-align: top;\n",
              "    }\n",
              "\n",
              "    .dataframe thead th {\n",
              "        text-align: right;\n",
              "    }\n",
              "</style>\n",
              "<table border=\"1\" class=\"dataframe\">\n",
              "  <thead>\n",
              "    <tr style=\"text-align: right;\">\n",
              "      <th></th>\n",
              "      <th>open</th>\n",
              "      <th>high</th>\n",
              "    </tr>\n",
              "  </thead>\n",
              "  <tbody>\n",
              "    <tr>\n",
              "      <th>0</th>\n",
              "      <td>27.920</td>\n",
              "      <td>28.325</td>\n",
              "    </tr>\n",
              "    <tr>\n",
              "      <th>1</th>\n",
              "      <td>28.260</td>\n",
              "      <td>28.260</td>\n",
              "    </tr>\n",
              "    <tr>\n",
              "      <th>2</th>\n",
              "      <td>28.000</td>\n",
              "      <td>28.275</td>\n",
              "    </tr>\n",
              "    <tr>\n",
              "      <th>3</th>\n",
              "      <td>28.230</td>\n",
              "      <td>28.230</td>\n",
              "    </tr>\n",
              "    <tr>\n",
              "      <th>4</th>\n",
              "      <td>27.765</td>\n",
              "      <td>27.905</td>\n",
              "    </tr>\n",
              "    <tr>\n",
              "      <th>...</th>\n",
              "      <td>...</td>\n",
              "      <td>...</td>\n",
              "    </tr>\n",
              "    <tr>\n",
              "      <th>1254</th>\n",
              "      <td>56.280</td>\n",
              "      <td>56.420</td>\n",
              "    </tr>\n",
              "    <tr>\n",
              "      <th>1255</th>\n",
              "      <td>55.900</td>\n",
              "      <td>56.320</td>\n",
              "    </tr>\n",
              "    <tr>\n",
              "      <th>1256</th>\n",
              "      <td>55.530</td>\n",
              "      <td>56.260</td>\n",
              "    </tr>\n",
              "    <tr>\n",
              "      <th>1257</th>\n",
              "      <td>53.685</td>\n",
              "      <td>56.060</td>\n",
              "    </tr>\n",
              "    <tr>\n",
              "      <th>1258</th>\n",
              "      <td>55.080</td>\n",
              "      <td>55.430</td>\n",
              "    </tr>\n",
              "  </tbody>\n",
              "</table>\n",
              "<p>1259 rows × 2 columns</p>\n",
              "</div>"
            ],
            "text/plain": [
              "        open    high\n",
              "0     27.920  28.325\n",
              "1     28.260  28.260\n",
              "2     28.000  28.275\n",
              "3     28.230  28.230\n",
              "4     27.765  27.905\n",
              "...      ...     ...\n",
              "1254  56.280  56.420\n",
              "1255  55.900  56.320\n",
              "1256  55.530  56.260\n",
              "1257  53.685  56.060\n",
              "1258  55.080  55.430\n",
              "\n",
              "[1259 rows x 2 columns]"
            ]
          },
          "metadata": {
            "tags": []
          },
          "execution_count": 21
        }
      ]
    },
    {
      "cell_type": "code",
      "metadata": {
        "id": "cos47QhYkOJF",
        "outputId": "9e011916-be30-4906-cbf1-fc45241588c9",
        "colab": {
          "base_uri": "https://localhost:8080/"
        }
      },
      "source": [
        "type(files[['open','high']])"
      ],
      "execution_count": 22,
      "outputs": [
        {
          "output_type": "execute_result",
          "data": {
            "text/plain": [
              "pandas.core.frame.DataFrame"
            ]
          },
          "metadata": {
            "tags": []
          },
          "execution_count": 22
        }
      ]
    },
    {
      "cell_type": "code",
      "metadata": {
        "id": "8DmUswMwkn7S",
        "outputId": "7fc5789f-9cf9-424b-b1ed-35cb7e658692",
        "colab": {
          "base_uri": "https://localhost:8080/"
        }
      },
      "source": [
        "files.iloc[9]"
      ],
      "execution_count": 24,
      "outputs": [
        {
          "output_type": "execute_result",
          "data": {
            "text/plain": [
              "date      2013-02-22\n",
              "open           26.85\n",
              "high          27.105\n",
              "low            26.64\n",
              "close         27.085\n",
              "volume      11487316\n",
              "Name            SBUX\n",
              "Name: 9, dtype: object"
            ]
          },
          "metadata": {
            "tags": []
          },
          "execution_count": 24
        }
      ]
    },
    {
      "cell_type": "code",
      "metadata": {
        "id": "JYu7wgUEktZV",
        "outputId": "f02fea5e-a0d3-40e4-ec63-ede6698dfac6",
        "colab": {
          "base_uri": "https://localhost:8080/",
          "height": 419
        }
      },
      "source": [
        "greater_files = files[files['open']>50]\n",
        "greater_files"
      ],
      "execution_count": 27,
      "outputs": [
        {
          "output_type": "execute_result",
          "data": {
            "text/html": [
              "<div>\n",
              "<style scoped>\n",
              "    .dataframe tbody tr th:only-of-type {\n",
              "        vertical-align: middle;\n",
              "    }\n",
              "\n",
              "    .dataframe tbody tr th {\n",
              "        vertical-align: top;\n",
              "    }\n",
              "\n",
              "    .dataframe thead th {\n",
              "        text-align: right;\n",
              "    }\n",
              "</style>\n",
              "<table border=\"1\" class=\"dataframe\">\n",
              "  <thead>\n",
              "    <tr style=\"text-align: right;\">\n",
              "      <th></th>\n",
              "      <th>date</th>\n",
              "      <th>open</th>\n",
              "      <th>high</th>\n",
              "      <th>low</th>\n",
              "      <th>close</th>\n",
              "      <th>volume</th>\n",
              "      <th>Name</th>\n",
              "    </tr>\n",
              "  </thead>\n",
              "  <tbody>\n",
              "    <tr>\n",
              "      <th>555</th>\n",
              "      <td>2015-04-24</td>\n",
              "      <td>51.320</td>\n",
              "      <td>52.09</td>\n",
              "      <td>50.6200</td>\n",
              "      <td>51.84</td>\n",
              "      <td>22284881</td>\n",
              "      <td>SBUX</td>\n",
              "    </tr>\n",
              "    <tr>\n",
              "      <th>556</th>\n",
              "      <td>2015-04-27</td>\n",
              "      <td>51.810</td>\n",
              "      <td>51.94</td>\n",
              "      <td>50.7600</td>\n",
              "      <td>50.87</td>\n",
              "      <td>11222608</td>\n",
              "      <td>SBUX</td>\n",
              "    </tr>\n",
              "    <tr>\n",
              "      <th>557</th>\n",
              "      <td>2015-04-28</td>\n",
              "      <td>50.600</td>\n",
              "      <td>50.80</td>\n",
              "      <td>49.9801</td>\n",
              "      <td>50.61</td>\n",
              "      <td>8882901</td>\n",
              "      <td>SBUX</td>\n",
              "    </tr>\n",
              "    <tr>\n",
              "      <th>558</th>\n",
              "      <td>2015-04-29</td>\n",
              "      <td>50.420</td>\n",
              "      <td>50.95</td>\n",
              "      <td>50.2000</td>\n",
              "      <td>50.65</td>\n",
              "      <td>7161992</td>\n",
              "      <td>SBUX</td>\n",
              "    </tr>\n",
              "    <tr>\n",
              "      <th>559</th>\n",
              "      <td>2015-04-30</td>\n",
              "      <td>50.630</td>\n",
              "      <td>50.68</td>\n",
              "      <td>49.4300</td>\n",
              "      <td>49.58</td>\n",
              "      <td>8492048</td>\n",
              "      <td>SBUX</td>\n",
              "    </tr>\n",
              "    <tr>\n",
              "      <th>...</th>\n",
              "      <td>...</td>\n",
              "      <td>...</td>\n",
              "      <td>...</td>\n",
              "      <td>...</td>\n",
              "      <td>...</td>\n",
              "      <td>...</td>\n",
              "      <td>...</td>\n",
              "    </tr>\n",
              "    <tr>\n",
              "      <th>1254</th>\n",
              "      <td>2018-02-01</td>\n",
              "      <td>56.280</td>\n",
              "      <td>56.42</td>\n",
              "      <td>55.8900</td>\n",
              "      <td>56.00</td>\n",
              "      <td>14690146</td>\n",
              "      <td>SBUX</td>\n",
              "    </tr>\n",
              "    <tr>\n",
              "      <th>1255</th>\n",
              "      <td>2018-02-02</td>\n",
              "      <td>55.900</td>\n",
              "      <td>56.32</td>\n",
              "      <td>55.7000</td>\n",
              "      <td>55.77</td>\n",
              "      <td>15358909</td>\n",
              "      <td>SBUX</td>\n",
              "    </tr>\n",
              "    <tr>\n",
              "      <th>1256</th>\n",
              "      <td>2018-02-05</td>\n",
              "      <td>55.530</td>\n",
              "      <td>56.26</td>\n",
              "      <td>54.5700</td>\n",
              "      <td>54.69</td>\n",
              "      <td>16059955</td>\n",
              "      <td>SBUX</td>\n",
              "    </tr>\n",
              "    <tr>\n",
              "      <th>1257</th>\n",
              "      <td>2018-02-06</td>\n",
              "      <td>53.685</td>\n",
              "      <td>56.06</td>\n",
              "      <td>53.5600</td>\n",
              "      <td>55.61</td>\n",
              "      <td>17415065</td>\n",
              "      <td>SBUX</td>\n",
              "    </tr>\n",
              "    <tr>\n",
              "      <th>1258</th>\n",
              "      <td>2018-02-07</td>\n",
              "      <td>55.080</td>\n",
              "      <td>55.43</td>\n",
              "      <td>54.4400</td>\n",
              "      <td>54.46</td>\n",
              "      <td>13927022</td>\n",
              "      <td>SBUX</td>\n",
              "    </tr>\n",
              "  </tbody>\n",
              "</table>\n",
              "<p>694 rows × 7 columns</p>\n",
              "</div>"
            ],
            "text/plain": [
              "            date    open   high      low  close    volume  Name\n",
              "555   2015-04-24  51.320  52.09  50.6200  51.84  22284881  SBUX\n",
              "556   2015-04-27  51.810  51.94  50.7600  50.87  11222608  SBUX\n",
              "557   2015-04-28  50.600  50.80  49.9801  50.61   8882901  SBUX\n",
              "558   2015-04-29  50.420  50.95  50.2000  50.65   7161992  SBUX\n",
              "559   2015-04-30  50.630  50.68  49.4300  49.58   8492048  SBUX\n",
              "...          ...     ...    ...      ...    ...       ...   ...\n",
              "1254  2018-02-01  56.280  56.42  55.8900  56.00  14690146  SBUX\n",
              "1255  2018-02-02  55.900  56.32  55.7000  55.77  15358909  SBUX\n",
              "1256  2018-02-05  55.530  56.26  54.5700  54.69  16059955  SBUX\n",
              "1257  2018-02-06  53.685  56.06  53.5600  55.61  17415065  SBUX\n",
              "1258  2018-02-07  55.080  55.43  54.4400  54.46  13927022  SBUX\n",
              "\n",
              "[694 rows x 7 columns]"
            ]
          },
          "metadata": {
            "tags": []
          },
          "execution_count": 27
        }
      ]
    },
    {
      "cell_type": "code",
      "metadata": {
        "id": "lch-i3aElAf5",
        "outputId": "c06cb66d-ad50-4e06-c039-904296193aa4",
        "colab": {
          "base_uri": "https://localhost:8080/"
        }
      },
      "source": [
        "files.values"
      ],
      "execution_count": 28,
      "outputs": [
        {
          "output_type": "execute_result",
          "data": {
            "text/plain": [
              "array([['2013-02-08', 27.92, 28.325, ..., 28.185, 7146296, 'SBUX'],\n",
              "       ['2013-02-11', 28.26, 28.26, ..., 28.07, 5457354, 'SBUX'],\n",
              "       ['2013-02-12', 28.0, 28.275, ..., 28.13, 8665592, 'SBUX'],\n",
              "       ...,\n",
              "       ['2018-02-05', 55.53, 56.26, ..., 54.69, 16059955, 'SBUX'],\n",
              "       ['2018-02-06', 53.685, 56.06, ..., 55.61, 17415065, 'SBUX'],\n",
              "       ['2018-02-07', 55.08, 55.43, ..., 54.46, 13927022, 'SBUX']],\n",
              "      dtype=object)"
            ]
          },
          "metadata": {
            "tags": []
          },
          "execution_count": 28
        }
      ]
    },
    {
      "cell_type": "code",
      "metadata": {
        "id": "85GekLwFmKgm",
        "outputId": "9b0a8811-6f4a-4b10-aaae-d160ea64caca",
        "colab": {
          "base_uri": "https://localhost:8080/"
        }
      },
      "source": [
        "files[['open','high']].values"
      ],
      "execution_count": 31,
      "outputs": [
        {
          "output_type": "execute_result",
          "data": {
            "text/plain": [
              "array([[27.92 , 28.325],\n",
              "       [28.26 , 28.26 ],\n",
              "       [28.   , 28.275],\n",
              "       ...,\n",
              "       [55.53 , 56.26 ],\n",
              "       [53.685, 56.06 ],\n",
              "       [55.08 , 55.43 ]])"
            ]
          },
          "metadata": {
            "tags": []
          },
          "execution_count": 31
        }
      ]
    },
    {
      "cell_type": "code",
      "metadata": {
        "id": "5ojCPIx-nfc2",
        "outputId": "7f214712-bc76-4dae-92d0-d7436ee58a9e",
        "colab": {
          "base_uri": "https://localhost:8080/"
        }
      },
      "source": [
        "files['open']"
      ],
      "execution_count": 35,
      "outputs": [
        {
          "output_type": "execute_result",
          "data": {
            "text/plain": [
              "0       27.920\n",
              "1       28.260\n",
              "2       28.000\n",
              "3       28.230\n",
              "4       27.765\n",
              "         ...  \n",
              "1254    56.280\n",
              "1255    55.900\n",
              "1256    55.530\n",
              "1257    53.685\n",
              "1258    55.080\n",
              "Name: open, Length: 1259, dtype: float64"
            ]
          },
          "metadata": {
            "tags": []
          },
          "execution_count": 35
        }
      ]
    },
    {
      "cell_type": "code",
      "metadata": {
        "id": "ljIoovtqnya_",
        "outputId": "862d5881-f1d0-46f8-ca4e-e2a8bcd3dc28",
        "colab": {
          "base_uri": "https://localhost:8080/",
          "height": 265
        }
      },
      "source": [
        "files['open'].hist();"
      ],
      "execution_count": 40,
      "outputs": [
        {
          "output_type": "display_data",
          "data": {
            "image/png": "[encoded data removed]",
            "text/plain": [
              "<Figure size 432x288 with 1 Axes>"
            ]
          },
          "metadata": {
            "tags": [],
            "needs_background": "light"
          }
        }
      ]
    },
    {
      "cell_type": "code",
      "metadata": {
        "id": "QPrpCjyTqCls",
        "outputId": "ced2f712-8d11-4a4f-f1cd-6b9df38e9329",
        "colab": {
          "base_uri": "https://localhost:8080/",
          "height": 265
        }
      },
      "source": [
        "files['open'].plot();"
      ],
      "execution_count": 43,
      "outputs": [
        {
          "output_type": "display_data",
          "data": {
            "image/png": "[encoded data removed]",
            "text/plain": [
              "<Figure size 432x288 with 1 Axes>"
            ]
          },
          "metadata": {
            "tags": [],
            "needs_background": "light"
          }
        }
      ]
    },
    {
      "cell_type": "code",
      "metadata": {
        "id": "a-er7Ya9szX3",
        "outputId": "239ddbb6-6bfc-45af-8233-252037addd85",
        "colab": {
          "base_uri": "https://localhost:8080/"
        }
      },
      "source": [
        "files['date']"
      ],
      "execution_count": 44,
      "outputs": [
        {
          "output_type": "execute_result",
          "data": {
            "text/plain": [
              "0       2013-02-08\n",
              "1       2013-02-11\n",
              "2       2013-02-12\n",
              "3       2013-02-13\n",
              "4       2013-02-14\n",
              "           ...    \n",
              "1254    2018-02-01\n",
              "1255    2018-02-02\n",
              "1256    2018-02-05\n",
              "1257    2018-02-06\n",
              "1258    2018-02-07\n",
              "Name: date, Length: 1259, dtype: object"
            ]
          },
          "metadata": {
            "tags": []
          },
          "execution_count": 44
        }
      ]
    },
    {
      "cell_type": "code",
      "metadata": {
        "id": "ihKswxzOvnt4",
        "outputId": "80e32ab2-5071-4f82-a069-2d7be204f44a",
        "colab": {
          "base_uri": "https://localhost:8080/"
        }
      },
      "source": [
        "def date_to_year(row):\n",
        "  return int(row['date'].split('-')[0])\n",
        "\n",
        "files.apply(date_to_year, axis =1)"
      ],
      "execution_count": 48,
      "outputs": [
        {
          "output_type": "execute_result",
          "data": {
            "text/plain": [
              "0       2013\n",
              "1       2013\n",
              "2       2013\n",
              "3       2013\n",
              "4       2013\n",
              "        ... \n",
              "1254    2018\n",
              "1255    2018\n",
              "1256    2018\n",
              "1257    2018\n",
              "1258    2018\n",
              "Length: 1259, dtype: int64"
            ]
          },
          "metadata": {
            "tags": []
          },
          "execution_count": 48
        }
      ]
    },
    {
      "cell_type": "code",
      "metadata": {
        "id": "l1Kw5CqFwOqg"
      },
      "source": [
        ""
      ],
      "execution_count": null,
      "outputs": []
    }
  ]
}
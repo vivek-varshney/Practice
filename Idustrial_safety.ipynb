{
  "nbformat": 4,
  "nbformat_minor": 0,
  "metadata": {
    "colab": {
      "name": "Idustrial_safety.ipynb",
      "provenance": [],
      "collapsed_sections": [],
      "authorship_tag": "ABX9TyP4xlayLoVYtTXGEjwc8MvX",
      "include_colab_link": true
    },
    "kernelspec": {
      "name": "python3",
      "display_name": "Python 3"
    }
  },
  "cells": [
    {
      "cell_type": "markdown",
      "metadata": {
        "id": "view-in-github",
        "colab_type": "text"
      },
      "source": [
        "<a href=\"https://colab.research.google.com/github/vivek-varshney/Practice/blob/main/Idustrial_safety.ipynb\" target=\"_parent\"><img src=\"https://colab.research.google.com/assets/colab-badge.svg\" alt=\"Open In Colab\"/></a>"
      ]
    },
    {
      "cell_type": "code",
      "metadata": {
        "id": "bZ1liraaa2cZ"
      },
      "source": [
        "import numpy as np\n",
        "import matplotlib.pyplot as plt\n",
        "import pandas as pd"
      ],
      "execution_count": 1,
      "outputs": []
    },
    {
      "cell_type": "code",
      "metadata": {
        "id": "exbUkhK7czyE",
        "outputId": "b5a35401-13f4-43d2-9e11-7eabffdbf568",
        "colab": {
          "base_uri": "https://localhost:8080/"
        }
      },
      "source": [
        "!wget https://raw.githubusercontent.com/gauravpks/ml-repo/master/IndustrialSafetyDS/industrial_safety.csv"
      ],
      "execution_count": 5,
      "outputs": [
        {
          "output_type": "stream",
          "text": [
            "--2020-11-07 06:45:17--  https://raw.githubusercontent.com/gauravpks/ml-repo/master/IndustrialSafetyDS/industrial_safety.csv\n",
            "Resolving raw.githubusercontent.com (raw.githubusercontent.com)... 151.101.0.133, 151.101.64.133, 151.101.128.133, ...\n",
            "Connecting to raw.githubusercontent.com (raw.githubusercontent.com)|151.101.0.133|:443... connected.\n",
            "HTTP request sent, awaiting response... 200 OK\n",
            "Length: 192153 (188K) [text/plain]\n",
            "Saving to: ‘industrial_safety.csv’\n",
            "\n",
            "industrial_safety.c 100%[===================>] 187.65K  --.-KB/s    in 0.04s   \n",
            "\n",
            "2020-11-07 06:45:18 (4.15 MB/s) - ‘industrial_safety.csv’ saved [192153/192153]\n",
            "\n"
          ],
          "name": "stdout"
        }
      ]
    },
    {
      "cell_type": "code",
      "metadata": {
        "id": "DSk2mIiHbzsf",
        "outputId": "f20e7e9f-1052-476e-cb1b-366e329d5817",
        "colab": {
          "base_uri": "https://localhost:8080/",
          "height": 793
        }
      },
      "source": [
        "ds = pd.read_csv(\"industrial_safety.csv\")\n",
        "ds"
      ],
      "execution_count": 6,
      "outputs": [
        {
          "output_type": "execute_result",
          "data": {
            "text/html": [
              "<div>\n",
              "<style scoped>\n",
              "    .dataframe tbody tr th:only-of-type {\n",
              "        vertical-align: middle;\n",
              "    }\n",
              "\n",
              "    .dataframe tbody tr th {\n",
              "        vertical-align: top;\n",
              "    }\n",
              "\n",
              "    .dataframe thead th {\n",
              "        text-align: right;\n",
              "    }\n",
              "</style>\n",
              "<table border=\"1\" class=\"dataframe\">\n",
              "  <thead>\n",
              "    <tr style=\"text-align: right;\">\n",
              "      <th></th>\n",
              "      <th>Data</th>\n",
              "      <th>Countries</th>\n",
              "      <th>Local</th>\n",
              "      <th>Industry Sector</th>\n",
              "      <th>Accident Level</th>\n",
              "      <th>Potential Accident Level</th>\n",
              "      <th>Gender</th>\n",
              "      <th>Employee or Third Party</th>\n",
              "      <th>Critical Risk</th>\n",
              "      <th>Description</th>\n",
              "    </tr>\n",
              "  </thead>\n",
              "  <tbody>\n",
              "    <tr>\n",
              "      <th>0</th>\n",
              "      <td>01-01-2016 00:00</td>\n",
              "      <td>United States</td>\n",
              "      <td>West Virginia</td>\n",
              "      <td>Mining</td>\n",
              "      <td>I</td>\n",
              "      <td>IV</td>\n",
              "      <td>Male</td>\n",
              "      <td>Third Party</td>\n",
              "      <td>Pressed</td>\n",
              "      <td>While removing the drill rod of the Jumbo 08 f...</td>\n",
              "    </tr>\n",
              "    <tr>\n",
              "      <th>1</th>\n",
              "      <td>02-01-2016 00:00</td>\n",
              "      <td>Canada</td>\n",
              "      <td>Alberta</td>\n",
              "      <td>Mining</td>\n",
              "      <td>I</td>\n",
              "      <td>IV</td>\n",
              "      <td>Male</td>\n",
              "      <td>Employee</td>\n",
              "      <td>Pressurized Systems</td>\n",
              "      <td>During the activation of a sodium sulphide pum...</td>\n",
              "    </tr>\n",
              "    <tr>\n",
              "      <th>2</th>\n",
              "      <td>06-01-2016 00:00</td>\n",
              "      <td>United States</td>\n",
              "      <td>Kentucky</td>\n",
              "      <td>Mining</td>\n",
              "      <td>I</td>\n",
              "      <td>III</td>\n",
              "      <td>Male</td>\n",
              "      <td>Third Party (Remote)</td>\n",
              "      <td>Manual Tools</td>\n",
              "      <td>In the sub-station MILPO located at level +170...</td>\n",
              "    </tr>\n",
              "    <tr>\n",
              "      <th>3</th>\n",
              "      <td>08-01-2016 00:00</td>\n",
              "      <td>United States</td>\n",
              "      <td>Illinois</td>\n",
              "      <td>Mining</td>\n",
              "      <td>I</td>\n",
              "      <td>I</td>\n",
              "      <td>Male</td>\n",
              "      <td>Third Party</td>\n",
              "      <td>Others</td>\n",
              "      <td>Being 9:45 am. approximately in the Nv. 1880 C...</td>\n",
              "    </tr>\n",
              "    <tr>\n",
              "      <th>4</th>\n",
              "      <td>10-01-2016 00:00</td>\n",
              "      <td>United States</td>\n",
              "      <td>Illinois</td>\n",
              "      <td>Mining</td>\n",
              "      <td>IV</td>\n",
              "      <td>IV</td>\n",
              "      <td>Male</td>\n",
              "      <td>Third Party</td>\n",
              "      <td>Others</td>\n",
              "      <td>Approximately at 11:45 a.m. in circumstances t...</td>\n",
              "    </tr>\n",
              "    <tr>\n",
              "      <th>...</th>\n",
              "      <td>...</td>\n",
              "      <td>...</td>\n",
              "      <td>...</td>\n",
              "      <td>...</td>\n",
              "      <td>...</td>\n",
              "      <td>...</td>\n",
              "      <td>...</td>\n",
              "      <td>...</td>\n",
              "      <td>...</td>\n",
              "      <td>...</td>\n",
              "    </tr>\n",
              "    <tr>\n",
              "      <th>419</th>\n",
              "      <td>04-07-2017 00:00</td>\n",
              "      <td>United States</td>\n",
              "      <td>Illinois</td>\n",
              "      <td>Mining</td>\n",
              "      <td>I</td>\n",
              "      <td>III</td>\n",
              "      <td>Male</td>\n",
              "      <td>Third Party</td>\n",
              "      <td>Others</td>\n",
              "      <td>Being approximately 5:00 a.m. approximately, w...</td>\n",
              "    </tr>\n",
              "    <tr>\n",
              "      <th>420</th>\n",
              "      <td>04-07-2017 00:00</td>\n",
              "      <td>United States</td>\n",
              "      <td>Kentucky</td>\n",
              "      <td>Mining</td>\n",
              "      <td>I</td>\n",
              "      <td>II</td>\n",
              "      <td>Female</td>\n",
              "      <td>Employee</td>\n",
              "      <td>Others</td>\n",
              "      <td>The collaborator moved from the infrastructure...</td>\n",
              "    </tr>\n",
              "    <tr>\n",
              "      <th>421</th>\n",
              "      <td>05-07-2017 00:00</td>\n",
              "      <td>Canada</td>\n",
              "      <td>Quebec</td>\n",
              "      <td>Metals</td>\n",
              "      <td>I</td>\n",
              "      <td>II</td>\n",
              "      <td>Male</td>\n",
              "      <td>Employee</td>\n",
              "      <td>Venomous Animals</td>\n",
              "      <td>During the environmental monitoring activity i...</td>\n",
              "    </tr>\n",
              "    <tr>\n",
              "      <th>422</th>\n",
              "      <td>06-07-2017 00:00</td>\n",
              "      <td>Canada</td>\n",
              "      <td>British Columbia</td>\n",
              "      <td>Metals</td>\n",
              "      <td>I</td>\n",
              "      <td>II</td>\n",
              "      <td>Male</td>\n",
              "      <td>Employee</td>\n",
              "      <td>Cut</td>\n",
              "      <td>The Employee performed the activity of strippi...</td>\n",
              "    </tr>\n",
              "    <tr>\n",
              "      <th>423</th>\n",
              "      <td>09-07-2017 00:00</td>\n",
              "      <td>United States</td>\n",
              "      <td>Illinois</td>\n",
              "      <td>Mining</td>\n",
              "      <td>I</td>\n",
              "      <td>II</td>\n",
              "      <td>Female</td>\n",
              "      <td>Third Party</td>\n",
              "      <td>Fall prevention (same level)</td>\n",
              "      <td>At 10:00 a.m., when the assistant cleaned the ...</td>\n",
              "    </tr>\n",
              "  </tbody>\n",
              "</table>\n",
              "<p>424 rows × 10 columns</p>\n",
              "</div>"
            ],
            "text/plain": [
              "                 Data  ...                                        Description\n",
              "0    01-01-2016 00:00  ...  While removing the drill rod of the Jumbo 08 f...\n",
              "1    02-01-2016 00:00  ...  During the activation of a sodium sulphide pum...\n",
              "2    06-01-2016 00:00  ...  In the sub-station MILPO located at level +170...\n",
              "3    08-01-2016 00:00  ...  Being 9:45 am. approximately in the Nv. 1880 C...\n",
              "4    10-01-2016 00:00  ...  Approximately at 11:45 a.m. in circumstances t...\n",
              "..                ...  ...                                                ...\n",
              "419  04-07-2017 00:00  ...  Being approximately 5:00 a.m. approximately, w...\n",
              "420  04-07-2017 00:00  ...  The collaborator moved from the infrastructure...\n",
              "421  05-07-2017 00:00  ...  During the environmental monitoring activity i...\n",
              "422  06-07-2017 00:00  ...  The Employee performed the activity of strippi...\n",
              "423  09-07-2017 00:00  ...  At 10:00 a.m., when the assistant cleaned the ...\n",
              "\n",
              "[424 rows x 10 columns]"
            ]
          },
          "metadata": {
            "tags": []
          },
          "execution_count": 6
        }
      ]
    },
    {
      "cell_type": "code",
      "metadata": {
        "id": "wEnv7ckKwUw0",
        "outputId": "cdc51f0d-c3f7-4a82-8691-9012446897c4",
        "colab": {
          "base_uri": "https://localhost:8080/"
        }
      },
      "source": [
        "ds.info()"
      ],
      "execution_count": 73,
      "outputs": [
        {
          "output_type": "stream",
          "text": [
            "<class 'pandas.core.frame.DataFrame'>\n",
            "RangeIndex: 424 entries, 0 to 423\n",
            "Data columns (total 10 columns):\n",
            " #   Column                    Non-Null Count  Dtype \n",
            "---  ------                    --------------  ----- \n",
            " 0   Data                      424 non-null    object\n",
            " 1   Countries                 424 non-null    object\n",
            " 2   Local                     424 non-null    object\n",
            " 3   Industry Sector           424 non-null    object\n",
            " 4   Accident Level            424 non-null    object\n",
            " 5   Potential Accident Level  424 non-null    object\n",
            " 6   Gender                    424 non-null    object\n",
            " 7   Employee or Third Party   424 non-null    object\n",
            " 8   Critical Risk             424 non-null    object\n",
            " 9   Description               424 non-null    object\n",
            "dtypes: object(10)\n",
            "memory usage: 33.2+ KB\n"
          ],
          "name": "stdout"
        }
      ]
    },
    {
      "cell_type": "markdown",
      "metadata": {
        "id": "YQCQwXp-t2dt"
      },
      "source": [
        "all country histogram"
      ]
    },
    {
      "cell_type": "code",
      "metadata": {
        "id": "lVqUZHvub_mP",
        "outputId": "9967e1a3-00be-4b69-de87-456724cf4fc4",
        "colab": {
          "base_uri": "https://localhost:8080/",
          "height": 282
        }
      },
      "source": [
        "cntrs = ds['Countries']\n",
        "cntrs.hist()"
      ],
      "execution_count": 61,
      "outputs": [
        {
          "output_type": "execute_result",
          "data": {
            "text/plain": [
              "<matplotlib.axes._subplots.AxesSubplot at 0x7fbf7fa18780>"
            ]
          },
          "metadata": {
            "tags": []
          },
          "execution_count": 61
        },
        {
          "output_type": "display_data",
          "data": {
            "image/png": "[encoded data removed]",
            "text/plain": [
              "<Figure size 432x288 with 1 Axes>"
            ]
          },
          "metadata": {
            "tags": [],
            "needs_background": "light"
          }
        }
      ]
    },
    {
      "cell_type": "markdown",
      "metadata": {
        "id": "S4fbfut7uG0O"
      },
      "source": [
        "All Idustrial histogram"
      ]
    },
    {
      "cell_type": "code",
      "metadata": {
        "id": "xfpI0rHzdfit",
        "outputId": "45f4d2e5-fb4f-400a-8207-3dafb4740de1",
        "colab": {
          "base_uri": "https://localhost:8080/",
          "height": 284
        }
      },
      "source": [
        "  ind_sec = ds['Industry Sector']\n",
        "  ind_sec.hist()"
      ],
      "execution_count": 62,
      "outputs": [
        {
          "output_type": "execute_result",
          "data": {
            "text/plain": [
              "<matplotlib.axes._subplots.AxesSubplot at 0x7fbf7fa18390>"
            ]
          },
          "metadata": {
            "tags": []
          },
          "execution_count": 62
        },
        {
          "output_type": "display_data",
          "data": {
            "image/png": "[encoded data removed]",
            "text/plain": [
              "<Figure size 432x288 with 1 Axes>"
            ]
          },
          "metadata": {
            "tags": [],
            "needs_background": "light"
          }
        }
      ]
    },
    {
      "cell_type": "code",
      "metadata": {
        "id": "Mix2jjdVydsj",
        "outputId": "02944baa-a941-48e9-bfe5-74ef94a5321c",
        "colab": {
          "base_uri": "https://localhost:8080/",
          "height": 282
        }
      },
      "source": [
        "ds['Local'].hist()"
      ],
      "execution_count": 76,
      "outputs": [
        {
          "output_type": "execute_result",
          "data": {
            "text/plain": [
              "<matplotlib.axes._subplots.AxesSubplot at 0x7fbf7f9fd550>"
            ]
          },
          "metadata": {
            "tags": []
          },
          "execution_count": 76
        },
        {
          "output_type": "display_data",
          "data": {
            "image/png": "[encoded data removed]",
            "text/plain": [
              "<Figure size 432x288 with 1 Axes>"
            ]
          },
          "metadata": {
            "tags": [],
            "needs_background": "light"
          }
        }
      ]
    },
    {
      "cell_type": "code",
      "metadata": {
        "id": "1tRMDiWcy1_T",
        "outputId": "8badac84-41fb-459d-b0d1-d5b3298a701a",
        "colab": {
          "base_uri": "https://localhost:8080/",
          "height": 282
        }
      },
      "source": [
        "ds['Potential Accident Level'].hist()"
      ],
      "execution_count": 77,
      "outputs": [
        {
          "output_type": "execute_result",
          "data": {
            "text/plain": [
              "<matplotlib.axes._subplots.AxesSubplot at 0x7fbf7ffb52e8>"
            ]
          },
          "metadata": {
            "tags": []
          },
          "execution_count": 77
        },
        {
          "output_type": "display_data",
          "data": {
            "image/png": "[encoded data removed]",
            "text/plain": [
              "<Figure size 432x288 with 1 Axes>"
            ]
          },
          "metadata": {
            "tags": [],
            "needs_background": "light"
          }
        }
      ]
    },
    {
      "cell_type": "code",
      "metadata": {
        "id": "YoiOegrJzqtc",
        "outputId": "b985a061-35b7-41f9-8e9e-ec4a129f1d5e",
        "colab": {
          "base_uri": "https://localhost:8080/",
          "height": 294
        }
      },
      "source": [
        "ds['Critical Risk'].hist()"
      ],
      "execution_count": 78,
      "outputs": [
        {
          "output_type": "execute_result",
          "data": {
            "text/plain": [
              "<matplotlib.axes._subplots.AxesSubplot at 0x7fbf80018080>"
            ]
          },
          "metadata": {
            "tags": []
          },
          "execution_count": 78
        },
        {
          "output_type": "display_data",
          "data": {
            "image/png": "[encoded data removed]",
            "text/plain": [
              "<Figure size 432x288 with 1 Axes>"
            ]
          },
          "metadata": {
            "tags": [],
            "needs_background": "light"
          }
        }
      ]
    },
    {
      "cell_type": "markdown",
      "metadata": {
        "id": "sRCkjmZ1uNEO"
      },
      "source": [
        "Industrial VS countries Graph"
      ]
    },
    {
      "cell_type": "code",
      "metadata": {
        "id": "RB_ZEClkfiKi",
        "outputId": "33d3db64-2f82-41fb-80b3-7e08cd3a34be",
        "colab": {
          "base_uri": "https://localhost:8080/",
          "height": 265
        }
      },
      "source": [
        "plt.plot(cntrs,ind_sec)\n",
        "plt.show()"
      ],
      "execution_count": 66,
      "outputs": [
        {
          "output_type": "display_data",
          "data": {
            "image/png": "[encoded data removed]",
            "text/plain": [
              "<Figure size 432x288 with 1 Axes>"
            ]
          },
          "metadata": {
            "tags": [],
            "needs_background": "light"
          }
        }
      ]
    },
    {
      "cell_type": "markdown",
      "metadata": {
        "id": "yvaQXmMYuVXk"
      },
      "source": [
        "Only United State graphs"
      ]
    },
    {
      "cell_type": "code",
      "metadata": {
        "id": "Fq_gdrSDgwgD"
      },
      "source": [
        "cntrs1 = ds[ds['Countries'] == \"United States \"]\n",
        "cntrs2 = cntrs1['Countries'].values"
      ],
      "execution_count": 58,
      "outputs": []
    },
    {
      "cell_type": "code",
      "metadata": {
        "id": "d22c7WDlqxLN",
        "outputId": "f7332e3c-c011-481c-ddd1-cbc6b25235dd",
        "colab": {
          "base_uri": "https://localhost:8080/",
          "height": 265
        }
      },
      "source": [
        "cntrs1['Industry Sector'].hist();"
      ],
      "execution_count": 70,
      "outputs": [
        {
          "output_type": "display_data",
          "data": {
            "image/png": "[encoded data removed]",
            "text/plain": [
              "<Figure size 432x288 with 1 Axes>"
            ]
          },
          "metadata": {
            "tags": [],
            "needs_background": "light"
          }
        }
      ]
    },
    {
      "cell_type": "code",
      "metadata": {
        "id": "saOBogW6tkyJ",
        "outputId": "aa769991-cbd3-4bea-bbd5-e72be43291bd",
        "colab": {
          "base_uri": "https://localhost:8080/",
          "height": 265
        }
      },
      "source": [
        "cntrs1['Gender'].hist();"
      ],
      "execution_count": 71,
      "outputs": [
        {
          "output_type": "display_data",
          "data": {
            "image/png": "[encoded data removed]",
            "text/plain": [
              "<Figure size 432x288 with 1 Axes>"
            ]
          },
          "metadata": {
            "tags": [],
            "needs_background": "light"
          }
        }
      ]
    },
    {
      "cell_type": "code",
      "metadata": {
        "id": "CzkdaYZjv23n",
        "outputId": "9f03fb5a-6350-4a07-a040-db3a68e3bdd7",
        "colab": {
          "base_uri": "https://localhost:8080/",
          "height": 265
        }
      },
      "source": [
        "cntrs1['Local'].hist();"
      ],
      "execution_count": 72,
      "outputs": [
        {
          "output_type": "display_data",
          "data": {
            "image/png": "[encoded data removed]",
            "text/plain": [
              "<Figure size 432x288 with 1 Axes>"
            ]
          },
          "metadata": {
            "tags": [],
            "needs_background": "light"
          }
        }
      ]
    },
    {
      "cell_type": "code",
      "metadata": {
        "id": "yMDTYdL6wAGU",
        "outputId": "4bd9b5ac-b24e-43e3-c585-fdbd7134ca73",
        "colab": {
          "base_uri": "https://localhost:8080/",
          "height": 265
        }
      },
      "source": [
        "cntrs1['Accident Level'].hist();"
      ],
      "execution_count": 74,
      "outputs": [
        {
          "output_type": "display_data",
          "data": {
            "image/png": "[encoded data removed]",
            "text/plain": [
              "<Figure size 432x288 with 1 Axes>"
            ]
          },
          "metadata": {
            "tags": [],
            "needs_background": "light"
          }
        }
      ]
    },
    {
      "cell_type": "code",
      "metadata": {
        "id": "1jwLgnymwk2n",
        "outputId": "a2d096b0-910e-4121-e907-975018a6abfa",
        "colab": {
          "base_uri": "https://localhost:8080/",
          "height": 265
        }
      },
      "source": [
        "cntrs1['Potential Accident Level'].hist();"
      ],
      "execution_count": 75,
      "outputs": [
        {
          "output_type": "display_data",
          "data": {
            "image/png": "[encoded data removed]",
            "text/plain": [
              "<Figure size 432x288 with 1 Axes>"
            ]
          },
          "metadata": {
            "tags": [],
            "needs_background": "light"
          }
        }
      ]
    },
    {
      "cell_type": "code",
      "metadata": {
        "id": "5TEGiC2pwvix",
        "outputId": "0dde6b07-c4a7-429f-df74-6baccd9f4b7f",
        "colab": {
          "base_uri": "https://localhost:8080/",
          "height": 265
        }
      },
      "source": [
        "cntrs1['Critical Risk'].hist();"
      ],
      "execution_count": 79,
      "outputs": [
        {
          "output_type": "display_data",
          "data": {
            "image/png": "[encoded data removed]",
            "text/plain": [
              "<Figure size 432x288 with 1 Axes>"
            ]
          },
          "metadata": {
            "tags": [],
            "needs_background": "light"
          }
        }
      ]
    },
    {
      "cell_type": "code",
      "metadata": {
        "id": "_SySGvuCz8EA"
      },
      "source": [
        ""
      ],
      "execution_count": null,
      "outputs": []
    }
  ]
}
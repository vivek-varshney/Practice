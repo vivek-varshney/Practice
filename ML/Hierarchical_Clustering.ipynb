{
  "nbformat": 4,
  "nbformat_minor": 0,
  "metadata": {
    "colab": {
      "name": "Hierarchical Clustering.ipynb",
      "provenance": [],
      "authorship_tag": "ABX9TyNQUqyF7fdxJWyN/7D6+osn",
      "include_colab_link": true
    },
    "kernelspec": {
      "name": "python3",
      "display_name": "Python 3"
    }
  },
  "cells": [
    {
      "cell_type": "markdown",
      "metadata": {
        "id": "view-in-github",
        "colab_type": "text"
      },
      "source": [
        "<a href=\"https://colab.research.google.com/github/vivek-varshney/Practice/blob/main/ML/Hierarchical_Clustering.ipynb\" target=\"_parent\"><img src=\"https://colab.research.google.com/assets/colab-badge.svg\" alt=\"Open In Colab\"/></a>"
      ]
    },
    {
      "cell_type": "code",
      "metadata": {
        "id": "HXKDL4XAUko5"
      },
      "source": [
        "import pandas as pd\r\n",
        "import numpy as np\r\n",
        "import matplotlib.pyplot as plt"
      ],
      "execution_count": null,
      "outputs": []
    },
    {
      "cell_type": "code",
      "metadata": {
        "colab": {
          "base_uri": "https://localhost:8080/",
          "height": 406
        },
        "id": "xS6xjfNO1-8v",
        "outputId": "a7bced83-a2e4-4f48-eb30-07a9761845ec"
      },
      "source": [
        "df = pd.read_csv('https://raw.githubusercontent.com/gauravpks/ml-repo/master/Part%204%20-%20Clustering/K-Means%20Clustering/Mall_Customers.csv')\r\n",
        "df"
      ],
      "execution_count": null,
      "outputs": [
        {
          "output_type": "execute_result",
          "data": {
            "text/html": [
              "<div>\n",
              "<style scoped>\n",
              "    .dataframe tbody tr th:only-of-type {\n",
              "        vertical-align: middle;\n",
              "    }\n",
              "\n",
              "    .dataframe tbody tr th {\n",
              "        vertical-align: top;\n",
              "    }\n",
              "\n",
              "    .dataframe thead th {\n",
              "        text-align: right;\n",
              "    }\n",
              "</style>\n",
              "<table border=\"1\" class=\"dataframe\">\n",
              "  <thead>\n",
              "    <tr style=\"text-align: right;\">\n",
              "      <th></th>\n",
              "      <th>CustomerID</th>\n",
              "      <th>Genre</th>\n",
              "      <th>Age</th>\n",
              "      <th>Annual Income (k$)</th>\n",
              "      <th>Spending Score (1-100)</th>\n",
              "    </tr>\n",
              "  </thead>\n",
              "  <tbody>\n",
              "    <tr>\n",
              "      <th>0</th>\n",
              "      <td>1</td>\n",
              "      <td>Male</td>\n",
              "      <td>19</td>\n",
              "      <td>15</td>\n",
              "      <td>39</td>\n",
              "    </tr>\n",
              "    <tr>\n",
              "      <th>1</th>\n",
              "      <td>2</td>\n",
              "      <td>Male</td>\n",
              "      <td>21</td>\n",
              "      <td>15</td>\n",
              "      <td>81</td>\n",
              "    </tr>\n",
              "    <tr>\n",
              "      <th>2</th>\n",
              "      <td>3</td>\n",
              "      <td>Female</td>\n",
              "      <td>20</td>\n",
              "      <td>16</td>\n",
              "      <td>6</td>\n",
              "    </tr>\n",
              "    <tr>\n",
              "      <th>3</th>\n",
              "      <td>4</td>\n",
              "      <td>Female</td>\n",
              "      <td>23</td>\n",
              "      <td>16</td>\n",
              "      <td>77</td>\n",
              "    </tr>\n",
              "    <tr>\n",
              "      <th>4</th>\n",
              "      <td>5</td>\n",
              "      <td>Female</td>\n",
              "      <td>31</td>\n",
              "      <td>17</td>\n",
              "      <td>40</td>\n",
              "    </tr>\n",
              "    <tr>\n",
              "      <th>...</th>\n",
              "      <td>...</td>\n",
              "      <td>...</td>\n",
              "      <td>...</td>\n",
              "      <td>...</td>\n",
              "      <td>...</td>\n",
              "    </tr>\n",
              "    <tr>\n",
              "      <th>195</th>\n",
              "      <td>196</td>\n",
              "      <td>Female</td>\n",
              "      <td>35</td>\n",
              "      <td>120</td>\n",
              "      <td>79</td>\n",
              "    </tr>\n",
              "    <tr>\n",
              "      <th>196</th>\n",
              "      <td>197</td>\n",
              "      <td>Female</td>\n",
              "      <td>45</td>\n",
              "      <td>126</td>\n",
              "      <td>28</td>\n",
              "    </tr>\n",
              "    <tr>\n",
              "      <th>197</th>\n",
              "      <td>198</td>\n",
              "      <td>Male</td>\n",
              "      <td>32</td>\n",
              "      <td>126</td>\n",
              "      <td>74</td>\n",
              "    </tr>\n",
              "    <tr>\n",
              "      <th>198</th>\n",
              "      <td>199</td>\n",
              "      <td>Male</td>\n",
              "      <td>32</td>\n",
              "      <td>137</td>\n",
              "      <td>18</td>\n",
              "    </tr>\n",
              "    <tr>\n",
              "      <th>199</th>\n",
              "      <td>200</td>\n",
              "      <td>Male</td>\n",
              "      <td>30</td>\n",
              "      <td>137</td>\n",
              "      <td>83</td>\n",
              "    </tr>\n",
              "  </tbody>\n",
              "</table>\n",
              "<p>200 rows × 5 columns</p>\n",
              "</div>"
            ],
            "text/plain": [
              "     CustomerID   Genre  Age  Annual Income (k$)  Spending Score (1-100)\n",
              "0             1    Male   19                  15                      39\n",
              "1             2    Male   21                  15                      81\n",
              "2             3  Female   20                  16                       6\n",
              "3             4  Female   23                  16                      77\n",
              "4             5  Female   31                  17                      40\n",
              "..          ...     ...  ...                 ...                     ...\n",
              "195         196  Female   35                 120                      79\n",
              "196         197  Female   45                 126                      28\n",
              "197         198    Male   32                 126                      74\n",
              "198         199    Male   32                 137                      18\n",
              "199         200    Male   30                 137                      83\n",
              "\n",
              "[200 rows x 5 columns]"
            ]
          },
          "metadata": {
            "tags": []
          },
          "execution_count": 2
        }
      ]
    },
    {
      "cell_type": "code",
      "metadata": {
        "id": "bhNBhRXj3YAS"
      },
      "source": [
        "X = df.iloc[:,[3,4]].values"
      ],
      "execution_count": null,
      "outputs": []
    },
    {
      "cell_type": "code",
      "metadata": {
        "colab": {
          "base_uri": "https://localhost:8080/",
          "height": 951
        },
        "id": "shXIm8QZ2MHE",
        "outputId": "f9d8c04a-6f83-4375-98e1-a75aab711ea4"
      },
      "source": [
        "import scipy.cluster.hierarchy as sch\r\n",
        "\r\n",
        "plt.figure(figsize=(20,16))\r\n",
        "dendrogram  = sch.dendrogram(sch.linkage(X, method = 'ward'))\r\n",
        "plt.title('dendrogram')\r\n",
        ";"
      ],
      "execution_count": null,
      "outputs": [
        {
          "output_type": "execute_result",
          "data": {
            "application/vnd.google.colaboratory.intrinsic+json": {
              "type": "string"
            },
            "text/plain": [
              "''"
            ]
          },
          "metadata": {
            "tags": []
          },
          "execution_count": 24
        },
        {
          "output_type": "display_data",
          "data": {
            "image/png": "[encoded data removed]",
            "text/plain": [
              "<Figure size 1440x1152 with 1 Axes>"
            ]
          },
          "metadata": {
            "tags": [],
            "needs_background": "light"
          }
        }
      ]
    },
    {
      "cell_type": "code",
      "metadata": {
        "colab": {
          "base_uri": "https://localhost:8080/"
        },
        "id": "cDmPSstc3LTY",
        "outputId": "f66ca353-ac1b-4e30-f93f-e4741b2ed9e6"
      },
      "source": [
        "sch.linkage(X, method = 'ward')"
      ],
      "execution_count": null,
      "outputs": [
        {
          "output_type": "execute_result",
          "data": {
            "text/plain": [
              "array([[ 65.        ,  68.        ,   0.        ,   2.        ],\n",
              "       [ 48.        ,  49.        ,   0.        ,   2.        ],\n",
              "       [156.        , 158.        ,   0.        ,   2.        ],\n",
              "       [129.        , 131.        ,   0.        ,   2.        ],\n",
              "       [ 21.        ,  23.        ,   1.        ,   2.        ],\n",
              "       [ 51.        ,  53.        ,   1.        ,   2.        ],\n",
              "       [ 60.        ,  61.        ,   1.        ,   2.        ],\n",
              "       [ 67.        ,  69.        ,   1.        ,   2.        ],\n",
              "       [ 64.        ,  66.        ,   1.        ,   2.        ],\n",
              "       [ 79.        ,  82.        ,   1.        ,   2.        ],\n",
              "       [ 74.        ,  85.        ,   1.        ,   2.        ],\n",
              "       [ 78.        ,  80.        ,   1.        ,   2.        ],\n",
              "       [ 75.        ,  81.        ,   1.        ,   2.        ],\n",
              "       [ 92.        ,  97.        ,   1.        ,   2.        ],\n",
              "       [101.        , 109.        ,   1.        ,   2.        ],\n",
              "       [107.        , 113.        ,   1.        ,   2.        ],\n",
              "       [ 94.        ,  98.        ,   1.        ,   2.        ],\n",
              "       [103.        , 104.        ,   1.        ,   2.        ],\n",
              "       [100.        , 105.        ,   1.        ,   2.        ],\n",
              "       [150.        , 154.        ,   1.        ,   2.        ],\n",
              "       [119.        , 120.        ,   1.        ,   2.        ],\n",
              "       [170.        , 174.        ,   1.        ,   2.        ],\n",
              "       [151.        , 155.        ,   1.        ,   2.        ],\n",
              "       [ 63.        , 200.        ,   1.15470054,   3.        ],\n",
              "       [ 99.        , 213.        ,   1.29099445,   3.        ],\n",
              "       [  3.        ,   5.        ,   1.41421356,   2.        ],\n",
              "       [ 26.        ,  28.        ,   1.41421356,   2.        ],\n",
              "       [ 40.        ,  42.        ,   1.41421356,   2.        ],\n",
              "       [ 10.        ,  14.        ,   1.41421356,   2.        ],\n",
              "       [ 54.        ,  57.        ,   1.41421356,   2.        ],\n",
              "       [ 58.        ,  62.        ,   1.41421356,   2.        ],\n",
              "       [ 70.        ,  73.        ,   1.41421356,   2.        ],\n",
              "       [ 91.        ,  93.        ,   1.41421356,   2.        ],\n",
              "       [108.        , 112.        ,   1.41421356,   2.        ],\n",
              "       [126.        , 132.        ,   1.41421356,   2.        ],\n",
              "       [137.        , 139.        ,   1.41421356,   2.        ],\n",
              "       [147.        , 159.        ,   1.41421356,   2.        ],\n",
              "       [ 77.        , 210.        ,   1.73205081,   3.        ],\n",
              "       [ 76.        , 212.        ,   1.73205081,   3.        ],\n",
              "       [149.        , 222.        ,   1.73205081,   3.        ],\n",
              "       [ 12.        , 228.        ,   1.82574186,   3.        ],\n",
              "       [116.        , 233.        ,   1.82574186,   3.        ],\n",
              "       [ 13.        ,  15.        ,   2.        ,   2.        ],\n",
              "       [  2.        ,   6.        ,   2.        ,   2.        ],\n",
              "       [ 87.        ,  90.        ,   2.        ,   2.        ],\n",
              "       [106.        , 110.        ,   2.        ,   2.        ],\n",
              "       [114.        , 115.        ,   2.        ,   2.        ],\n",
              "       [128.        , 130.        ,   2.        ,   2.        ],\n",
              "       [134.        , 136.        ,   2.        ,   2.        ],\n",
              "       [148.        , 152.        ,   2.        ,   2.        ],\n",
              "       [153.        , 157.        ,   2.        ,   2.        ],\n",
              "       [165.        , 171.        ,   2.        ,   2.        ],\n",
              "       [111.        , 217.        ,   2.081666  ,   3.        ],\n",
              "       [  0.        ,   4.        ,   2.23606798,   2.        ],\n",
              "       [ 50.        ,  52.        ,   2.23606798,   2.        ],\n",
              "       [ 86.        ,  88.        ,   2.23606798,   2.        ],\n",
              "       [ 89.        ,  96.        ,   2.23606798,   2.        ],\n",
              "       [146.        , 160.        ,   2.23606798,   2.        ],\n",
              "       [216.        , 218.        ,   2.23606798,   4.        ],\n",
              "       [164.        , 168.        ,   2.23606798,   2.        ],\n",
              "       [181.        , 183.        ,   2.23606798,   2.        ],\n",
              "       [187.        , 191.        ,   2.23606798,   2.        ],\n",
              "       [186.        , 190.        ,   2.23606798,   2.        ],\n",
              "       [176.        , 221.        ,   2.38047614,   3.        ],\n",
              "       [133.        , 235.        ,   2.44948974,   3.        ],\n",
              "       [208.        , 230.        ,   2.54950976,   4.        ],\n",
              "       [140.        , 248.        ,   2.5819889 ,   3.        ],\n",
              "       [125.        , 203.        ,   2.5819889 ,   3.        ],\n",
              "       [ 38.        ,  44.        ,   2.82842712,   2.        ],\n",
              "       [ 83.        , 209.        ,   2.88675135,   3.        ],\n",
              "       [ 59.        , 207.        ,   2.88675135,   3.        ],\n",
              "       [122.        , 220.        ,   2.88675135,   3.        ],\n",
              "       [ 16.        ,  20.        ,   3.        ,   2.        ],\n",
              "       [ 30.        ,  32.        ,   3.        ,   2.        ],\n",
              "       [118.        , 121.        ,   3.        ,   2.        ],\n",
              "       [102.        , 117.        ,   3.        ,   2.        ],\n",
              "       [ 34.        ,  36.        ,   3.16227766,   2.        ],\n",
              "       [214.        , 215.        ,   3.16227766,   4.        ],\n",
              "       [135.        , 143.        ,   3.16227766,   2.        ],\n",
              "       [167.        , 173.        ,   3.16227766,   2.        ],\n",
              "       [ 95.        , 224.        ,   3.29140294,   4.        ],\n",
              "       [138.        , 247.        ,   3.46410162,   3.        ],\n",
              "       [232.        , 258.        ,   3.51188458,   6.        ],\n",
              "       [ 37.        ,  39.        ,   3.60555128,   2.        ],\n",
              "       [ 55.        , 201.        ,   3.65148372,   3.        ],\n",
              "       [ 84.        , 238.        ,   3.67423461,   4.        ],\n",
              "       [ 46.        , 254.        ,   3.6968455 ,   3.        ],\n",
              "       [ 43.        ,  45.        ,   4.        ,   2.        ],\n",
              "       [245.        , 246.        ,   4.        ,   4.        ],\n",
              "       [ 72.        , 270.        ,   4.0824829 ,   4.        ],\n",
              "       [ 11.        ,  19.        ,   4.12310563,   2.        ],\n",
              "       [  8.        , 243.        ,   4.163332  ,   3.        ],\n",
              "       [ 56.        , 265.        ,   4.30116263,   5.        ],\n",
              "       [ 47.        , 229.        ,   4.39696865,   3.        ],\n",
              "       [123.        , 127.        ,   4.47213595,   2.        ],\n",
              "       [141.        , 145.        ,   4.47213595,   2.        ],\n",
              "       [172.        , 263.        ,   4.56435465,   4.        ],\n",
              "       [206.        , 231.        ,   4.94974747,   4.        ],\n",
              "       [241.        , 274.        ,   4.98664884,   5.        ],\n",
              "       [ 33.        ,  41.        ,   5.        ,   2.        ],\n",
              "       [236.        , 250.        ,   5.        ,   4.        ],\n",
              "       [ 25.        ,  29.        ,   5.09901951,   2.        ],\n",
              "       [178.        , 182.        ,   5.09901951,   2.        ],\n",
              "       [211.        , 285.        ,   5.30722778,   6.        ],\n",
              "       [144.        , 219.        ,   5.32290647,   3.        ],\n",
              "       [225.        , 242.        ,   5.38516481,   4.        ],\n",
              "       [142.        , 257.        ,   5.6862407 ,   3.        ],\n",
              "       [244.        , 255.        ,   5.70087713,   4.        ],\n",
              "       [162.        , 202.        ,   5.77350269,   3.        ],\n",
              "       [239.        , 278.        ,   5.89915248,   5.        ],\n",
              "       [256.        , 280.        ,   6.06904715,   6.        ],\n",
              "       [169.        , 177.        ,   6.08276253,   2.        ],\n",
              "       [ 71.        , 269.        ,   6.13731755,   4.        ],\n",
              "       [163.        , 295.        ,   6.2182527 ,   3.        ],\n",
              "       [  7.        , 290.        ,   6.244998  ,   3.        ],\n",
              "       [179.        , 260.        ,   6.244998  ,   3.        ],\n",
              "       [  1.        , 305.        ,   6.27694193,   5.        ],\n",
              "       [277.        , 288.        ,   6.32455532,   8.        ],\n",
              "       [  9.        ,  17.        ,   6.32455532,   2.        ],\n",
              "       [ 31.        , 204.        ,   6.35085296,   3.        ],\n",
              "       [252.        , 275.        ,   6.45497224,   5.        ],\n",
              "       [223.        , 297.        ,   6.48257738,   7.        ],\n",
              "       [205.        , 287.        ,   6.51920241,   4.        ],\n",
              "       [ 35.        , 301.        ,   6.58280589,   3.        ],\n",
              "       [124.        , 234.        ,   6.58280589,   3.        ],\n",
              "       [ 24.        , 276.        ,   6.58280589,   3.        ],\n",
              "       [ 18.        , 272.        ,   6.95221787,   3.        ],\n",
              "       [180.        , 184.        ,   7.28010989,   2.        ],\n",
              "       [166.        , 259.        ,   7.5055535 ,   3.        ],\n",
              "       [264.        , 267.        ,   7.52772653,   6.        ],\n",
              "       [289.        , 292.        ,   7.55718937,   9.        ],\n",
              "       [ 22.        , 273.        ,   7.59385717,   3.        ],\n",
              "       [188.        , 262.        ,   7.59385717,   3.        ],\n",
              "       [161.        , 309.        ,   7.62889245,   6.        ],\n",
              "       [195.        , 197.        ,   7.81024968,   2.        ],\n",
              "       [284.        , 293.        ,   7.85281266,   6.        ],\n",
              "       [266.        , 281.        ,   8.04155872,   6.        ],\n",
              "       [175.        , 279.        ,   8.83176087,   3.        ],\n",
              "       [237.        , 312.        ,   9.09473945,   7.        ],\n",
              "       [249.        , 304.        ,   9.30949336,   5.        ],\n",
              "       [189.        , 315.        ,   9.32737905,   4.        ],\n",
              "       [226.        , 326.        ,   9.33095208,   5.        ],\n",
              "       [271.        , 320.        ,   9.45603864,   8.        ],\n",
              "       [310.        , 317.        ,   9.64118151,  14.        ],\n",
              "       [192.        , 194.        ,  10.63014581,   2.        ],\n",
              "       [282.        , 298.        ,  10.77932926,  11.        ],\n",
              "       [303.        , 307.        ,  10.99242163,  10.        ],\n",
              "       [318.        , 319.        ,  11.60459679,   5.        ],\n",
              "       [227.        , 268.        ,  12.04159458,   4.        ],\n",
              "       [294.        , 313.        ,  12.05542755,   5.        ],\n",
              "       [185.        , 340.        ,  12.43382483,   5.        ],\n",
              "       [251.        , 311.        ,  12.9034879 ,   4.        ],\n",
              "       [306.        , 324.        ,  13.29160136,   6.        ],\n",
              "       [300.        , 329.        ,  13.32916602,  10.        ],\n",
              "       [296.        , 302.        ,  13.37285808,   6.        ],\n",
              "       [286.        , 321.        ,  14.15189706,  10.        ],\n",
              "       [ 27.        , 347.        ,  14.47987109,   6.        ],\n",
              "       [196.        , 198.        ,  14.86606875,   2.        ],\n",
              "       [333.        , 349.        ,  15.74512912,  11.        ],\n",
              "       [299.        , 323.        ,  15.90178187,   5.        ],\n",
              "       [240.        , 291.        ,  15.96871942,   6.        ],\n",
              "       [308.        , 336.        ,  16.52607367,   9.        ],\n",
              "       [199.        , 334.        ,  17.82320585,   3.        ],\n",
              "       [322.        , 355.        ,  18.01150426,  14.        ],\n",
              "       [325.        , 331.        ,  18.91207727,   6.        ],\n",
              "       [253.        , 341.        ,  19.37671651,   7.        ],\n",
              "       [193.        , 350.        ,  19.50384577,   6.        ],\n",
              "       [283.        , 356.        ,  20.47763007,   8.        ],\n",
              "       [328.        , 339.        ,  20.79463072,   8.        ],\n",
              "       [330.        , 335.        ,  20.97670666,  15.        ],\n",
              "       [327.        , 332.        ,  22.95067174,   5.        ],\n",
              "       [337.        , 358.        ,  24.12063836,  14.        ],\n",
              "       [343.        , 345.        ,  24.43495474,  25.        ],\n",
              "       [261.        , 351.        ,  25.11639571,   6.        ],\n",
              "       [344.        , 357.        ,  26.30589288,   4.        ],\n",
              "       [338.        , 369.        ,  27.06895156,  22.        ],\n",
              "       [342.        , 346.        ,  27.70128356,  18.        ],\n",
              "       [360.        , 364.        ,  28.98850347,  12.        ],\n",
              "       [316.        , 367.        ,  29.94199521,  13.        ],\n",
              "       [354.        , 368.        ,  29.94618189,  14.        ],\n",
              "       [314.        , 359.        ,  30.79448002,   8.        ],\n",
              "       [348.        , 365.        ,  36.41125129,  11.        ],\n",
              "       [372.        , 376.        ,  48.20228264,  43.        ],\n",
              "       [363.        , 375.        ,  48.76575484,  36.        ],\n",
              "       [361.        , 379.        ,  49.48842501,  23.        ],\n",
              "       [353.        , 373.        ,  49.88403218,  16.        ],\n",
              "       [370.        , 374.        ,  53.24200514,   9.        ],\n",
              "       [378.        , 380.        ,  55.29105472,  21.        ],\n",
              "       [362.        , 366.        ,  58.49406428,   9.        ],\n",
              "       [352.        , 382.        ,  64.53740565,  49.        ],\n",
              "       [371.        , 385.        ,  69.52315476,  30.        ],\n",
              "       [377.        , 381.        ,  81.17935867,  23.        ],\n",
              "       [383.        , 389.        , 106.65057883,  85.        ],\n",
              "       [388.        , 390.        , 112.81820336,  39.        ],\n",
              "       [384.        , 386.        , 113.88601652,  32.        ],\n",
              "       [391.        , 392.        , 245.65460099, 108.        ],\n",
              "       [387.        , 395.        , 262.5626341 , 129.        ],\n",
              "       [393.        , 394.        , 394.8596576 ,  71.        ],\n",
              "       [396.        , 397.        , 405.66004104, 200.        ]])"
            ]
          },
          "metadata": {
            "tags": []
          },
          "execution_count": 25
        }
      ]
    },
    {
      "cell_type": "code",
      "metadata": {
        "id": "OgixKQCE5SzY"
      },
      "source": [
        "from sklearn.cluster import AgglomerativeClustering\r\n",
        "ac = AgglomerativeClustering(n_clusters = 5, affinity = 'euclidean', linkage = 'ward')\r\n",
        "y_pred = ac.fit_predict(X)"
      ],
      "execution_count": null,
      "outputs": []
    },
    {
      "cell_type": "code",
      "metadata": {
        "colab": {
          "base_uri": "https://localhost:8080/",
          "height": 422
        },
        "id": "ttVn5XMYAb61",
        "outputId": "1933d1da-463a-43f9-d940-36ca115dc3d1"
      },
      "source": [
        "plt.figure(figsize=(10,6))\r\n",
        "plt.scatter(X[y_pred == 0,0], X[y_pred == 0,1], s = 100 , c ='blue', label='cluster1')\r\n",
        "plt.scatter(X[y_pred == 1,0], X[y_pred == 1,1], s = 100 , c ='cyan', label='cluster2')\r\n",
        "plt.scatter(X[y_pred == 2,0], X[y_pred == 2,1], s = 100 , c ='red', label='cluster3')\r\n",
        "plt.scatter(X[y_pred == 3,0], X[y_pred == 3,1], s = 100 , c ='magenta', label='cluster4')\r\n",
        "plt.scatter(X[y_pred == 4,0], X[y_pred == 4,1], s = 100 , c ='green', label='cluster5')\r\n",
        "#plt.scatter(X[y_pred == 5,0], X[y_pred == 5,1], s = 100 , c ='black', label='cluster6')\r\n",
        "plt.title('Clusters of customers')\r\n",
        "plt.xlabel('Annual Income (k$)')\r\n",
        "plt.ylabel('Spending Score (1-100)')\r\n",
        "plt.legend()\r\n",
        "\r\n",
        ";"
      ],
      "execution_count": null,
      "outputs": [
        {
          "output_type": "execute_result",
          "data": {
            "application/vnd.google.colaboratory.intrinsic+json": {
              "type": "string"
            },
            "text/plain": [
              "''"
            ]
          },
          "metadata": {
            "tags": []
          },
          "execution_count": 28
        },
        {
          "output_type": "display_data",
          "data": {
            "image/png": "[encoded data removed]",
            "text/plain": [
              "<Figure size 720x432 with 1 Axes>"
            ]
          },
          "metadata": {
            "tags": [],
            "needs_background": "light"
          }
        }
      ]
    },
    {
      "cell_type": "code",
      "metadata": {
        "colab": {
          "base_uri": "https://localhost:8080/"
        },
        "id": "xwstc0PZB7qL",
        "outputId": "3b0d8aa5-1b3a-4560-9cf6-3670762ea9aa"
      },
      "source": [
        "X[y_pred == 0,0]"
      ],
      "execution_count": null,
      "outputs": [
        {
          "output_type": "execute_result",
          "data": {
            "text/plain": [
              "array([ 71,  71,  73,  73,  74,  75,  77,  78,  78,  78,  78,  78,  78,\n",
              "        81,  85,  86,  87,  87,  87,  88,  88,  93,  97,  98,  99, 101,\n",
              "       103, 103, 113, 120, 126, 137])"
            ]
          },
          "metadata": {
            "tags": []
          },
          "execution_count": 29
        }
      ]
    },
    {
      "cell_type": "code",
      "metadata": {
        "colab": {
          "base_uri": "https://localhost:8080/"
        },
        "id": "aEGJuyUVB8IY",
        "outputId": "8cabf99a-769b-4af0-edfc-47a4be12d6f8"
      },
      "source": [
        "y_pred == 0,0"
      ],
      "execution_count": null,
      "outputs": [
        {
          "output_type": "execute_result",
          "data": {
            "text/plain": [
              "(array([False, False, False, False, False, False, False, False, False,\n",
              "        False, False, False, False, False, False, False, False, False,\n",
              "        False, False, False, False, False, False, False, False, False,\n",
              "        False, False, False, False, False, False, False, False, False,\n",
              "        False, False, False, False, False, False, False, False, False,\n",
              "        False, False, False, False, False, False, False, False, False,\n",
              "        False, False, False, False, False, False, False, False, False,\n",
              "        False, False, False, False, False, False, False, False, False,\n",
              "        False, False, False, False, False, False, False, False, False,\n",
              "        False, False, False, False, False, False, False, False, False,\n",
              "        False, False, False, False, False, False, False, False, False,\n",
              "        False, False, False, False, False, False, False, False, False,\n",
              "        False, False, False, False, False, False, False, False, False,\n",
              "        False, False, False, False, False, False, False, False, False,\n",
              "        False, False,  True, False,  True, False, False, False,  True,\n",
              "        False,  True, False,  True, False,  True, False, False, False,\n",
              "         True, False, False, False,  True, False,  True, False,  True,\n",
              "        False,  True, False,  True, False,  True, False, False, False,\n",
              "         True, False,  True, False,  True, False,  True, False,  True,\n",
              "        False,  True, False,  True, False,  True, False,  True, False,\n",
              "         True, False,  True, False,  True, False,  True, False,  True,\n",
              "        False,  True, False,  True, False,  True, False,  True, False,\n",
              "         True, False]), 0)"
            ]
          },
          "metadata": {
            "tags": []
          },
          "execution_count": 30
        }
      ]
    },
    {
      "cell_type": "code",
      "metadata": {
        "id": "fOaaSCJUCFTe"
      },
      "source": [
        ""
      ],
      "execution_count": null,
      "outputs": []
    }
  ]
}